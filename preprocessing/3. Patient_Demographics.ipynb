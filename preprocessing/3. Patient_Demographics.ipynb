{
 "cells": [
  {
   "cell_type": "markdown",
   "id": "4397596d",
   "metadata": {},
   "source": [
    "1. Patient Demographics\n",
    "\n",
    "| Variable | Reason |\n",
    "|----------|--------|\n",
    "| AGE / AGEGROUP | Age group is useful for stratification |\n",
    "| FEMALE | Sex variable |\n",
    "| RACE | Demographic disparities |\n",
    "| HISPANIC | Ethnicity |\n",
    "| ZIPINC_QRTL | Socioeconomic status indicator (income quartile by ZIP) |\n"
   ]
  },
  {
   "cell_type": "code",
   "execution_count": 1,
   "id": "fb1b4f0d",
   "metadata": {},
   "outputs": [
    {
     "ename": "FileNotFoundError",
     "evalue": "[Errno 2] No such file or directory: '../data/data/hot_encoding_Cancer_pancreas.csv'",
     "output_type": "error",
     "traceback": [
      "\u001b[1;31m---------------------------------------------------------------------------\u001b[0m",
      "\u001b[1;31mFileNotFoundError\u001b[0m                         Traceback (most recent call last)",
      "Cell \u001b[1;32mIn[1], line 4\u001b[0m\n\u001b[0;32m      2\u001b[0m \u001b[38;5;28;01mimport\u001b[39;00m \u001b[38;5;21;01mpandas\u001b[39;00m \u001b[38;5;28;01mas\u001b[39;00m \u001b[38;5;21;01mpd\u001b[39;00m\n\u001b[0;32m      3\u001b[0m \u001b[38;5;28;01mimport\u001b[39;00m \u001b[38;5;21;01mnumpy\u001b[39;00m \u001b[38;5;28;01mas\u001b[39;00m \u001b[38;5;21;01mnp\u001b[39;00m\n\u001b[1;32m----> 4\u001b[0m df \u001b[38;5;241m=\u001b[39m pd\u001b[38;5;241m.\u001b[39mread_csv(\u001b[38;5;124m'\u001b[39m\u001b[38;5;124m../data/data/hot_encoding_Cancer_pancreas.csv\u001b[39m\u001b[38;5;124m'\u001b[39m)\n\u001b[0;32m      5\u001b[0m df \u001b[38;5;241m=\u001b[39m df\u001b[38;5;241m.\u001b[39mreindex(\u001b[38;5;28msorted\u001b[39m(df\u001b[38;5;241m.\u001b[39mcolumns), axis\u001b[38;5;241m=\u001b[39m\u001b[38;5;241m1\u001b[39m)\n\u001b[0;32m      6\u001b[0m df\u001b[38;5;241m.\u001b[39mcolumns \u001b[38;5;241m=\u001b[39m df\u001b[38;5;241m.\u001b[39mcolumns\u001b[38;5;241m.\u001b[39mstr\u001b[38;5;241m.\u001b[39mlower()\n",
      "File \u001b[1;32mc:\\Users\\llmserver\\.conda\\envs\\indox\\Lib\\site-packages\\pandas\\io\\parsers\\readers.py:1026\u001b[0m, in \u001b[0;36mread_csv\u001b[1;34m(filepath_or_buffer, sep, delimiter, header, names, index_col, usecols, dtype, engine, converters, true_values, false_values, skipinitialspace, skiprows, skipfooter, nrows, na_values, keep_default_na, na_filter, verbose, skip_blank_lines, parse_dates, infer_datetime_format, keep_date_col, date_parser, date_format, dayfirst, cache_dates, iterator, chunksize, compression, thousands, decimal, lineterminator, quotechar, quoting, doublequote, escapechar, comment, encoding, encoding_errors, dialect, on_bad_lines, delim_whitespace, low_memory, memory_map, float_precision, storage_options, dtype_backend)\u001b[0m\n\u001b[0;32m   1013\u001b[0m kwds_defaults \u001b[38;5;241m=\u001b[39m _refine_defaults_read(\n\u001b[0;32m   1014\u001b[0m     dialect,\n\u001b[0;32m   1015\u001b[0m     delimiter,\n\u001b[1;32m   (...)\u001b[0m\n\u001b[0;32m   1022\u001b[0m     dtype_backend\u001b[38;5;241m=\u001b[39mdtype_backend,\n\u001b[0;32m   1023\u001b[0m )\n\u001b[0;32m   1024\u001b[0m kwds\u001b[38;5;241m.\u001b[39mupdate(kwds_defaults)\n\u001b[1;32m-> 1026\u001b[0m \u001b[38;5;28;01mreturn\u001b[39;00m _read(filepath_or_buffer, kwds)\n",
      "File \u001b[1;32mc:\\Users\\llmserver\\.conda\\envs\\indox\\Lib\\site-packages\\pandas\\io\\parsers\\readers.py:620\u001b[0m, in \u001b[0;36m_read\u001b[1;34m(filepath_or_buffer, kwds)\u001b[0m\n\u001b[0;32m    617\u001b[0m _validate_names(kwds\u001b[38;5;241m.\u001b[39mget(\u001b[38;5;124m\"\u001b[39m\u001b[38;5;124mnames\u001b[39m\u001b[38;5;124m\"\u001b[39m, \u001b[38;5;28;01mNone\u001b[39;00m))\n\u001b[0;32m    619\u001b[0m \u001b[38;5;66;03m# Create the parser.\u001b[39;00m\n\u001b[1;32m--> 620\u001b[0m parser \u001b[38;5;241m=\u001b[39m TextFileReader(filepath_or_buffer, \u001b[38;5;241m*\u001b[39m\u001b[38;5;241m*\u001b[39mkwds)\n\u001b[0;32m    622\u001b[0m \u001b[38;5;28;01mif\u001b[39;00m chunksize \u001b[38;5;129;01mor\u001b[39;00m iterator:\n\u001b[0;32m    623\u001b[0m     \u001b[38;5;28;01mreturn\u001b[39;00m parser\n",
      "File \u001b[1;32mc:\\Users\\llmserver\\.conda\\envs\\indox\\Lib\\site-packages\\pandas\\io\\parsers\\readers.py:1620\u001b[0m, in \u001b[0;36mTextFileReader.__init__\u001b[1;34m(self, f, engine, **kwds)\u001b[0m\n\u001b[0;32m   1617\u001b[0m     \u001b[38;5;28mself\u001b[39m\u001b[38;5;241m.\u001b[39moptions[\u001b[38;5;124m\"\u001b[39m\u001b[38;5;124mhas_index_names\u001b[39m\u001b[38;5;124m\"\u001b[39m] \u001b[38;5;241m=\u001b[39m kwds[\u001b[38;5;124m\"\u001b[39m\u001b[38;5;124mhas_index_names\u001b[39m\u001b[38;5;124m\"\u001b[39m]\n\u001b[0;32m   1619\u001b[0m \u001b[38;5;28mself\u001b[39m\u001b[38;5;241m.\u001b[39mhandles: IOHandles \u001b[38;5;241m|\u001b[39m \u001b[38;5;28;01mNone\u001b[39;00m \u001b[38;5;241m=\u001b[39m \u001b[38;5;28;01mNone\u001b[39;00m\n\u001b[1;32m-> 1620\u001b[0m \u001b[38;5;28mself\u001b[39m\u001b[38;5;241m.\u001b[39m_engine \u001b[38;5;241m=\u001b[39m \u001b[38;5;28mself\u001b[39m\u001b[38;5;241m.\u001b[39m_make_engine(f, \u001b[38;5;28mself\u001b[39m\u001b[38;5;241m.\u001b[39mengine)\n",
      "File \u001b[1;32mc:\\Users\\llmserver\\.conda\\envs\\indox\\Lib\\site-packages\\pandas\\io\\parsers\\readers.py:1880\u001b[0m, in \u001b[0;36mTextFileReader._make_engine\u001b[1;34m(self, f, engine)\u001b[0m\n\u001b[0;32m   1878\u001b[0m     \u001b[38;5;28;01mif\u001b[39;00m \u001b[38;5;124m\"\u001b[39m\u001b[38;5;124mb\u001b[39m\u001b[38;5;124m\"\u001b[39m \u001b[38;5;129;01mnot\u001b[39;00m \u001b[38;5;129;01min\u001b[39;00m mode:\n\u001b[0;32m   1879\u001b[0m         mode \u001b[38;5;241m+\u001b[39m\u001b[38;5;241m=\u001b[39m \u001b[38;5;124m\"\u001b[39m\u001b[38;5;124mb\u001b[39m\u001b[38;5;124m\"\u001b[39m\n\u001b[1;32m-> 1880\u001b[0m \u001b[38;5;28mself\u001b[39m\u001b[38;5;241m.\u001b[39mhandles \u001b[38;5;241m=\u001b[39m get_handle(\n\u001b[0;32m   1881\u001b[0m     f,\n\u001b[0;32m   1882\u001b[0m     mode,\n\u001b[0;32m   1883\u001b[0m     encoding\u001b[38;5;241m=\u001b[39m\u001b[38;5;28mself\u001b[39m\u001b[38;5;241m.\u001b[39moptions\u001b[38;5;241m.\u001b[39mget(\u001b[38;5;124m\"\u001b[39m\u001b[38;5;124mencoding\u001b[39m\u001b[38;5;124m\"\u001b[39m, \u001b[38;5;28;01mNone\u001b[39;00m),\n\u001b[0;32m   1884\u001b[0m     compression\u001b[38;5;241m=\u001b[39m\u001b[38;5;28mself\u001b[39m\u001b[38;5;241m.\u001b[39moptions\u001b[38;5;241m.\u001b[39mget(\u001b[38;5;124m\"\u001b[39m\u001b[38;5;124mcompression\u001b[39m\u001b[38;5;124m\"\u001b[39m, \u001b[38;5;28;01mNone\u001b[39;00m),\n\u001b[0;32m   1885\u001b[0m     memory_map\u001b[38;5;241m=\u001b[39m\u001b[38;5;28mself\u001b[39m\u001b[38;5;241m.\u001b[39moptions\u001b[38;5;241m.\u001b[39mget(\u001b[38;5;124m\"\u001b[39m\u001b[38;5;124mmemory_map\u001b[39m\u001b[38;5;124m\"\u001b[39m, \u001b[38;5;28;01mFalse\u001b[39;00m),\n\u001b[0;32m   1886\u001b[0m     is_text\u001b[38;5;241m=\u001b[39mis_text,\n\u001b[0;32m   1887\u001b[0m     errors\u001b[38;5;241m=\u001b[39m\u001b[38;5;28mself\u001b[39m\u001b[38;5;241m.\u001b[39moptions\u001b[38;5;241m.\u001b[39mget(\u001b[38;5;124m\"\u001b[39m\u001b[38;5;124mencoding_errors\u001b[39m\u001b[38;5;124m\"\u001b[39m, \u001b[38;5;124m\"\u001b[39m\u001b[38;5;124mstrict\u001b[39m\u001b[38;5;124m\"\u001b[39m),\n\u001b[0;32m   1888\u001b[0m     storage_options\u001b[38;5;241m=\u001b[39m\u001b[38;5;28mself\u001b[39m\u001b[38;5;241m.\u001b[39moptions\u001b[38;5;241m.\u001b[39mget(\u001b[38;5;124m\"\u001b[39m\u001b[38;5;124mstorage_options\u001b[39m\u001b[38;5;124m\"\u001b[39m, \u001b[38;5;28;01mNone\u001b[39;00m),\n\u001b[0;32m   1889\u001b[0m )\n\u001b[0;32m   1890\u001b[0m \u001b[38;5;28;01massert\u001b[39;00m \u001b[38;5;28mself\u001b[39m\u001b[38;5;241m.\u001b[39mhandles \u001b[38;5;129;01mis\u001b[39;00m \u001b[38;5;129;01mnot\u001b[39;00m \u001b[38;5;28;01mNone\u001b[39;00m\n\u001b[0;32m   1891\u001b[0m f \u001b[38;5;241m=\u001b[39m \u001b[38;5;28mself\u001b[39m\u001b[38;5;241m.\u001b[39mhandles\u001b[38;5;241m.\u001b[39mhandle\n",
      "File \u001b[1;32mc:\\Users\\llmserver\\.conda\\envs\\indox\\Lib\\site-packages\\pandas\\io\\common.py:873\u001b[0m, in \u001b[0;36mget_handle\u001b[1;34m(path_or_buf, mode, encoding, compression, memory_map, is_text, errors, storage_options)\u001b[0m\n\u001b[0;32m    868\u001b[0m \u001b[38;5;28;01melif\u001b[39;00m \u001b[38;5;28misinstance\u001b[39m(handle, \u001b[38;5;28mstr\u001b[39m):\n\u001b[0;32m    869\u001b[0m     \u001b[38;5;66;03m# Check whether the filename is to be opened in binary mode.\u001b[39;00m\n\u001b[0;32m    870\u001b[0m     \u001b[38;5;66;03m# Binary mode does not support 'encoding' and 'newline'.\u001b[39;00m\n\u001b[0;32m    871\u001b[0m     \u001b[38;5;28;01mif\u001b[39;00m ioargs\u001b[38;5;241m.\u001b[39mencoding \u001b[38;5;129;01mand\u001b[39;00m \u001b[38;5;124m\"\u001b[39m\u001b[38;5;124mb\u001b[39m\u001b[38;5;124m\"\u001b[39m \u001b[38;5;129;01mnot\u001b[39;00m \u001b[38;5;129;01min\u001b[39;00m ioargs\u001b[38;5;241m.\u001b[39mmode:\n\u001b[0;32m    872\u001b[0m         \u001b[38;5;66;03m# Encoding\u001b[39;00m\n\u001b[1;32m--> 873\u001b[0m         handle \u001b[38;5;241m=\u001b[39m \u001b[38;5;28mopen\u001b[39m(\n\u001b[0;32m    874\u001b[0m             handle,\n\u001b[0;32m    875\u001b[0m             ioargs\u001b[38;5;241m.\u001b[39mmode,\n\u001b[0;32m    876\u001b[0m             encoding\u001b[38;5;241m=\u001b[39mioargs\u001b[38;5;241m.\u001b[39mencoding,\n\u001b[0;32m    877\u001b[0m             errors\u001b[38;5;241m=\u001b[39merrors,\n\u001b[0;32m    878\u001b[0m             newline\u001b[38;5;241m=\u001b[39m\u001b[38;5;124m\"\u001b[39m\u001b[38;5;124m\"\u001b[39m,\n\u001b[0;32m    879\u001b[0m         )\n\u001b[0;32m    880\u001b[0m     \u001b[38;5;28;01melse\u001b[39;00m:\n\u001b[0;32m    881\u001b[0m         \u001b[38;5;66;03m# Binary mode\u001b[39;00m\n\u001b[0;32m    882\u001b[0m         handle \u001b[38;5;241m=\u001b[39m \u001b[38;5;28mopen\u001b[39m(handle, ioargs\u001b[38;5;241m.\u001b[39mmode)\n",
      "\u001b[1;31mFileNotFoundError\u001b[0m: [Errno 2] No such file or directory: '../data/data/hot_encoding_Cancer_pancreas.csv'"
     ]
    }
   ],
   "source": [
    "# Reading data from a file\n",
    "import pandas as pd\n",
    "import numpy as np\n",
    "df = pd.read_csv('../data/data/hot_encoding_Cancer_pancreas.csv')\n",
    "df = df.reindex(sorted(df.columns), axis=1)\n",
    "df.columns = df.columns.str.lower()\n"
   ]
  },
  {
   "cell_type": "code",
   "execution_count": null,
   "id": "efdc3959",
   "metadata": {},
   "outputs": [
    {
     "name": "stderr",
     "output_type": "stream",
     "text": [
      "C:\\Users\\nemat\\AppData\\Local\\Temp\\ipykernel_18968\\2787836572.py:4: DtypeWarning:\n",
      "\n",
      "Columns (52,53,54,55,56,102,114,119,120,121,122,123,124,125,126,127,128,129,130,131,132,133,134,135,136,137,138,139,140,141,142,143,144,145,146,147,148,149,150,151,152,153,154,155,156,157,158,159,160,161,162,163,170,171,172,177) have mixed types. Specify dtype option on import or set low_memory=False.\n",
      "\n"
     ]
    },
    {
     "data": {
      "text/plain": [
       "(5184, 760)"
      ]
     },
     "execution_count": 173,
     "metadata": {},
     "output_type": "execute_result"
    }
   ],
   "source": [
    "\n",
    "del df[\"race_edit\"]\n",
    "del df[\"maritalstatus_x\"]\n",
    "del df[\"hispanic_x\"]\n",
    "del df[\"asource\"] # asource\tPatient Source (1=Hospital, 2=Physician, 3=Other)\n",
    "del df[\"asource_x\"] # asource_x\tPatient Source (1=Hospital, 2=Physician, 3=Other)\n",
    "del df[\"key\"] # key\tPatient Key linked to the SEER database\n",
    "del df[\"mdnum1_r\"] # mdnum1_r\tPhysician Number (linked to the SEER database)\n",
    "del df[\"mdnum2_r\"] # mdnum2_r\tPhysician Number (linked to the SEER database)\n",
    "del df[\"zip\"] # zip\tPatient ZIP Code\n",
    "del df[\"zip3\"] # zip3\tPatient ZIP Code (first three digits)\n",
    "del df['race_x'] # same as race\n",
    "del df[\"pstco\"] # pstco\tPatient State Code (linked to the SEER database)\n",
    "del df[\"pstco2\"] # pstco2\tPatient State Code (linked to the SEER database)\n",
    "del df[\"los_x\"]\n",
    "del df[\"mdc_nopoa\"]\n",
    "del df[\"drg_nopoa\"]\n",
    "del df[\"totchg_x\"]\n",
    "del df[\"xxx000\"]\n",
    "del df[\"end010\"]\n",
    "del df[\"end011\"]\n",
    "\n",
    "# lower case df\n",
    "df = df.sort_values(['visitlink', 'daystoevent']).drop_duplicates(subset='visitlink', keep='first')\n",
    "df = df.reset_index(drop=True)\n",
    "df.value_counts().value_counts()\n",
    "df.shape"
   ]
  },
  {
   "cell_type": "code",
   "execution_count": 174,
   "id": "02b3ab57",
   "metadata": {},
   "outputs": [
    {
     "data": {
      "text/plain": [
       "hispanic\n",
       "0    5018\n",
       "3     105\n",
       "1      49\n",
       "2      11\n",
       "4       1\n",
       "Name: count, dtype: int64"
      ]
     },
     "execution_count": 174,
     "metadata": {},
     "output_type": "execute_result"
    }
   ],
   "source": [
    "df[\"hispanic\"].value_counts(dropna=False)"
   ]
  },
  {
   "cell_type": "code",
   "execution_count": 175,
   "id": "cdd02e65",
   "metadata": {},
   "outputs": [],
   "source": [
    "marital_map = {\n",
    "    'M': 'Married',\n",
    "    'I': 'Single',\n",
    "    'D': 'Divorced',\n",
    "    'W': 'Widowed',\n",
    "    'X': 'Other/Unknown',\n",
    "    '0': 'Other/Unknown'\n",
    "}\n",
    "\n",
    "marital_df = df['maritalstatusub04'].map(marital_map).value_counts().reset_index(name='Count')\n",
    "marital_df.columns = ['Marital Status', 'Count']\n"
   ]
  },
  {
   "cell_type": "code",
   "execution_count": 176,
   "id": "8fbead16",
   "metadata": {},
   "outputs": [
    {
     "data": {
      "text/plain": [
       "0          Married\n",
       "1           Single\n",
       "2          Widowed\n",
       "3         Divorced\n",
       "4    Other/Unknown\n",
       "Name: Marital Status, dtype: object"
      ]
     },
     "execution_count": 176,
     "metadata": {},
     "output_type": "execute_result"
    }
   ],
   "source": [
    "marital_df[\"Marital Status\"]"
   ]
  },
  {
   "cell_type": "code",
   "execution_count": 177,
   "id": "c2e3570d",
   "metadata": {},
   "outputs": [
    {
     "data": {
      "application/vnd.plotly.v1+json": {
       "config": {
        "plotlyServerURL": "https://plot.ly"
       },
       "data": [
        {
         "hovertemplate": "Marital Status=%{x}<br>Count=%{text}<extra></extra>",
         "legendgroup": "",
         "marker": {
          "color": "#636efa",
          "pattern": {
           "shape": ""
          }
         },
         "name": "",
         "orientation": "v",
         "showlegend": false,
         "text": {
          "bdata": "AAAAAABypkAAAAAAAACOQAAAAAAA8IZAAAAAAADwfUAAAAAAAEBhQA==",
          "dtype": "f8"
         },
         "textposition": "auto",
         "type": "bar",
         "x": [
          "Married",
          "Single",
          "Widowed",
          "Divorced",
          "Other/Unknown"
         ],
         "xaxis": "x",
         "y": {
          "bdata": "OQvAA94C3wGKAA==",
          "dtype": "i2"
         },
         "yaxis": "y"
        }
       ],
       "layout": {
        "barmode": "relative",
        "height": 500,
        "legend": {
         "tracegroupgap": 0
        },
        "template": {
         "data": {
          "bar": [
           {
            "error_x": {
             "color": "#2a3f5f"
            },
            "error_y": {
             "color": "#2a3f5f"
            },
            "marker": {
             "line": {
              "color": "white",
              "width": 0.5
             },
             "pattern": {
              "fillmode": "overlay",
              "size": 10,
              "solidity": 0.2
             }
            },
            "type": "bar"
           }
          ],
          "barpolar": [
           {
            "marker": {
             "line": {
              "color": "white",
              "width": 0.5
             },
             "pattern": {
              "fillmode": "overlay",
              "size": 10,
              "solidity": 0.2
             }
            },
            "type": "barpolar"
           }
          ],
          "carpet": [
           {
            "aaxis": {
             "endlinecolor": "#2a3f5f",
             "gridcolor": "#C8D4E3",
             "linecolor": "#C8D4E3",
             "minorgridcolor": "#C8D4E3",
             "startlinecolor": "#2a3f5f"
            },
            "baxis": {
             "endlinecolor": "#2a3f5f",
             "gridcolor": "#C8D4E3",
             "linecolor": "#C8D4E3",
             "minorgridcolor": "#C8D4E3",
             "startlinecolor": "#2a3f5f"
            },
            "type": "carpet"
           }
          ],
          "choropleth": [
           {
            "colorbar": {
             "outlinewidth": 0,
             "ticks": ""
            },
            "type": "choropleth"
           }
          ],
          "contour": [
           {
            "colorbar": {
             "outlinewidth": 0,
             "ticks": ""
            },
            "colorscale": [
             [
              0,
              "#0d0887"
             ],
             [
              0.1111111111111111,
              "#46039f"
             ],
             [
              0.2222222222222222,
              "#7201a8"
             ],
             [
              0.3333333333333333,
              "#9c179e"
             ],
             [
              0.4444444444444444,
              "#bd3786"
             ],
             [
              0.5555555555555556,
              "#d8576b"
             ],
             [
              0.6666666666666666,
              "#ed7953"
             ],
             [
              0.7777777777777778,
              "#fb9f3a"
             ],
             [
              0.8888888888888888,
              "#fdca26"
             ],
             [
              1,
              "#f0f921"
             ]
            ],
            "type": "contour"
           }
          ],
          "contourcarpet": [
           {
            "colorbar": {
             "outlinewidth": 0,
             "ticks": ""
            },
            "type": "contourcarpet"
           }
          ],
          "heatmap": [
           {
            "colorbar": {
             "outlinewidth": 0,
             "ticks": ""
            },
            "colorscale": [
             [
              0,
              "#0d0887"
             ],
             [
              0.1111111111111111,
              "#46039f"
             ],
             [
              0.2222222222222222,
              "#7201a8"
             ],
             [
              0.3333333333333333,
              "#9c179e"
             ],
             [
              0.4444444444444444,
              "#bd3786"
             ],
             [
              0.5555555555555556,
              "#d8576b"
             ],
             [
              0.6666666666666666,
              "#ed7953"
             ],
             [
              0.7777777777777778,
              "#fb9f3a"
             ],
             [
              0.8888888888888888,
              "#fdca26"
             ],
             [
              1,
              "#f0f921"
             ]
            ],
            "type": "heatmap"
           }
          ],
          "histogram": [
           {
            "marker": {
             "pattern": {
              "fillmode": "overlay",
              "size": 10,
              "solidity": 0.2
             }
            },
            "type": "histogram"
           }
          ],
          "histogram2d": [
           {
            "colorbar": {
             "outlinewidth": 0,
             "ticks": ""
            },
            "colorscale": [
             [
              0,
              "#0d0887"
             ],
             [
              0.1111111111111111,
              "#46039f"
             ],
             [
              0.2222222222222222,
              "#7201a8"
             ],
             [
              0.3333333333333333,
              "#9c179e"
             ],
             [
              0.4444444444444444,
              "#bd3786"
             ],
             [
              0.5555555555555556,
              "#d8576b"
             ],
             [
              0.6666666666666666,
              "#ed7953"
             ],
             [
              0.7777777777777778,
              "#fb9f3a"
             ],
             [
              0.8888888888888888,
              "#fdca26"
             ],
             [
              1,
              "#f0f921"
             ]
            ],
            "type": "histogram2d"
           }
          ],
          "histogram2dcontour": [
           {
            "colorbar": {
             "outlinewidth": 0,
             "ticks": ""
            },
            "colorscale": [
             [
              0,
              "#0d0887"
             ],
             [
              0.1111111111111111,
              "#46039f"
             ],
             [
              0.2222222222222222,
              "#7201a8"
             ],
             [
              0.3333333333333333,
              "#9c179e"
             ],
             [
              0.4444444444444444,
              "#bd3786"
             ],
             [
              0.5555555555555556,
              "#d8576b"
             ],
             [
              0.6666666666666666,
              "#ed7953"
             ],
             [
              0.7777777777777778,
              "#fb9f3a"
             ],
             [
              0.8888888888888888,
              "#fdca26"
             ],
             [
              1,
              "#f0f921"
             ]
            ],
            "type": "histogram2dcontour"
           }
          ],
          "mesh3d": [
           {
            "colorbar": {
             "outlinewidth": 0,
             "ticks": ""
            },
            "type": "mesh3d"
           }
          ],
          "parcoords": [
           {
            "line": {
             "colorbar": {
              "outlinewidth": 0,
              "ticks": ""
             }
            },
            "type": "parcoords"
           }
          ],
          "pie": [
           {
            "automargin": true,
            "type": "pie"
           }
          ],
          "scatter": [
           {
            "fillpattern": {
             "fillmode": "overlay",
             "size": 10,
             "solidity": 0.2
            },
            "type": "scatter"
           }
          ],
          "scatter3d": [
           {
            "line": {
             "colorbar": {
              "outlinewidth": 0,
              "ticks": ""
             }
            },
            "marker": {
             "colorbar": {
              "outlinewidth": 0,
              "ticks": ""
             }
            },
            "type": "scatter3d"
           }
          ],
          "scattercarpet": [
           {
            "marker": {
             "colorbar": {
              "outlinewidth": 0,
              "ticks": ""
             }
            },
            "type": "scattercarpet"
           }
          ],
          "scattergeo": [
           {
            "marker": {
             "colorbar": {
              "outlinewidth": 0,
              "ticks": ""
             }
            },
            "type": "scattergeo"
           }
          ],
          "scattergl": [
           {
            "marker": {
             "colorbar": {
              "outlinewidth": 0,
              "ticks": ""
             }
            },
            "type": "scattergl"
           }
          ],
          "scattermap": [
           {
            "marker": {
             "colorbar": {
              "outlinewidth": 0,
              "ticks": ""
             }
            },
            "type": "scattermap"
           }
          ],
          "scattermapbox": [
           {
            "marker": {
             "colorbar": {
              "outlinewidth": 0,
              "ticks": ""
             }
            },
            "type": "scattermapbox"
           }
          ],
          "scatterpolar": [
           {
            "marker": {
             "colorbar": {
              "outlinewidth": 0,
              "ticks": ""
             }
            },
            "type": "scatterpolar"
           }
          ],
          "scatterpolargl": [
           {
            "marker": {
             "colorbar": {
              "outlinewidth": 0,
              "ticks": ""
             }
            },
            "type": "scatterpolargl"
           }
          ],
          "scatterternary": [
           {
            "marker": {
             "colorbar": {
              "outlinewidth": 0,
              "ticks": ""
             }
            },
            "type": "scatterternary"
           }
          ],
          "surface": [
           {
            "colorbar": {
             "outlinewidth": 0,
             "ticks": ""
            },
            "colorscale": [
             [
              0,
              "#0d0887"
             ],
             [
              0.1111111111111111,
              "#46039f"
             ],
             [
              0.2222222222222222,
              "#7201a8"
             ],
             [
              0.3333333333333333,
              "#9c179e"
             ],
             [
              0.4444444444444444,
              "#bd3786"
             ],
             [
              0.5555555555555556,
              "#d8576b"
             ],
             [
              0.6666666666666666,
              "#ed7953"
             ],
             [
              0.7777777777777778,
              "#fb9f3a"
             ],
             [
              0.8888888888888888,
              "#fdca26"
             ],
             [
              1,
              "#f0f921"
             ]
            ],
            "type": "surface"
           }
          ],
          "table": [
           {
            "cells": {
             "fill": {
              "color": "#EBF0F8"
             },
             "line": {
              "color": "white"
             }
            },
            "header": {
             "fill": {
              "color": "#C8D4E3"
             },
             "line": {
              "color": "white"
             }
            },
            "type": "table"
           }
          ]
         },
         "layout": {
          "annotationdefaults": {
           "arrowcolor": "#2a3f5f",
           "arrowhead": 0,
           "arrowwidth": 1
          },
          "autotypenumbers": "strict",
          "coloraxis": {
           "colorbar": {
            "outlinewidth": 0,
            "ticks": ""
           }
          },
          "colorscale": {
           "diverging": [
            [
             0,
             "#8e0152"
            ],
            [
             0.1,
             "#c51b7d"
            ],
            [
             0.2,
             "#de77ae"
            ],
            [
             0.3,
             "#f1b6da"
            ],
            [
             0.4,
             "#fde0ef"
            ],
            [
             0.5,
             "#f7f7f7"
            ],
            [
             0.6,
             "#e6f5d0"
            ],
            [
             0.7,
             "#b8e186"
            ],
            [
             0.8,
             "#7fbc41"
            ],
            [
             0.9,
             "#4d9221"
            ],
            [
             1,
             "#276419"
            ]
           ],
           "sequential": [
            [
             0,
             "#0d0887"
            ],
            [
             0.1111111111111111,
             "#46039f"
            ],
            [
             0.2222222222222222,
             "#7201a8"
            ],
            [
             0.3333333333333333,
             "#9c179e"
            ],
            [
             0.4444444444444444,
             "#bd3786"
            ],
            [
             0.5555555555555556,
             "#d8576b"
            ],
            [
             0.6666666666666666,
             "#ed7953"
            ],
            [
             0.7777777777777778,
             "#fb9f3a"
            ],
            [
             0.8888888888888888,
             "#fdca26"
            ],
            [
             1,
             "#f0f921"
            ]
           ],
           "sequentialminus": [
            [
             0,
             "#0d0887"
            ],
            [
             0.1111111111111111,
             "#46039f"
            ],
            [
             0.2222222222222222,
             "#7201a8"
            ],
            [
             0.3333333333333333,
             "#9c179e"
            ],
            [
             0.4444444444444444,
             "#bd3786"
            ],
            [
             0.5555555555555556,
             "#d8576b"
            ],
            [
             0.6666666666666666,
             "#ed7953"
            ],
            [
             0.7777777777777778,
             "#fb9f3a"
            ],
            [
             0.8888888888888888,
             "#fdca26"
            ],
            [
             1,
             "#f0f921"
            ]
           ]
          },
          "colorway": [
           "#636efa",
           "#EF553B",
           "#00cc96",
           "#ab63fa",
           "#FFA15A",
           "#19d3f3",
           "#FF6692",
           "#B6E880",
           "#FF97FF",
           "#FECB52"
          ],
          "font": {
           "color": "#2a3f5f"
          },
          "geo": {
           "bgcolor": "white",
           "lakecolor": "white",
           "landcolor": "white",
           "showlakes": true,
           "showland": true,
           "subunitcolor": "#C8D4E3"
          },
          "hoverlabel": {
           "align": "left"
          },
          "hovermode": "closest",
          "mapbox": {
           "style": "light"
          },
          "paper_bgcolor": "white",
          "plot_bgcolor": "white",
          "polar": {
           "angularaxis": {
            "gridcolor": "#EBF0F8",
            "linecolor": "#EBF0F8",
            "ticks": ""
           },
           "bgcolor": "white",
           "radialaxis": {
            "gridcolor": "#EBF0F8",
            "linecolor": "#EBF0F8",
            "ticks": ""
           }
          },
          "scene": {
           "xaxis": {
            "backgroundcolor": "white",
            "gridcolor": "#DFE8F3",
            "gridwidth": 2,
            "linecolor": "#EBF0F8",
            "showbackground": true,
            "ticks": "",
            "zerolinecolor": "#EBF0F8"
           },
           "yaxis": {
            "backgroundcolor": "white",
            "gridcolor": "#DFE8F3",
            "gridwidth": 2,
            "linecolor": "#EBF0F8",
            "showbackground": true,
            "ticks": "",
            "zerolinecolor": "#EBF0F8"
           },
           "zaxis": {
            "backgroundcolor": "white",
            "gridcolor": "#DFE8F3",
            "gridwidth": 2,
            "linecolor": "#EBF0F8",
            "showbackground": true,
            "ticks": "",
            "zerolinecolor": "#EBF0F8"
           }
          },
          "shapedefaults": {
           "line": {
            "color": "#2a3f5f"
           }
          },
          "ternary": {
           "aaxis": {
            "gridcolor": "#DFE8F3",
            "linecolor": "#A2B1C6",
            "ticks": ""
           },
           "baxis": {
            "gridcolor": "#DFE8F3",
            "linecolor": "#A2B1C6",
            "ticks": ""
           },
           "bgcolor": "white",
           "caxis": {
            "gridcolor": "#DFE8F3",
            "linecolor": "#A2B1C6",
            "ticks": ""
           }
          },
          "title": {
           "x": 0.05
          },
          "xaxis": {
           "automargin": true,
           "gridcolor": "#EBF0F8",
           "linecolor": "#EBF0F8",
           "ticks": "",
           "title": {
            "standoff": 15
           },
           "zerolinecolor": "#EBF0F8",
           "zerolinewidth": 2
          },
          "yaxis": {
           "automargin": true,
           "gridcolor": "#EBF0F8",
           "linecolor": "#EBF0F8",
           "ticks": "",
           "title": {
            "standoff": 15
           },
           "zerolinecolor": "#EBF0F8",
           "zerolinewidth": 2
          }
         }
        },
        "title": {
         "text": "Marital Status Distribution (Detailed)"
        },
        "width": 600,
        "xaxis": {
         "anchor": "y",
         "domain": [
          0,
          1
         ],
         "tickangle": 45,
         "title": {
          "text": "Marital Status"
         }
        },
        "yaxis": {
         "anchor": "x",
         "domain": [
          0,
          1
         ],
         "title": {
          "text": "Count"
         }
        }
       }
      }
     },
     "metadata": {},
     "output_type": "display_data"
    }
   ],
   "source": [
    "import plotly.express as px\n",
    "\n",
    "fig_marital = px.bar(\n",
    "    marital_df,\n",
    "    x='Marital Status',\n",
    "    y='Count',\n",
    "    title='Marital Status Distribution (Detailed)',\n",
    "    text='Count'\n",
    ")\n",
    "\n",
    "fig_marital.update_layout(\n",
    "    template='plotly_white',\n",
    "    xaxis_tickangle=45,\n",
    "    height=500,\n",
    "    width=600\n",
    ")\n",
    "\n",
    "fig_marital.show()\n"
   ]
  },
  {
   "cell_type": "code",
   "execution_count": 178,
   "id": "348da8cf",
   "metadata": {},
   "outputs": [
    {
     "data": {
      "text/html": [
       "<div>\n",
       "<style scoped>\n",
       "    .dataframe tbody tr th:only-of-type {\n",
       "        vertical-align: middle;\n",
       "    }\n",
       "\n",
       "    .dataframe tbody tr th {\n",
       "        vertical-align: top;\n",
       "    }\n",
       "\n",
       "    .dataframe thead th {\n",
       "        text-align: right;\n",
       "    }\n",
       "</style>\n",
       "<table border=\"1\" class=\"dataframe\">\n",
       "  <thead>\n",
       "    <tr style=\"text-align: right;\">\n",
       "      <th></th>\n",
       "      <th>age</th>\n",
       "      <th>female</th>\n",
       "      <th>race</th>\n",
       "      <th>hispanic</th>\n",
       "      <th>zipinc_qrtl</th>\n",
       "      <th>marital_status</th>\n",
       "    </tr>\n",
       "  </thead>\n",
       "  <tbody>\n",
       "    <tr>\n",
       "      <th>0</th>\n",
       "      <td>69</td>\n",
       "      <td>-6</td>\n",
       "      <td>6</td>\n",
       "      <td>0</td>\n",
       "      <td>4</td>\n",
       "      <td>1</td>\n",
       "    </tr>\n",
       "    <tr>\n",
       "      <th>1</th>\n",
       "      <td>79</td>\n",
       "      <td>0</td>\n",
       "      <td>1</td>\n",
       "      <td>0</td>\n",
       "      <td>3</td>\n",
       "      <td>1</td>\n",
       "    </tr>\n",
       "    <tr>\n",
       "      <th>2</th>\n",
       "      <td>67</td>\n",
       "      <td>0</td>\n",
       "      <td>1</td>\n",
       "      <td>0</td>\n",
       "      <td>2</td>\n",
       "      <td>1</td>\n",
       "    </tr>\n",
       "    <tr>\n",
       "      <th>3</th>\n",
       "      <td>84</td>\n",
       "      <td>1</td>\n",
       "      <td>1</td>\n",
       "      <td>0</td>\n",
       "      <td>3</td>\n",
       "      <td>4</td>\n",
       "    </tr>\n",
       "    <tr>\n",
       "      <th>4</th>\n",
       "      <td>76</td>\n",
       "      <td>1</td>\n",
       "      <td>1</td>\n",
       "      <td>0</td>\n",
       "      <td>2</td>\n",
       "      <td>3</td>\n",
       "    </tr>\n",
       "  </tbody>\n",
       "</table>\n",
       "</div>"
      ],
      "text/plain": [
       "   age  female  race  hispanic  zipinc_qrtl  marital_status\n",
       "0   69      -6     6         0            4               1\n",
       "1   79       0     1         0            3               1\n",
       "2   67       0     1         0            2               1\n",
       "3   84       1     1         0            3               4\n",
       "4   76       1     1         0            2               3"
      ]
     },
     "execution_count": 178,
     "metadata": {},
     "output_type": "execute_result"
    }
   ],
   "source": [
    "# Step 1: Identify columns to keep\n",
    "demographic_cols = []\n",
    "\n",
    "# Keep AGE or AGEGROUP\n",
    "if 'age' in df.columns:\n",
    "    demographic_cols.append('age')\n",
    "elif 'agegroup' in df.columns:\n",
    "    demographic_cols.append('agegroup')\n",
    "\n",
    "# Keep other demographic variables\n",
    "for col in ['female', 'race', 'hispanic', 'maritalstatusub04', 'zipinc_qrtl']:\n",
    "    if col in df.columns:\n",
    "        demographic_cols.append(col)\n",
    "\n",
    "# Step 2: Filter dataframe\n",
    "demographics_df = df[demographic_cols].copy()\n",
    "\n",
    "# Step 3: Map maritalstatusub04 to integers\n",
    "marital_map = {\n",
    "    'M': 1,  # Married\n",
    "    'I': 2,  # Single\n",
    "    'D': 3,  # Divorced\n",
    "    'W': 4,  # Widowed\n",
    "    'X': 0,  # Other/Unknown\n",
    "    '0': 0   # Other/Unknown\n",
    "}\n",
    "\n",
    "if 'maritalstatusub04' in demographics_df.columns:\n",
    "    demographics_df['marital_status'] = demographics_df['maritalstatusub04'].map(marital_map)\n",
    "\n",
    "    # Drop old column\n",
    "    demographics_df.drop(columns=['maritalstatusub04'], inplace=True)\n",
    "\n",
    "# Final Check\n",
    "demographics_df.head()\n"
   ]
  },
  {
   "cell_type": "code",
   "execution_count": 179,
   "id": "4cab12dd",
   "metadata": {},
   "outputs": [
    {
     "name": "stdout",
     "output_type": "stream",
     "text": [
      "\n",
      "female value counts:\n",
      "female\n",
      " 0    2644\n",
      " 1    2539\n",
      "-6       1\n",
      "Name: count, dtype: int64\n",
      "\n",
      "race value counts:\n",
      "race\n",
      "1    3310\n",
      "2    1415\n",
      "3     166\n",
      "4     158\n",
      "6      90\n",
      "0      39\n",
      "5       6\n",
      "Name: count, dtype: int64\n",
      "\n",
      "hispanic value counts:\n",
      "hispanic\n",
      "0    5018\n",
      "3     105\n",
      "1      49\n",
      "2      11\n",
      "4       1\n",
      "Name: count, dtype: int64\n",
      "\n",
      "marital_status value counts:\n",
      "marital_status\n",
      "1    2873\n",
      "2     960\n",
      "4     734\n",
      "3     479\n",
      "0     138\n",
      "Name: count, dtype: int64\n",
      "\n",
      "zipinc_qrtl value counts:\n",
      "zipinc_qrtl\n",
      "4    2436\n",
      "3    1506\n",
      "2     613\n",
      "1     562\n",
      "0      67\n",
      "Name: count, dtype: int64\n"
     ]
    }
   ],
   "source": [
    "for col in ['female', 'race', 'hispanic', 'marital_status', 'zipinc_qrtl']:\n",
    "    print(f\"\\n{col} value counts:\")\n",
    "    print(demographics_df[col].value_counts(dropna=False))\n"
   ]
  },
  {
   "cell_type": "code",
   "execution_count": 180,
   "id": "37b48ac6",
   "metadata": {},
   "outputs": [
    {
     "data": {
      "text/plain": [
       "female\n",
       "0.0    2644\n",
       "1.0    2539\n",
       "NaN       1\n",
       "Name: count, dtype: int64"
      ]
     },
     "execution_count": 180,
     "metadata": {},
     "output_type": "execute_result"
    }
   ],
   "source": [
    "demographics_df['female'] = demographics_df['female'].replace({-6: np.nan})\n",
    "# counting missing values\n",
    "demographics_df['female'].value_counts(dropna=False)"
   ]
  },
  {
   "cell_type": "code",
   "execution_count": 181,
   "id": "04639a00",
   "metadata": {},
   "outputs": [
    {
     "data": {
      "text/plain": [
       "0       1.0\n",
       "1       1.0\n",
       "2       1.0\n",
       "3       0.0\n",
       "4       0.0\n",
       "       ... \n",
       "5179    1.0\n",
       "5180    1.0\n",
       "5181    0.0\n",
       "5182    0.0\n",
       "5183    1.0\n",
       "Name: marital_status, Length: 5184, dtype: float64"
      ]
     },
     "execution_count": 181,
     "metadata": {},
     "output_type": "execute_result"
    }
   ],
   "source": [
    "demographics_df['marital_status'] = demographics_df['marital_status'].apply(lambda x: 1 if x==1 else 0 if x in [2,3,4] else np.nan)\n",
    "demographics_df['marital_status'] = demographics_df['marital_status'].fillna(0)\n",
    "demographics_df['marital_status']"
   ]
  },
  {
   "cell_type": "code",
   "execution_count": 182,
   "id": "28eb7548",
   "metadata": {},
   "outputs": [
    {
     "name": "stdout",
     "output_type": "stream",
     "text": [
      "\n",
      "female value counts:\n",
      "female\n",
      "0.0    2644\n",
      "1.0    2539\n",
      "NaN       1\n",
      "Name: count, dtype: int64\n",
      "\n",
      "race value counts:\n",
      "race\n",
      "1    3310\n",
      "2    1415\n",
      "3     166\n",
      "4     158\n",
      "6      90\n",
      "0      39\n",
      "5       6\n",
      "Name: count, dtype: int64\n",
      "\n",
      "hispanic value counts:\n",
      "hispanic\n",
      "0    5018\n",
      "3     105\n",
      "1      49\n",
      "2      11\n",
      "4       1\n",
      "Name: count, dtype: int64\n",
      "\n",
      "marital_status value counts:\n",
      "marital_status\n",
      "1.0    2873\n",
      "0.0    2311\n",
      "Name: count, dtype: int64\n",
      "\n",
      "zipinc_qrtl value counts:\n",
      "zipinc_qrtl\n",
      "4    2436\n",
      "3    1506\n",
      "2     613\n",
      "1     562\n",
      "0      67\n",
      "Name: count, dtype: int64\n"
     ]
    }
   ],
   "source": [
    "for col in ['female', 'race', 'hispanic', 'marital_status', 'zipinc_qrtl']:\n",
    "    print(f\"\\n{col} value counts:\")\n",
    "    print(demographics_df[col].value_counts(dropna=False))\n"
   ]
  },
  {
   "cell_type": "markdown",
   "id": "dbaf2758",
   "metadata": {},
   "source": [
    "Demographic Analysis and Visualizations\n"
   ]
  },
  {
   "cell_type": "code",
   "execution_count": 183,
   "id": "eefec919",
   "metadata": {},
   "outputs": [
    {
     "name": "stdout",
     "output_type": "stream",
     "text": [
      "Requirement already satisfied: plotly in c:\\users\\nemat\\miniconda3\\envs\\indox\\lib\\site-packages (6.0.1)\n",
      "Requirement already satisfied: narwhals>=1.15.1 in c:\\users\\nemat\\miniconda3\\envs\\indox\\lib\\site-packages (from plotly) (1.34.1)\n",
      "Requirement already satisfied: packaging in c:\\users\\nemat\\miniconda3\\envs\\indox\\lib\\site-packages (from plotly) (24.2)\n"
     ]
    }
   ],
   "source": [
    "!pip install plotly"
   ]
  },
  {
   "cell_type": "code",
   "execution_count": 184,
   "id": "67140671",
   "metadata": {},
   "outputs": [
    {
     "data": {
      "application/vnd.plotly.v1+json": {
       "config": {
        "plotlyServerURL": "https://plot.ly"
       },
       "data": [
        {
         "bingroup": "x",
         "hovertemplate": "Age=%{x}<br>count=%{y}<extra></extra>",
         "legendgroup": "",
         "marker": {
          "color": "#636efa",
          "pattern": {
           "shape": ""
          }
         },
         "name": "",
         "nbinsx": 30,
         "orientation": "v",
         "showlegend": false,
         "type": "histogram",
         "x": {
          "bdata": "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",
          "dtype": "i1"
         },
         "xaxis": "x",
         "yaxis": "y"
        },
        {
         "hovertemplate": "Age=%{x}<extra></extra>",
         "legendgroup": "",
         "marker": {
          "color": "#636efa"
         },
         "name": "",
         "scalegroup": "x",
         "showlegend": false,
         "type": "violin",
         "x": {
          "bdata": "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",
          "dtype": "i1"
         },
         "xaxis": "x2",
         "yaxis": "y2"
        }
       ],
       "layout": {
        "barmode": "relative",
        "height": 500,
        "legend": {
         "tracegroupgap": 0
        },
        "template": {
         "data": {
          "bar": [
           {
            "error_x": {
             "color": "#2a3f5f"
            },
            "error_y": {
             "color": "#2a3f5f"
            },
            "marker": {
             "line": {
              "color": "white",
              "width": 0.5
             },
             "pattern": {
              "fillmode": "overlay",
              "size": 10,
              "solidity": 0.2
             }
            },
            "type": "bar"
           }
          ],
          "barpolar": [
           {
            "marker": {
             "line": {
              "color": "white",
              "width": 0.5
             },
             "pattern": {
              "fillmode": "overlay",
              "size": 10,
              "solidity": 0.2
             }
            },
            "type": "barpolar"
           }
          ],
          "carpet": [
           {
            "aaxis": {
             "endlinecolor": "#2a3f5f",
             "gridcolor": "#C8D4E3",
             "linecolor": "#C8D4E3",
             "minorgridcolor": "#C8D4E3",
             "startlinecolor": "#2a3f5f"
            },
            "baxis": {
             "endlinecolor": "#2a3f5f",
             "gridcolor": "#C8D4E3",
             "linecolor": "#C8D4E3",
             "minorgridcolor": "#C8D4E3",
             "startlinecolor": "#2a3f5f"
            },
            "type": "carpet"
           }
          ],
          "choropleth": [
           {
            "colorbar": {
             "outlinewidth": 0,
             "ticks": ""
            },
            "type": "choropleth"
           }
          ],
          "contour": [
           {
            "colorbar": {
             "outlinewidth": 0,
             "ticks": ""
            },
            "colorscale": [
             [
              0,
              "#0d0887"
             ],
             [
              0.1111111111111111,
              "#46039f"
             ],
             [
              0.2222222222222222,
              "#7201a8"
             ],
             [
              0.3333333333333333,
              "#9c179e"
             ],
             [
              0.4444444444444444,
              "#bd3786"
             ],
             [
              0.5555555555555556,
              "#d8576b"
             ],
             [
              0.6666666666666666,
              "#ed7953"
             ],
             [
              0.7777777777777778,
              "#fb9f3a"
             ],
             [
              0.8888888888888888,
              "#fdca26"
             ],
             [
              1,
              "#f0f921"
             ]
            ],
            "type": "contour"
           }
          ],
          "contourcarpet": [
           {
            "colorbar": {
             "outlinewidth": 0,
             "ticks": ""
            },
            "type": "contourcarpet"
           }
          ],
          "heatmap": [
           {
            "colorbar": {
             "outlinewidth": 0,
             "ticks": ""
            },
            "colorscale": [
             [
              0,
              "#0d0887"
             ],
             [
              0.1111111111111111,
              "#46039f"
             ],
             [
              0.2222222222222222,
              "#7201a8"
             ],
             [
              0.3333333333333333,
              "#9c179e"
             ],
             [
              0.4444444444444444,
              "#bd3786"
             ],
             [
              0.5555555555555556,
              "#d8576b"
             ],
             [
              0.6666666666666666,
              "#ed7953"
             ],
             [
              0.7777777777777778,
              "#fb9f3a"
             ],
             [
              0.8888888888888888,
              "#fdca26"
             ],
             [
              1,
              "#f0f921"
             ]
            ],
            "type": "heatmap"
           }
          ],
          "histogram": [
           {
            "marker": {
             "pattern": {
              "fillmode": "overlay",
              "size": 10,
              "solidity": 0.2
             }
            },
            "type": "histogram"
           }
          ],
          "histogram2d": [
           {
            "colorbar": {
             "outlinewidth": 0,
             "ticks": ""
            },
            "colorscale": [
             [
              0,
              "#0d0887"
             ],
             [
              0.1111111111111111,
              "#46039f"
             ],
             [
              0.2222222222222222,
              "#7201a8"
             ],
             [
              0.3333333333333333,
              "#9c179e"
             ],
             [
              0.4444444444444444,
              "#bd3786"
             ],
             [
              0.5555555555555556,
              "#d8576b"
             ],
             [
              0.6666666666666666,
              "#ed7953"
             ],
             [
              0.7777777777777778,
              "#fb9f3a"
             ],
             [
              0.8888888888888888,
              "#fdca26"
             ],
             [
              1,
              "#f0f921"
             ]
            ],
            "type": "histogram2d"
           }
          ],
          "histogram2dcontour": [
           {
            "colorbar": {
             "outlinewidth": 0,
             "ticks": ""
            },
            "colorscale": [
             [
              0,
              "#0d0887"
             ],
             [
              0.1111111111111111,
              "#46039f"
             ],
             [
              0.2222222222222222,
              "#7201a8"
             ],
             [
              0.3333333333333333,
              "#9c179e"
             ],
             [
              0.4444444444444444,
              "#bd3786"
             ],
             [
              0.5555555555555556,
              "#d8576b"
             ],
             [
              0.6666666666666666,
              "#ed7953"
             ],
             [
              0.7777777777777778,
              "#fb9f3a"
             ],
             [
              0.8888888888888888,
              "#fdca26"
             ],
             [
              1,
              "#f0f921"
             ]
            ],
            "type": "histogram2dcontour"
           }
          ],
          "mesh3d": [
           {
            "colorbar": {
             "outlinewidth": 0,
             "ticks": ""
            },
            "type": "mesh3d"
           }
          ],
          "parcoords": [
           {
            "line": {
             "colorbar": {
              "outlinewidth": 0,
              "ticks": ""
             }
            },
            "type": "parcoords"
           }
          ],
          "pie": [
           {
            "automargin": true,
            "type": "pie"
           }
          ],
          "scatter": [
           {
            "fillpattern": {
             "fillmode": "overlay",
             "size": 10,
             "solidity": 0.2
            },
            "type": "scatter"
           }
          ],
          "scatter3d": [
           {
            "line": {
             "colorbar": {
              "outlinewidth": 0,
              "ticks": ""
             }
            },
            "marker": {
             "colorbar": {
              "outlinewidth": 0,
              "ticks": ""
             }
            },
            "type": "scatter3d"
           }
          ],
          "scattercarpet": [
           {
            "marker": {
             "colorbar": {
              "outlinewidth": 0,
              "ticks": ""
             }
            },
            "type": "scattercarpet"
           }
          ],
          "scattergeo": [
           {
            "marker": {
             "colorbar": {
              "outlinewidth": 0,
              "ticks": ""
             }
            },
            "type": "scattergeo"
           }
          ],
          "scattergl": [
           {
            "marker": {
             "colorbar": {
              "outlinewidth": 0,
              "ticks": ""
             }
            },
            "type": "scattergl"
           }
          ],
          "scattermap": [
           {
            "marker": {
             "colorbar": {
              "outlinewidth": 0,
              "ticks": ""
             }
            },
            "type": "scattermap"
           }
          ],
          "scattermapbox": [
           {
            "marker": {
             "colorbar": {
              "outlinewidth": 0,
              "ticks": ""
             }
            },
            "type": "scattermapbox"
           }
          ],
          "scatterpolar": [
           {
            "marker": {
             "colorbar": {
              "outlinewidth": 0,
              "ticks": ""
             }
            },
            "type": "scatterpolar"
           }
          ],
          "scatterpolargl": [
           {
            "marker": {
             "colorbar": {
              "outlinewidth": 0,
              "ticks": ""
             }
            },
            "type": "scatterpolargl"
           }
          ],
          "scatterternary": [
           {
            "marker": {
             "colorbar": {
              "outlinewidth": 0,
              "ticks": ""
             }
            },
            "type": "scatterternary"
           }
          ],
          "surface": [
           {
            "colorbar": {
             "outlinewidth": 0,
             "ticks": ""
            },
            "colorscale": [
             [
              0,
              "#0d0887"
             ],
             [
              0.1111111111111111,
              "#46039f"
             ],
             [
              0.2222222222222222,
              "#7201a8"
             ],
             [
              0.3333333333333333,
              "#9c179e"
             ],
             [
              0.4444444444444444,
              "#bd3786"
             ],
             [
              0.5555555555555556,
              "#d8576b"
             ],
             [
              0.6666666666666666,
              "#ed7953"
             ],
             [
              0.7777777777777778,
              "#fb9f3a"
             ],
             [
              0.8888888888888888,
              "#fdca26"
             ],
             [
              1,
              "#f0f921"
             ]
            ],
            "type": "surface"
           }
          ],
          "table": [
           {
            "cells": {
             "fill": {
              "color": "#EBF0F8"
             },
             "line": {
              "color": "white"
             }
            },
            "header": {
             "fill": {
              "color": "#C8D4E3"
             },
             "line": {
              "color": "white"
             }
            },
            "type": "table"
           }
          ]
         },
         "layout": {
          "annotationdefaults": {
           "arrowcolor": "#2a3f5f",
           "arrowhead": 0,
           "arrowwidth": 1
          },
          "autotypenumbers": "strict",
          "coloraxis": {
           "colorbar": {
            "outlinewidth": 0,
            "ticks": ""
           }
          },
          "colorscale": {
           "diverging": [
            [
             0,
             "#8e0152"
            ],
            [
             0.1,
             "#c51b7d"
            ],
            [
             0.2,
             "#de77ae"
            ],
            [
             0.3,
             "#f1b6da"
            ],
            [
             0.4,
             "#fde0ef"
            ],
            [
             0.5,
             "#f7f7f7"
            ],
            [
             0.6,
             "#e6f5d0"
            ],
            [
             0.7,
             "#b8e186"
            ],
            [
             0.8,
             "#7fbc41"
            ],
            [
             0.9,
             "#4d9221"
            ],
            [
             1,
             "#276419"
            ]
           ],
           "sequential": [
            [
             0,
             "#0d0887"
            ],
            [
             0.1111111111111111,
             "#46039f"
            ],
            [
             0.2222222222222222,
             "#7201a8"
            ],
            [
             0.3333333333333333,
             "#9c179e"
            ],
            [
             0.4444444444444444,
             "#bd3786"
            ],
            [
             0.5555555555555556,
             "#d8576b"
            ],
            [
             0.6666666666666666,
             "#ed7953"
            ],
            [
             0.7777777777777778,
             "#fb9f3a"
            ],
            [
             0.8888888888888888,
             "#fdca26"
            ],
            [
             1,
             "#f0f921"
            ]
           ],
           "sequentialminus": [
            [
             0,
             "#0d0887"
            ],
            [
             0.1111111111111111,
             "#46039f"
            ],
            [
             0.2222222222222222,
             "#7201a8"
            ],
            [
             0.3333333333333333,
             "#9c179e"
            ],
            [
             0.4444444444444444,
             "#bd3786"
            ],
            [
             0.5555555555555556,
             "#d8576b"
            ],
            [
             0.6666666666666666,
             "#ed7953"
            ],
            [
             0.7777777777777778,
             "#fb9f3a"
            ],
            [
             0.8888888888888888,
             "#fdca26"
            ],
            [
             1,
             "#f0f921"
            ]
           ]
          },
          "colorway": [
           "#636efa",
           "#EF553B",
           "#00cc96",
           "#ab63fa",
           "#FFA15A",
           "#19d3f3",
           "#FF6692",
           "#B6E880",
           "#FF97FF",
           "#FECB52"
          ],
          "font": {
           "color": "#2a3f5f"
          },
          "geo": {
           "bgcolor": "white",
           "lakecolor": "white",
           "landcolor": "white",
           "showlakes": true,
           "showland": true,
           "subunitcolor": "#C8D4E3"
          },
          "hoverlabel": {
           "align": "left"
          },
          "hovermode": "closest",
          "mapbox": {
           "style": "light"
          },
          "paper_bgcolor": "white",
          "plot_bgcolor": "white",
          "polar": {
           "angularaxis": {
            "gridcolor": "#EBF0F8",
            "linecolor": "#EBF0F8",
            "ticks": ""
           },
           "bgcolor": "white",
           "radialaxis": {
            "gridcolor": "#EBF0F8",
            "linecolor": "#EBF0F8",
            "ticks": ""
           }
          },
          "scene": {
           "xaxis": {
            "backgroundcolor": "white",
            "gridcolor": "#DFE8F3",
            "gridwidth": 2,
            "linecolor": "#EBF0F8",
            "showbackground": true,
            "ticks": "",
            "zerolinecolor": "#EBF0F8"
           },
           "yaxis": {
            "backgroundcolor": "white",
            "gridcolor": "#DFE8F3",
            "gridwidth": 2,
            "linecolor": "#EBF0F8",
            "showbackground": true,
            "ticks": "",
            "zerolinecolor": "#EBF0F8"
           },
           "zaxis": {
            "backgroundcolor": "white",
            "gridcolor": "#DFE8F3",
            "gridwidth": 2,
            "linecolor": "#EBF0F8",
            "showbackground": true,
            "ticks": "",
            "zerolinecolor": "#EBF0F8"
           }
          },
          "shapedefaults": {
           "line": {
            "color": "#2a3f5f"
           }
          },
          "ternary": {
           "aaxis": {
            "gridcolor": "#DFE8F3",
            "linecolor": "#A2B1C6",
            "ticks": ""
           },
           "baxis": {
            "gridcolor": "#DFE8F3",
            "linecolor": "#A2B1C6",
            "ticks": ""
           },
           "bgcolor": "white",
           "caxis": {
            "gridcolor": "#DFE8F3",
            "linecolor": "#A2B1C6",
            "ticks": ""
           }
          },
          "title": {
           "x": 0.05
          },
          "xaxis": {
           "automargin": true,
           "gridcolor": "#EBF0F8",
           "linecolor": "#EBF0F8",
           "ticks": "",
           "title": {
            "standoff": 15
           },
           "zerolinecolor": "#EBF0F8",
           "zerolinewidth": 2
          },
          "yaxis": {
           "automargin": true,
           "gridcolor": "#EBF0F8",
           "linecolor": "#EBF0F8",
           "ticks": "",
           "title": {
            "standoff": 15
           },
           "zerolinecolor": "#EBF0F8",
           "zerolinewidth": 2
          }
         }
        },
        "title": {
         "text": "Age Distribution of Pancreatic Cancer Patients"
        },
        "width": 600,
        "xaxis": {
         "anchor": "y",
         "domain": [
          0,
          1
         ],
         "title": {
          "text": "Age"
         }
        },
        "xaxis2": {
         "anchor": "y2",
         "domain": [
          0,
          1
         ],
         "matches": "x",
         "showgrid": true,
         "showticklabels": false
        },
        "yaxis": {
         "anchor": "x",
         "domain": [
          0,
          0.8316
         ],
         "range": [
          0,
          null
         ],
         "title": {
          "text": "count"
         }
        },
        "yaxis2": {
         "anchor": "x2",
         "domain": [
          0.8416,
          1
         ],
         "matches": "y2",
         "range": [
          0,
          null
         ],
         "showgrid": false,
         "showline": false,
         "showticklabels": false,
         "ticks": ""
        }
       }
      }
     },
     "metadata": {},
     "output_type": "display_data"
    },
    {
     "data": {
      "text/html": [
       "<div>\n",
       "<style scoped>\n",
       "    .dataframe tbody tr th:only-of-type {\n",
       "        vertical-align: middle;\n",
       "    }\n",
       "\n",
       "    .dataframe tbody tr th {\n",
       "        vertical-align: top;\n",
       "    }\n",
       "\n",
       "    .dataframe thead th {\n",
       "        text-align: right;\n",
       "    }\n",
       "</style>\n",
       "<table border=\"1\" class=\"dataframe\">\n",
       "  <thead>\n",
       "    <tr style=\"text-align: right;\">\n",
       "      <th></th>\n",
       "      <th>age</th>\n",
       "      <th>female</th>\n",
       "      <th>race</th>\n",
       "      <th>hispanic</th>\n",
       "      <th>zipinc_qrtl</th>\n",
       "      <th>marital_status</th>\n",
       "    </tr>\n",
       "  </thead>\n",
       "  <tbody>\n",
       "    <tr>\n",
       "      <th>0</th>\n",
       "      <td>69</td>\n",
       "      <td>NaN</td>\n",
       "      <td>6</td>\n",
       "      <td>0</td>\n",
       "      <td>4</td>\n",
       "      <td>1.0</td>\n",
       "    </tr>\n",
       "    <tr>\n",
       "      <th>1</th>\n",
       "      <td>79</td>\n",
       "      <td>0.0</td>\n",
       "      <td>1</td>\n",
       "      <td>0</td>\n",
       "      <td>3</td>\n",
       "      <td>1.0</td>\n",
       "    </tr>\n",
       "    <tr>\n",
       "      <th>2</th>\n",
       "      <td>67</td>\n",
       "      <td>0.0</td>\n",
       "      <td>1</td>\n",
       "      <td>0</td>\n",
       "      <td>2</td>\n",
       "      <td>1.0</td>\n",
       "    </tr>\n",
       "    <tr>\n",
       "      <th>3</th>\n",
       "      <td>84</td>\n",
       "      <td>1.0</td>\n",
       "      <td>1</td>\n",
       "      <td>0</td>\n",
       "      <td>3</td>\n",
       "      <td>0.0</td>\n",
       "    </tr>\n",
       "    <tr>\n",
       "      <th>4</th>\n",
       "      <td>76</td>\n",
       "      <td>1.0</td>\n",
       "      <td>1</td>\n",
       "      <td>0</td>\n",
       "      <td>2</td>\n",
       "      <td>0.0</td>\n",
       "    </tr>\n",
       "    <tr>\n",
       "      <th>...</th>\n",
       "      <td>...</td>\n",
       "      <td>...</td>\n",
       "      <td>...</td>\n",
       "      <td>...</td>\n",
       "      <td>...</td>\n",
       "      <td>...</td>\n",
       "    </tr>\n",
       "    <tr>\n",
       "      <th>5179</th>\n",
       "      <td>78</td>\n",
       "      <td>0.0</td>\n",
       "      <td>1</td>\n",
       "      <td>0</td>\n",
       "      <td>2</td>\n",
       "      <td>1.0</td>\n",
       "    </tr>\n",
       "    <tr>\n",
       "      <th>5180</th>\n",
       "      <td>72</td>\n",
       "      <td>0.0</td>\n",
       "      <td>1</td>\n",
       "      <td>0</td>\n",
       "      <td>4</td>\n",
       "      <td>1.0</td>\n",
       "    </tr>\n",
       "    <tr>\n",
       "      <th>5181</th>\n",
       "      <td>70</td>\n",
       "      <td>1.0</td>\n",
       "      <td>1</td>\n",
       "      <td>0</td>\n",
       "      <td>4</td>\n",
       "      <td>0.0</td>\n",
       "    </tr>\n",
       "    <tr>\n",
       "      <th>5182</th>\n",
       "      <td>74</td>\n",
       "      <td>1.0</td>\n",
       "      <td>1</td>\n",
       "      <td>0</td>\n",
       "      <td>4</td>\n",
       "      <td>0.0</td>\n",
       "    </tr>\n",
       "    <tr>\n",
       "      <th>5183</th>\n",
       "      <td>71</td>\n",
       "      <td>0.0</td>\n",
       "      <td>3</td>\n",
       "      <td>3</td>\n",
       "      <td>4</td>\n",
       "      <td>1.0</td>\n",
       "    </tr>\n",
       "  </tbody>\n",
       "</table>\n",
       "<p>5183 rows × 6 columns</p>\n",
       "</div>"
      ],
      "text/plain": [
       "      age  female  race  hispanic  zipinc_qrtl  marital_status\n",
       "0      69     NaN     6         0            4             1.0\n",
       "1      79     0.0     1         0            3             1.0\n",
       "2      67     0.0     1         0            2             1.0\n",
       "3      84     1.0     1         0            3             0.0\n",
       "4      76     1.0     1         0            2             0.0\n",
       "...   ...     ...   ...       ...          ...             ...\n",
       "5179   78     0.0     1         0            2             1.0\n",
       "5180   72     0.0     1         0            4             1.0\n",
       "5181   70     1.0     1         0            4             0.0\n",
       "5182   74     1.0     1         0            4             0.0\n",
       "5183   71     0.0     3         3            4             1.0\n",
       "\n",
       "[5183 rows x 6 columns]"
      ]
     },
     "execution_count": 184,
     "metadata": {},
     "output_type": "execute_result"
    }
   ],
   "source": [
    "import plotly.express as px\n",
    "import plotly.graph_objects as go\n",
    "\n",
    "# Clean age variable\n",
    "if 'age' in demographics_df.columns:\n",
    "    demographics_df = demographics_df[demographics_df['age'] >= 0]\n",
    "\n",
    "# Plot\n",
    "if 'age' in demographics_df.columns:\n",
    "    fig = px.histogram(\n",
    "        demographics_df,\n",
    "        x='age',\n",
    "        nbins=30,\n",
    "        marginal='violin',\n",
    "        title='Age Distribution of Pancreatic Cancer Patients',\n",
    "        labels={'age': 'Age'}\n",
    "    )\n",
    "else:\n",
    "    age_count = demographics_df['agegroup'].value_counts().sort_index()\n",
    "    fig = go.Figure(\n",
    "        data=[\n",
    "            go.Bar(\n",
    "                x=age_count.index,\n",
    "                y=age_count.values\n",
    "            )\n",
    "        ]\n",
    "    )\n",
    "    fig.update_layout(\n",
    "        title='Age Group Distribution of Pancreatic Cancer Patients',\n",
    "        xaxis_title='Age Group',\n",
    "        yaxis_title='Count'\n",
    "    )\n",
    "\n",
    "fig.update_yaxes(range=[0, None])\n",
    "fig.update_layout(template='plotly_white', height=500   ,  width=600\n",
    ")\n",
    "fig.show()\n",
    "\n",
    "demographics_df"
   ]
  },
  {
   "cell_type": "markdown",
   "id": "6d916c65",
   "metadata": {},
   "source": [
    "# Age distribution visualization"
   ]
  },
  {
   "cell_type": "code",
   "execution_count": 185,
   "id": "2032d5e0",
   "metadata": {},
   "outputs": [
    {
     "data": {
      "text/plain": [
       "age\n",
       "70     205\n",
       "68     190\n",
       "69     180\n",
       "65     174\n",
       "74     173\n",
       "      ... \n",
       "100      1\n",
       "28       1\n",
       "27       1\n",
       "31       1\n",
       "12       1\n",
       "Name: count, Length: 79, dtype: int64"
      ]
     },
     "execution_count": 185,
     "metadata": {},
     "output_type": "execute_result"
    }
   ],
   "source": [
    "demographics_df['age'].value_counts()"
   ]
  },
  {
   "cell_type": "code",
   "execution_count": 186,
   "id": "efc2f833",
   "metadata": {},
   "outputs": [
    {
     "data": {
      "image/png": "[encoded data removed]",
      "text/plain": [
       "<Figure size 1000x600 with 1 Axes>"
      ]
     },
     "metadata": {},
     "output_type": "display_data"
    }
   ],
   "source": [
    "# Age distribution visualization\n",
    "\n",
    "import matplotlib.pyplot as plt\n",
    "import seaborn as sns\n",
    "\n",
    "plt.figure(figsize=(10, 6))\n",
    "if 'age' in demographics_df.columns:\n",
    "    # For continuous age variable\n",
    "    sns.histplot(demographics_df['age'], kde=True)\n",
    "    plt.title('Age Distribution of Pancreatic Cancer Patients')\n",
    "    plt.xlabel('Age')\n",
    "else:\n",
    "    # For age group variable\n",
    "    age_count = demographics_df['agegroup'].value_counts().sort_index()\n",
    "    sns.barplot(x=age_count.index, y=age_count.values)\n",
    "    plt.title('Age Group Distribution of Pancreatic Cancer Patients')\n",
    "    plt.xlabel('Age Group')\n",
    "    plt.xticks(rotation=45)\n",
    "plt.ylabel('Count')\n",
    "plt.tight_layout()\n",
    "plt.show()"
   ]
  },
  {
   "cell_type": "code",
   "execution_count": 187,
   "id": "e0a6cac3",
   "metadata": {},
   "outputs": [
    {
     "data": {
      "text/plain": [
       "female\n",
       "0.0    2643\n",
       "1.0    2539\n",
       "Name: count, dtype: int64"
      ]
     },
     "execution_count": 187,
     "metadata": {},
     "output_type": "execute_result"
    }
   ],
   "source": [
    "demographics_df['female'].value_counts()"
   ]
  },
  {
   "cell_type": "code",
   "execution_count": 188,
   "id": "254b414c",
   "metadata": {},
   "outputs": [
    {
     "data": {
      "application/vnd.plotly.v1+json": {
       "config": {
        "plotlyServerURL": "https://plot.ly"
       },
       "data": [
        {
         "customdata": [
          [
           "Male"
          ],
          [
           "Female"
          ]
         ],
         "domain": {
          "x": [
           0,
           1
          ],
          "y": [
           0,
           1
          ]
         },
         "hole": 0.4,
         "hovertemplate": "Gender=%{customdata[0]}<br>Count=%{value}<extra></extra>",
         "labels": [
          "Male",
          "Female"
         ],
         "legendgroup": "",
         "marker": {
          "colors": [
           "#3498db",
           "#e74c3c"
          ]
         },
         "name": "",
         "showlegend": true,
         "textinfo": "percent+label",
         "type": "pie",
         "values": {
          "bdata": "UwrrCQ==",
          "dtype": "i2"
         }
        }
       ],
       "layout": {
        "height": 500,
        "legend": {
         "tracegroupgap": 0
        },
        "template": {
         "data": {
          "bar": [
           {
            "error_x": {
             "color": "#2a3f5f"
            },
            "error_y": {
             "color": "#2a3f5f"
            },
            "marker": {
             "line": {
              "color": "white",
              "width": 0.5
             },
             "pattern": {
              "fillmode": "overlay",
              "size": 10,
              "solidity": 0.2
             }
            },
            "type": "bar"
           }
          ],
          "barpolar": [
           {
            "marker": {
             "line": {
              "color": "white",
              "width": 0.5
             },
             "pattern": {
              "fillmode": "overlay",
              "size": 10,
              "solidity": 0.2
             }
            },
            "type": "barpolar"
           }
          ],
          "carpet": [
           {
            "aaxis": {
             "endlinecolor": "#2a3f5f",
             "gridcolor": "#C8D4E3",
             "linecolor": "#C8D4E3",
             "minorgridcolor": "#C8D4E3",
             "startlinecolor": "#2a3f5f"
            },
            "baxis": {
             "endlinecolor": "#2a3f5f",
             "gridcolor": "#C8D4E3",
             "linecolor": "#C8D4E3",
             "minorgridcolor": "#C8D4E3",
             "startlinecolor": "#2a3f5f"
            },
            "type": "carpet"
           }
          ],
          "choropleth": [
           {
            "colorbar": {
             "outlinewidth": 0,
             "ticks": ""
            },
            "type": "choropleth"
           }
          ],
          "contour": [
           {
            "colorbar": {
             "outlinewidth": 0,
             "ticks": ""
            },
            "colorscale": [
             [
              0,
              "#0d0887"
             ],
             [
              0.1111111111111111,
              "#46039f"
             ],
             [
              0.2222222222222222,
              "#7201a8"
             ],
             [
              0.3333333333333333,
              "#9c179e"
             ],
             [
              0.4444444444444444,
              "#bd3786"
             ],
             [
              0.5555555555555556,
              "#d8576b"
             ],
             [
              0.6666666666666666,
              "#ed7953"
             ],
             [
              0.7777777777777778,
              "#fb9f3a"
             ],
             [
              0.8888888888888888,
              "#fdca26"
             ],
             [
              1,
              "#f0f921"
             ]
            ],
            "type": "contour"
           }
          ],
          "contourcarpet": [
           {
            "colorbar": {
             "outlinewidth": 0,
             "ticks": ""
            },
            "type": "contourcarpet"
           }
          ],
          "heatmap": [
           {
            "colorbar": {
             "outlinewidth": 0,
             "ticks": ""
            },
            "colorscale": [
             [
              0,
              "#0d0887"
             ],
             [
              0.1111111111111111,
              "#46039f"
             ],
             [
              0.2222222222222222,
              "#7201a8"
             ],
             [
              0.3333333333333333,
              "#9c179e"
             ],
             [
              0.4444444444444444,
              "#bd3786"
             ],
             [
              0.5555555555555556,
              "#d8576b"
             ],
             [
              0.6666666666666666,
              "#ed7953"
             ],
             [
              0.7777777777777778,
              "#fb9f3a"
             ],
             [
              0.8888888888888888,
              "#fdca26"
             ],
             [
              1,
              "#f0f921"
             ]
            ],
            "type": "heatmap"
           }
          ],
          "histogram": [
           {
            "marker": {
             "pattern": {
              "fillmode": "overlay",
              "size": 10,
              "solidity": 0.2
             }
            },
            "type": "histogram"
           }
          ],
          "histogram2d": [
           {
            "colorbar": {
             "outlinewidth": 0,
             "ticks": ""
            },
            "colorscale": [
             [
              0,
              "#0d0887"
             ],
             [
              0.1111111111111111,
              "#46039f"
             ],
             [
              0.2222222222222222,
              "#7201a8"
             ],
             [
              0.3333333333333333,
              "#9c179e"
             ],
             [
              0.4444444444444444,
              "#bd3786"
             ],
             [
              0.5555555555555556,
              "#d8576b"
             ],
             [
              0.6666666666666666,
              "#ed7953"
             ],
             [
              0.7777777777777778,
              "#fb9f3a"
             ],
             [
              0.8888888888888888,
              "#fdca26"
             ],
             [
              1,
              "#f0f921"
             ]
            ],
            "type": "histogram2d"
           }
          ],
          "histogram2dcontour": [
           {
            "colorbar": {
             "outlinewidth": 0,
             "ticks": ""
            },
            "colorscale": [
             [
              0,
              "#0d0887"
             ],
             [
              0.1111111111111111,
              "#46039f"
             ],
             [
              0.2222222222222222,
              "#7201a8"
             ],
             [
              0.3333333333333333,
              "#9c179e"
             ],
             [
              0.4444444444444444,
              "#bd3786"
             ],
             [
              0.5555555555555556,
              "#d8576b"
             ],
             [
              0.6666666666666666,
              "#ed7953"
             ],
             [
              0.7777777777777778,
              "#fb9f3a"
             ],
             [
              0.8888888888888888,
              "#fdca26"
             ],
             [
              1,
              "#f0f921"
             ]
            ],
            "type": "histogram2dcontour"
           }
          ],
          "mesh3d": [
           {
            "colorbar": {
             "outlinewidth": 0,
             "ticks": ""
            },
            "type": "mesh3d"
           }
          ],
          "parcoords": [
           {
            "line": {
             "colorbar": {
              "outlinewidth": 0,
              "ticks": ""
             }
            },
            "type": "parcoords"
           }
          ],
          "pie": [
           {
            "automargin": true,
            "type": "pie"
           }
          ],
          "scatter": [
           {
            "fillpattern": {
             "fillmode": "overlay",
             "size": 10,
             "solidity": 0.2
            },
            "type": "scatter"
           }
          ],
          "scatter3d": [
           {
            "line": {
             "colorbar": {
              "outlinewidth": 0,
              "ticks": ""
             }
            },
            "marker": {
             "colorbar": {
              "outlinewidth": 0,
              "ticks": ""
             }
            },
            "type": "scatter3d"
           }
          ],
          "scattercarpet": [
           {
            "marker": {
             "colorbar": {
              "outlinewidth": 0,
              "ticks": ""
             }
            },
            "type": "scattercarpet"
           }
          ],
          "scattergeo": [
           {
            "marker": {
             "colorbar": {
              "outlinewidth": 0,
              "ticks": ""
             }
            },
            "type": "scattergeo"
           }
          ],
          "scattergl": [
           {
            "marker": {
             "colorbar": {
              "outlinewidth": 0,
              "ticks": ""
             }
            },
            "type": "scattergl"
           }
          ],
          "scattermap": [
           {
            "marker": {
             "colorbar": {
              "outlinewidth": 0,
              "ticks": ""
             }
            },
            "type": "scattermap"
           }
          ],
          "scattermapbox": [
           {
            "marker": {
             "colorbar": {
              "outlinewidth": 0,
              "ticks": ""
             }
            },
            "type": "scattermapbox"
           }
          ],
          "scatterpolar": [
           {
            "marker": {
             "colorbar": {
              "outlinewidth": 0,
              "ticks": ""
             }
            },
            "type": "scatterpolar"
           }
          ],
          "scatterpolargl": [
           {
            "marker": {
             "colorbar": {
              "outlinewidth": 0,
              "ticks": ""
             }
            },
            "type": "scatterpolargl"
           }
          ],
          "scatterternary": [
           {
            "marker": {
             "colorbar": {
              "outlinewidth": 0,
              "ticks": ""
             }
            },
            "type": "scatterternary"
           }
          ],
          "surface": [
           {
            "colorbar": {
             "outlinewidth": 0,
             "ticks": ""
            },
            "colorscale": [
             [
              0,
              "#0d0887"
             ],
             [
              0.1111111111111111,
              "#46039f"
             ],
             [
              0.2222222222222222,
              "#7201a8"
             ],
             [
              0.3333333333333333,
              "#9c179e"
             ],
             [
              0.4444444444444444,
              "#bd3786"
             ],
             [
              0.5555555555555556,
              "#d8576b"
             ],
             [
              0.6666666666666666,
              "#ed7953"
             ],
             [
              0.7777777777777778,
              "#fb9f3a"
             ],
             [
              0.8888888888888888,
              "#fdca26"
             ],
             [
              1,
              "#f0f921"
             ]
            ],
            "type": "surface"
           }
          ],
          "table": [
           {
            "cells": {
             "fill": {
              "color": "#EBF0F8"
             },
             "line": {
              "color": "white"
             }
            },
            "header": {
             "fill": {
              "color": "#C8D4E3"
             },
             "line": {
              "color": "white"
             }
            },
            "type": "table"
           }
          ]
         },
         "layout": {
          "annotationdefaults": {
           "arrowcolor": "#2a3f5f",
           "arrowhead": 0,
           "arrowwidth": 1
          },
          "autotypenumbers": "strict",
          "coloraxis": {
           "colorbar": {
            "outlinewidth": 0,
            "ticks": ""
           }
          },
          "colorscale": {
           "diverging": [
            [
             0,
             "#8e0152"
            ],
            [
             0.1,
             "#c51b7d"
            ],
            [
             0.2,
             "#de77ae"
            ],
            [
             0.3,
             "#f1b6da"
            ],
            [
             0.4,
             "#fde0ef"
            ],
            [
             0.5,
             "#f7f7f7"
            ],
            [
             0.6,
             "#e6f5d0"
            ],
            [
             0.7,
             "#b8e186"
            ],
            [
             0.8,
             "#7fbc41"
            ],
            [
             0.9,
             "#4d9221"
            ],
            [
             1,
             "#276419"
            ]
           ],
           "sequential": [
            [
             0,
             "#0d0887"
            ],
            [
             0.1111111111111111,
             "#46039f"
            ],
            [
             0.2222222222222222,
             "#7201a8"
            ],
            [
             0.3333333333333333,
             "#9c179e"
            ],
            [
             0.4444444444444444,
             "#bd3786"
            ],
            [
             0.5555555555555556,
             "#d8576b"
            ],
            [
             0.6666666666666666,
             "#ed7953"
            ],
            [
             0.7777777777777778,
             "#fb9f3a"
            ],
            [
             0.8888888888888888,
             "#fdca26"
            ],
            [
             1,
             "#f0f921"
            ]
           ],
           "sequentialminus": [
            [
             0,
             "#0d0887"
            ],
            [
             0.1111111111111111,
             "#46039f"
            ],
            [
             0.2222222222222222,
             "#7201a8"
            ],
            [
             0.3333333333333333,
             "#9c179e"
            ],
            [
             0.4444444444444444,
             "#bd3786"
            ],
            [
             0.5555555555555556,
             "#d8576b"
            ],
            [
             0.6666666666666666,
             "#ed7953"
            ],
            [
             0.7777777777777778,
             "#fb9f3a"
            ],
            [
             0.8888888888888888,
             "#fdca26"
            ],
            [
             1,
             "#f0f921"
            ]
           ]
          },
          "colorway": [
           "#636efa",
           "#EF553B",
           "#00cc96",
           "#ab63fa",
           "#FFA15A",
           "#19d3f3",
           "#FF6692",
           "#B6E880",
           "#FF97FF",
           "#FECB52"
          ],
          "font": {
           "color": "#2a3f5f"
          },
          "geo": {
           "bgcolor": "white",
           "lakecolor": "white",
           "landcolor": "white",
           "showlakes": true,
           "showland": true,
           "subunitcolor": "#C8D4E3"
          },
          "hoverlabel": {
           "align": "left"
          },
          "hovermode": "closest",
          "mapbox": {
           "style": "light"
          },
          "paper_bgcolor": "white",
          "plot_bgcolor": "white",
          "polar": {
           "angularaxis": {
            "gridcolor": "#EBF0F8",
            "linecolor": "#EBF0F8",
            "ticks": ""
           },
           "bgcolor": "white",
           "radialaxis": {
            "gridcolor": "#EBF0F8",
            "linecolor": "#EBF0F8",
            "ticks": ""
           }
          },
          "scene": {
           "xaxis": {
            "backgroundcolor": "white",
            "gridcolor": "#DFE8F3",
            "gridwidth": 2,
            "linecolor": "#EBF0F8",
            "showbackground": true,
            "ticks": "",
            "zerolinecolor": "#EBF0F8"
           },
           "yaxis": {
            "backgroundcolor": "white",
            "gridcolor": "#DFE8F3",
            "gridwidth": 2,
            "linecolor": "#EBF0F8",
            "showbackground": true,
            "ticks": "",
            "zerolinecolor": "#EBF0F8"
           },
           "zaxis": {
            "backgroundcolor": "white",
            "gridcolor": "#DFE8F3",
            "gridwidth": 2,
            "linecolor": "#EBF0F8",
            "showbackground": true,
            "ticks": "",
            "zerolinecolor": "#EBF0F8"
           }
          },
          "shapedefaults": {
           "line": {
            "color": "#2a3f5f"
           }
          },
          "ternary": {
           "aaxis": {
            "gridcolor": "#DFE8F3",
            "linecolor": "#A2B1C6",
            "ticks": ""
           },
           "baxis": {
            "gridcolor": "#DFE8F3",
            "linecolor": "#A2B1C6",
            "ticks": ""
           },
           "bgcolor": "white",
           "caxis": {
            "gridcolor": "#DFE8F3",
            "linecolor": "#A2B1C6",
            "ticks": ""
           }
          },
          "title": {
           "x": 0.05
          },
          "xaxis": {
           "automargin": true,
           "gridcolor": "#EBF0F8",
           "linecolor": "#EBF0F8",
           "ticks": "",
           "title": {
            "standoff": 15
           },
           "zerolinecolor": "#EBF0F8",
           "zerolinewidth": 2
          },
          "yaxis": {
           "automargin": true,
           "gridcolor": "#EBF0F8",
           "linecolor": "#EBF0F8",
           "ticks": "",
           "title": {
            "standoff": 15
           },
           "zerolinecolor": "#EBF0F8",
           "zerolinewidth": 2
          }
         }
        },
        "title": {
         "text": "Gender Distribution of Pancreatic Cancer Patients"
        },
        "width": 500
       }
      }
     },
     "metadata": {},
     "output_type": "display_data"
    }
   ],
   "source": [
    "import plotly.express as px\n",
    "import pandas as pd\n",
    "\n",
    "# Prepare gender labels\n",
    "gender_counts = demographics_df['female'].value_counts().sort_index()\n",
    "\n",
    "labels = []\n",
    "for idx in gender_counts.index:\n",
    "    if idx == 0:\n",
    "        labels.append('Male')\n",
    "    elif idx == 1:\n",
    "        labels.append('Female')\n",
    "    else:\n",
    "        labels.append(f'Other ({idx})')\n",
    "\n",
    "# Create dataframe for plotting\n",
    "gender_df = pd.DataFrame({\n",
    "    'Gender': labels,\n",
    "    'Count': gender_counts.values\n",
    "})\n",
    "\n",
    "# Plotly Pie Chart\n",
    "fig = px.pie(\n",
    "    gender_df,\n",
    "    names='Gender',\n",
    "    values='Count',\n",
    "    title='Gender Distribution of Pancreatic Cancer Patients',\n",
    "    color='Gender',\n",
    "    color_discrete_map={\n",
    "        'Male': '#3498db',     # Blue\n",
    "        'Female': '#e74c3c',   # Red\n",
    "    },\n",
    "    hole=0.4  # donut style\n",
    ")\n",
    "\n",
    "fig.update_traces(textinfo='percent+label')\n",
    "\n",
    "fig.update_layout(\n",
    "    template='plotly_white',\n",
    "    height=500,\n",
    "    width=500\n",
    ")\n",
    "\n",
    "fig.show()\n"
   ]
  },
  {
   "cell_type": "code",
   "execution_count": 189,
   "id": "61396f4c",
   "metadata": {},
   "outputs": [
    {
     "data": {
      "application/vnd.plotly.v1+json": {
       "config": {
        "plotlyServerURL": "https://plot.ly"
       },
       "data": [
        {
         "domain": {
          "x": [
           0,
           1
          ],
          "y": [
           0,
           1
          ]
         },
         "hole": 0.4,
         "hovertemplate": "label=%{label}<br>value=%{value}<extra></extra>",
         "labels": [
          "Male",
          "Female"
         ],
         "legendgroup": "",
         "name": "",
         "showlegend": true,
         "textinfo": "percent+label",
         "type": "pie",
         "values": {
          "bdata": "UwrrCQ==",
          "dtype": "i2"
         }
        }
       ],
       "layout": {
        "height": 500,
        "legend": {
         "tracegroupgap": 0
        },
        "template": {
         "data": {
          "bar": [
           {
            "error_x": {
             "color": "#2a3f5f"
            },
            "error_y": {
             "color": "#2a3f5f"
            },
            "marker": {
             "line": {
              "color": "white",
              "width": 0.5
             },
             "pattern": {
              "fillmode": "overlay",
              "size": 10,
              "solidity": 0.2
             }
            },
            "type": "bar"
           }
          ],
          "barpolar": [
           {
            "marker": {
             "line": {
              "color": "white",
              "width": 0.5
             },
             "pattern": {
              "fillmode": "overlay",
              "size": 10,
              "solidity": 0.2
             }
            },
            "type": "barpolar"
           }
          ],
          "carpet": [
           {
            "aaxis": {
             "endlinecolor": "#2a3f5f",
             "gridcolor": "#C8D4E3",
             "linecolor": "#C8D4E3",
             "minorgridcolor": "#C8D4E3",
             "startlinecolor": "#2a3f5f"
            },
            "baxis": {
             "endlinecolor": "#2a3f5f",
             "gridcolor": "#C8D4E3",
             "linecolor": "#C8D4E3",
             "minorgridcolor": "#C8D4E3",
             "startlinecolor": "#2a3f5f"
            },
            "type": "carpet"
           }
          ],
          "choropleth": [
           {
            "colorbar": {
             "outlinewidth": 0,
             "ticks": ""
            },
            "type": "choropleth"
           }
          ],
          "contour": [
           {
            "colorbar": {
             "outlinewidth": 0,
             "ticks": ""
            },
            "colorscale": [
             [
              0,
              "#0d0887"
             ],
             [
              0.1111111111111111,
              "#46039f"
             ],
             [
              0.2222222222222222,
              "#7201a8"
             ],
             [
              0.3333333333333333,
              "#9c179e"
             ],
             [
              0.4444444444444444,
              "#bd3786"
             ],
             [
              0.5555555555555556,
              "#d8576b"
             ],
             [
              0.6666666666666666,
              "#ed7953"
             ],
             [
              0.7777777777777778,
              "#fb9f3a"
             ],
             [
              0.8888888888888888,
              "#fdca26"
             ],
             [
              1,
              "#f0f921"
             ]
            ],
            "type": "contour"
           }
          ],
          "contourcarpet": [
           {
            "colorbar": {
             "outlinewidth": 0,
             "ticks": ""
            },
            "type": "contourcarpet"
           }
          ],
          "heatmap": [
           {
            "colorbar": {
             "outlinewidth": 0,
             "ticks": ""
            },
            "colorscale": [
             [
              0,
              "#0d0887"
             ],
             [
              0.1111111111111111,
              "#46039f"
             ],
             [
              0.2222222222222222,
              "#7201a8"
             ],
             [
              0.3333333333333333,
              "#9c179e"
             ],
             [
              0.4444444444444444,
              "#bd3786"
             ],
             [
              0.5555555555555556,
              "#d8576b"
             ],
             [
              0.6666666666666666,
              "#ed7953"
             ],
             [
              0.7777777777777778,
              "#fb9f3a"
             ],
             [
              0.8888888888888888,
              "#fdca26"
             ],
             [
              1,
              "#f0f921"
             ]
            ],
            "type": "heatmap"
           }
          ],
          "histogram": [
           {
            "marker": {
             "pattern": {
              "fillmode": "overlay",
              "size": 10,
              "solidity": 0.2
             }
            },
            "type": "histogram"
           }
          ],
          "histogram2d": [
           {
            "colorbar": {
             "outlinewidth": 0,
             "ticks": ""
            },
            "colorscale": [
             [
              0,
              "#0d0887"
             ],
             [
              0.1111111111111111,
              "#46039f"
             ],
             [
              0.2222222222222222,
              "#7201a8"
             ],
             [
              0.3333333333333333,
              "#9c179e"
             ],
             [
              0.4444444444444444,
              "#bd3786"
             ],
             [
              0.5555555555555556,
              "#d8576b"
             ],
             [
              0.6666666666666666,
              "#ed7953"
             ],
             [
              0.7777777777777778,
              "#fb9f3a"
             ],
             [
              0.8888888888888888,
              "#fdca26"
             ],
             [
              1,
              "#f0f921"
             ]
            ],
            "type": "histogram2d"
           }
          ],
          "histogram2dcontour": [
           {
            "colorbar": {
             "outlinewidth": 0,
             "ticks": ""
            },
            "colorscale": [
             [
              0,
              "#0d0887"
             ],
             [
              0.1111111111111111,
              "#46039f"
             ],
             [
              0.2222222222222222,
              "#7201a8"
             ],
             [
              0.3333333333333333,
              "#9c179e"
             ],
             [
              0.4444444444444444,
              "#bd3786"
             ],
             [
              0.5555555555555556,
              "#d8576b"
             ],
             [
              0.6666666666666666,
              "#ed7953"
             ],
             [
              0.7777777777777778,
              "#fb9f3a"
             ],
             [
              0.8888888888888888,
              "#fdca26"
             ],
             [
              1,
              "#f0f921"
             ]
            ],
            "type": "histogram2dcontour"
           }
          ],
          "mesh3d": [
           {
            "colorbar": {
             "outlinewidth": 0,
             "ticks": ""
            },
            "type": "mesh3d"
           }
          ],
          "parcoords": [
           {
            "line": {
             "colorbar": {
              "outlinewidth": 0,
              "ticks": ""
             }
            },
            "type": "parcoords"
           }
          ],
          "pie": [
           {
            "automargin": true,
            "type": "pie"
           }
          ],
          "scatter": [
           {
            "fillpattern": {
             "fillmode": "overlay",
             "size": 10,
             "solidity": 0.2
            },
            "type": "scatter"
           }
          ],
          "scatter3d": [
           {
            "line": {
             "colorbar": {
              "outlinewidth": 0,
              "ticks": ""
             }
            },
            "marker": {
             "colorbar": {
              "outlinewidth": 0,
              "ticks": ""
             }
            },
            "type": "scatter3d"
           }
          ],
          "scattercarpet": [
           {
            "marker": {
             "colorbar": {
              "outlinewidth": 0,
              "ticks": ""
             }
            },
            "type": "scattercarpet"
           }
          ],
          "scattergeo": [
           {
            "marker": {
             "colorbar": {
              "outlinewidth": 0,
              "ticks": ""
             }
            },
            "type": "scattergeo"
           }
          ],
          "scattergl": [
           {
            "marker": {
             "colorbar": {
              "outlinewidth": 0,
              "ticks": ""
             }
            },
            "type": "scattergl"
           }
          ],
          "scattermap": [
           {
            "marker": {
             "colorbar": {
              "outlinewidth": 0,
              "ticks": ""
             }
            },
            "type": "scattermap"
           }
          ],
          "scattermapbox": [
           {
            "marker": {
             "colorbar": {
              "outlinewidth": 0,
              "ticks": ""
             }
            },
            "type": "scattermapbox"
           }
          ],
          "scatterpolar": [
           {
            "marker": {
             "colorbar": {
              "outlinewidth": 0,
              "ticks": ""
             }
            },
            "type": "scatterpolar"
           }
          ],
          "scatterpolargl": [
           {
            "marker": {
             "colorbar": {
              "outlinewidth": 0,
              "ticks": ""
             }
            },
            "type": "scatterpolargl"
           }
          ],
          "scatterternary": [
           {
            "marker": {
             "colorbar": {
              "outlinewidth": 0,
              "ticks": ""
             }
            },
            "type": "scatterternary"
           }
          ],
          "surface": [
           {
            "colorbar": {
             "outlinewidth": 0,
             "ticks": ""
            },
            "colorscale": [
             [
              0,
              "#0d0887"
             ],
             [
              0.1111111111111111,
              "#46039f"
             ],
             [
              0.2222222222222222,
              "#7201a8"
             ],
             [
              0.3333333333333333,
              "#9c179e"
             ],
             [
              0.4444444444444444,
              "#bd3786"
             ],
             [
              0.5555555555555556,
              "#d8576b"
             ],
             [
              0.6666666666666666,
              "#ed7953"
             ],
             [
              0.7777777777777778,
              "#fb9f3a"
             ],
             [
              0.8888888888888888,
              "#fdca26"
             ],
             [
              1,
              "#f0f921"
             ]
            ],
            "type": "surface"
           }
          ],
          "table": [
           {
            "cells": {
             "fill": {
              "color": "#EBF0F8"
             },
             "line": {
              "color": "white"
             }
            },
            "header": {
             "fill": {
              "color": "#C8D4E3"
             },
             "line": {
              "color": "white"
             }
            },
            "type": "table"
           }
          ]
         },
         "layout": {
          "annotationdefaults": {
           "arrowcolor": "#2a3f5f",
           "arrowhead": 0,
           "arrowwidth": 1
          },
          "autotypenumbers": "strict",
          "coloraxis": {
           "colorbar": {
            "outlinewidth": 0,
            "ticks": ""
           }
          },
          "colorscale": {
           "diverging": [
            [
             0,
             "#8e0152"
            ],
            [
             0.1,
             "#c51b7d"
            ],
            [
             0.2,
             "#de77ae"
            ],
            [
             0.3,
             "#f1b6da"
            ],
            [
             0.4,
             "#fde0ef"
            ],
            [
             0.5,
             "#f7f7f7"
            ],
            [
             0.6,
             "#e6f5d0"
            ],
            [
             0.7,
             "#b8e186"
            ],
            [
             0.8,
             "#7fbc41"
            ],
            [
             0.9,
             "#4d9221"
            ],
            [
             1,
             "#276419"
            ]
           ],
           "sequential": [
            [
             0,
             "#0d0887"
            ],
            [
             0.1111111111111111,
             "#46039f"
            ],
            [
             0.2222222222222222,
             "#7201a8"
            ],
            [
             0.3333333333333333,
             "#9c179e"
            ],
            [
             0.4444444444444444,
             "#bd3786"
            ],
            [
             0.5555555555555556,
             "#d8576b"
            ],
            [
             0.6666666666666666,
             "#ed7953"
            ],
            [
             0.7777777777777778,
             "#fb9f3a"
            ],
            [
             0.8888888888888888,
             "#fdca26"
            ],
            [
             1,
             "#f0f921"
            ]
           ],
           "sequentialminus": [
            [
             0,
             "#0d0887"
            ],
            [
             0.1111111111111111,
             "#46039f"
            ],
            [
             0.2222222222222222,
             "#7201a8"
            ],
            [
             0.3333333333333333,
             "#9c179e"
            ],
            [
             0.4444444444444444,
             "#bd3786"
            ],
            [
             0.5555555555555556,
             "#d8576b"
            ],
            [
             0.6666666666666666,
             "#ed7953"
            ],
            [
             0.7777777777777778,
             "#fb9f3a"
            ],
            [
             0.8888888888888888,
             "#fdca26"
            ],
            [
             1,
             "#f0f921"
            ]
           ]
          },
          "colorway": [
           "#636efa",
           "#EF553B",
           "#00cc96",
           "#ab63fa",
           "#FFA15A",
           "#19d3f3",
           "#FF6692",
           "#B6E880",
           "#FF97FF",
           "#FECB52"
          ],
          "font": {
           "color": "#2a3f5f"
          },
          "geo": {
           "bgcolor": "white",
           "lakecolor": "white",
           "landcolor": "white",
           "showlakes": true,
           "showland": true,
           "subunitcolor": "#C8D4E3"
          },
          "hoverlabel": {
           "align": "left"
          },
          "hovermode": "closest",
          "mapbox": {
           "style": "light"
          },
          "paper_bgcolor": "white",
          "plot_bgcolor": "white",
          "polar": {
           "angularaxis": {
            "gridcolor": "#EBF0F8",
            "linecolor": "#EBF0F8",
            "ticks": ""
           },
           "bgcolor": "white",
           "radialaxis": {
            "gridcolor": "#EBF0F8",
            "linecolor": "#EBF0F8",
            "ticks": ""
           }
          },
          "scene": {
           "xaxis": {
            "backgroundcolor": "white",
            "gridcolor": "#DFE8F3",
            "gridwidth": 2,
            "linecolor": "#EBF0F8",
            "showbackground": true,
            "ticks": "",
            "zerolinecolor": "#EBF0F8"
           },
           "yaxis": {
            "backgroundcolor": "white",
            "gridcolor": "#DFE8F3",
            "gridwidth": 2,
            "linecolor": "#EBF0F8",
            "showbackground": true,
            "ticks": "",
            "zerolinecolor": "#EBF0F8"
           },
           "zaxis": {
            "backgroundcolor": "white",
            "gridcolor": "#DFE8F3",
            "gridwidth": 2,
            "linecolor": "#EBF0F8",
            "showbackground": true,
            "ticks": "",
            "zerolinecolor": "#EBF0F8"
           }
          },
          "shapedefaults": {
           "line": {
            "color": "#2a3f5f"
           }
          },
          "ternary": {
           "aaxis": {
            "gridcolor": "#DFE8F3",
            "linecolor": "#A2B1C6",
            "ticks": ""
           },
           "baxis": {
            "gridcolor": "#DFE8F3",
            "linecolor": "#A2B1C6",
            "ticks": ""
           },
           "bgcolor": "white",
           "caxis": {
            "gridcolor": "#DFE8F3",
            "linecolor": "#A2B1C6",
            "ticks": ""
           }
          },
          "title": {
           "x": 0.05
          },
          "xaxis": {
           "automargin": true,
           "gridcolor": "#EBF0F8",
           "linecolor": "#EBF0F8",
           "ticks": "",
           "title": {
            "standoff": 15
           },
           "zerolinecolor": "#EBF0F8",
           "zerolinewidth": 2
          },
          "yaxis": {
           "automargin": true,
           "gridcolor": "#EBF0F8",
           "linecolor": "#EBF0F8",
           "ticks": "",
           "title": {
            "standoff": 15
           },
           "zerolinecolor": "#EBF0F8",
           "zerolinewidth": 2
          }
         }
        },
        "title": {
         "text": "Gender Distribution"
        },
        "width": 500
       }
      }
     },
     "metadata": {},
     "output_type": "display_data"
    }
   ],
   "source": [
    "import plotly.express as px\n",
    "import pandas as pd\n",
    "import numpy as np\n",
    "\n",
    "# --- Female Distribution ---\n",
    "df = demographics_df.copy()\n",
    "\n",
    "df['female'] = df['female'].replace({9: np.nan})\n",
    "\n",
    "fig_female = px.pie(\n",
    "    df['female'].value_counts().rename(index={0: 'Male', 1: 'Female'}),\n",
    "    names=df['female'].value_counts().rename(index={0: 'Male', 1: 'Female'}).index,\n",
    "    values=df['female'].value_counts().values,\n",
    "    title='Gender Distribution',\n",
    "    hole=0.4, width=500, height=500,\n",
    ")\n",
    "fig_female.update_traces(textinfo='percent+label')\n",
    "fig_female.update_layout(template='plotly_white')\n",
    "fig_female.show()\n"
   ]
  },
  {
   "cell_type": "code",
   "execution_count": 190,
   "id": "231fb209",
   "metadata": {},
   "outputs": [
    {
     "data": {
      "application/vnd.plotly.v1+json": {
       "config": {
        "plotlyServerURL": "https://plot.ly"
       },
       "data": [
        {
         "hovertemplate": "Race=%{x}<br>Count=%{text}<extra></extra>",
         "legendgroup": "",
         "marker": {
          "color": "#636efa",
          "pattern": {
           "shape": ""
          }
         },
         "name": "",
         "orientation": "v",
         "showlegend": false,
         "text": {
          "bdata": "AAAAAADaqUAAAAAAAByWQAAAAAAAwGRAAAAAAADAY0AAAAAAAIBWQAAAAAAAgENAAAAAAAAAGEA=",
          "dtype": "f8"
         },
         "textposition": "auto",
         "type": "bar",
         "x": {
          "bdata": "AQIDBAYABQ==",
          "dtype": "i1"
         },
         "xaxis": "x",
         "y": {
          "bdata": "7QyHBaYAngBaACcABgA=",
          "dtype": "i2"
         },
         "yaxis": "y"
        }
       ],
       "layout": {
        "barmode": "relative",
        "height": 500,
        "legend": {
         "tracegroupgap": 0
        },
        "template": {
         "data": {
          "bar": [
           {
            "error_x": {
             "color": "#2a3f5f"
            },
            "error_y": {
             "color": "#2a3f5f"
            },
            "marker": {
             "line": {
              "color": "white",
              "width": 0.5
             },
             "pattern": {
              "fillmode": "overlay",
              "size": 10,
              "solidity": 0.2
             }
            },
            "type": "bar"
           }
          ],
          "barpolar": [
           {
            "marker": {
             "line": {
              "color": "white",
              "width": 0.5
             },
             "pattern": {
              "fillmode": "overlay",
              "size": 10,
              "solidity": 0.2
             }
            },
            "type": "barpolar"
           }
          ],
          "carpet": [
           {
            "aaxis": {
             "endlinecolor": "#2a3f5f",
             "gridcolor": "#C8D4E3",
             "linecolor": "#C8D4E3",
             "minorgridcolor": "#C8D4E3",
             "startlinecolor": "#2a3f5f"
            },
            "baxis": {
             "endlinecolor": "#2a3f5f",
             "gridcolor": "#C8D4E3",
             "linecolor": "#C8D4E3",
             "minorgridcolor": "#C8D4E3",
             "startlinecolor": "#2a3f5f"
            },
            "type": "carpet"
           }
          ],
          "choropleth": [
           {
            "colorbar": {
             "outlinewidth": 0,
             "ticks": ""
            },
            "type": "choropleth"
           }
          ],
          "contour": [
           {
            "colorbar": {
             "outlinewidth": 0,
             "ticks": ""
            },
            "colorscale": [
             [
              0,
              "#0d0887"
             ],
             [
              0.1111111111111111,
              "#46039f"
             ],
             [
              0.2222222222222222,
              "#7201a8"
             ],
             [
              0.3333333333333333,
              "#9c179e"
             ],
             [
              0.4444444444444444,
              "#bd3786"
             ],
             [
              0.5555555555555556,
              "#d8576b"
             ],
             [
              0.6666666666666666,
              "#ed7953"
             ],
             [
              0.7777777777777778,
              "#fb9f3a"
             ],
             [
              0.8888888888888888,
              "#fdca26"
             ],
             [
              1,
              "#f0f921"
             ]
            ],
            "type": "contour"
           }
          ],
          "contourcarpet": [
           {
            "colorbar": {
             "outlinewidth": 0,
             "ticks": ""
            },
            "type": "contourcarpet"
           }
          ],
          "heatmap": [
           {
            "colorbar": {
             "outlinewidth": 0,
             "ticks": ""
            },
            "colorscale": [
             [
              0,
              "#0d0887"
             ],
             [
              0.1111111111111111,
              "#46039f"
             ],
             [
              0.2222222222222222,
              "#7201a8"
             ],
             [
              0.3333333333333333,
              "#9c179e"
             ],
             [
              0.4444444444444444,
              "#bd3786"
             ],
             [
              0.5555555555555556,
              "#d8576b"
             ],
             [
              0.6666666666666666,
              "#ed7953"
             ],
             [
              0.7777777777777778,
              "#fb9f3a"
             ],
             [
              0.8888888888888888,
              "#fdca26"
             ],
             [
              1,
              "#f0f921"
             ]
            ],
            "type": "heatmap"
           }
          ],
          "histogram": [
           {
            "marker": {
             "pattern": {
              "fillmode": "overlay",
              "size": 10,
              "solidity": 0.2
             }
            },
            "type": "histogram"
           }
          ],
          "histogram2d": [
           {
            "colorbar": {
             "outlinewidth": 0,
             "ticks": ""
            },
            "colorscale": [
             [
              0,
              "#0d0887"
             ],
             [
              0.1111111111111111,
              "#46039f"
             ],
             [
              0.2222222222222222,
              "#7201a8"
             ],
             [
              0.3333333333333333,
              "#9c179e"
             ],
             [
              0.4444444444444444,
              "#bd3786"
             ],
             [
              0.5555555555555556,
              "#d8576b"
             ],
             [
              0.6666666666666666,
              "#ed7953"
             ],
             [
              0.7777777777777778,
              "#fb9f3a"
             ],
             [
              0.8888888888888888,
              "#fdca26"
             ],
             [
              1,
              "#f0f921"
             ]
            ],
            "type": "histogram2d"
           }
          ],
          "histogram2dcontour": [
           {
            "colorbar": {
             "outlinewidth": 0,
             "ticks": ""
            },
            "colorscale": [
             [
              0,
              "#0d0887"
             ],
             [
              0.1111111111111111,
              "#46039f"
             ],
             [
              0.2222222222222222,
              "#7201a8"
             ],
             [
              0.3333333333333333,
              "#9c179e"
             ],
             [
              0.4444444444444444,
              "#bd3786"
             ],
             [
              0.5555555555555556,
              "#d8576b"
             ],
             [
              0.6666666666666666,
              "#ed7953"
             ],
             [
              0.7777777777777778,
              "#fb9f3a"
             ],
             [
              0.8888888888888888,
              "#fdca26"
             ],
             [
              1,
              "#f0f921"
             ]
            ],
            "type": "histogram2dcontour"
           }
          ],
          "mesh3d": [
           {
            "colorbar": {
             "outlinewidth": 0,
             "ticks": ""
            },
            "type": "mesh3d"
           }
          ],
          "parcoords": [
           {
            "line": {
             "colorbar": {
              "outlinewidth": 0,
              "ticks": ""
             }
            },
            "type": "parcoords"
           }
          ],
          "pie": [
           {
            "automargin": true,
            "type": "pie"
           }
          ],
          "scatter": [
           {
            "fillpattern": {
             "fillmode": "overlay",
             "size": 10,
             "solidity": 0.2
            },
            "type": "scatter"
           }
          ],
          "scatter3d": [
           {
            "line": {
             "colorbar": {
              "outlinewidth": 0,
              "ticks": ""
             }
            },
            "marker": {
             "colorbar": {
              "outlinewidth": 0,
              "ticks": ""
             }
            },
            "type": "scatter3d"
           }
          ],
          "scattercarpet": [
           {
            "marker": {
             "colorbar": {
              "outlinewidth": 0,
              "ticks": ""
             }
            },
            "type": "scattercarpet"
           }
          ],
          "scattergeo": [
           {
            "marker": {
             "colorbar": {
              "outlinewidth": 0,
              "ticks": ""
             }
            },
            "type": "scattergeo"
           }
          ],
          "scattergl": [
           {
            "marker": {
             "colorbar": {
              "outlinewidth": 0,
              "ticks": ""
             }
            },
            "type": "scattergl"
           }
          ],
          "scattermap": [
           {
            "marker": {
             "colorbar": {
              "outlinewidth": 0,
              "ticks": ""
             }
            },
            "type": "scattermap"
           }
          ],
          "scattermapbox": [
           {
            "marker": {
             "colorbar": {
              "outlinewidth": 0,
              "ticks": ""
             }
            },
            "type": "scattermapbox"
           }
          ],
          "scatterpolar": [
           {
            "marker": {
             "colorbar": {
              "outlinewidth": 0,
              "ticks": ""
             }
            },
            "type": "scatterpolar"
           }
          ],
          "scatterpolargl": [
           {
            "marker": {
             "colorbar": {
              "outlinewidth": 0,
              "ticks": ""
             }
            },
            "type": "scatterpolargl"
           }
          ],
          "scatterternary": [
           {
            "marker": {
             "colorbar": {
              "outlinewidth": 0,
              "ticks": ""
             }
            },
            "type": "scatterternary"
           }
          ],
          "surface": [
           {
            "colorbar": {
             "outlinewidth": 0,
             "ticks": ""
            },
            "colorscale": [
             [
              0,
              "#0d0887"
             ],
             [
              0.1111111111111111,
              "#46039f"
             ],
             [
              0.2222222222222222,
              "#7201a8"
             ],
             [
              0.3333333333333333,
              "#9c179e"
             ],
             [
              0.4444444444444444,
              "#bd3786"
             ],
             [
              0.5555555555555556,
              "#d8576b"
             ],
             [
              0.6666666666666666,
              "#ed7953"
             ],
             [
              0.7777777777777778,
              "#fb9f3a"
             ],
             [
              0.8888888888888888,
              "#fdca26"
             ],
             [
              1,
              "#f0f921"
             ]
            ],
            "type": "surface"
           }
          ],
          "table": [
           {
            "cells": {
             "fill": {
              "color": "#EBF0F8"
             },
             "line": {
              "color": "white"
             }
            },
            "header": {
             "fill": {
              "color": "#C8D4E3"
             },
             "line": {
              "color": "white"
             }
            },
            "type": "table"
           }
          ]
         },
         "layout": {
          "annotationdefaults": {
           "arrowcolor": "#2a3f5f",
           "arrowhead": 0,
           "arrowwidth": 1
          },
          "autotypenumbers": "strict",
          "coloraxis": {
           "colorbar": {
            "outlinewidth": 0,
            "ticks": ""
           }
          },
          "colorscale": {
           "diverging": [
            [
             0,
             "#8e0152"
            ],
            [
             0.1,
             "#c51b7d"
            ],
            [
             0.2,
             "#de77ae"
            ],
            [
             0.3,
             "#f1b6da"
            ],
            [
             0.4,
             "#fde0ef"
            ],
            [
             0.5,
             "#f7f7f7"
            ],
            [
             0.6,
             "#e6f5d0"
            ],
            [
             0.7,
             "#b8e186"
            ],
            [
             0.8,
             "#7fbc41"
            ],
            [
             0.9,
             "#4d9221"
            ],
            [
             1,
             "#276419"
            ]
           ],
           "sequential": [
            [
             0,
             "#0d0887"
            ],
            [
             0.1111111111111111,
             "#46039f"
            ],
            [
             0.2222222222222222,
             "#7201a8"
            ],
            [
             0.3333333333333333,
             "#9c179e"
            ],
            [
             0.4444444444444444,
             "#bd3786"
            ],
            [
             0.5555555555555556,
             "#d8576b"
            ],
            [
             0.6666666666666666,
             "#ed7953"
            ],
            [
             0.7777777777777778,
             "#fb9f3a"
            ],
            [
             0.8888888888888888,
             "#fdca26"
            ],
            [
             1,
             "#f0f921"
            ]
           ],
           "sequentialminus": [
            [
             0,
             "#0d0887"
            ],
            [
             0.1111111111111111,
             "#46039f"
            ],
            [
             0.2222222222222222,
             "#7201a8"
            ],
            [
             0.3333333333333333,
             "#9c179e"
            ],
            [
             0.4444444444444444,
             "#bd3786"
            ],
            [
             0.5555555555555556,
             "#d8576b"
            ],
            [
             0.6666666666666666,
             "#ed7953"
            ],
            [
             0.7777777777777778,
             "#fb9f3a"
            ],
            [
             0.8888888888888888,
             "#fdca26"
            ],
            [
             1,
             "#f0f921"
            ]
           ]
          },
          "colorway": [
           "#636efa",
           "#EF553B",
           "#00cc96",
           "#ab63fa",
           "#FFA15A",
           "#19d3f3",
           "#FF6692",
           "#B6E880",
           "#FF97FF",
           "#FECB52"
          ],
          "font": {
           "color": "#2a3f5f"
          },
          "geo": {
           "bgcolor": "white",
           "lakecolor": "white",
           "landcolor": "white",
           "showlakes": true,
           "showland": true,
           "subunitcolor": "#C8D4E3"
          },
          "hoverlabel": {
           "align": "left"
          },
          "hovermode": "closest",
          "mapbox": {
           "style": "light"
          },
          "paper_bgcolor": "white",
          "plot_bgcolor": "white",
          "polar": {
           "angularaxis": {
            "gridcolor": "#EBF0F8",
            "linecolor": "#EBF0F8",
            "ticks": ""
           },
           "bgcolor": "white",
           "radialaxis": {
            "gridcolor": "#EBF0F8",
            "linecolor": "#EBF0F8",
            "ticks": ""
           }
          },
          "scene": {
           "xaxis": {
            "backgroundcolor": "white",
            "gridcolor": "#DFE8F3",
            "gridwidth": 2,
            "linecolor": "#EBF0F8",
            "showbackground": true,
            "ticks": "",
            "zerolinecolor": "#EBF0F8"
           },
           "yaxis": {
            "backgroundcolor": "white",
            "gridcolor": "#DFE8F3",
            "gridwidth": 2,
            "linecolor": "#EBF0F8",
            "showbackground": true,
            "ticks": "",
            "zerolinecolor": "#EBF0F8"
           },
           "zaxis": {
            "backgroundcolor": "white",
            "gridcolor": "#DFE8F3",
            "gridwidth": 2,
            "linecolor": "#EBF0F8",
            "showbackground": true,
            "ticks": "",
            "zerolinecolor": "#EBF0F8"
           }
          },
          "shapedefaults": {
           "line": {
            "color": "#2a3f5f"
           }
          },
          "ternary": {
           "aaxis": {
            "gridcolor": "#DFE8F3",
            "linecolor": "#A2B1C6",
            "ticks": ""
           },
           "baxis": {
            "gridcolor": "#DFE8F3",
            "linecolor": "#A2B1C6",
            "ticks": ""
           },
           "bgcolor": "white",
           "caxis": {
            "gridcolor": "#DFE8F3",
            "linecolor": "#A2B1C6",
            "ticks": ""
           }
          },
          "title": {
           "x": 0.05
          },
          "xaxis": {
           "automargin": true,
           "gridcolor": "#EBF0F8",
           "linecolor": "#EBF0F8",
           "ticks": "",
           "title": {
            "standoff": 15
           },
           "zerolinecolor": "#EBF0F8",
           "zerolinewidth": 2
          },
          "yaxis": {
           "automargin": true,
           "gridcolor": "#EBF0F8",
           "linecolor": "#EBF0F8",
           "ticks": "",
           "title": {
            "standoff": 15
           },
           "zerolinecolor": "#EBF0F8",
           "zerolinewidth": 2
          }
         }
        },
        "title": {
         "text": "Race Distribution"
        },
        "width": 600,
        "xaxis": {
         "anchor": "y",
         "domain": [
          0,
          1
         ],
         "tickangle": 45,
         "title": {
          "text": "Race"
         }
        },
        "yaxis": {
         "anchor": "x",
         "domain": [
          0,
          1
         ],
         "title": {
          "text": "Count"
         }
        }
       }
      }
     },
     "metadata": {},
     "output_type": "display_data"
    },
    {
     "data": {
      "text/html": [
       "<div>\n",
       "<style scoped>\n",
       "    .dataframe tbody tr th:only-of-type {\n",
       "        vertical-align: middle;\n",
       "    }\n",
       "\n",
       "    .dataframe tbody tr th {\n",
       "        vertical-align: top;\n",
       "    }\n",
       "\n",
       "    .dataframe thead th {\n",
       "        text-align: right;\n",
       "    }\n",
       "</style>\n",
       "<table border=\"1\" class=\"dataframe\">\n",
       "  <thead>\n",
       "    <tr style=\"text-align: right;\">\n",
       "      <th></th>\n",
       "      <th>Race</th>\n",
       "      <th>Count</th>\n",
       "    </tr>\n",
       "  </thead>\n",
       "  <tbody>\n",
       "    <tr>\n",
       "      <th>0</th>\n",
       "      <td>1</td>\n",
       "      <td>3309</td>\n",
       "    </tr>\n",
       "    <tr>\n",
       "      <th>1</th>\n",
       "      <td>2</td>\n",
       "      <td>1415</td>\n",
       "    </tr>\n",
       "    <tr>\n",
       "      <th>2</th>\n",
       "      <td>3</td>\n",
       "      <td>166</td>\n",
       "    </tr>\n",
       "    <tr>\n",
       "      <th>3</th>\n",
       "      <td>4</td>\n",
       "      <td>158</td>\n",
       "    </tr>\n",
       "    <tr>\n",
       "      <th>4</th>\n",
       "      <td>6</td>\n",
       "      <td>90</td>\n",
       "    </tr>\n",
       "    <tr>\n",
       "      <th>5</th>\n",
       "      <td>0</td>\n",
       "      <td>39</td>\n",
       "    </tr>\n",
       "    <tr>\n",
       "      <th>6</th>\n",
       "      <td>5</td>\n",
       "      <td>6</td>\n",
       "    </tr>\n",
       "  </tbody>\n",
       "</table>\n",
       "</div>"
      ],
      "text/plain": [
       "   Race  Count\n",
       "0     1   3309\n",
       "1     2   1415\n",
       "2     3    166\n",
       "3     4    158\n",
       "4     6     90\n",
       "5     0     39\n",
       "6     5      6"
      ]
     },
     "execution_count": 190,
     "metadata": {},
     "output_type": "execute_result"
    }
   ],
   "source": [
    "# --- Race Distribution ---\n",
    "\n",
    "race_df = df['race'].value_counts().reset_index(name='Count')\n",
    "race_df.columns = ['Race', 'Count']\n",
    "\n",
    "fig_race = px.bar(\n",
    "    race_df,\n",
    "    x='Race',\n",
    "    y='Count',\n",
    "    title='Race Distribution',\n",
    "    text='Count'\n",
    ")\n",
    "\n",
    "fig_race.update_layout(\n",
    "    template='plotly_white',\n",
    "    xaxis_tickangle=45,\n",
    "    height=500,\n",
    "    width=600\n",
    ")\n",
    "\n",
    "fig_race.show()\n",
    "\n",
    "race_df\n"
   ]
  },
  {
   "cell_type": "code",
   "execution_count": 191,
   "id": "2a196e36",
   "metadata": {},
   "outputs": [
    {
     "data": {
      "text/plain": [
       "hispanic\n",
       "0    5017\n",
       "3     105\n",
       "1      49\n",
       "2      11\n",
       "4       1\n",
       "Name: count, dtype: int64"
      ]
     },
     "execution_count": 191,
     "metadata": {},
     "output_type": "execute_result"
    }
   ],
   "source": [
    "df['hispanic'].value_counts()"
   ]
  },
  {
   "cell_type": "code",
   "execution_count": 192,
   "id": "da4e657a",
   "metadata": {},
   "outputs": [
    {
     "data": {
      "application/vnd.plotly.v1+json": {
       "config": {
        "plotlyServerURL": "https://plot.ly"
       },
       "data": [
        {
         "domain": {
          "x": [
           0,
           1
          ],
          "y": [
           0,
           1
          ]
         },
         "hole": 0.4,
         "hovertemplate": "label=%{label}<br>value=%{value}<extra></extra>",
         "labels": [
          "Non-Hispanic",
          "Hispanic"
         ],
         "legendgroup": "",
         "name": "",
         "showlegend": true,
         "textinfo": "percent+label",
         "type": "pie",
         "values": {
          "bdata": "mRMxAA==",
          "dtype": "i2"
         }
        }
       ],
       "layout": {
        "legend": {
         "tracegroupgap": 0
        },
        "template": {
         "data": {
          "bar": [
           {
            "error_x": {
             "color": "#2a3f5f"
            },
            "error_y": {
             "color": "#2a3f5f"
            },
            "marker": {
             "line": {
              "color": "white",
              "width": 0.5
             },
             "pattern": {
              "fillmode": "overlay",
              "size": 10,
              "solidity": 0.2
             }
            },
            "type": "bar"
           }
          ],
          "barpolar": [
           {
            "marker": {
             "line": {
              "color": "white",
              "width": 0.5
             },
             "pattern": {
              "fillmode": "overlay",
              "size": 10,
              "solidity": 0.2
             }
            },
            "type": "barpolar"
           }
          ],
          "carpet": [
           {
            "aaxis": {
             "endlinecolor": "#2a3f5f",
             "gridcolor": "#C8D4E3",
             "linecolor": "#C8D4E3",
             "minorgridcolor": "#C8D4E3",
             "startlinecolor": "#2a3f5f"
            },
            "baxis": {
             "endlinecolor": "#2a3f5f",
             "gridcolor": "#C8D4E3",
             "linecolor": "#C8D4E3",
             "minorgridcolor": "#C8D4E3",
             "startlinecolor": "#2a3f5f"
            },
            "type": "carpet"
           }
          ],
          "choropleth": [
           {
            "colorbar": {
             "outlinewidth": 0,
             "ticks": ""
            },
            "type": "choropleth"
           }
          ],
          "contour": [
           {
            "colorbar": {
             "outlinewidth": 0,
             "ticks": ""
            },
            "colorscale": [
             [
              0,
              "#0d0887"
             ],
             [
              0.1111111111111111,
              "#46039f"
             ],
             [
              0.2222222222222222,
              "#7201a8"
             ],
             [
              0.3333333333333333,
              "#9c179e"
             ],
             [
              0.4444444444444444,
              "#bd3786"
             ],
             [
              0.5555555555555556,
              "#d8576b"
             ],
             [
              0.6666666666666666,
              "#ed7953"
             ],
             [
              0.7777777777777778,
              "#fb9f3a"
             ],
             [
              0.8888888888888888,
              "#fdca26"
             ],
             [
              1,
              "#f0f921"
             ]
            ],
            "type": "contour"
           }
          ],
          "contourcarpet": [
           {
            "colorbar": {
             "outlinewidth": 0,
             "ticks": ""
            },
            "type": "contourcarpet"
           }
          ],
          "heatmap": [
           {
            "colorbar": {
             "outlinewidth": 0,
             "ticks": ""
            },
            "colorscale": [
             [
              0,
              "#0d0887"
             ],
             [
              0.1111111111111111,
              "#46039f"
             ],
             [
              0.2222222222222222,
              "#7201a8"
             ],
             [
              0.3333333333333333,
              "#9c179e"
             ],
             [
              0.4444444444444444,
              "#bd3786"
             ],
             [
              0.5555555555555556,
              "#d8576b"
             ],
             [
              0.6666666666666666,
              "#ed7953"
             ],
             [
              0.7777777777777778,
              "#fb9f3a"
             ],
             [
              0.8888888888888888,
              "#fdca26"
             ],
             [
              1,
              "#f0f921"
             ]
            ],
            "type": "heatmap"
           }
          ],
          "histogram": [
           {
            "marker": {
             "pattern": {
              "fillmode": "overlay",
              "size": 10,
              "solidity": 0.2
             }
            },
            "type": "histogram"
           }
          ],
          "histogram2d": [
           {
            "colorbar": {
             "outlinewidth": 0,
             "ticks": ""
            },
            "colorscale": [
             [
              0,
              "#0d0887"
             ],
             [
              0.1111111111111111,
              "#46039f"
             ],
             [
              0.2222222222222222,
              "#7201a8"
             ],
             [
              0.3333333333333333,
              "#9c179e"
             ],
             [
              0.4444444444444444,
              "#bd3786"
             ],
             [
              0.5555555555555556,
              "#d8576b"
             ],
             [
              0.6666666666666666,
              "#ed7953"
             ],
             [
              0.7777777777777778,
              "#fb9f3a"
             ],
             [
              0.8888888888888888,
              "#fdca26"
             ],
             [
              1,
              "#f0f921"
             ]
            ],
            "type": "histogram2d"
           }
          ],
          "histogram2dcontour": [
           {
            "colorbar": {
             "outlinewidth": 0,
             "ticks": ""
            },
            "colorscale": [
             [
              0,
              "#0d0887"
             ],
             [
              0.1111111111111111,
              "#46039f"
             ],
             [
              0.2222222222222222,
              "#7201a8"
             ],
             [
              0.3333333333333333,
              "#9c179e"
             ],
             [
              0.4444444444444444,
              "#bd3786"
             ],
             [
              0.5555555555555556,
              "#d8576b"
             ],
             [
              0.6666666666666666,
              "#ed7953"
             ],
             [
              0.7777777777777778,
              "#fb9f3a"
             ],
             [
              0.8888888888888888,
              "#fdca26"
             ],
             [
              1,
              "#f0f921"
             ]
            ],
            "type": "histogram2dcontour"
           }
          ],
          "mesh3d": [
           {
            "colorbar": {
             "outlinewidth": 0,
             "ticks": ""
            },
            "type": "mesh3d"
           }
          ],
          "parcoords": [
           {
            "line": {
             "colorbar": {
              "outlinewidth": 0,
              "ticks": ""
             }
            },
            "type": "parcoords"
           }
          ],
          "pie": [
           {
            "automargin": true,
            "type": "pie"
           }
          ],
          "scatter": [
           {
            "fillpattern": {
             "fillmode": "overlay",
             "size": 10,
             "solidity": 0.2
            },
            "type": "scatter"
           }
          ],
          "scatter3d": [
           {
            "line": {
             "colorbar": {
              "outlinewidth": 0,
              "ticks": ""
             }
            },
            "marker": {
             "colorbar": {
              "outlinewidth": 0,
              "ticks": ""
             }
            },
            "type": "scatter3d"
           }
          ],
          "scattercarpet": [
           {
            "marker": {
             "colorbar": {
              "outlinewidth": 0,
              "ticks": ""
             }
            },
            "type": "scattercarpet"
           }
          ],
          "scattergeo": [
           {
            "marker": {
             "colorbar": {
              "outlinewidth": 0,
              "ticks": ""
             }
            },
            "type": "scattergeo"
           }
          ],
          "scattergl": [
           {
            "marker": {
             "colorbar": {
              "outlinewidth": 0,
              "ticks": ""
             }
            },
            "type": "scattergl"
           }
          ],
          "scattermap": [
           {
            "marker": {
             "colorbar": {
              "outlinewidth": 0,
              "ticks": ""
             }
            },
            "type": "scattermap"
           }
          ],
          "scattermapbox": [
           {
            "marker": {
             "colorbar": {
              "outlinewidth": 0,
              "ticks": ""
             }
            },
            "type": "scattermapbox"
           }
          ],
          "scatterpolar": [
           {
            "marker": {
             "colorbar": {
              "outlinewidth": 0,
              "ticks": ""
             }
            },
            "type": "scatterpolar"
           }
          ],
          "scatterpolargl": [
           {
            "marker": {
             "colorbar": {
              "outlinewidth": 0,
              "ticks": ""
             }
            },
            "type": "scatterpolargl"
           }
          ],
          "scatterternary": [
           {
            "marker": {
             "colorbar": {
              "outlinewidth": 0,
              "ticks": ""
             }
            },
            "type": "scatterternary"
           }
          ],
          "surface": [
           {
            "colorbar": {
             "outlinewidth": 0,
             "ticks": ""
            },
            "colorscale": [
             [
              0,
              "#0d0887"
             ],
             [
              0.1111111111111111,
              "#46039f"
             ],
             [
              0.2222222222222222,
              "#7201a8"
             ],
             [
              0.3333333333333333,
              "#9c179e"
             ],
             [
              0.4444444444444444,
              "#bd3786"
             ],
             [
              0.5555555555555556,
              "#d8576b"
             ],
             [
              0.6666666666666666,
              "#ed7953"
             ],
             [
              0.7777777777777778,
              "#fb9f3a"
             ],
             [
              0.8888888888888888,
              "#fdca26"
             ],
             [
              1,
              "#f0f921"
             ]
            ],
            "type": "surface"
           }
          ],
          "table": [
           {
            "cells": {
             "fill": {
              "color": "#EBF0F8"
             },
             "line": {
              "color": "white"
             }
            },
            "header": {
             "fill": {
              "color": "#C8D4E3"
             },
             "line": {
              "color": "white"
             }
            },
            "type": "table"
           }
          ]
         },
         "layout": {
          "annotationdefaults": {
           "arrowcolor": "#2a3f5f",
           "arrowhead": 0,
           "arrowwidth": 1
          },
          "autotypenumbers": "strict",
          "coloraxis": {
           "colorbar": {
            "outlinewidth": 0,
            "ticks": ""
           }
          },
          "colorscale": {
           "diverging": [
            [
             0,
             "#8e0152"
            ],
            [
             0.1,
             "#c51b7d"
            ],
            [
             0.2,
             "#de77ae"
            ],
            [
             0.3,
             "#f1b6da"
            ],
            [
             0.4,
             "#fde0ef"
            ],
            [
             0.5,
             "#f7f7f7"
            ],
            [
             0.6,
             "#e6f5d0"
            ],
            [
             0.7,
             "#b8e186"
            ],
            [
             0.8,
             "#7fbc41"
            ],
            [
             0.9,
             "#4d9221"
            ],
            [
             1,
             "#276419"
            ]
           ],
           "sequential": [
            [
             0,
             "#0d0887"
            ],
            [
             0.1111111111111111,
             "#46039f"
            ],
            [
             0.2222222222222222,
             "#7201a8"
            ],
            [
             0.3333333333333333,
             "#9c179e"
            ],
            [
             0.4444444444444444,
             "#bd3786"
            ],
            [
             0.5555555555555556,
             "#d8576b"
            ],
            [
             0.6666666666666666,
             "#ed7953"
            ],
            [
             0.7777777777777778,
             "#fb9f3a"
            ],
            [
             0.8888888888888888,
             "#fdca26"
            ],
            [
             1,
             "#f0f921"
            ]
           ],
           "sequentialminus": [
            [
             0,
             "#0d0887"
            ],
            [
             0.1111111111111111,
             "#46039f"
            ],
            [
             0.2222222222222222,
             "#7201a8"
            ],
            [
             0.3333333333333333,
             "#9c179e"
            ],
            [
             0.4444444444444444,
             "#bd3786"
            ],
            [
             0.5555555555555556,
             "#d8576b"
            ],
            [
             0.6666666666666666,
             "#ed7953"
            ],
            [
             0.7777777777777778,
             "#fb9f3a"
            ],
            [
             0.8888888888888888,
             "#fdca26"
            ],
            [
             1,
             "#f0f921"
            ]
           ]
          },
          "colorway": [
           "#636efa",
           "#EF553B",
           "#00cc96",
           "#ab63fa",
           "#FFA15A",
           "#19d3f3",
           "#FF6692",
           "#B6E880",
           "#FF97FF",
           "#FECB52"
          ],
          "font": {
           "color": "#2a3f5f"
          },
          "geo": {
           "bgcolor": "white",
           "lakecolor": "white",
           "landcolor": "white",
           "showlakes": true,
           "showland": true,
           "subunitcolor": "#C8D4E3"
          },
          "hoverlabel": {
           "align": "left"
          },
          "hovermode": "closest",
          "mapbox": {
           "style": "light"
          },
          "paper_bgcolor": "white",
          "plot_bgcolor": "white",
          "polar": {
           "angularaxis": {
            "gridcolor": "#EBF0F8",
            "linecolor": "#EBF0F8",
            "ticks": ""
           },
           "bgcolor": "white",
           "radialaxis": {
            "gridcolor": "#EBF0F8",
            "linecolor": "#EBF0F8",
            "ticks": ""
           }
          },
          "scene": {
           "xaxis": {
            "backgroundcolor": "white",
            "gridcolor": "#DFE8F3",
            "gridwidth": 2,
            "linecolor": "#EBF0F8",
            "showbackground": true,
            "ticks": "",
            "zerolinecolor": "#EBF0F8"
           },
           "yaxis": {
            "backgroundcolor": "white",
            "gridcolor": "#DFE8F3",
            "gridwidth": 2,
            "linecolor": "#EBF0F8",
            "showbackground": true,
            "ticks": "",
            "zerolinecolor": "#EBF0F8"
           },
           "zaxis": {
            "backgroundcolor": "white",
            "gridcolor": "#DFE8F3",
            "gridwidth": 2,
            "linecolor": "#EBF0F8",
            "showbackground": true,
            "ticks": "",
            "zerolinecolor": "#EBF0F8"
           }
          },
          "shapedefaults": {
           "line": {
            "color": "#2a3f5f"
           }
          },
          "ternary": {
           "aaxis": {
            "gridcolor": "#DFE8F3",
            "linecolor": "#A2B1C6",
            "ticks": ""
           },
           "baxis": {
            "gridcolor": "#DFE8F3",
            "linecolor": "#A2B1C6",
            "ticks": ""
           },
           "bgcolor": "white",
           "caxis": {
            "gridcolor": "#DFE8F3",
            "linecolor": "#A2B1C6",
            "ticks": ""
           }
          },
          "title": {
           "x": 0.05
          },
          "xaxis": {
           "automargin": true,
           "gridcolor": "#EBF0F8",
           "linecolor": "#EBF0F8",
           "ticks": "",
           "title": {
            "standoff": 15
           },
           "zerolinecolor": "#EBF0F8",
           "zerolinewidth": 2
          },
          "yaxis": {
           "automargin": true,
           "gridcolor": "#EBF0F8",
           "linecolor": "#EBF0F8",
           "ticks": "",
           "title": {
            "standoff": 15
           },
           "zerolinecolor": "#EBF0F8",
           "zerolinewidth": 2
          }
         }
        },
        "title": {
         "text": "Hispanic Ethnicity Distribution"
        },
        "width": 500
       }
      }
     },
     "metadata": {},
     "output_type": "display_data"
    }
   ],
   "source": [
    "# --- Hispanic Ethnicity Distribution ---\n",
    "df['hispanic_x'] = df['hispanic'].replace({9: np.nan})\n",
    "\n",
    "hisp_map = {0: 'Non-Hispanic', 1: 'Hispanic'}\n",
    "\n",
    "fig_hisp = px.pie(\n",
    "    df['hispanic_x'].map(hisp_map).value_counts(),\n",
    "    names=df['hispanic_x'].map(hisp_map).value_counts().index,\n",
    "    values=df['hispanic_x'].map(hisp_map).value_counts().values,\n",
    "    title='Hispanic Ethnicity Distribution',\n",
    "    hole=0.4 ,\n",
    "    width=500\n",
    ")\n",
    "fig_hisp.update_traces(textinfo='percent+label')\n",
    "fig_hisp.update_layout(template='plotly_white')\n",
    "fig_hisp.show()\n",
    "\n"
   ]
  },
  {
   "cell_type": "code",
   "execution_count": 193,
   "id": "6c29709d",
   "metadata": {},
   "outputs": [
    {
     "data": {
      "text/plain": [
       "marital_status\n",
       "1.0    2872\n",
       "0.0    2311\n",
       "Name: count, dtype: int64"
      ]
     },
     "execution_count": 193,
     "metadata": {},
     "output_type": "execute_result"
    }
   ],
   "source": [
    "df['marital_status'].value_counts()"
   ]
  },
  {
   "cell_type": "code",
   "execution_count": 194,
   "id": "39b39060",
   "metadata": {},
   "outputs": [
    {
     "data": {
      "text/html": [
       "<div>\n",
       "<style scoped>\n",
       "    .dataframe tbody tr th:only-of-type {\n",
       "        vertical-align: middle;\n",
       "    }\n",
       "\n",
       "    .dataframe tbody tr th {\n",
       "        vertical-align: top;\n",
       "    }\n",
       "\n",
       "    .dataframe thead th {\n",
       "        text-align: right;\n",
       "    }\n",
       "</style>\n",
       "<table border=\"1\" class=\"dataframe\">\n",
       "  <thead>\n",
       "    <tr style=\"text-align: right;\">\n",
       "      <th></th>\n",
       "      <th>Race</th>\n",
       "      <th>Count</th>\n",
       "    </tr>\n",
       "  </thead>\n",
       "  <tbody>\n",
       "    <tr>\n",
       "      <th>0</th>\n",
       "      <td>1</td>\n",
       "      <td>3309</td>\n",
       "    </tr>\n",
       "    <tr>\n",
       "      <th>1</th>\n",
       "      <td>2</td>\n",
       "      <td>1415</td>\n",
       "    </tr>\n",
       "    <tr>\n",
       "      <th>2</th>\n",
       "      <td>3</td>\n",
       "      <td>166</td>\n",
       "    </tr>\n",
       "    <tr>\n",
       "      <th>3</th>\n",
       "      <td>4</td>\n",
       "      <td>158</td>\n",
       "    </tr>\n",
       "    <tr>\n",
       "      <th>4</th>\n",
       "      <td>6</td>\n",
       "      <td>90</td>\n",
       "    </tr>\n",
       "    <tr>\n",
       "      <th>5</th>\n",
       "      <td>0</td>\n",
       "      <td>39</td>\n",
       "    </tr>\n",
       "    <tr>\n",
       "      <th>6</th>\n",
       "      <td>5</td>\n",
       "      <td>6</td>\n",
       "    </tr>\n",
       "  </tbody>\n",
       "</table>\n",
       "</div>"
      ],
      "text/plain": [
       "   Race  Count\n",
       "0     1   3309\n",
       "1     2   1415\n",
       "2     3    166\n",
       "3     4    158\n",
       "4     6     90\n",
       "5     0     39\n",
       "6     5      6"
      ]
     },
     "execution_count": 194,
     "metadata": {},
     "output_type": "execute_result"
    }
   ],
   "source": [
    "race_df"
   ]
  },
  {
   "cell_type": "markdown",
   "id": "a8f273e8",
   "metadata": {},
   "source": []
  },
  {
   "cell_type": "code",
   "execution_count": 195,
   "id": "55ecfad2",
   "metadata": {},
   "outputs": [
    {
     "data": {
      "application/vnd.plotly.v1+json": {
       "config": {
        "plotlyServerURL": "https://plot.ly"
       },
       "data": [
        {
         "hovertemplate": "Income Quartile=%{x}<br>Count=%{text}<extra></extra>",
         "legendgroup": "",
         "marker": {
          "color": "#636efa",
          "pattern": {
           "shape": ""
          }
         },
         "name": "",
         "orientation": "v",
         "showlegend": false,
         "text": {
          "bdata": "AAAAAADAUEAAAAAAAJCBQAAAAAAAKINAAAAAAACIl0AAAAAAAAajQA==",
          "dtype": "f8"
         },
         "textposition": "auto",
         "type": "bar",
         "x": {
          "bdata": "AAECAwQ=",
          "dtype": "i1"
         },
         "xaxis": "x",
         "y": {
          "bdata": "QwAyAmUC4gWDCQ==",
          "dtype": "i2"
         },
         "yaxis": "y"
        }
       ],
       "layout": {
        "barmode": "relative",
        "height": 500,
        "legend": {
         "tracegroupgap": 0
        },
        "template": {
         "data": {
          "bar": [
           {
            "error_x": {
             "color": "#2a3f5f"
            },
            "error_y": {
             "color": "#2a3f5f"
            },
            "marker": {
             "line": {
              "color": "white",
              "width": 0.5
             },
             "pattern": {
              "fillmode": "overlay",
              "size": 10,
              "solidity": 0.2
             }
            },
            "type": "bar"
           }
          ],
          "barpolar": [
           {
            "marker": {
             "line": {
              "color": "white",
              "width": 0.5
             },
             "pattern": {
              "fillmode": "overlay",
              "size": 10,
              "solidity": 0.2
             }
            },
            "type": "barpolar"
           }
          ],
          "carpet": [
           {
            "aaxis": {
             "endlinecolor": "#2a3f5f",
             "gridcolor": "#C8D4E3",
             "linecolor": "#C8D4E3",
             "minorgridcolor": "#C8D4E3",
             "startlinecolor": "#2a3f5f"
            },
            "baxis": {
             "endlinecolor": "#2a3f5f",
             "gridcolor": "#C8D4E3",
             "linecolor": "#C8D4E3",
             "minorgridcolor": "#C8D4E3",
             "startlinecolor": "#2a3f5f"
            },
            "type": "carpet"
           }
          ],
          "choropleth": [
           {
            "colorbar": {
             "outlinewidth": 0,
             "ticks": ""
            },
            "type": "choropleth"
           }
          ],
          "contour": [
           {
            "colorbar": {
             "outlinewidth": 0,
             "ticks": ""
            },
            "colorscale": [
             [
              0,
              "#0d0887"
             ],
             [
              0.1111111111111111,
              "#46039f"
             ],
             [
              0.2222222222222222,
              "#7201a8"
             ],
             [
              0.3333333333333333,
              "#9c179e"
             ],
             [
              0.4444444444444444,
              "#bd3786"
             ],
             [
              0.5555555555555556,
              "#d8576b"
             ],
             [
              0.6666666666666666,
              "#ed7953"
             ],
             [
              0.7777777777777778,
              "#fb9f3a"
             ],
             [
              0.8888888888888888,
              "#fdca26"
             ],
             [
              1,
              "#f0f921"
             ]
            ],
            "type": "contour"
           }
          ],
          "contourcarpet": [
           {
            "colorbar": {
             "outlinewidth": 0,
             "ticks": ""
            },
            "type": "contourcarpet"
           }
          ],
          "heatmap": [
           {
            "colorbar": {
             "outlinewidth": 0,
             "ticks": ""
            },
            "colorscale": [
             [
              0,
              "#0d0887"
             ],
             [
              0.1111111111111111,
              "#46039f"
             ],
             [
              0.2222222222222222,
              "#7201a8"
             ],
             [
              0.3333333333333333,
              "#9c179e"
             ],
             [
              0.4444444444444444,
              "#bd3786"
             ],
             [
              0.5555555555555556,
              "#d8576b"
             ],
             [
              0.6666666666666666,
              "#ed7953"
             ],
             [
              0.7777777777777778,
              "#fb9f3a"
             ],
             [
              0.8888888888888888,
              "#fdca26"
             ],
             [
              1,
              "#f0f921"
             ]
            ],
            "type": "heatmap"
           }
          ],
          "histogram": [
           {
            "marker": {
             "pattern": {
              "fillmode": "overlay",
              "size": 10,
              "solidity": 0.2
             }
            },
            "type": "histogram"
           }
          ],
          "histogram2d": [
           {
            "colorbar": {
             "outlinewidth": 0,
             "ticks": ""
            },
            "colorscale": [
             [
              0,
              "#0d0887"
             ],
             [
              0.1111111111111111,
              "#46039f"
             ],
             [
              0.2222222222222222,
              "#7201a8"
             ],
             [
              0.3333333333333333,
              "#9c179e"
             ],
             [
              0.4444444444444444,
              "#bd3786"
             ],
             [
              0.5555555555555556,
              "#d8576b"
             ],
             [
              0.6666666666666666,
              "#ed7953"
             ],
             [
              0.7777777777777778,
              "#fb9f3a"
             ],
             [
              0.8888888888888888,
              "#fdca26"
             ],
             [
              1,
              "#f0f921"
             ]
            ],
            "type": "histogram2d"
           }
          ],
          "histogram2dcontour": [
           {
            "colorbar": {
             "outlinewidth": 0,
             "ticks": ""
            },
            "colorscale": [
             [
              0,
              "#0d0887"
             ],
             [
              0.1111111111111111,
              "#46039f"
             ],
             [
              0.2222222222222222,
              "#7201a8"
             ],
             [
              0.3333333333333333,
              "#9c179e"
             ],
             [
              0.4444444444444444,
              "#bd3786"
             ],
             [
              0.5555555555555556,
              "#d8576b"
             ],
             [
              0.6666666666666666,
              "#ed7953"
             ],
             [
              0.7777777777777778,
              "#fb9f3a"
             ],
             [
              0.8888888888888888,
              "#fdca26"
             ],
             [
              1,
              "#f0f921"
             ]
            ],
            "type": "histogram2dcontour"
           }
          ],
          "mesh3d": [
           {
            "colorbar": {
             "outlinewidth": 0,
             "ticks": ""
            },
            "type": "mesh3d"
           }
          ],
          "parcoords": [
           {
            "line": {
             "colorbar": {
              "outlinewidth": 0,
              "ticks": ""
             }
            },
            "type": "parcoords"
           }
          ],
          "pie": [
           {
            "automargin": true,
            "type": "pie"
           }
          ],
          "scatter": [
           {
            "fillpattern": {
             "fillmode": "overlay",
             "size": 10,
             "solidity": 0.2
            },
            "type": "scatter"
           }
          ],
          "scatter3d": [
           {
            "line": {
             "colorbar": {
              "outlinewidth": 0,
              "ticks": ""
             }
            },
            "marker": {
             "colorbar": {
              "outlinewidth": 0,
              "ticks": ""
             }
            },
            "type": "scatter3d"
           }
          ],
          "scattercarpet": [
           {
            "marker": {
             "colorbar": {
              "outlinewidth": 0,
              "ticks": ""
             }
            },
            "type": "scattercarpet"
           }
          ],
          "scattergeo": [
           {
            "marker": {
             "colorbar": {
              "outlinewidth": 0,
              "ticks": ""
             }
            },
            "type": "scattergeo"
           }
          ],
          "scattergl": [
           {
            "marker": {
             "colorbar": {
              "outlinewidth": 0,
              "ticks": ""
             }
            },
            "type": "scattergl"
           }
          ],
          "scattermap": [
           {
            "marker": {
             "colorbar": {
              "outlinewidth": 0,
              "ticks": ""
             }
            },
            "type": "scattermap"
           }
          ],
          "scattermapbox": [
           {
            "marker": {
             "colorbar": {
              "outlinewidth": 0,
              "ticks": ""
             }
            },
            "type": "scattermapbox"
           }
          ],
          "scatterpolar": [
           {
            "marker": {
             "colorbar": {
              "outlinewidth": 0,
              "ticks": ""
             }
            },
            "type": "scatterpolar"
           }
          ],
          "scatterpolargl": [
           {
            "marker": {
             "colorbar": {
              "outlinewidth": 0,
              "ticks": ""
             }
            },
            "type": "scatterpolargl"
           }
          ],
          "scatterternary": [
           {
            "marker": {
             "colorbar": {
              "outlinewidth": 0,
              "ticks": ""
             }
            },
            "type": "scatterternary"
           }
          ],
          "surface": [
           {
            "colorbar": {
             "outlinewidth": 0,
             "ticks": ""
            },
            "colorscale": [
             [
              0,
              "#0d0887"
             ],
             [
              0.1111111111111111,
              "#46039f"
             ],
             [
              0.2222222222222222,
              "#7201a8"
             ],
             [
              0.3333333333333333,
              "#9c179e"
             ],
             [
              0.4444444444444444,
              "#bd3786"
             ],
             [
              0.5555555555555556,
              "#d8576b"
             ],
             [
              0.6666666666666666,
              "#ed7953"
             ],
             [
              0.7777777777777778,
              "#fb9f3a"
             ],
             [
              0.8888888888888888,
              "#fdca26"
             ],
             [
              1,
              "#f0f921"
             ]
            ],
            "type": "surface"
           }
          ],
          "table": [
           {
            "cells": {
             "fill": {
              "color": "#EBF0F8"
             },
             "line": {
              "color": "white"
             }
            },
            "header": {
             "fill": {
              "color": "#C8D4E3"
             },
             "line": {
              "color": "white"
             }
            },
            "type": "table"
           }
          ]
         },
         "layout": {
          "annotationdefaults": {
           "arrowcolor": "#2a3f5f",
           "arrowhead": 0,
           "arrowwidth": 1
          },
          "autotypenumbers": "strict",
          "coloraxis": {
           "colorbar": {
            "outlinewidth": 0,
            "ticks": ""
           }
          },
          "colorscale": {
           "diverging": [
            [
             0,
             "#8e0152"
            ],
            [
             0.1,
             "#c51b7d"
            ],
            [
             0.2,
             "#de77ae"
            ],
            [
             0.3,
             "#f1b6da"
            ],
            [
             0.4,
             "#fde0ef"
            ],
            [
             0.5,
             "#f7f7f7"
            ],
            [
             0.6,
             "#e6f5d0"
            ],
            [
             0.7,
             "#b8e186"
            ],
            [
             0.8,
             "#7fbc41"
            ],
            [
             0.9,
             "#4d9221"
            ],
            [
             1,
             "#276419"
            ]
           ],
           "sequential": [
            [
             0,
             "#0d0887"
            ],
            [
             0.1111111111111111,
             "#46039f"
            ],
            [
             0.2222222222222222,
             "#7201a8"
            ],
            [
             0.3333333333333333,
             "#9c179e"
            ],
            [
             0.4444444444444444,
             "#bd3786"
            ],
            [
             0.5555555555555556,
             "#d8576b"
            ],
            [
             0.6666666666666666,
             "#ed7953"
            ],
            [
             0.7777777777777778,
             "#fb9f3a"
            ],
            [
             0.8888888888888888,
             "#fdca26"
            ],
            [
             1,
             "#f0f921"
            ]
           ],
           "sequentialminus": [
            [
             0,
             "#0d0887"
            ],
            [
             0.1111111111111111,
             "#46039f"
            ],
            [
             0.2222222222222222,
             "#7201a8"
            ],
            [
             0.3333333333333333,
             "#9c179e"
            ],
            [
             0.4444444444444444,
             "#bd3786"
            ],
            [
             0.5555555555555556,
             "#d8576b"
            ],
            [
             0.6666666666666666,
             "#ed7953"
            ],
            [
             0.7777777777777778,
             "#fb9f3a"
            ],
            [
             0.8888888888888888,
             "#fdca26"
            ],
            [
             1,
             "#f0f921"
            ]
           ]
          },
          "colorway": [
           "#636efa",
           "#EF553B",
           "#00cc96",
           "#ab63fa",
           "#FFA15A",
           "#19d3f3",
           "#FF6692",
           "#B6E880",
           "#FF97FF",
           "#FECB52"
          ],
          "font": {
           "color": "#2a3f5f"
          },
          "geo": {
           "bgcolor": "white",
           "lakecolor": "white",
           "landcolor": "white",
           "showlakes": true,
           "showland": true,
           "subunitcolor": "#C8D4E3"
          },
          "hoverlabel": {
           "align": "left"
          },
          "hovermode": "closest",
          "mapbox": {
           "style": "light"
          },
          "paper_bgcolor": "white",
          "plot_bgcolor": "white",
          "polar": {
           "angularaxis": {
            "gridcolor": "#EBF0F8",
            "linecolor": "#EBF0F8",
            "ticks": ""
           },
           "bgcolor": "white",
           "radialaxis": {
            "gridcolor": "#EBF0F8",
            "linecolor": "#EBF0F8",
            "ticks": ""
           }
          },
          "scene": {
           "xaxis": {
            "backgroundcolor": "white",
            "gridcolor": "#DFE8F3",
            "gridwidth": 2,
            "linecolor": "#EBF0F8",
            "showbackground": true,
            "ticks": "",
            "zerolinecolor": "#EBF0F8"
           },
           "yaxis": {
            "backgroundcolor": "white",
            "gridcolor": "#DFE8F3",
            "gridwidth": 2,
            "linecolor": "#EBF0F8",
            "showbackground": true,
            "ticks": "",
            "zerolinecolor": "#EBF0F8"
           },
           "zaxis": {
            "backgroundcolor": "white",
            "gridcolor": "#DFE8F3",
            "gridwidth": 2,
            "linecolor": "#EBF0F8",
            "showbackground": true,
            "ticks": "",
            "zerolinecolor": "#EBF0F8"
           }
          },
          "shapedefaults": {
           "line": {
            "color": "#2a3f5f"
           }
          },
          "ternary": {
           "aaxis": {
            "gridcolor": "#DFE8F3",
            "linecolor": "#A2B1C6",
            "ticks": ""
           },
           "baxis": {
            "gridcolor": "#DFE8F3",
            "linecolor": "#A2B1C6",
            "ticks": ""
           },
           "bgcolor": "white",
           "caxis": {
            "gridcolor": "#DFE8F3",
            "linecolor": "#A2B1C6",
            "ticks": ""
           }
          },
          "title": {
           "x": 0.05
          },
          "xaxis": {
           "automargin": true,
           "gridcolor": "#EBF0F8",
           "linecolor": "#EBF0F8",
           "ticks": "",
           "title": {
            "standoff": 15
           },
           "zerolinecolor": "#EBF0F8",
           "zerolinewidth": 2
          },
          "yaxis": {
           "automargin": true,
           "gridcolor": "#EBF0F8",
           "linecolor": "#EBF0F8",
           "ticks": "",
           "title": {
            "standoff": 15
           },
           "zerolinecolor": "#EBF0F8",
           "zerolinewidth": 2
          }
         }
        },
        "title": {
         "text": "Income Quartile Distribution (by ZIP Code)"
        },
        "width": 600,
        "xaxis": {
         "anchor": "y",
         "domain": [
          0,
          1
         ],
         "title": {
          "text": "Income Quartile (1=Lowest, 4=Highest)"
         }
        },
        "yaxis": {
         "anchor": "x",
         "domain": [
          0,
          1
         ],
         "range": [
          0,
          null
         ],
         "title": {
          "text": "Count"
         }
        }
       }
      }
     },
     "metadata": {},
     "output_type": "display_data"
    },
    {
     "data": {
      "text/html": [
       "<div>\n",
       "<style scoped>\n",
       "    .dataframe tbody tr th:only-of-type {\n",
       "        vertical-align: middle;\n",
       "    }\n",
       "\n",
       "    .dataframe tbody tr th {\n",
       "        vertical-align: top;\n",
       "    }\n",
       "\n",
       "    .dataframe thead th {\n",
       "        text-align: right;\n",
       "    }\n",
       "</style>\n",
       "<table border=\"1\" class=\"dataframe\">\n",
       "  <thead>\n",
       "    <tr style=\"text-align: right;\">\n",
       "      <th></th>\n",
       "      <th>Income Quartile</th>\n",
       "      <th>Count</th>\n",
       "    </tr>\n",
       "  </thead>\n",
       "  <tbody>\n",
       "    <tr>\n",
       "      <th>0</th>\n",
       "      <td>0</td>\n",
       "      <td>67</td>\n",
       "    </tr>\n",
       "    <tr>\n",
       "      <th>1</th>\n",
       "      <td>1</td>\n",
       "      <td>562</td>\n",
       "    </tr>\n",
       "    <tr>\n",
       "      <th>2</th>\n",
       "      <td>2</td>\n",
       "      <td>613</td>\n",
       "    </tr>\n",
       "    <tr>\n",
       "      <th>3</th>\n",
       "      <td>3</td>\n",
       "      <td>1506</td>\n",
       "    </tr>\n",
       "    <tr>\n",
       "      <th>4</th>\n",
       "      <td>4</td>\n",
       "      <td>2435</td>\n",
       "    </tr>\n",
       "  </tbody>\n",
       "</table>\n",
       "</div>"
      ],
      "text/plain": [
       "   Income Quartile  Count\n",
       "0                0     67\n",
       "1                1    562\n",
       "2                2    613\n",
       "3                3   1506\n",
       "4                4   2435"
      ]
     },
     "execution_count": 195,
     "metadata": {},
     "output_type": "execute_result"
    }
   ],
   "source": [
    "import plotly.express as px\n",
    "import pandas as pd\n",
    "\n",
    "# Prepare data\n",
    "income_counts = demographics_df['zipinc_qrtl'].value_counts().sort_index()\n",
    "\n",
    "income_df = pd.DataFrame({\n",
    "    'Income Quartile': income_counts.index,\n",
    "    'Count': income_counts.values\n",
    "})\n",
    "\n",
    "fig_income = px.bar(\n",
    "    income_df,\n",
    "    x='Income Quartile',\n",
    "    y='Count',\n",
    "    text='Count',\n",
    "    title='Income Quartile Distribution (by ZIP Code)',\n",
    ")\n",
    "\n",
    "fig_income.update_layout(\n",
    "    template='plotly_white',\n",
    "    xaxis_title='Income Quartile (1=Lowest, 4=Highest)',\n",
    "    yaxis_title='Count',\n",
    "    height=500 , width=600,\n",
    ")\n",
    "\n",
    "# Always start from 0\n",
    "fig_income.update_yaxes(range=[0, None])\n",
    "\n",
    "fig_income.show()\n",
    "\n",
    "income_df\n"
   ]
  },
  {
   "cell_type": "code",
   "execution_count": 196,
   "id": "443d52e8",
   "metadata": {},
   "outputs": [
    {
     "data": {
      "application/vnd.plotly.v1+json": {
       "config": {
        "plotlyServerURL": "https://plot.ly"
       },
       "data": [
        {
         "coloraxis": "coloraxis",
         "histfunc": "sum",
         "hovertemplate": "Income Quartile=%{x}<br>age_bin=%{y}<br>sum of Proportion=%{z}<extra></extra>",
         "name": "",
         "texttemplate": "%{z:.2f}",
         "type": "histogram2d",
         "x": [
          0,
          0,
          0,
          0,
          0,
          1,
          1,
          1,
          1,
          1,
          2,
          2,
          2,
          2,
          2,
          3,
          3,
          3,
          3,
          3,
          4,
          4,
          4,
          4,
          4
         ],
         "xaxis": "x",
         "xbingroup": "x",
         "y": [
          "0-20",
          "21-40",
          "41-60",
          "61-80",
          "81+",
          "0-20",
          "21-40",
          "41-60",
          "61-80",
          "81+",
          "0-20",
          "21-40",
          "41-60",
          "61-80",
          "81+",
          "0-20",
          "21-40",
          "41-60",
          "61-80",
          "81+",
          "0-20",
          "21-40",
          "41-60",
          "61-80",
          "81+"
         ],
         "yaxis": "y",
         "ybingroup": "y",
         "z": {
          "bdata": "AAAAAAAAAAAIH3zwwQePPxoFIjh2aZQ/fgBJNDqmiT+aOIzV1t9uPwAAAAAAAAAAJ5tssskmuz8lpJsNsJXAPzkUsV9Sn7s/JQUk/ORCtD8AAAAAAAAAAHTRRRdddME/3seJlut3vz/jLPOVsBa+PxF1M2jZ8bw/AAAAAAAA8D8XXXTRRRfNP6NABMcujdI/43Un0FYw0j/GautvD2zUPwAAAAAAAAAAfPDBBx984D8BWwnpZgPcP9IxzaD2lN4/O55TSQEJ3z8=",
          "dtype": "f8"
         }
        }
       ],
       "layout": {
        "coloraxis": {
         "colorbar": {
          "title": {
           "text": "sum of Proportion"
          }
         },
         "colorscale": [
          [
           0,
           "rgb(255,255,217)"
          ],
          [
           0.125,
           "rgb(237,248,177)"
          ],
          [
           0.25,
           "rgb(199,233,180)"
          ],
          [
           0.375,
           "rgb(127,205,187)"
          ],
          [
           0.5,
           "rgb(65,182,196)"
          ],
          [
           0.625,
           "rgb(29,145,192)"
          ],
          [
           0.75,
           "rgb(34,94,168)"
          ],
          [
           0.875,
           "rgb(37,52,148)"
          ],
          [
           1,
           "rgb(8,29,88)"
          ]
         ]
        },
        "height": 500,
        "legend": {
         "tracegroupgap": 0
        },
        "template": {
         "data": {
          "bar": [
           {
            "error_x": {
             "color": "#2a3f5f"
            },
            "error_y": {
             "color": "#2a3f5f"
            },
            "marker": {
             "line": {
              "color": "white",
              "width": 0.5
             },
             "pattern": {
              "fillmode": "overlay",
              "size": 10,
              "solidity": 0.2
             }
            },
            "type": "bar"
           }
          ],
          "barpolar": [
           {
            "marker": {
             "line": {
              "color": "white",
              "width": 0.5
             },
             "pattern": {
              "fillmode": "overlay",
              "size": 10,
              "solidity": 0.2
             }
            },
            "type": "barpolar"
           }
          ],
          "carpet": [
           {
            "aaxis": {
             "endlinecolor": "#2a3f5f",
             "gridcolor": "#C8D4E3",
             "linecolor": "#C8D4E3",
             "minorgridcolor": "#C8D4E3",
             "startlinecolor": "#2a3f5f"
            },
            "baxis": {
             "endlinecolor": "#2a3f5f",
             "gridcolor": "#C8D4E3",
             "linecolor": "#C8D4E3",
             "minorgridcolor": "#C8D4E3",
             "startlinecolor": "#2a3f5f"
            },
            "type": "carpet"
           }
          ],
          "choropleth": [
           {
            "colorbar": {
             "outlinewidth": 0,
             "ticks": ""
            },
            "type": "choropleth"
           }
          ],
          "contour": [
           {
            "colorbar": {
             "outlinewidth": 0,
             "ticks": ""
            },
            "colorscale": [
             [
              0,
              "#0d0887"
             ],
             [
              0.1111111111111111,
              "#46039f"
             ],
             [
              0.2222222222222222,
              "#7201a8"
             ],
             [
              0.3333333333333333,
              "#9c179e"
             ],
             [
              0.4444444444444444,
              "#bd3786"
             ],
             [
              0.5555555555555556,
              "#d8576b"
             ],
             [
              0.6666666666666666,
              "#ed7953"
             ],
             [
              0.7777777777777778,
              "#fb9f3a"
             ],
             [
              0.8888888888888888,
              "#fdca26"
             ],
             [
              1,
              "#f0f921"
             ]
            ],
            "type": "contour"
           }
          ],
          "contourcarpet": [
           {
            "colorbar": {
             "outlinewidth": 0,
             "ticks": ""
            },
            "type": "contourcarpet"
           }
          ],
          "heatmap": [
           {
            "colorbar": {
             "outlinewidth": 0,
             "ticks": ""
            },
            "colorscale": [
             [
              0,
              "#0d0887"
             ],
             [
              0.1111111111111111,
              "#46039f"
             ],
             [
              0.2222222222222222,
              "#7201a8"
             ],
             [
              0.3333333333333333,
              "#9c179e"
             ],
             [
              0.4444444444444444,
              "#bd3786"
             ],
             [
              0.5555555555555556,
              "#d8576b"
             ],
             [
              0.6666666666666666,
              "#ed7953"
             ],
             [
              0.7777777777777778,
              "#fb9f3a"
             ],
             [
              0.8888888888888888,
              "#fdca26"
             ],
             [
              1,
              "#f0f921"
             ]
            ],
            "type": "heatmap"
           }
          ],
          "histogram": [
           {
            "marker": {
             "pattern": {
              "fillmode": "overlay",
              "size": 10,
              "solidity": 0.2
             }
            },
            "type": "histogram"
           }
          ],
          "histogram2d": [
           {
            "colorbar": {
             "outlinewidth": 0,
             "ticks": ""
            },
            "colorscale": [
             [
              0,
              "#0d0887"
             ],
             [
              0.1111111111111111,
              "#46039f"
             ],
             [
              0.2222222222222222,
              "#7201a8"
             ],
             [
              0.3333333333333333,
              "#9c179e"
             ],
             [
              0.4444444444444444,
              "#bd3786"
             ],
             [
              0.5555555555555556,
              "#d8576b"
             ],
             [
              0.6666666666666666,
              "#ed7953"
             ],
             [
              0.7777777777777778,
              "#fb9f3a"
             ],
             [
              0.8888888888888888,
              "#fdca26"
             ],
             [
              1,
              "#f0f921"
             ]
            ],
            "type": "histogram2d"
           }
          ],
          "histogram2dcontour": [
           {
            "colorbar": {
             "outlinewidth": 0,
             "ticks": ""
            },
            "colorscale": [
             [
              0,
              "#0d0887"
             ],
             [
              0.1111111111111111,
              "#46039f"
             ],
             [
              0.2222222222222222,
              "#7201a8"
             ],
             [
              0.3333333333333333,
              "#9c179e"
             ],
             [
              0.4444444444444444,
              "#bd3786"
             ],
             [
              0.5555555555555556,
              "#d8576b"
             ],
             [
              0.6666666666666666,
              "#ed7953"
             ],
             [
              0.7777777777777778,
              "#fb9f3a"
             ],
             [
              0.8888888888888888,
              "#fdca26"
             ],
             [
              1,
              "#f0f921"
             ]
            ],
            "type": "histogram2dcontour"
           }
          ],
          "mesh3d": [
           {
            "colorbar": {
             "outlinewidth": 0,
             "ticks": ""
            },
            "type": "mesh3d"
           }
          ],
          "parcoords": [
           {
            "line": {
             "colorbar": {
              "outlinewidth": 0,
              "ticks": ""
             }
            },
            "type": "parcoords"
           }
          ],
          "pie": [
           {
            "automargin": true,
            "type": "pie"
           }
          ],
          "scatter": [
           {
            "fillpattern": {
             "fillmode": "overlay",
             "size": 10,
             "solidity": 0.2
            },
            "type": "scatter"
           }
          ],
          "scatter3d": [
           {
            "line": {
             "colorbar": {
              "outlinewidth": 0,
              "ticks": ""
             }
            },
            "marker": {
             "colorbar": {
              "outlinewidth": 0,
              "ticks": ""
             }
            },
            "type": "scatter3d"
           }
          ],
          "scattercarpet": [
           {
            "marker": {
             "colorbar": {
              "outlinewidth": 0,
              "ticks": ""
             }
            },
            "type": "scattercarpet"
           }
          ],
          "scattergeo": [
           {
            "marker": {
             "colorbar": {
              "outlinewidth": 0,
              "ticks": ""
             }
            },
            "type": "scattergeo"
           }
          ],
          "scattergl": [
           {
            "marker": {
             "colorbar": {
              "outlinewidth": 0,
              "ticks": ""
             }
            },
            "type": "scattergl"
           }
          ],
          "scattermap": [
           {
            "marker": {
             "colorbar": {
              "outlinewidth": 0,
              "ticks": ""
             }
            },
            "type": "scattermap"
           }
          ],
          "scattermapbox": [
           {
            "marker": {
             "colorbar": {
              "outlinewidth": 0,
              "ticks": ""
             }
            },
            "type": "scattermapbox"
           }
          ],
          "scatterpolar": [
           {
            "marker": {
             "colorbar": {
              "outlinewidth": 0,
              "ticks": ""
             }
            },
            "type": "scatterpolar"
           }
          ],
          "scatterpolargl": [
           {
            "marker": {
             "colorbar": {
              "outlinewidth": 0,
              "ticks": ""
             }
            },
            "type": "scatterpolargl"
           }
          ],
          "scatterternary": [
           {
            "marker": {
             "colorbar": {
              "outlinewidth": 0,
              "ticks": ""
             }
            },
            "type": "scatterternary"
           }
          ],
          "surface": [
           {
            "colorbar": {
             "outlinewidth": 0,
             "ticks": ""
            },
            "colorscale": [
             [
              0,
              "#0d0887"
             ],
             [
              0.1111111111111111,
              "#46039f"
             ],
             [
              0.2222222222222222,
              "#7201a8"
             ],
             [
              0.3333333333333333,
              "#9c179e"
             ],
             [
              0.4444444444444444,
              "#bd3786"
             ],
             [
              0.5555555555555556,
              "#d8576b"
             ],
             [
              0.6666666666666666,
              "#ed7953"
             ],
             [
              0.7777777777777778,
              "#fb9f3a"
             ],
             [
              0.8888888888888888,
              "#fdca26"
             ],
             [
              1,
              "#f0f921"
             ]
            ],
            "type": "surface"
           }
          ],
          "table": [
           {
            "cells": {
             "fill": {
              "color": "#EBF0F8"
             },
             "line": {
              "color": "white"
             }
            },
            "header": {
             "fill": {
              "color": "#C8D4E3"
             },
             "line": {
              "color": "white"
             }
            },
            "type": "table"
           }
          ]
         },
         "layout": {
          "annotationdefaults": {
           "arrowcolor": "#2a3f5f",
           "arrowhead": 0,
           "arrowwidth": 1
          },
          "autotypenumbers": "strict",
          "coloraxis": {
           "colorbar": {
            "outlinewidth": 0,
            "ticks": ""
           }
          },
          "colorscale": {
           "diverging": [
            [
             0,
             "#8e0152"
            ],
            [
             0.1,
             "#c51b7d"
            ],
            [
             0.2,
             "#de77ae"
            ],
            [
             0.3,
             "#f1b6da"
            ],
            [
             0.4,
             "#fde0ef"
            ],
            [
             0.5,
             "#f7f7f7"
            ],
            [
             0.6,
             "#e6f5d0"
            ],
            [
             0.7,
             "#b8e186"
            ],
            [
             0.8,
             "#7fbc41"
            ],
            [
             0.9,
             "#4d9221"
            ],
            [
             1,
             "#276419"
            ]
           ],
           "sequential": [
            [
             0,
             "#0d0887"
            ],
            [
             0.1111111111111111,
             "#46039f"
            ],
            [
             0.2222222222222222,
             "#7201a8"
            ],
            [
             0.3333333333333333,
             "#9c179e"
            ],
            [
             0.4444444444444444,
             "#bd3786"
            ],
            [
             0.5555555555555556,
             "#d8576b"
            ],
            [
             0.6666666666666666,
             "#ed7953"
            ],
            [
             0.7777777777777778,
             "#fb9f3a"
            ],
            [
             0.8888888888888888,
             "#fdca26"
            ],
            [
             1,
             "#f0f921"
            ]
           ],
           "sequentialminus": [
            [
             0,
             "#0d0887"
            ],
            [
             0.1111111111111111,
             "#46039f"
            ],
            [
             0.2222222222222222,
             "#7201a8"
            ],
            [
             0.3333333333333333,
             "#9c179e"
            ],
            [
             0.4444444444444444,
             "#bd3786"
            ],
            [
             0.5555555555555556,
             "#d8576b"
            ],
            [
             0.6666666666666666,
             "#ed7953"
            ],
            [
             0.7777777777777778,
             "#fb9f3a"
            ],
            [
             0.8888888888888888,
             "#fdca26"
            ],
            [
             1,
             "#f0f921"
            ]
           ]
          },
          "colorway": [
           "#636efa",
           "#EF553B",
           "#00cc96",
           "#ab63fa",
           "#FFA15A",
           "#19d3f3",
           "#FF6692",
           "#B6E880",
           "#FF97FF",
           "#FECB52"
          ],
          "font": {
           "color": "#2a3f5f"
          },
          "geo": {
           "bgcolor": "white",
           "lakecolor": "white",
           "landcolor": "white",
           "showlakes": true,
           "showland": true,
           "subunitcolor": "#C8D4E3"
          },
          "hoverlabel": {
           "align": "left"
          },
          "hovermode": "closest",
          "mapbox": {
           "style": "light"
          },
          "paper_bgcolor": "white",
          "plot_bgcolor": "white",
          "polar": {
           "angularaxis": {
            "gridcolor": "#EBF0F8",
            "linecolor": "#EBF0F8",
            "ticks": ""
           },
           "bgcolor": "white",
           "radialaxis": {
            "gridcolor": "#EBF0F8",
            "linecolor": "#EBF0F8",
            "ticks": ""
           }
          },
          "scene": {
           "xaxis": {
            "backgroundcolor": "white",
            "gridcolor": "#DFE8F3",
            "gridwidth": 2,
            "linecolor": "#EBF0F8",
            "showbackground": true,
            "ticks": "",
            "zerolinecolor": "#EBF0F8"
           },
           "yaxis": {
            "backgroundcolor": "white",
            "gridcolor": "#DFE8F3",
            "gridwidth": 2,
            "linecolor": "#EBF0F8",
            "showbackground": true,
            "ticks": "",
            "zerolinecolor": "#EBF0F8"
           },
           "zaxis": {
            "backgroundcolor": "white",
            "gridcolor": "#DFE8F3",
            "gridwidth": 2,
            "linecolor": "#EBF0F8",
            "showbackground": true,
            "ticks": "",
            "zerolinecolor": "#EBF0F8"
           }
          },
          "shapedefaults": {
           "line": {
            "color": "#2a3f5f"
           }
          },
          "ternary": {
           "aaxis": {
            "gridcolor": "#DFE8F3",
            "linecolor": "#A2B1C6",
            "ticks": ""
           },
           "baxis": {
            "gridcolor": "#DFE8F3",
            "linecolor": "#A2B1C6",
            "ticks": ""
           },
           "bgcolor": "white",
           "caxis": {
            "gridcolor": "#DFE8F3",
            "linecolor": "#A2B1C6",
            "ticks": ""
           }
          },
          "title": {
           "x": 0.05
          },
          "xaxis": {
           "automargin": true,
           "gridcolor": "#EBF0F8",
           "linecolor": "#EBF0F8",
           "ticks": "",
           "title": {
            "standoff": 15
           },
           "zerolinecolor": "#EBF0F8",
           "zerolinewidth": 2
          },
          "yaxis": {
           "automargin": true,
           "gridcolor": "#EBF0F8",
           "linecolor": "#EBF0F8",
           "ticks": "",
           "title": {
            "standoff": 15
           },
           "zerolinecolor": "#EBF0F8",
           "zerolinewidth": 2
          }
         }
        },
        "title": {
         "text": "Age vs Income Quartile Heatmap"
        },
        "width": 600,
        "xaxis": {
         "anchor": "y",
         "domain": [
          0,
          1
         ],
         "title": {
          "text": "Income Quartile"
         }
        },
        "yaxis": {
         "anchor": "x",
         "domain": [
          0,
          1
         ],
         "title": {
          "text": "age_bin"
         }
        }
       }
      }
     },
     "metadata": {},
     "output_type": "display_data"
    },
    {
     "data": {
      "application/vnd.plotly.v1+json": {
       "config": {
        "plotlyServerURL": "https://plot.ly"
       },
       "data": [
        {
         "hovertemplate": "Gender=Male<br>race=%{x}<br>Count=%{text}<extra></extra>",
         "legendgroup": "Male",
         "marker": {
          "color": "#636efa",
          "pattern": {
           "shape": ""
          }
         },
         "name": "Male",
         "orientation": "v",
         "showlegend": true,
         "text": {
          "bdata": "AAAAAAAANkAAAAAAALCbQAAAAAAA8INAAAAAAACAU0AAAAAAAEBTQAAAAAAAABBAAAAAAAAASkA=",
          "dtype": "f8"
         },
         "textposition": "auto",
         "type": "bar",
         "x": {
          "bdata": "AAECAwQFBg==",
          "dtype": "i1"
         },
         "xaxis": "x",
         "y": {
          "bdata": "FgDsBn4CTgBNAAQANAA=",
          "dtype": "i2"
         },
         "yaxis": "y"
        },
        {
         "hovertemplate": "Gender=Female<br>race=%{x}<br>Count=%{text}<extra></extra>",
         "legendgroup": "Female",
         "marker": {
          "color": "#EF553B",
          "pattern": {
           "shape": ""
          }
         },
         "name": "Female",
         "orientation": "v",
         "showlegend": true,
         "text": {
          "bdata": "AAAAAAAAMUAAAAAAAASYQAAAAAAASIhAAAAAAAAAVkAAAAAAAEBUQAAAAAAAAABAAAAAAACAQkA=",
          "dtype": "f8"
         },
         "textposition": "auto",
         "type": "bar",
         "x": {
          "bdata": "AAECAwQFBg==",
          "dtype": "i1"
         },
         "xaxis": "x",
         "y": {
          "bdata": "EQABBgkDWABRAAIAJQA=",
          "dtype": "i2"
         },
         "yaxis": "y"
        }
       ],
       "layout": {
        "barmode": "stack",
        "height": 500,
        "legend": {
         "title": {
          "text": "Gender"
         },
         "tracegroupgap": 0
        },
        "template": {
         "data": {
          "bar": [
           {
            "error_x": {
             "color": "#2a3f5f"
            },
            "error_y": {
             "color": "#2a3f5f"
            },
            "marker": {
             "line": {
              "color": "white",
              "width": 0.5
             },
             "pattern": {
              "fillmode": "overlay",
              "size": 10,
              "solidity": 0.2
             }
            },
            "type": "bar"
           }
          ],
          "barpolar": [
           {
            "marker": {
             "line": {
              "color": "white",
              "width": 0.5
             },
             "pattern": {
              "fillmode": "overlay",
              "size": 10,
              "solidity": 0.2
             }
            },
            "type": "barpolar"
           }
          ],
          "carpet": [
           {
            "aaxis": {
             "endlinecolor": "#2a3f5f",
             "gridcolor": "#C8D4E3",
             "linecolor": "#C8D4E3",
             "minorgridcolor": "#C8D4E3",
             "startlinecolor": "#2a3f5f"
            },
            "baxis": {
             "endlinecolor": "#2a3f5f",
             "gridcolor": "#C8D4E3",
             "linecolor": "#C8D4E3",
             "minorgridcolor": "#C8D4E3",
             "startlinecolor": "#2a3f5f"
            },
            "type": "carpet"
           }
          ],
          "choropleth": [
           {
            "colorbar": {
             "outlinewidth": 0,
             "ticks": ""
            },
            "type": "choropleth"
           }
          ],
          "contour": [
           {
            "colorbar": {
             "outlinewidth": 0,
             "ticks": ""
            },
            "colorscale": [
             [
              0,
              "#0d0887"
             ],
             [
              0.1111111111111111,
              "#46039f"
             ],
             [
              0.2222222222222222,
              "#7201a8"
             ],
             [
              0.3333333333333333,
              "#9c179e"
             ],
             [
              0.4444444444444444,
              "#bd3786"
             ],
             [
              0.5555555555555556,
              "#d8576b"
             ],
             [
              0.6666666666666666,
              "#ed7953"
             ],
             [
              0.7777777777777778,
              "#fb9f3a"
             ],
             [
              0.8888888888888888,
              "#fdca26"
             ],
             [
              1,
              "#f0f921"
             ]
            ],
            "type": "contour"
           }
          ],
          "contourcarpet": [
           {
            "colorbar": {
             "outlinewidth": 0,
             "ticks": ""
            },
            "type": "contourcarpet"
           }
          ],
          "heatmap": [
           {
            "colorbar": {
             "outlinewidth": 0,
             "ticks": ""
            },
            "colorscale": [
             [
              0,
              "#0d0887"
             ],
             [
              0.1111111111111111,
              "#46039f"
             ],
             [
              0.2222222222222222,
              "#7201a8"
             ],
             [
              0.3333333333333333,
              "#9c179e"
             ],
             [
              0.4444444444444444,
              "#bd3786"
             ],
             [
              0.5555555555555556,
              "#d8576b"
             ],
             [
              0.6666666666666666,
              "#ed7953"
             ],
             [
              0.7777777777777778,
              "#fb9f3a"
             ],
             [
              0.8888888888888888,
              "#fdca26"
             ],
             [
              1,
              "#f0f921"
             ]
            ],
            "type": "heatmap"
           }
          ],
          "histogram": [
           {
            "marker": {
             "pattern": {
              "fillmode": "overlay",
              "size": 10,
              "solidity": 0.2
             }
            },
            "type": "histogram"
           }
          ],
          "histogram2d": [
           {
            "colorbar": {
             "outlinewidth": 0,
             "ticks": ""
            },
            "colorscale": [
             [
              0,
              "#0d0887"
             ],
             [
              0.1111111111111111,
              "#46039f"
             ],
             [
              0.2222222222222222,
              "#7201a8"
             ],
             [
              0.3333333333333333,
              "#9c179e"
             ],
             [
              0.4444444444444444,
              "#bd3786"
             ],
             [
              0.5555555555555556,
              "#d8576b"
             ],
             [
              0.6666666666666666,
              "#ed7953"
             ],
             [
              0.7777777777777778,
              "#fb9f3a"
             ],
             [
              0.8888888888888888,
              "#fdca26"
             ],
             [
              1,
              "#f0f921"
             ]
            ],
            "type": "histogram2d"
           }
          ],
          "histogram2dcontour": [
           {
            "colorbar": {
             "outlinewidth": 0,
             "ticks": ""
            },
            "colorscale": [
             [
              0,
              "#0d0887"
             ],
             [
              0.1111111111111111,
              "#46039f"
             ],
             [
              0.2222222222222222,
              "#7201a8"
             ],
             [
              0.3333333333333333,
              "#9c179e"
             ],
             [
              0.4444444444444444,
              "#bd3786"
             ],
             [
              0.5555555555555556,
              "#d8576b"
             ],
             [
              0.6666666666666666,
              "#ed7953"
             ],
             [
              0.7777777777777778,
              "#fb9f3a"
             ],
             [
              0.8888888888888888,
              "#fdca26"
             ],
             [
              1,
              "#f0f921"
             ]
            ],
            "type": "histogram2dcontour"
           }
          ],
          "mesh3d": [
           {
            "colorbar": {
             "outlinewidth": 0,
             "ticks": ""
            },
            "type": "mesh3d"
           }
          ],
          "parcoords": [
           {
            "line": {
             "colorbar": {
              "outlinewidth": 0,
              "ticks": ""
             }
            },
            "type": "parcoords"
           }
          ],
          "pie": [
           {
            "automargin": true,
            "type": "pie"
           }
          ],
          "scatter": [
           {
            "fillpattern": {
             "fillmode": "overlay",
             "size": 10,
             "solidity": 0.2
            },
            "type": "scatter"
           }
          ],
          "scatter3d": [
           {
            "line": {
             "colorbar": {
              "outlinewidth": 0,
              "ticks": ""
             }
            },
            "marker": {
             "colorbar": {
              "outlinewidth": 0,
              "ticks": ""
             }
            },
            "type": "scatter3d"
           }
          ],
          "scattercarpet": [
           {
            "marker": {
             "colorbar": {
              "outlinewidth": 0,
              "ticks": ""
             }
            },
            "type": "scattercarpet"
           }
          ],
          "scattergeo": [
           {
            "marker": {
             "colorbar": {
              "outlinewidth": 0,
              "ticks": ""
             }
            },
            "type": "scattergeo"
           }
          ],
          "scattergl": [
           {
            "marker": {
             "colorbar": {
              "outlinewidth": 0,
              "ticks": ""
             }
            },
            "type": "scattergl"
           }
          ],
          "scattermap": [
           {
            "marker": {
             "colorbar": {
              "outlinewidth": 0,
              "ticks": ""
             }
            },
            "type": "scattermap"
           }
          ],
          "scattermapbox": [
           {
            "marker": {
             "colorbar": {
              "outlinewidth": 0,
              "ticks": ""
             }
            },
            "type": "scattermapbox"
           }
          ],
          "scatterpolar": [
           {
            "marker": {
             "colorbar": {
              "outlinewidth": 0,
              "ticks": ""
             }
            },
            "type": "scatterpolar"
           }
          ],
          "scatterpolargl": [
           {
            "marker": {
             "colorbar": {
              "outlinewidth": 0,
              "ticks": ""
             }
            },
            "type": "scatterpolargl"
           }
          ],
          "scatterternary": [
           {
            "marker": {
             "colorbar": {
              "outlinewidth": 0,
              "ticks": ""
             }
            },
            "type": "scatterternary"
           }
          ],
          "surface": [
           {
            "colorbar": {
             "outlinewidth": 0,
             "ticks": ""
            },
            "colorscale": [
             [
              0,
              "#0d0887"
             ],
             [
              0.1111111111111111,
              "#46039f"
             ],
             [
              0.2222222222222222,
              "#7201a8"
             ],
             [
              0.3333333333333333,
              "#9c179e"
             ],
             [
              0.4444444444444444,
              "#bd3786"
             ],
             [
              0.5555555555555556,
              "#d8576b"
             ],
             [
              0.6666666666666666,
              "#ed7953"
             ],
             [
              0.7777777777777778,
              "#fb9f3a"
             ],
             [
              0.8888888888888888,
              "#fdca26"
             ],
             [
              1,
              "#f0f921"
             ]
            ],
            "type": "surface"
           }
          ],
          "table": [
           {
            "cells": {
             "fill": {
              "color": "#EBF0F8"
             },
             "line": {
              "color": "white"
             }
            },
            "header": {
             "fill": {
              "color": "#C8D4E3"
             },
             "line": {
              "color": "white"
             }
            },
            "type": "table"
           }
          ]
         },
         "layout": {
          "annotationdefaults": {
           "arrowcolor": "#2a3f5f",
           "arrowhead": 0,
           "arrowwidth": 1
          },
          "autotypenumbers": "strict",
          "coloraxis": {
           "colorbar": {
            "outlinewidth": 0,
            "ticks": ""
           }
          },
          "colorscale": {
           "diverging": [
            [
             0,
             "#8e0152"
            ],
            [
             0.1,
             "#c51b7d"
            ],
            [
             0.2,
             "#de77ae"
            ],
            [
             0.3,
             "#f1b6da"
            ],
            [
             0.4,
             "#fde0ef"
            ],
            [
             0.5,
             "#f7f7f7"
            ],
            [
             0.6,
             "#e6f5d0"
            ],
            [
             0.7,
             "#b8e186"
            ],
            [
             0.8,
             "#7fbc41"
            ],
            [
             0.9,
             "#4d9221"
            ],
            [
             1,
             "#276419"
            ]
           ],
           "sequential": [
            [
             0,
             "#0d0887"
            ],
            [
             0.1111111111111111,
             "#46039f"
            ],
            [
             0.2222222222222222,
             "#7201a8"
            ],
            [
             0.3333333333333333,
             "#9c179e"
            ],
            [
             0.4444444444444444,
             "#bd3786"
            ],
            [
             0.5555555555555556,
             "#d8576b"
            ],
            [
             0.6666666666666666,
             "#ed7953"
            ],
            [
             0.7777777777777778,
             "#fb9f3a"
            ],
            [
             0.8888888888888888,
             "#fdca26"
            ],
            [
             1,
             "#f0f921"
            ]
           ],
           "sequentialminus": [
            [
             0,
             "#0d0887"
            ],
            [
             0.1111111111111111,
             "#46039f"
            ],
            [
             0.2222222222222222,
             "#7201a8"
            ],
            [
             0.3333333333333333,
             "#9c179e"
            ],
            [
             0.4444444444444444,
             "#bd3786"
            ],
            [
             0.5555555555555556,
             "#d8576b"
            ],
            [
             0.6666666666666666,
             "#ed7953"
            ],
            [
             0.7777777777777778,
             "#fb9f3a"
            ],
            [
             0.8888888888888888,
             "#fdca26"
            ],
            [
             1,
             "#f0f921"
            ]
           ]
          },
          "colorway": [
           "#636efa",
           "#EF553B",
           "#00cc96",
           "#ab63fa",
           "#FFA15A",
           "#19d3f3",
           "#FF6692",
           "#B6E880",
           "#FF97FF",
           "#FECB52"
          ],
          "font": {
           "color": "#2a3f5f"
          },
          "geo": {
           "bgcolor": "white",
           "lakecolor": "white",
           "landcolor": "white",
           "showlakes": true,
           "showland": true,
           "subunitcolor": "#C8D4E3"
          },
          "hoverlabel": {
           "align": "left"
          },
          "hovermode": "closest",
          "mapbox": {
           "style": "light"
          },
          "paper_bgcolor": "white",
          "plot_bgcolor": "white",
          "polar": {
           "angularaxis": {
            "gridcolor": "#EBF0F8",
            "linecolor": "#EBF0F8",
            "ticks": ""
           },
           "bgcolor": "white",
           "radialaxis": {
            "gridcolor": "#EBF0F8",
            "linecolor": "#EBF0F8",
            "ticks": ""
           }
          },
          "scene": {
           "xaxis": {
            "backgroundcolor": "white",
            "gridcolor": "#DFE8F3",
            "gridwidth": 2,
            "linecolor": "#EBF0F8",
            "showbackground": true,
            "ticks": "",
            "zerolinecolor": "#EBF0F8"
           },
           "yaxis": {
            "backgroundcolor": "white",
            "gridcolor": "#DFE8F3",
            "gridwidth": 2,
            "linecolor": "#EBF0F8",
            "showbackground": true,
            "ticks": "",
            "zerolinecolor": "#EBF0F8"
           },
           "zaxis": {
            "backgroundcolor": "white",
            "gridcolor": "#DFE8F3",
            "gridwidth": 2,
            "linecolor": "#EBF0F8",
            "showbackground": true,
            "ticks": "",
            "zerolinecolor": "#EBF0F8"
           }
          },
          "shapedefaults": {
           "line": {
            "color": "#2a3f5f"
           }
          },
          "ternary": {
           "aaxis": {
            "gridcolor": "#DFE8F3",
            "linecolor": "#A2B1C6",
            "ticks": ""
           },
           "baxis": {
            "gridcolor": "#DFE8F3",
            "linecolor": "#A2B1C6",
            "ticks": ""
           },
           "bgcolor": "white",
           "caxis": {
            "gridcolor": "#DFE8F3",
            "linecolor": "#A2B1C6",
            "ticks": ""
           }
          },
          "title": {
           "x": 0.05
          },
          "xaxis": {
           "automargin": true,
           "gridcolor": "#EBF0F8",
           "linecolor": "#EBF0F8",
           "ticks": "",
           "title": {
            "standoff": 15
           },
           "zerolinecolor": "#EBF0F8",
           "zerolinewidth": 2
          },
          "yaxis": {
           "automargin": true,
           "gridcolor": "#EBF0F8",
           "linecolor": "#EBF0F8",
           "ticks": "",
           "title": {
            "standoff": 15
           },
           "zerolinecolor": "#EBF0F8",
           "zerolinewidth": 2
          }
         }
        },
        "title": {
         "text": "Gender Distribution Across Race Categories"
        },
        "width": 600,
        "xaxis": {
         "anchor": "y",
         "domain": [
          0,
          1
         ],
         "tickangle": 45,
         "title": {
          "text": "Race"
         }
        },
        "yaxis": {
         "anchor": "x",
         "domain": [
          0,
          1
         ],
         "title": {
          "text": "Count"
         }
        }
       }
      }
     },
     "metadata": {},
     "output_type": "display_data"
    }
   ],
   "source": [
    "import pandas as pd\n",
    "import plotly.express as px\n",
    "\n",
    "# --- Age vs Income Heatmap ---\n",
    "\n",
    "if 'age' in demographics_df.columns:\n",
    "    demographics_df['age_bin'] = pd.cut(\n",
    "        demographics_df['age'],\n",
    "        bins=[0, 20, 40, 60, 80, 100],\n",
    "        labels=['0-20', '21-40', '41-60', '61-80', '81+']\n",
    "    )\n",
    "    age_income = pd.crosstab(demographics_df['age_bin'], demographics_df['zipinc_qrtl'], normalize='index')\n",
    "else:\n",
    "    age_income = pd.crosstab(demographics_df['agegroup'], demographics_df['zipinc_qrtl'], normalize='index')\n",
    "\n",
    "heatmap_df = age_income.reset_index().melt(id_vars='age_bin', var_name='Income Quartile', value_name='Proportion')\n",
    "\n",
    "fig_heatmap = px.density_heatmap(\n",
    "    heatmap_df,\n",
    "    x='Income Quartile',\n",
    "    y='age_bin',\n",
    "    z='Proportion',\n",
    "    color_continuous_scale='YlGnBu',\n",
    "    text_auto='.2f',\n",
    "    title='Age vs Income Quartile Heatmap'\n",
    ")\n",
    "\n",
    "fig_heatmap.update_layout(template='plotly_white', height=500 , width=600)\n",
    "fig_heatmap.show()\n",
    "\n",
    "\n",
    "# --- Race vs Gender Stacked Bar Chart ---\n",
    "\n",
    "race_gender = pd.crosstab(demographics_df['race'], demographics_df['female'])\n",
    "\n",
    "# Dynamically rename gender columns\n",
    "gender_map = {}\n",
    "for col in race_gender.columns:\n",
    "    if col == 0:\n",
    "        gender_map[col] = 'Male'\n",
    "    elif col == 1:\n",
    "        gender_map[col] = 'Female'\n",
    "    else:\n",
    "        gender_map[col] = f'Other ({col})'\n",
    "\n",
    "race_gender = race_gender.rename(columns=gender_map)\n",
    "\n",
    "# Prepare for Plotly\n",
    "race_gender = race_gender.reset_index().melt(id_vars='race', var_name='Gender', value_name='Count')\n",
    "\n",
    "fig_stack = px.bar(\n",
    "    race_gender,\n",
    "    x='race',\n",
    "    y='Count',\n",
    "    color='Gender',\n",
    "    title='Gender Distribution Across Race Categories',\n",
    "    text='Count'\n",
    ")\n",
    "\n",
    "fig_stack.update_layout(\n",
    "    template='plotly_white',\n",
    "    xaxis_title='Race',\n",
    "    yaxis_title='Count',\n",
    "    barmode='stack',\n",
    "    xaxis_tickangle=45,\n",
    "    height=500 , width=600\n",
    ")\n",
    "\n",
    "fig_stack.show()\n"
   ]
  },
  {
   "cell_type": "code",
   "execution_count": 197,
   "id": "edc6ee6b",
   "metadata": {},
   "outputs": [
    {
     "name": "stdout",
     "output_type": "stream",
     "text": [
      "Summary of Demographics Variables:\n",
      "----------------------------------------\n",
      "\n",
      "AGE Distribution:\n",
      "age\n",
      "9      0.019294\n",
      "12     0.019294\n",
      "13     0.019294\n",
      "24     0.038588\n",
      "25     0.019294\n",
      "         ...   \n",
      "95     0.154351\n",
      "96     0.077175\n",
      "97     0.192938\n",
      "98     0.135057\n",
      "100    0.019294\n",
      "Name: proportion, Length: 79, dtype: float64\n",
      "\n",
      "FEMALE Distribution:\n",
      "female\n",
      "0.0    51.003474\n",
      "1.0    48.996526\n",
      "Name: proportion, dtype: float64\n",
      "\n",
      "RACE Distribution:\n",
      "race\n",
      "0     0.752460\n",
      "1    63.843334\n",
      "2    27.300791\n",
      "3     3.202778\n",
      "4     3.048428\n",
      "5     0.115763\n",
      "6     1.736446\n",
      "Name: proportion, dtype: float64\n",
      "\n",
      "HISPANIC Distribution:\n",
      "hispanic\n",
      "0    96.797222\n",
      "1     0.945398\n",
      "2     0.212232\n",
      "3     2.025854\n",
      "4     0.019294\n",
      "Name: proportion, dtype: float64\n",
      "\n",
      "ZIPINC_QRTL Distribution:\n",
      "zipinc_qrtl\n",
      "0     1.292688\n",
      "1    10.843141\n",
      "2    11.827127\n",
      "3    29.056531\n",
      "4    46.980513\n",
      "Name: proportion, dtype: float64\n",
      "\n",
      "MARITAL_STATUS Distribution:\n",
      "marital_status\n",
      "0.0    44.588076\n",
      "1.0    55.411924\n",
      "Name: proportion, dtype: float64\n",
      "\n",
      "AGE_BIN Distribution:\n",
      "age_bin\n",
      "0-20      0.057882\n",
      "21-40     1.273394\n",
      "41-60    23.229790\n",
      "61-80    60.081034\n",
      "81+      15.357901\n",
      "Name: proportion, dtype: float64\n",
      "\n",
      "Age Statistics:\n",
      "count    5183.000000\n",
      "mean       68.391665\n",
      "std        11.760613\n",
      "min         9.000000\n",
      "25%        61.000000\n",
      "50%        69.000000\n",
      "75%        76.000000\n",
      "max       100.000000\n",
      "Name: age, dtype: float64\n"
     ]
    }
   ],
   "source": [
    "# Create a demographics summary\n",
    "print(\"Summary of Demographics Variables:\")\n",
    "print(\"-\"*40)\n",
    "for col in demographics_df.columns:\n",
    "    print(f\"\\n{col.upper()} Distribution:\")\n",
    "    print(demographics_df[col].value_counts(normalize=True).sort_index() * 100)\n",
    "    \n",
    "# Add descriptive statistics for age if available as continuous variable\n",
    "if 'age' in demographics_df.columns:\n",
    "    print(\"\\nAge Statistics:\")\n",
    "    print(demographics_df['age'].describe())"
   ]
  },
  {
   "cell_type": "code",
   "execution_count": 198,
   "id": "b6f53f31",
   "metadata": {},
   "outputs": [
    {
     "name": "stdout",
     "output_type": "stream",
     "text": [
      "============================================================\n",
      "Summary of Demographics Variables\n",
      "============================================================\n",
      "\n",
      "AGE Distribution:\n",
      "----------------------------------------\n",
      "9: 0.02%\n",
      "12: 0.02%\n",
      "13: 0.02%\n",
      "24: 0.04%\n",
      "25: 0.02%\n",
      "26: 0.06%\n",
      "27: 0.02%\n",
      "28: 0.02%\n",
      "29: 0.08%\n",
      "30: 0.1%\n",
      "31: 0.02%\n",
      "32: 0.08%\n",
      "33: 0.04%\n",
      "34: 0.1%\n",
      "35: 0.06%\n",
      "36: 0.14%\n",
      "37: 0.08%\n",
      "38: 0.17%\n",
      "39: 0.1%\n",
      "40: 0.17%\n",
      "41: 0.29%\n",
      "42: 0.31%\n",
      "43: 0.21%\n",
      "44: 0.35%\n",
      "45: 0.35%\n",
      "46: 0.5%\n",
      "47: 0.62%\n",
      "48: 0.81%\n",
      "49: 0.77%\n",
      "50: 0.75%\n",
      "51: 0.85%\n",
      "52: 1.25%\n",
      "53: 1.58%\n",
      "54: 1.56%\n",
      "55: 1.58%\n",
      "56: 1.97%\n",
      "57: 2.06%\n",
      "58: 2.43%\n",
      "59: 2.64%\n",
      "60: 2.33%\n",
      "61: 2.78%\n",
      "62: 2.8%\n",
      "63: 3.09%\n",
      "64: 2.66%\n",
      "65: 3.36%\n",
      "66: 3.11%\n",
      "67: 3.07%\n",
      "68: 3.67%\n",
      "69: 3.47%\n",
      "70: 3.96%\n",
      "71: 3.18%\n",
      "72: 3.28%\n",
      "73: 3.09%\n",
      "74: 3.34%\n",
      "75: 3.2%\n",
      "76: 2.66%\n",
      "77: 2.55%\n",
      "78: 2.3%\n",
      "79: 2.28%\n",
      "80: 2.26%\n",
      "81: 2.01%\n",
      "82: 1.93%\n",
      "83: 1.49%\n",
      "84: 1.25%\n",
      "85: 1.56%\n",
      "86: 1.23%\n",
      "87: 1.0%\n",
      "88: 1.04%\n",
      "89: 0.66%\n",
      "90: 0.73%\n",
      "91: 0.89%\n",
      "92: 0.5%\n",
      "93: 0.29%\n",
      "94: 0.19%\n",
      "95: 0.15%\n",
      "96: 0.08%\n",
      "97: 0.19%\n",
      "98: 0.14%\n",
      "100: 0.02%\n",
      "\n",
      "FEMALE Distribution:\n",
      "----------------------------------------\n",
      "0.0: 51.0%\n",
      "1.0: 49.0%\n",
      "\n",
      "RACE Distribution:\n",
      "----------------------------------------\n",
      "0: 0.75%\n",
      "1: 63.84%\n",
      "2: 27.3%\n",
      "3: 3.2%\n",
      "4: 3.05%\n",
      "5: 0.12%\n",
      "6: 1.74%\n",
      "\n",
      "HISPANIC Distribution:\n",
      "----------------------------------------\n",
      "0: 96.8%\n",
      "1: 0.95%\n",
      "2: 0.21%\n",
      "3: 2.03%\n",
      "4: 0.02%\n",
      "\n",
      "ZIPINC_QRTL Distribution:\n",
      "----------------------------------------\n",
      "0: 1.29%\n",
      "1: 10.84%\n",
      "2: 11.83%\n",
      "3: 29.06%\n",
      "4: 46.98%\n",
      "\n",
      "MARITAL_STATUS Distribution:\n",
      "----------------------------------------\n",
      "0.0: 44.59%\n",
      "1.0: 55.41%\n",
      "\n",
      "AGE_BIN Distribution:\n",
      "----------------------------------------\n",
      "0-20: 0.06%\n",
      "21-40: 1.27%\n",
      "41-60: 23.23%\n",
      "61-80: 60.08%\n",
      "81+: 15.36%\n",
      "\n",
      "============================================================\n",
      "AGE - Descriptive Statistics\n",
      "============================================================\n",
      "count   5183.00\n",
      "mean      68.39\n",
      "std       11.76\n",
      "min        9.00\n",
      "25%       61.00\n",
      "50%       69.00\n",
      "75%       76.00\n",
      "max      100.00\n"
     ]
    }
   ],
   "source": [
    "print(\"=\"*60)\n",
    "print(\"Summary of Demographics Variables\")\n",
    "print(\"=\"*60)\n",
    "\n",
    "for col in demographics_df.columns:\n",
    "    print(f\"\\n{col.upper()} Distribution:\")\n",
    "    print(\"-\" * 40)\n",
    "    \n",
    "    counts = demographics_df[col].value_counts(normalize=True).sort_index() * 100\n",
    "    counts = counts.round(2)  # Round to 2 decimal places\n",
    "    \n",
    "    for idx, val in counts.items():\n",
    "        print(f\"{idx}: {val}%\")\n",
    "\n",
    "# Age Descriptive Statistics\n",
    "if 'age' in demographics_df.columns:\n",
    "    print(\"\\n\" + \"=\"*60)\n",
    "    print(\"AGE - Descriptive Statistics\")\n",
    "    print(\"=\"*60)\n",
    "    print(demographics_df['age'].describe().to_string(float_format=\"%.2f\"))\n"
   ]
  },
  {
   "cell_type": "code",
   "execution_count": 199,
   "id": "309342fb",
   "metadata": {},
   "outputs": [
    {
     "data": {
      "text/html": [
       "<div>\n",
       "<style scoped>\n",
       "    .dataframe tbody tr th:only-of-type {\n",
       "        vertical-align: middle;\n",
       "    }\n",
       "\n",
       "    .dataframe tbody tr th {\n",
       "        vertical-align: top;\n",
       "    }\n",
       "\n",
       "    .dataframe thead th {\n",
       "        text-align: right;\n",
       "    }\n",
       "</style>\n",
       "<table border=\"1\" class=\"dataframe\">\n",
       "  <thead>\n",
       "    <tr style=\"text-align: right;\">\n",
       "      <th></th>\n",
       "      <th>age</th>\n",
       "      <th>female</th>\n",
       "      <th>race</th>\n",
       "      <th>hispanic</th>\n",
       "      <th>zipinc_qrtl</th>\n",
       "      <th>marital_status</th>\n",
       "      <th>age_bin</th>\n",
       "    </tr>\n",
       "  </thead>\n",
       "  <tbody>\n",
       "    <tr>\n",
       "      <th>0</th>\n",
       "      <td>69</td>\n",
       "      <td>NaN</td>\n",
       "      <td>6</td>\n",
       "      <td>0</td>\n",
       "      <td>4</td>\n",
       "      <td>1.0</td>\n",
       "      <td>61-80</td>\n",
       "    </tr>\n",
       "    <tr>\n",
       "      <th>1</th>\n",
       "      <td>79</td>\n",
       "      <td>0.0</td>\n",
       "      <td>1</td>\n",
       "      <td>0</td>\n",
       "      <td>3</td>\n",
       "      <td>1.0</td>\n",
       "      <td>61-80</td>\n",
       "    </tr>\n",
       "    <tr>\n",
       "      <th>2</th>\n",
       "      <td>67</td>\n",
       "      <td>0.0</td>\n",
       "      <td>1</td>\n",
       "      <td>0</td>\n",
       "      <td>2</td>\n",
       "      <td>1.0</td>\n",
       "      <td>61-80</td>\n",
       "    </tr>\n",
       "    <tr>\n",
       "      <th>3</th>\n",
       "      <td>84</td>\n",
       "      <td>1.0</td>\n",
       "      <td>1</td>\n",
       "      <td>0</td>\n",
       "      <td>3</td>\n",
       "      <td>0.0</td>\n",
       "      <td>81+</td>\n",
       "    </tr>\n",
       "    <tr>\n",
       "      <th>4</th>\n",
       "      <td>76</td>\n",
       "      <td>1.0</td>\n",
       "      <td>1</td>\n",
       "      <td>0</td>\n",
       "      <td>2</td>\n",
       "      <td>0.0</td>\n",
       "      <td>61-80</td>\n",
       "    </tr>\n",
       "    <tr>\n",
       "      <th>...</th>\n",
       "      <td>...</td>\n",
       "      <td>...</td>\n",
       "      <td>...</td>\n",
       "      <td>...</td>\n",
       "      <td>...</td>\n",
       "      <td>...</td>\n",
       "      <td>...</td>\n",
       "    </tr>\n",
       "    <tr>\n",
       "      <th>5179</th>\n",
       "      <td>78</td>\n",
       "      <td>0.0</td>\n",
       "      <td>1</td>\n",
       "      <td>0</td>\n",
       "      <td>2</td>\n",
       "      <td>1.0</td>\n",
       "      <td>61-80</td>\n",
       "    </tr>\n",
       "    <tr>\n",
       "      <th>5180</th>\n",
       "      <td>72</td>\n",
       "      <td>0.0</td>\n",
       "      <td>1</td>\n",
       "      <td>0</td>\n",
       "      <td>4</td>\n",
       "      <td>1.0</td>\n",
       "      <td>61-80</td>\n",
       "    </tr>\n",
       "    <tr>\n",
       "      <th>5181</th>\n",
       "      <td>70</td>\n",
       "      <td>1.0</td>\n",
       "      <td>1</td>\n",
       "      <td>0</td>\n",
       "      <td>4</td>\n",
       "      <td>0.0</td>\n",
       "      <td>61-80</td>\n",
       "    </tr>\n",
       "    <tr>\n",
       "      <th>5182</th>\n",
       "      <td>74</td>\n",
       "      <td>1.0</td>\n",
       "      <td>1</td>\n",
       "      <td>0</td>\n",
       "      <td>4</td>\n",
       "      <td>0.0</td>\n",
       "      <td>61-80</td>\n",
       "    </tr>\n",
       "    <tr>\n",
       "      <th>5183</th>\n",
       "      <td>71</td>\n",
       "      <td>0.0</td>\n",
       "      <td>3</td>\n",
       "      <td>3</td>\n",
       "      <td>4</td>\n",
       "      <td>1.0</td>\n",
       "      <td>61-80</td>\n",
       "    </tr>\n",
       "  </tbody>\n",
       "</table>\n",
       "<p>5183 rows × 7 columns</p>\n",
       "</div>"
      ],
      "text/plain": [
       "      age  female  race  hispanic  zipinc_qrtl  marital_status age_bin\n",
       "0      69     NaN     6         0            4             1.0   61-80\n",
       "1      79     0.0     1         0            3             1.0   61-80\n",
       "2      67     0.0     1         0            2             1.0   61-80\n",
       "3      84     1.0     1         0            3             0.0     81+\n",
       "4      76     1.0     1         0            2             0.0   61-80\n",
       "...   ...     ...   ...       ...          ...             ...     ...\n",
       "5179   78     0.0     1         0            2             1.0   61-80\n",
       "5180   72     0.0     1         0            4             1.0   61-80\n",
       "5181   70     1.0     1         0            4             0.0   61-80\n",
       "5182   74     1.0     1         0            4             0.0   61-80\n",
       "5183   71     0.0     3         3            4             1.0   61-80\n",
       "\n",
       "[5183 rows x 7 columns]"
      ]
     },
     "execution_count": 199,
     "metadata": {},
     "output_type": "execute_result"
    }
   ],
   "source": [
    "demographics_df"
   ]
  },
  {
   "cell_type": "code",
   "execution_count": null,
   "id": "36078f04",
   "metadata": {},
   "outputs": [],
   "source": []
  },
  {
   "cell_type": "code",
   "execution_count": 200,
   "id": "0c93ba22",
   "metadata": {},
   "outputs": [],
   "source": [
    "# Example: Check if multiple records per patient exist\n",
    "# df['visitlink'].value_counts().value_counts()"
   ]
  },
  {
   "cell_type": "markdown",
   "id": "023832c0",
   "metadata": {},
   "source": [
    "Interpretation of Your HCUP Data:\n",
    "Number of Visits Per Patient\tNumber of Patients\tInterpretation\n",
    "- 1 visit\t3,283 patients\tMost of your patients (single admission)\n",
    "- 2 visits\t1,087 patients\tSmall group with readmission\n",
    "- 3 visits\t413 patients\tFewer patients with 3 stays\n",
    "- 4 visits\t203 patients\tVery few patients\n",
    "- 5+ visits\t< 100 patients\tRare, special cases (likely chronic conditions)\n"
   ]
  },
  {
   "cell_type": "code",
   "execution_count": 201,
   "id": "1f47ced0",
   "metadata": {},
   "outputs": [
    {
     "data": {
      "text/plain": [
       "Index(['age', 'female', 'race', 'hispanic', 'zipinc_qrtl', 'marital_status',\n",
       "       'hispanic_x'],\n",
       "      dtype='object')"
      ]
     },
     "execution_count": 201,
     "metadata": {},
     "output_type": "execute_result"
    }
   ],
   "source": [
    "df.columns"
   ]
  },
  {
   "cell_type": "code",
   "execution_count": null,
   "id": "570018ce",
   "metadata": {},
   "outputs": [],
   "source": []
  },
  {
   "cell_type": "code",
   "execution_count": 202,
   "id": "5279c160",
   "metadata": {},
   "outputs": [
    {
     "name": "stdout",
     "output_type": "stream",
     "text": [
      "===== Variable Distributions =====\n",
      "\n",
      "Column: AGE\n",
      "----------------------------------------\n",
      "count    5183.000000\n",
      "mean       68.391665\n",
      "std        11.760613\n",
      "min         9.000000\n",
      "25%        61.000000\n",
      "50%        69.000000\n",
      "75%        76.000000\n",
      "max       100.000000\n",
      "Name: age, dtype: float64\n",
      "\n",
      "Column: AGEDAY -- Not Found in DataFrame\n",
      "\n",
      "Column: AGEMONTH -- Not Found in DataFrame\n",
      "\n",
      "Column: FEMALE\n",
      "----------------------------------------\n",
      "female\n",
      "0.0    2643\n",
      "1.0    2539\n",
      "NaN       1\n",
      "Name: count, dtype: int64\n",
      "\n",
      "Column: RACE_EDIT -- Not Found in DataFrame\n",
      "\n",
      "Column: HISPANIC\n",
      "----------------------------------------\n",
      "hispanic\n",
      "0    5017\n",
      "3     105\n",
      "1      49\n",
      "2      11\n",
      "4       1\n",
      "Name: count, dtype: int64\n",
      "\n",
      "Column: MARITALSTATUS_X -- Not Found in DataFrame\n",
      "\n",
      "Column: DAYSTOEVENT -- Not Found in DataFrame\n",
      "\n",
      "Column: DIED -- Not Found in DataFrame\n",
      "\n",
      "Column: LOS -- Not Found in DataFrame\n",
      "\n",
      "Column: AGE\n",
      "----------------------------------------\n",
      "count    5183.000000\n",
      "mean       68.391665\n",
      "std        11.760613\n",
      "min         9.000000\n",
      "25%        61.000000\n",
      "50%        69.000000\n",
      "75%        76.000000\n",
      "max       100.000000\n",
      "Name: age, dtype: float64\n",
      "\n",
      "Column: I10_DXN -- Not Found in DataFrame\n",
      "\n",
      "Column: MDC -- Not Found in DataFrame\n",
      "\n",
      "Column: DRG -- Not Found in DataFrame\n",
      "\n",
      "Column: DXPOAN -- Not Found in DataFrame\n",
      "\n",
      "Column: HOSPID -- Not Found in DataFrame\n",
      "\n",
      "Column: DSHOSPID -- Not Found in DataFrame\n",
      "\n",
      "Column: HOSPST -- Not Found in DataFrame\n",
      "\n",
      "Column: PSTATE -- Not Found in DataFrame\n",
      "\n",
      "Column: ZIPINC_QRTL\n",
      "----------------------------------------\n",
      "zipinc_qrtl\n",
      "4    2435\n",
      "3    1506\n",
      "2     613\n",
      "1     562\n",
      "0      67\n",
      "Name: count, dtype: int64\n",
      "\n",
      "Column: MEDINCSTQ -- Not Found in DataFrame\n",
      "\n",
      "Column: PL_CBSA -- Not Found in DataFrame\n",
      "\n",
      "Column: PL_NCHS -- Not Found in DataFrame\n",
      "\n",
      "Column: PAY1 -- Not Found in DataFrame\n",
      "\n",
      "Column: PAY2 -- Not Found in DataFrame\n",
      "\n",
      "Column: PAY3 -- Not Found in DataFrame\n",
      "\n",
      "Column: AYEAR -- Not Found in DataFrame\n",
      "\n",
      "Column: YEAR -- Not Found in DataFrame\n",
      "\n",
      "Column: ATYPE -- Not Found in DataFrame\n",
      "\n",
      "Column: AWEEKEND -- Not Found in DataFrame\n",
      "\n",
      "Column: DISPUNIFORM -- Not Found in DataFrame\n",
      "\n",
      "Column: TRAN_IN -- Not Found in DataFrame\n",
      "\n",
      "Column: TRAN_OUT -- Not Found in DataFrame\n",
      "\n",
      "===== Done =====\n"
     ]
    }
   ],
   "source": [
    "# Assuming your dataframe is called df\n",
    "\n",
    "columns_to_keep = [\n",
    "    'age', 'ageday', 'agemonth', 'female', 'race_edit', 'hispanic', 'maritalstatus_x',\n",
    "    'daystoevent', 'died', 'los', \"age\",\n",
    "    'i10_dxn', 'mdc', 'drg', 'dxpoan',\n",
    "    'hospid', 'dshospid', 'hospst', 'pstate', 'zipinc_qrtl', 'medincstq', 'pl_cbsa', 'pl_nchs',\n",
    "    'pay1', 'pay2', 'pay3',\n",
    "    'ayear', 'year', 'atype', 'aweekend', 'dispuniform', 'tran_in', 'tran_out'\n",
    "]\n",
    "\n",
    "print(\"===== Variable Distributions =====\")\n",
    "\n",
    "for col in columns_to_keep:\n",
    "    if col in df.columns:\n",
    "        print(f\"\\nColumn: {col.upper()}\")\n",
    "        print(\"-\" * 40)\n",
    "        \n",
    "        if df[col].dtype in ['int64', 'float64'] and col in ['age', 'ageday', 'agemonth', 'los', 'daystoevent']:\n",
    "            print(df[col].describe())\n",
    "        else:\n",
    "            print(df[col].value_counts(dropna=False))\n",
    "    else:\n",
    "        print(f\"\\nColumn: {col.upper()} -- Not Found in DataFrame\")\n",
    "\n",
    "print(\"\\n===== Done =====\")\n"
   ]
  },
  {
   "cell_type": "code",
   "execution_count": 203,
   "id": "81f1aea2",
   "metadata": {},
   "outputs": [
    {
     "data": {
      "text/html": [
       "<div>\n",
       "<style scoped>\n",
       "    .dataframe tbody tr th:only-of-type {\n",
       "        vertical-align: middle;\n",
       "    }\n",
       "\n",
       "    .dataframe tbody tr th {\n",
       "        vertical-align: top;\n",
       "    }\n",
       "\n",
       "    .dataframe thead th {\n",
       "        text-align: right;\n",
       "    }\n",
       "</style>\n",
       "<table border=\"1\" class=\"dataframe\">\n",
       "  <thead>\n",
       "    <tr style=\"text-align: right;\">\n",
       "      <th></th>\n",
       "      <th>age</th>\n",
       "      <th>female</th>\n",
       "      <th>race</th>\n",
       "      <th>hispanic</th>\n",
       "      <th>zipinc_qrtl</th>\n",
       "      <th>marital_status</th>\n",
       "      <th>age_bin</th>\n",
       "    </tr>\n",
       "  </thead>\n",
       "  <tbody>\n",
       "    <tr>\n",
       "      <th>0</th>\n",
       "      <td>69</td>\n",
       "      <td>NaN</td>\n",
       "      <td>6</td>\n",
       "      <td>0</td>\n",
       "      <td>4</td>\n",
       "      <td>1.0</td>\n",
       "      <td>61-80</td>\n",
       "    </tr>\n",
       "    <tr>\n",
       "      <th>1</th>\n",
       "      <td>79</td>\n",
       "      <td>0.0</td>\n",
       "      <td>1</td>\n",
       "      <td>0</td>\n",
       "      <td>3</td>\n",
       "      <td>1.0</td>\n",
       "      <td>61-80</td>\n",
       "    </tr>\n",
       "    <tr>\n",
       "      <th>2</th>\n",
       "      <td>67</td>\n",
       "      <td>0.0</td>\n",
       "      <td>1</td>\n",
       "      <td>0</td>\n",
       "      <td>2</td>\n",
       "      <td>1.0</td>\n",
       "      <td>61-80</td>\n",
       "    </tr>\n",
       "    <tr>\n",
       "      <th>3</th>\n",
       "      <td>84</td>\n",
       "      <td>1.0</td>\n",
       "      <td>1</td>\n",
       "      <td>0</td>\n",
       "      <td>3</td>\n",
       "      <td>0.0</td>\n",
       "      <td>81+</td>\n",
       "    </tr>\n",
       "    <tr>\n",
       "      <th>4</th>\n",
       "      <td>76</td>\n",
       "      <td>1.0</td>\n",
       "      <td>1</td>\n",
       "      <td>0</td>\n",
       "      <td>2</td>\n",
       "      <td>0.0</td>\n",
       "      <td>61-80</td>\n",
       "    </tr>\n",
       "    <tr>\n",
       "      <th>...</th>\n",
       "      <td>...</td>\n",
       "      <td>...</td>\n",
       "      <td>...</td>\n",
       "      <td>...</td>\n",
       "      <td>...</td>\n",
       "      <td>...</td>\n",
       "      <td>...</td>\n",
       "    </tr>\n",
       "    <tr>\n",
       "      <th>5179</th>\n",
       "      <td>78</td>\n",
       "      <td>0.0</td>\n",
       "      <td>1</td>\n",
       "      <td>0</td>\n",
       "      <td>2</td>\n",
       "      <td>1.0</td>\n",
       "      <td>61-80</td>\n",
       "    </tr>\n",
       "    <tr>\n",
       "      <th>5180</th>\n",
       "      <td>72</td>\n",
       "      <td>0.0</td>\n",
       "      <td>1</td>\n",
       "      <td>0</td>\n",
       "      <td>4</td>\n",
       "      <td>1.0</td>\n",
       "      <td>61-80</td>\n",
       "    </tr>\n",
       "    <tr>\n",
       "      <th>5181</th>\n",
       "      <td>70</td>\n",
       "      <td>1.0</td>\n",
       "      <td>1</td>\n",
       "      <td>0</td>\n",
       "      <td>4</td>\n",
       "      <td>0.0</td>\n",
       "      <td>61-80</td>\n",
       "    </tr>\n",
       "    <tr>\n",
       "      <th>5182</th>\n",
       "      <td>74</td>\n",
       "      <td>1.0</td>\n",
       "      <td>1</td>\n",
       "      <td>0</td>\n",
       "      <td>4</td>\n",
       "      <td>0.0</td>\n",
       "      <td>61-80</td>\n",
       "    </tr>\n",
       "    <tr>\n",
       "      <th>5183</th>\n",
       "      <td>71</td>\n",
       "      <td>0.0</td>\n",
       "      <td>3</td>\n",
       "      <td>3</td>\n",
       "      <td>4</td>\n",
       "      <td>1.0</td>\n",
       "      <td>61-80</td>\n",
       "    </tr>\n",
       "  </tbody>\n",
       "</table>\n",
       "<p>5183 rows × 7 columns</p>\n",
       "</div>"
      ],
      "text/plain": [
       "      age  female  race  hispanic  zipinc_qrtl  marital_status age_bin\n",
       "0      69     NaN     6         0            4             1.0   61-80\n",
       "1      79     0.0     1         0            3             1.0   61-80\n",
       "2      67     0.0     1         0            2             1.0   61-80\n",
       "3      84     1.0     1         0            3             0.0     81+\n",
       "4      76     1.0     1         0            2             0.0   61-80\n",
       "...   ...     ...   ...       ...          ...             ...     ...\n",
       "5179   78     0.0     1         0            2             1.0   61-80\n",
       "5180   72     0.0     1         0            4             1.0   61-80\n",
       "5181   70     1.0     1         0            4             0.0   61-80\n",
       "5182   74     1.0     1         0            4             0.0   61-80\n",
       "5183   71     0.0     3         3            4             1.0   61-80\n",
       "\n",
       "[5183 rows x 7 columns]"
      ]
     },
     "execution_count": 203,
     "metadata": {},
     "output_type": "execute_result"
    }
   ],
   "source": [
    "demographics_df"
   ]
  },
  {
   "cell_type": "code",
   "execution_count": 204,
   "id": "3676f992",
   "metadata": {},
   "outputs": [
    {
     "data": {
      "text/plain": [
       "Index(['age', 'female', 'race', 'hispanic', 'zipinc_qrtl', 'marital_status',\n",
       "       'age_bin'],\n",
       "      dtype='object')"
      ]
     },
     "execution_count": 204,
     "metadata": {},
     "output_type": "execute_result"
    }
   ],
   "source": [
    "demographics_df.columns"
   ]
  },
  {
   "cell_type": "code",
   "execution_count": 205,
   "id": "603e05b9",
   "metadata": {},
   "outputs": [
    {
     "name": "stderr",
     "output_type": "stream",
     "text": [
      "C:\\Users\\nemat\\AppData\\Local\\Temp\\ipykernel_18968\\2787192210.py:4: DtypeWarning:\n",
      "\n",
      "Columns (52,53,54,55,56,102,114,119,120,121,122,123,124,125,126,127,128,129,130,131,132,133,134,135,136,137,138,139,140,141,142,143,144,145,146,147,148,149,150,151,152,153,154,155,156,157,158,159,160,161,162,163,170,171,172,177) have mixed types. Specify dtype option on import or set low_memory=False.\n",
      "\n"
     ]
    },
    {
     "data": {
      "text/plain": [
       "(5184, 753)"
      ]
     },
     "execution_count": 205,
     "metadata": {},
     "output_type": "execute_result"
    }
   ],
   "source": [
    "# Reading data from a file\n",
    "import pandas as pd\n",
    "import numpy as np\n",
    "df = pd.read_csv('../data/data/hot_encoding_Cancer_pancreas.csv')\n",
    "df = df.reindex(sorted(df.columns), axis=1)\n",
    "df.columns = df.columns.str.lower()\n",
    "\n",
    "del df[\"race_edit\"]\n",
    "del df[\"maritalstatus_x\"]\n",
    "del df[\"hispanic_x\"]\n",
    "del df[\"maritalstatusub04\"]\n",
    "del df[\"asource\"] # asource\tPatient Source (1=Hospital, 2=Physician, 3=Other)\n",
    "del df[\"asource_x\"] # asource_x\tPatient Source (1=Hospital, 2=Physician, 3=Other)\n",
    "del df[\"key\"] # key\tPatient Key linked to the SEER database\n",
    "del df[\"mdnum1_r\"] # mdnum1_r\tPhysician Number (linked to the SEER database)\n",
    "del df[\"mdnum2_r\"] # mdnum2_r\tPhysician Number (linked to the SEER database)\n",
    "del df[\"zip\"] # zip\tPatient ZIP Code\n",
    "del df[\"zip3\"] # zip3\tPatient ZIP Code (first three digits)\n",
    "del df[\"zipinc_qrtl\"] # zipinc_qrtl\tPatient ZIP Code Income Quartile (based on patient ZIP Code)\n",
    "del df['race_x'] # same as race\n",
    "del df[\"pstco\"] # pstco\tPatient State Code (linked to the SEER database)\n",
    "del df[\"pstco2\"] # pstco2\tPatient State Code (linked to the SEER database)\n",
    "del df[\"los_x\"]\n",
    "del df[\"mdc_nopoa\"]\n",
    "del df[\"drg_nopoa\"]\n",
    "del df[\"totchg_x\"]\n",
    "del df[\"xxx000\"]\n",
    "del df[\"end010\"]\n",
    "del df[\"end011\"]\n",
    "del df[\"race\"]\n",
    "del df[\"female\"]\n",
    "# del df[\"age\"]\n",
    "del df[\"hispanic\"]\n",
    "del df[\"payer1_x\"]\n",
    "del df[\"payer2_x\"]\n",
    "# lower case df\n",
    "df = df.sort_values(['visitlink', 'daystoevent']).drop_duplicates(subset='visitlink', keep='first')\n",
    "df = df.reset_index(drop=True)\n",
    "df.value_counts().value_counts()\n",
    "df.shape"
   ]
  },
  {
   "cell_type": "code",
   "execution_count": 206,
   "id": "d61da87c",
   "metadata": {},
   "outputs": [
    {
     "name": "stdout",
     "output_type": "stream",
     "text": [
      "Remaining columns: ['cir007', 'dig004', 'fac025', 'neo051', 'neo070', 'age', 'ageday', 'agemonth', 'atype', 'aweekend', 'ayear', 'daystoevent', 'died', 'disp_x', 'dispub04', 'dispuniform', 'dqtr', 'drg', 'drgver', 'dshospid', 'dxpoa1', 'dxpoa10', 'dxpoa11', 'dxpoa12', 'dxpoa13', 'dxpoa14', 'dxpoa15', 'dxpoa16', 'dxpoa17', 'dxpoa18', 'dxpoa19', 'dxpoa2', 'dxpoa20', 'dxpoa21', 'dxpoa22', 'dxpoa23', 'dxpoa24', 'dxpoa25', 'dxpoa26', 'dxpoa27', 'dxpoa28', 'dxpoa29', 'dxpoa3', 'dxpoa30', 'dxpoa31', 'dxpoa32', 'dxpoa33', 'dxpoa34', 'dxpoa35', 'dxpoa36', 'dxpoa37', 'dxpoa38', 'dxpoa39', 'dxpoa4', 'dxpoa40', 'dxpoa41', 'dxpoa42', 'dxpoa43', 'dxpoa44', 'dxpoa45', 'dxpoa46', 'dxpoa47', 'dxpoa48', 'dxpoa49', 'dxpoa5', 'dxpoa50', 'dxpoa51', 'dxpoa52', 'dxpoa53', 'dxpoa54', 'dxpoa55', 'dxpoa56', 'dxpoa57', 'dxpoa58', 'dxpoa59', 'dxpoa6', 'dxpoa60', 'dxpoa7', 'dxpoa8', 'dxpoa9', 'e_poa2', 'hcup_ed', 'hospitalunit', 'hospst', 'i10_ndx', 'i10_npr', 'i10_proctype', 'los', 'mdc', 'medincstq', 'mrn_r', 'p7edsrc_x', 'pay1', 'pay1_x', 'pay2', 'pay2_x', 'pay3', 'pay3_x', 'pl_cbsa', 'pl_nchs', 'pl_rucc', 'pl_uic', 'pl_ur_cat4', 'pointoforigin_x', 'pointoforiginub04', 'primlang', 'pstate', 'totchg', 'tran_in', 'tran_out', 'visitlink']\n"
     ]
    },
    {
     "data": {
      "text/html": [
       "<div>\n",
       "<style scoped>\n",
       "    .dataframe tbody tr th:only-of-type {\n",
       "        vertical-align: middle;\n",
       "    }\n",
       "\n",
       "    .dataframe tbody tr th {\n",
       "        vertical-align: top;\n",
       "    }\n",
       "\n",
       "    .dataframe thead th {\n",
       "        text-align: right;\n",
       "    }\n",
       "</style>\n",
       "<table border=\"1\" class=\"dataframe\">\n",
       "  <thead>\n",
       "    <tr style=\"text-align: right;\">\n",
       "      <th></th>\n",
       "      <th>cir007</th>\n",
       "      <th>dig004</th>\n",
       "      <th>fac025</th>\n",
       "      <th>neo051</th>\n",
       "      <th>neo070</th>\n",
       "      <th>age</th>\n",
       "      <th>ageday</th>\n",
       "      <th>agemonth</th>\n",
       "      <th>atype</th>\n",
       "      <th>aweekend</th>\n",
       "      <th>...</th>\n",
       "      <th>pl_uic</th>\n",
       "      <th>pl_ur_cat4</th>\n",
       "      <th>pointoforigin_x</th>\n",
       "      <th>pointoforiginub04</th>\n",
       "      <th>primlang</th>\n",
       "      <th>pstate</th>\n",
       "      <th>totchg</th>\n",
       "      <th>tran_in</th>\n",
       "      <th>tran_out</th>\n",
       "      <th>visitlink</th>\n",
       "    </tr>\n",
       "  </thead>\n",
       "  <tbody>\n",
       "    <tr>\n",
       "      <th>0</th>\n",
       "      <td>1</td>\n",
       "      <td>0</td>\n",
       "      <td>0</td>\n",
       "      <td>1</td>\n",
       "      <td>1</td>\n",
       "      <td>69</td>\n",
       "      <td>0</td>\n",
       "      <td>0</td>\n",
       "      <td>3</td>\n",
       "      <td>0</td>\n",
       "      <td>...</td>\n",
       "      <td>1</td>\n",
       "      <td>1</td>\n",
       "      <td>0</td>\n",
       "      <td>0</td>\n",
       "      <td>eng</td>\n",
       "      <td>VA</td>\n",
       "      <td>66714</td>\n",
       "      <td>0</td>\n",
       "      <td>0</td>\n",
       "      <td>-99999999</td>\n",
       "    </tr>\n",
       "    <tr>\n",
       "      <th>1</th>\n",
       "      <td>1</td>\n",
       "      <td>1</td>\n",
       "      <td>1</td>\n",
       "      <td>1</td>\n",
       "      <td>1</td>\n",
       "      <td>79</td>\n",
       "      <td>0</td>\n",
       "      <td>0</td>\n",
       "      <td>1</td>\n",
       "      <td>0</td>\n",
       "      <td>...</td>\n",
       "      <td>2</td>\n",
       "      <td>2</td>\n",
       "      <td>0</td>\n",
       "      <td>0</td>\n",
       "      <td>eng</td>\n",
       "      <td>MD</td>\n",
       "      <td>10092</td>\n",
       "      <td>0</td>\n",
       "      <td>0</td>\n",
       "      <td>1826938</td>\n",
       "    </tr>\n",
       "    <tr>\n",
       "      <th>2</th>\n",
       "      <td>1</td>\n",
       "      <td>1</td>\n",
       "      <td>1</td>\n",
       "      <td>1</td>\n",
       "      <td>0</td>\n",
       "      <td>67</td>\n",
       "      <td>0</td>\n",
       "      <td>0</td>\n",
       "      <td>1</td>\n",
       "      <td>0</td>\n",
       "      <td>...</td>\n",
       "      <td>2</td>\n",
       "      <td>2</td>\n",
       "      <td>0</td>\n",
       "      <td>0</td>\n",
       "      <td>eng</td>\n",
       "      <td>MD</td>\n",
       "      <td>8111</td>\n",
       "      <td>0</td>\n",
       "      <td>0</td>\n",
       "      <td>1827576</td>\n",
       "    </tr>\n",
       "    <tr>\n",
       "      <th>3</th>\n",
       "      <td>1</td>\n",
       "      <td>0</td>\n",
       "      <td>0</td>\n",
       "      <td>1</td>\n",
       "      <td>0</td>\n",
       "      <td>84</td>\n",
       "      <td>0</td>\n",
       "      <td>0</td>\n",
       "      <td>1</td>\n",
       "      <td>0</td>\n",
       "      <td>...</td>\n",
       "      <td>2</td>\n",
       "      <td>2</td>\n",
       "      <td>0</td>\n",
       "      <td>0</td>\n",
       "      <td>eng</td>\n",
       "      <td>MD</td>\n",
       "      <td>18923</td>\n",
       "      <td>2</td>\n",
       "      <td>0</td>\n",
       "      <td>1829503</td>\n",
       "    </tr>\n",
       "    <tr>\n",
       "      <th>4</th>\n",
       "      <td>0</td>\n",
       "      <td>1</td>\n",
       "      <td>1</td>\n",
       "      <td>1</td>\n",
       "      <td>0</td>\n",
       "      <td>76</td>\n",
       "      <td>0</td>\n",
       "      <td>0</td>\n",
       "      <td>1</td>\n",
       "      <td>0</td>\n",
       "      <td>...</td>\n",
       "      <td>2</td>\n",
       "      <td>2</td>\n",
       "      <td>0</td>\n",
       "      <td>0</td>\n",
       "      <td>eng</td>\n",
       "      <td>MD</td>\n",
       "      <td>18167</td>\n",
       "      <td>0</td>\n",
       "      <td>2</td>\n",
       "      <td>1831081</td>\n",
       "    </tr>\n",
       "  </tbody>\n",
       "</table>\n",
       "<p>5 rows × 111 columns</p>\n",
       "</div>"
      ],
      "text/plain": [
       "   cir007  dig004  fac025  neo051  neo070  age  ageday  agemonth  atype  \\\n",
       "0       1       0       0       1       1   69       0         0      3   \n",
       "1       1       1       1       1       1   79       0         0      1   \n",
       "2       1       1       1       1       0   67       0         0      1   \n",
       "3       1       0       0       1       0   84       0         0      1   \n",
       "4       0       1       1       1       0   76       0         0      1   \n",
       "\n",
       "   aweekend  ...  pl_uic  pl_ur_cat4  pointoforigin_x  pointoforiginub04  \\\n",
       "0         0  ...       1           1                0                  0   \n",
       "1         0  ...       2           2                0                  0   \n",
       "2         0  ...       2           2                0                  0   \n",
       "3         0  ...       2           2                0                  0   \n",
       "4         0  ...       2           2                0                  0   \n",
       "\n",
       "   primlang  pstate  totchg  tran_in  tran_out  visitlink  \n",
       "0       eng      VA   66714        0         0  -99999999  \n",
       "1       eng      MD   10092        0         0    1826938  \n",
       "2       eng      MD    8111        0         0    1827576  \n",
       "3       eng      MD   18923        2         0    1829503  \n",
       "4       eng      MD   18167        0         2    1831081  \n",
       "\n",
       "[5 rows x 111 columns]"
      ]
     },
     "execution_count": 206,
     "metadata": {},
     "output_type": "execute_result"
    }
   ],
   "source": [
    "import pandas as pd\n",
    "\n",
    "# Calculate percentage of zeros for all columns\n",
    "columns_to_drop = [\n",
    "    col for col in df.columns\n",
    "    if (df[col] == 0).mean() >= 0.70\n",
    "    #except this column\n",
    "    and col not in [\n",
    "    'age', 'ageday', 'agemonth', 'female', 'race_edit', 'hispanic', 'maritalstatus_x',\n",
    "    'daystoevent', 'died', 'los',\n",
    "    'i10_dxn', 'mdc', 'drg', 'dxpoan',\n",
    "    'hospid', 'dshospid', 'hospst', 'pstate', 'zipinc_qrtl', 'medincstq', 'pl_cbsa', 'pl_nchs',\n",
    "    'pay1', 'pay2', 'pay3',\n",
    "    'ayear', 'year', 'atype', 'aweekend', 'dispuniform', 'tran_in', 'tran_out'\n",
    "    ]\n",
    "]\n",
    "\n",
    "# print(f\"Columns to drop (>=70% zeros): {columns_to_drop}\")\n",
    "\n",
    "# Drop those columns\n",
    "df.drop(columns=columns_to_drop, inplace=True)\n",
    "\n",
    "\n",
    "# Final result\n",
    "print(f\"Remaining columns: {df.columns.tolist()}\")\n",
    "\n",
    "df.head()\n"
   ]
  },
  {
   "cell_type": "code",
   "execution_count": 207,
   "id": "48b35e4d",
   "metadata": {},
   "outputs": [
    {
     "data": {
      "text/html": [
       "<div>\n",
       "<style scoped>\n",
       "    .dataframe tbody tr th:only-of-type {\n",
       "        vertical-align: middle;\n",
       "    }\n",
       "\n",
       "    .dataframe tbody tr th {\n",
       "        vertical-align: top;\n",
       "    }\n",
       "\n",
       "    .dataframe thead th {\n",
       "        text-align: right;\n",
       "    }\n",
       "</style>\n",
       "<table border=\"1\" class=\"dataframe\">\n",
       "  <thead>\n",
       "    <tr style=\"text-align: right;\">\n",
       "      <th></th>\n",
       "      <th>age</th>\n",
       "      <th>female</th>\n",
       "      <th>race</th>\n",
       "      <th>hispanic</th>\n",
       "      <th>zipinc_qrtl</th>\n",
       "      <th>marital_status</th>\n",
       "      <th>age_bin</th>\n",
       "    </tr>\n",
       "  </thead>\n",
       "  <tbody>\n",
       "    <tr>\n",
       "      <th>0</th>\n",
       "      <td>69</td>\n",
       "      <td>NaN</td>\n",
       "      <td>6</td>\n",
       "      <td>0</td>\n",
       "      <td>4</td>\n",
       "      <td>1.0</td>\n",
       "      <td>61-80</td>\n",
       "    </tr>\n",
       "    <tr>\n",
       "      <th>1</th>\n",
       "      <td>79</td>\n",
       "      <td>0.0</td>\n",
       "      <td>1</td>\n",
       "      <td>0</td>\n",
       "      <td>3</td>\n",
       "      <td>1.0</td>\n",
       "      <td>61-80</td>\n",
       "    </tr>\n",
       "    <tr>\n",
       "      <th>2</th>\n",
       "      <td>67</td>\n",
       "      <td>0.0</td>\n",
       "      <td>1</td>\n",
       "      <td>0</td>\n",
       "      <td>2</td>\n",
       "      <td>1.0</td>\n",
       "      <td>61-80</td>\n",
       "    </tr>\n",
       "    <tr>\n",
       "      <th>3</th>\n",
       "      <td>84</td>\n",
       "      <td>1.0</td>\n",
       "      <td>1</td>\n",
       "      <td>0</td>\n",
       "      <td>3</td>\n",
       "      <td>0.0</td>\n",
       "      <td>81+</td>\n",
       "    </tr>\n",
       "    <tr>\n",
       "      <th>4</th>\n",
       "      <td>76</td>\n",
       "      <td>1.0</td>\n",
       "      <td>1</td>\n",
       "      <td>0</td>\n",
       "      <td>2</td>\n",
       "      <td>0.0</td>\n",
       "      <td>61-80</td>\n",
       "    </tr>\n",
       "    <tr>\n",
       "      <th>...</th>\n",
       "      <td>...</td>\n",
       "      <td>...</td>\n",
       "      <td>...</td>\n",
       "      <td>...</td>\n",
       "      <td>...</td>\n",
       "      <td>...</td>\n",
       "      <td>...</td>\n",
       "    </tr>\n",
       "    <tr>\n",
       "      <th>5179</th>\n",
       "      <td>78</td>\n",
       "      <td>0.0</td>\n",
       "      <td>1</td>\n",
       "      <td>0</td>\n",
       "      <td>2</td>\n",
       "      <td>1.0</td>\n",
       "      <td>61-80</td>\n",
       "    </tr>\n",
       "    <tr>\n",
       "      <th>5180</th>\n",
       "      <td>72</td>\n",
       "      <td>0.0</td>\n",
       "      <td>1</td>\n",
       "      <td>0</td>\n",
       "      <td>4</td>\n",
       "      <td>1.0</td>\n",
       "      <td>61-80</td>\n",
       "    </tr>\n",
       "    <tr>\n",
       "      <th>5181</th>\n",
       "      <td>70</td>\n",
       "      <td>1.0</td>\n",
       "      <td>1</td>\n",
       "      <td>0</td>\n",
       "      <td>4</td>\n",
       "      <td>0.0</td>\n",
       "      <td>61-80</td>\n",
       "    </tr>\n",
       "    <tr>\n",
       "      <th>5182</th>\n",
       "      <td>74</td>\n",
       "      <td>1.0</td>\n",
       "      <td>1</td>\n",
       "      <td>0</td>\n",
       "      <td>4</td>\n",
       "      <td>0.0</td>\n",
       "      <td>61-80</td>\n",
       "    </tr>\n",
       "    <tr>\n",
       "      <th>5183</th>\n",
       "      <td>71</td>\n",
       "      <td>0.0</td>\n",
       "      <td>3</td>\n",
       "      <td>3</td>\n",
       "      <td>4</td>\n",
       "      <td>1.0</td>\n",
       "      <td>61-80</td>\n",
       "    </tr>\n",
       "  </tbody>\n",
       "</table>\n",
       "<p>5183 rows × 7 columns</p>\n",
       "</div>"
      ],
      "text/plain": [
       "      age  female  race  hispanic  zipinc_qrtl  marital_status age_bin\n",
       "0      69     NaN     6         0            4             1.0   61-80\n",
       "1      79     0.0     1         0            3             1.0   61-80\n",
       "2      67     0.0     1         0            2             1.0   61-80\n",
       "3      84     1.0     1         0            3             0.0     81+\n",
       "4      76     1.0     1         0            2             0.0   61-80\n",
       "...   ...     ...   ...       ...          ...             ...     ...\n",
       "5179   78     0.0     1         0            2             1.0   61-80\n",
       "5180   72     0.0     1         0            4             1.0   61-80\n",
       "5181   70     1.0     1         0            4             0.0   61-80\n",
       "5182   74     1.0     1         0            4             0.0   61-80\n",
       "5183   71     0.0     3         3            4             1.0   61-80\n",
       "\n",
       "[5183 rows x 7 columns]"
      ]
     },
     "execution_count": 207,
     "metadata": {},
     "output_type": "execute_result"
    }
   ],
   "source": [
    "demographics_df"
   ]
  },
  {
   "cell_type": "code",
   "execution_count": 208,
   "id": "e247e50e",
   "metadata": {},
   "outputs": [
    {
     "data": {
      "text/html": [
       "<div>\n",
       "<style scoped>\n",
       "    .dataframe tbody tr th:only-of-type {\n",
       "        vertical-align: middle;\n",
       "    }\n",
       "\n",
       "    .dataframe tbody tr th {\n",
       "        vertical-align: top;\n",
       "    }\n",
       "\n",
       "    .dataframe thead th {\n",
       "        text-align: right;\n",
       "    }\n",
       "</style>\n",
       "<table border=\"1\" class=\"dataframe\">\n",
       "  <thead>\n",
       "    <tr style=\"text-align: right;\">\n",
       "      <th></th>\n",
       "      <th>cir007</th>\n",
       "      <th>dig004</th>\n",
       "      <th>fac025</th>\n",
       "      <th>neo051</th>\n",
       "      <th>neo070</th>\n",
       "      <th>age</th>\n",
       "      <th>ageday</th>\n",
       "      <th>agemonth</th>\n",
       "      <th>atype</th>\n",
       "      <th>aweekend</th>\n",
       "      <th>...</th>\n",
       "      <th>pl_uic</th>\n",
       "      <th>pl_ur_cat4</th>\n",
       "      <th>pointoforigin_x</th>\n",
       "      <th>pointoforiginub04</th>\n",
       "      <th>primlang</th>\n",
       "      <th>pstate</th>\n",
       "      <th>totchg</th>\n",
       "      <th>tran_in</th>\n",
       "      <th>tran_out</th>\n",
       "      <th>visitlink</th>\n",
       "    </tr>\n",
       "  </thead>\n",
       "  <tbody>\n",
       "    <tr>\n",
       "      <th>0</th>\n",
       "      <td>1</td>\n",
       "      <td>0</td>\n",
       "      <td>0</td>\n",
       "      <td>1</td>\n",
       "      <td>1</td>\n",
       "      <td>69</td>\n",
       "      <td>0</td>\n",
       "      <td>0</td>\n",
       "      <td>3</td>\n",
       "      <td>0</td>\n",
       "      <td>...</td>\n",
       "      <td>1</td>\n",
       "      <td>1</td>\n",
       "      <td>0</td>\n",
       "      <td>0</td>\n",
       "      <td>eng</td>\n",
       "      <td>VA</td>\n",
       "      <td>66714</td>\n",
       "      <td>0</td>\n",
       "      <td>0</td>\n",
       "      <td>-99999999</td>\n",
       "    </tr>\n",
       "    <tr>\n",
       "      <th>1</th>\n",
       "      <td>1</td>\n",
       "      <td>1</td>\n",
       "      <td>1</td>\n",
       "      <td>1</td>\n",
       "      <td>1</td>\n",
       "      <td>79</td>\n",
       "      <td>0</td>\n",
       "      <td>0</td>\n",
       "      <td>1</td>\n",
       "      <td>0</td>\n",
       "      <td>...</td>\n",
       "      <td>2</td>\n",
       "      <td>2</td>\n",
       "      <td>0</td>\n",
       "      <td>0</td>\n",
       "      <td>eng</td>\n",
       "      <td>MD</td>\n",
       "      <td>10092</td>\n",
       "      <td>0</td>\n",
       "      <td>0</td>\n",
       "      <td>1826938</td>\n",
       "    </tr>\n",
       "    <tr>\n",
       "      <th>2</th>\n",
       "      <td>1</td>\n",
       "      <td>1</td>\n",
       "      <td>1</td>\n",
       "      <td>1</td>\n",
       "      <td>0</td>\n",
       "      <td>67</td>\n",
       "      <td>0</td>\n",
       "      <td>0</td>\n",
       "      <td>1</td>\n",
       "      <td>0</td>\n",
       "      <td>...</td>\n",
       "      <td>2</td>\n",
       "      <td>2</td>\n",
       "      <td>0</td>\n",
       "      <td>0</td>\n",
       "      <td>eng</td>\n",
       "      <td>MD</td>\n",
       "      <td>8111</td>\n",
       "      <td>0</td>\n",
       "      <td>0</td>\n",
       "      <td>1827576</td>\n",
       "    </tr>\n",
       "    <tr>\n",
       "      <th>3</th>\n",
       "      <td>1</td>\n",
       "      <td>0</td>\n",
       "      <td>0</td>\n",
       "      <td>1</td>\n",
       "      <td>0</td>\n",
       "      <td>84</td>\n",
       "      <td>0</td>\n",
       "      <td>0</td>\n",
       "      <td>1</td>\n",
       "      <td>0</td>\n",
       "      <td>...</td>\n",
       "      <td>2</td>\n",
       "      <td>2</td>\n",
       "      <td>0</td>\n",
       "      <td>0</td>\n",
       "      <td>eng</td>\n",
       "      <td>MD</td>\n",
       "      <td>18923</td>\n",
       "      <td>2</td>\n",
       "      <td>0</td>\n",
       "      <td>1829503</td>\n",
       "    </tr>\n",
       "    <tr>\n",
       "      <th>4</th>\n",
       "      <td>0</td>\n",
       "      <td>1</td>\n",
       "      <td>1</td>\n",
       "      <td>1</td>\n",
       "      <td>0</td>\n",
       "      <td>76</td>\n",
       "      <td>0</td>\n",
       "      <td>0</td>\n",
       "      <td>1</td>\n",
       "      <td>0</td>\n",
       "      <td>...</td>\n",
       "      <td>2</td>\n",
       "      <td>2</td>\n",
       "      <td>0</td>\n",
       "      <td>0</td>\n",
       "      <td>eng</td>\n",
       "      <td>MD</td>\n",
       "      <td>18167</td>\n",
       "      <td>0</td>\n",
       "      <td>2</td>\n",
       "      <td>1831081</td>\n",
       "    </tr>\n",
       "    <tr>\n",
       "      <th>...</th>\n",
       "      <td>...</td>\n",
       "      <td>...</td>\n",
       "      <td>...</td>\n",
       "      <td>...</td>\n",
       "      <td>...</td>\n",
       "      <td>...</td>\n",
       "      <td>...</td>\n",
       "      <td>...</td>\n",
       "      <td>...</td>\n",
       "      <td>...</td>\n",
       "      <td>...</td>\n",
       "      <td>...</td>\n",
       "      <td>...</td>\n",
       "      <td>...</td>\n",
       "      <td>...</td>\n",
       "      <td>...</td>\n",
       "      <td>...</td>\n",
       "      <td>...</td>\n",
       "      <td>...</td>\n",
       "      <td>...</td>\n",
       "      <td>...</td>\n",
       "    </tr>\n",
       "    <tr>\n",
       "      <th>5179</th>\n",
       "      <td>1</td>\n",
       "      <td>0</td>\n",
       "      <td>0</td>\n",
       "      <td>1</td>\n",
       "      <td>1</td>\n",
       "      <td>78</td>\n",
       "      <td>0</td>\n",
       "      <td>0</td>\n",
       "      <td>1</td>\n",
       "      <td>0</td>\n",
       "      <td>...</td>\n",
       "      <td>1</td>\n",
       "      <td>1</td>\n",
       "      <td>01</td>\n",
       "      <td>1</td>\n",
       "      <td>eng</td>\n",
       "      <td>MD</td>\n",
       "      <td>27827</td>\n",
       "      <td>0</td>\n",
       "      <td>2</td>\n",
       "      <td>13981288</td>\n",
       "    </tr>\n",
       "    <tr>\n",
       "      <th>5180</th>\n",
       "      <td>1</td>\n",
       "      <td>0</td>\n",
       "      <td>0</td>\n",
       "      <td>1</td>\n",
       "      <td>0</td>\n",
       "      <td>72</td>\n",
       "      <td>0</td>\n",
       "      <td>0</td>\n",
       "      <td>3</td>\n",
       "      <td>0</td>\n",
       "      <td>...</td>\n",
       "      <td>1</td>\n",
       "      <td>1</td>\n",
       "      <td>01</td>\n",
       "      <td>1</td>\n",
       "      <td>eng</td>\n",
       "      <td>MD</td>\n",
       "      <td>29931</td>\n",
       "      <td>0</td>\n",
       "      <td>0</td>\n",
       "      <td>13982233</td>\n",
       "    </tr>\n",
       "    <tr>\n",
       "      <th>5181</th>\n",
       "      <td>1</td>\n",
       "      <td>1</td>\n",
       "      <td>0</td>\n",
       "      <td>1</td>\n",
       "      <td>0</td>\n",
       "      <td>70</td>\n",
       "      <td>0</td>\n",
       "      <td>0</td>\n",
       "      <td>3</td>\n",
       "      <td>0</td>\n",
       "      <td>...</td>\n",
       "      <td>1</td>\n",
       "      <td>1</td>\n",
       "      <td>01</td>\n",
       "      <td>1</td>\n",
       "      <td>eng</td>\n",
       "      <td>MD</td>\n",
       "      <td>41357</td>\n",
       "      <td>0</td>\n",
       "      <td>2</td>\n",
       "      <td>13982244</td>\n",
       "    </tr>\n",
       "    <tr>\n",
       "      <th>5182</th>\n",
       "      <td>0</td>\n",
       "      <td>1</td>\n",
       "      <td>0</td>\n",
       "      <td>1</td>\n",
       "      <td>0</td>\n",
       "      <td>74</td>\n",
       "      <td>0</td>\n",
       "      <td>0</td>\n",
       "      <td>3</td>\n",
       "      <td>0</td>\n",
       "      <td>...</td>\n",
       "      <td>1</td>\n",
       "      <td>1</td>\n",
       "      <td>01</td>\n",
       "      <td>1</td>\n",
       "      <td>eng</td>\n",
       "      <td>MD</td>\n",
       "      <td>18475</td>\n",
       "      <td>0</td>\n",
       "      <td>0</td>\n",
       "      <td>13983786</td>\n",
       "    </tr>\n",
       "    <tr>\n",
       "      <th>5183</th>\n",
       "      <td>1</td>\n",
       "      <td>0</td>\n",
       "      <td>0</td>\n",
       "      <td>1</td>\n",
       "      <td>0</td>\n",
       "      <td>71</td>\n",
       "      <td>0</td>\n",
       "      <td>0</td>\n",
       "      <td>6</td>\n",
       "      <td>0</td>\n",
       "      <td>...</td>\n",
       "      <td>1</td>\n",
       "      <td>1</td>\n",
       "      <td>04</td>\n",
       "      <td>4</td>\n",
       "      <td>eng</td>\n",
       "      <td>MD</td>\n",
       "      <td>19152</td>\n",
       "      <td>1</td>\n",
       "      <td>0</td>\n",
       "      <td>13986782</td>\n",
       "    </tr>\n",
       "  </tbody>\n",
       "</table>\n",
       "<p>5184 rows × 111 columns</p>\n",
       "</div>"
      ],
      "text/plain": [
       "      cir007  dig004  fac025  neo051  neo070  age  ageday  agemonth  atype  \\\n",
       "0          1       0       0       1       1   69       0         0      3   \n",
       "1          1       1       1       1       1   79       0         0      1   \n",
       "2          1       1       1       1       0   67       0         0      1   \n",
       "3          1       0       0       1       0   84       0         0      1   \n",
       "4          0       1       1       1       0   76       0         0      1   \n",
       "...      ...     ...     ...     ...     ...  ...     ...       ...    ...   \n",
       "5179       1       0       0       1       1   78       0         0      1   \n",
       "5180       1       0       0       1       0   72       0         0      3   \n",
       "5181       1       1       0       1       0   70       0         0      3   \n",
       "5182       0       1       0       1       0   74       0         0      3   \n",
       "5183       1       0       0       1       0   71       0         0      6   \n",
       "\n",
       "      aweekend  ...  pl_uic  pl_ur_cat4  pointoforigin_x  pointoforiginub04  \\\n",
       "0            0  ...       1           1                0                  0   \n",
       "1            0  ...       2           2                0                  0   \n",
       "2            0  ...       2           2                0                  0   \n",
       "3            0  ...       2           2                0                  0   \n",
       "4            0  ...       2           2                0                  0   \n",
       "...        ...  ...     ...         ...              ...                ...   \n",
       "5179         0  ...       1           1               01                  1   \n",
       "5180         0  ...       1           1               01                  1   \n",
       "5181         0  ...       1           1               01                  1   \n",
       "5182         0  ...       1           1               01                  1   \n",
       "5183         0  ...       1           1               04                  4   \n",
       "\n",
       "      primlang  pstate  totchg  tran_in  tran_out  visitlink  \n",
       "0          eng      VA   66714        0         0  -99999999  \n",
       "1          eng      MD   10092        0         0    1826938  \n",
       "2          eng      MD    8111        0         0    1827576  \n",
       "3          eng      MD   18923        2         0    1829503  \n",
       "4          eng      MD   18167        0         2    1831081  \n",
       "...        ...     ...     ...      ...       ...        ...  \n",
       "5179       eng      MD   27827        0         2   13981288  \n",
       "5180       eng      MD   29931        0         0   13982233  \n",
       "5181       eng      MD   41357        0         2   13982244  \n",
       "5182       eng      MD   18475        0         0   13983786  \n",
       "5183       eng      MD   19152        1         0   13986782  \n",
       "\n",
       "[5184 rows x 111 columns]"
      ]
     },
     "execution_count": 208,
     "metadata": {},
     "output_type": "execute_result"
    }
   ],
   "source": [
    "df"
   ]
  },
  {
   "cell_type": "code",
   "execution_count": 209,
   "id": "b7bead7f",
   "metadata": {},
   "outputs": [
    {
     "data": {
      "text/plain": [
       "(5184, 118)"
      ]
     },
     "execution_count": 209,
     "metadata": {},
     "output_type": "execute_result"
    }
   ],
   "source": [
    "df = pd.concat([df, demographics_df], axis=1)\n",
    "df.shape"
   ]
  },
  {
   "cell_type": "code",
   "execution_count": 210,
   "id": "10d8a7c5",
   "metadata": {},
   "outputs": [
    {
     "data": {
      "text/html": [
       "<div>\n",
       "<style scoped>\n",
       "    .dataframe tbody tr th:only-of-type {\n",
       "        vertical-align: middle;\n",
       "    }\n",
       "\n",
       "    .dataframe tbody tr th {\n",
       "        vertical-align: top;\n",
       "    }\n",
       "\n",
       "    .dataframe thead th {\n",
       "        text-align: right;\n",
       "    }\n",
       "</style>\n",
       "<table border=\"1\" class=\"dataframe\">\n",
       "  <thead>\n",
       "    <tr style=\"text-align: right;\">\n",
       "      <th></th>\n",
       "      <th>cir007</th>\n",
       "      <th>dig004</th>\n",
       "      <th>fac025</th>\n",
       "      <th>neo051</th>\n",
       "      <th>neo070</th>\n",
       "      <th>age</th>\n",
       "      <th>ageday</th>\n",
       "      <th>agemonth</th>\n",
       "      <th>atype</th>\n",
       "      <th>aweekend</th>\n",
       "      <th>...</th>\n",
       "      <th>tran_in</th>\n",
       "      <th>tran_out</th>\n",
       "      <th>visitlink</th>\n",
       "      <th>age</th>\n",
       "      <th>female</th>\n",
       "      <th>race</th>\n",
       "      <th>hispanic</th>\n",
       "      <th>zipinc_qrtl</th>\n",
       "      <th>marital_status</th>\n",
       "      <th>age_bin</th>\n",
       "    </tr>\n",
       "  </thead>\n",
       "  <tbody>\n",
       "    <tr>\n",
       "      <th>0</th>\n",
       "      <td>1</td>\n",
       "      <td>0</td>\n",
       "      <td>0</td>\n",
       "      <td>1</td>\n",
       "      <td>1</td>\n",
       "      <td>69</td>\n",
       "      <td>0</td>\n",
       "      <td>0</td>\n",
       "      <td>3</td>\n",
       "      <td>0</td>\n",
       "      <td>...</td>\n",
       "      <td>0</td>\n",
       "      <td>0</td>\n",
       "      <td>-99999999</td>\n",
       "      <td>69.0</td>\n",
       "      <td>NaN</td>\n",
       "      <td>6.0</td>\n",
       "      <td>0.0</td>\n",
       "      <td>4.0</td>\n",
       "      <td>1.0</td>\n",
       "      <td>61-80</td>\n",
       "    </tr>\n",
       "    <tr>\n",
       "      <th>1</th>\n",
       "      <td>1</td>\n",
       "      <td>1</td>\n",
       "      <td>1</td>\n",
       "      <td>1</td>\n",
       "      <td>1</td>\n",
       "      <td>79</td>\n",
       "      <td>0</td>\n",
       "      <td>0</td>\n",
       "      <td>1</td>\n",
       "      <td>0</td>\n",
       "      <td>...</td>\n",
       "      <td>0</td>\n",
       "      <td>0</td>\n",
       "      <td>1826938</td>\n",
       "      <td>79.0</td>\n",
       "      <td>0.0</td>\n",
       "      <td>1.0</td>\n",
       "      <td>0.0</td>\n",
       "      <td>3.0</td>\n",
       "      <td>1.0</td>\n",
       "      <td>61-80</td>\n",
       "    </tr>\n",
       "    <tr>\n",
       "      <th>2</th>\n",
       "      <td>1</td>\n",
       "      <td>1</td>\n",
       "      <td>1</td>\n",
       "      <td>1</td>\n",
       "      <td>0</td>\n",
       "      <td>67</td>\n",
       "      <td>0</td>\n",
       "      <td>0</td>\n",
       "      <td>1</td>\n",
       "      <td>0</td>\n",
       "      <td>...</td>\n",
       "      <td>0</td>\n",
       "      <td>0</td>\n",
       "      <td>1827576</td>\n",
       "      <td>67.0</td>\n",
       "      <td>0.0</td>\n",
       "      <td>1.0</td>\n",
       "      <td>0.0</td>\n",
       "      <td>2.0</td>\n",
       "      <td>1.0</td>\n",
       "      <td>61-80</td>\n",
       "    </tr>\n",
       "    <tr>\n",
       "      <th>3</th>\n",
       "      <td>1</td>\n",
       "      <td>0</td>\n",
       "      <td>0</td>\n",
       "      <td>1</td>\n",
       "      <td>0</td>\n",
       "      <td>84</td>\n",
       "      <td>0</td>\n",
       "      <td>0</td>\n",
       "      <td>1</td>\n",
       "      <td>0</td>\n",
       "      <td>...</td>\n",
       "      <td>2</td>\n",
       "      <td>0</td>\n",
       "      <td>1829503</td>\n",
       "      <td>84.0</td>\n",
       "      <td>1.0</td>\n",
       "      <td>1.0</td>\n",
       "      <td>0.0</td>\n",
       "      <td>3.0</td>\n",
       "      <td>0.0</td>\n",
       "      <td>81+</td>\n",
       "    </tr>\n",
       "    <tr>\n",
       "      <th>4</th>\n",
       "      <td>0</td>\n",
       "      <td>1</td>\n",
       "      <td>1</td>\n",
       "      <td>1</td>\n",
       "      <td>0</td>\n",
       "      <td>76</td>\n",
       "      <td>0</td>\n",
       "      <td>0</td>\n",
       "      <td>1</td>\n",
       "      <td>0</td>\n",
       "      <td>...</td>\n",
       "      <td>0</td>\n",
       "      <td>2</td>\n",
       "      <td>1831081</td>\n",
       "      <td>76.0</td>\n",
       "      <td>1.0</td>\n",
       "      <td>1.0</td>\n",
       "      <td>0.0</td>\n",
       "      <td>2.0</td>\n",
       "      <td>0.0</td>\n",
       "      <td>61-80</td>\n",
       "    </tr>\n",
       "  </tbody>\n",
       "</table>\n",
       "<p>5 rows × 118 columns</p>\n",
       "</div>"
      ],
      "text/plain": [
       "   cir007  dig004  fac025  neo051  neo070  age  ageday  agemonth  atype  \\\n",
       "0       1       0       0       1       1   69       0         0      3   \n",
       "1       1       1       1       1       1   79       0         0      1   \n",
       "2       1       1       1       1       0   67       0         0      1   \n",
       "3       1       0       0       1       0   84       0         0      1   \n",
       "4       0       1       1       1       0   76       0         0      1   \n",
       "\n",
       "   aweekend  ...  tran_in  tran_out  visitlink   age  female  race  hispanic  \\\n",
       "0         0  ...        0         0  -99999999  69.0     NaN   6.0       0.0   \n",
       "1         0  ...        0         0    1826938  79.0     0.0   1.0       0.0   \n",
       "2         0  ...        0         0    1827576  67.0     0.0   1.0       0.0   \n",
       "3         0  ...        2         0    1829503  84.0     1.0   1.0       0.0   \n",
       "4         0  ...        0         2    1831081  76.0     1.0   1.0       0.0   \n",
       "\n",
       "   zipinc_qrtl  marital_status  age_bin  \n",
       "0          4.0             1.0    61-80  \n",
       "1          3.0             1.0    61-80  \n",
       "2          2.0             1.0    61-80  \n",
       "3          3.0             0.0      81+  \n",
       "4          2.0             0.0    61-80  \n",
       "\n",
       "[5 rows x 118 columns]"
      ]
     },
     "execution_count": 210,
     "metadata": {},
     "output_type": "execute_result"
    }
   ],
   "source": [
    "df.head()"
   ]
  },
  {
   "cell_type": "code",
   "execution_count": 211,
   "id": "aa24df2e",
   "metadata": {},
   "outputs": [
    {
     "data": {
      "text/plain": [
       "(5184, 118)"
      ]
     },
     "execution_count": 211,
     "metadata": {},
     "output_type": "execute_result"
    }
   ],
   "source": [
    "df.shape"
   ]
  },
  {
   "cell_type": "code",
   "execution_count": 216,
   "id": "3914e60b",
   "metadata": {},
   "outputs": [
    {
     "name": "stdout",
     "output_type": "stream",
     "text": [
      "Remaining columns: ['cir007', 'dig004', 'fac025', 'neo051', 'neo070', 'age', 'ageday', 'agemonth', 'atype', 'aweekend', 'ayear', 'daystoevent', 'died', 'disp_x', 'dispub04', 'dispuniform', 'dqtr', 'drg', 'drgver', 'dshospid', 'dxpoa1', 'dxpoa10', 'dxpoa11', 'dxpoa12', 'dxpoa13', 'dxpoa14', 'dxpoa15', 'dxpoa16', 'dxpoa17', 'dxpoa18', 'dxpoa19', 'dxpoa2', 'dxpoa20', 'dxpoa21', 'dxpoa22', 'dxpoa23', 'dxpoa24', 'dxpoa25', 'dxpoa26', 'dxpoa27', 'dxpoa28', 'dxpoa29', 'dxpoa3', 'dxpoa30', 'dxpoa31', 'dxpoa32', 'dxpoa33', 'dxpoa34', 'dxpoa35', 'dxpoa36', 'dxpoa37', 'dxpoa38', 'dxpoa39', 'dxpoa4', 'dxpoa40', 'dxpoa41', 'dxpoa42', 'dxpoa43', 'dxpoa44', 'dxpoa45', 'dxpoa46', 'dxpoa47', 'dxpoa48', 'dxpoa49', 'dxpoa5', 'dxpoa50', 'dxpoa51', 'dxpoa52', 'dxpoa53', 'dxpoa54', 'dxpoa55', 'dxpoa56', 'dxpoa57', 'dxpoa58', 'dxpoa59', 'dxpoa6', 'dxpoa60', 'dxpoa7', 'dxpoa8', 'dxpoa9', 'e_poa2', 'hcup_ed', 'hospitalunit', 'hospst', 'i10_ndx', 'i10_npr', 'i10_proctype', 'los', 'mdc', 'medincstq', 'mrn_r', 'p7edsrc_x', 'pay1', 'pay1_x', 'pay2', 'pay2_x', 'pay3', 'pay3_x', 'pl_cbsa', 'pl_nchs', 'pl_rucc', 'pl_uic', 'pl_ur_cat4', 'pointoforigin_x', 'pointoforiginub04', 'primlang', 'pstate', 'totchg', 'tran_in', 'tran_out', 'visitlink', 'age', 'female', 'race', 'hispanic', 'zipinc_qrtl', 'marital_status', 'age_bin']\n"
     ]
    }
   ],
   "source": [
    "\n",
    "# Final result\n",
    "print(f\"Remaining columns: {df.columns.tolist()}\")"
   ]
  },
  {
   "cell_type": "code",
   "execution_count": 213,
   "id": "bda77a3c",
   "metadata": {},
   "outputs": [
    {
     "data": {
      "text/plain": [
       "(5184, 118)"
      ]
     },
     "execution_count": 213,
     "metadata": {},
     "output_type": "execute_result"
    }
   ],
   "source": [
    "df.shape"
   ]
  },
  {
   "cell_type": "code",
   "execution_count": 215,
   "id": "dd5b3046",
   "metadata": {},
   "outputs": [],
   "source": [
    "# save the dataframe to a csv file \n",
    "df.to_csv('../data/data/pancreas_cancer_demographics_v2.csv', index=False)"
   ]
  }
 ],
 "metadata": {
  "kernelspec": {
   "display_name": "indox",
   "language": "python",
   "name": "python3"
  },
  "language_info": {
   "codemirror_mode": {
    "name": "ipython",
    "version": 3
   },
   "file_extension": ".py",
   "mimetype": "text/x-python",
   "name": "python",
   "nbconvert_exporter": "python",
   "pygments_lexer": "ipython3",
   "version": "3.11.11"
  }
 },
 "nbformat": 4,
 "nbformat_minor": 5
}
