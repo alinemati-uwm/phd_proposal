{
 "cells": [
  {
   "cell_type": "markdown",
   "id": "bacbd046",
   "metadata": {},
   "source": [
    "# 1. Survival Analysis with Structured Data\n",
    "\n",
    "## A. Data Preparation\n",
    "\n",
    "### Variables Needed:\n",
    "- **Time-to-event:**  \n",
    "  Survival time (from diagnosis to death or last follow-up).\n",
    "\n",
    "- **Event Indicator:**  \n",
    "  Binary variable (e.g., `1` for death, `0` for censored).\n",
    "\n",
    "- **Covariates:**\n",
    "  - Cancer subtype:  \n",
    "    (e.g., ER/PR/HER2 status, molecular subtypes like Luminal A, HER2+, Triple-Negative)\n",
    "  - Demographics:  \n",
    "    (e.g., age, race)\n",
    "  - Tumor characteristics:  \n",
    "    (e.g., stage, grade)\n",
    "  - Treatments:  \n",
    "    (e.g., surgery, chemotherapy)\n",
    "\n",
    "### Preprocessing:\n",
    "- Handle missing data:  \n",
    "  (e.g., imputation or exclusion)\n",
    "\n",
    "- Encode categorical variables:  \n",
    "  (e.g., one-hot encoding for subtypes)\n",
    "\n",
    "\n",
    "\n",
    "\n",
    "# Comparison: CoxPH Modeling vs Kaplan-Meier (KM) Estimator\n",
    "\n",
    "## 1. Kaplan-Meier Estimator\n",
    "\n",
    "### Purpose:\n",
    "- Estimate survival probability over time for different groups.\n",
    "\n",
    "### Characteristics:\n",
    "- Non-parametric method.\n",
    "- No covariates adjustment.\n",
    "- Used for:\n",
    "  - Descriptive analysis.\n",
    "  - Comparing survival curves visually.\n",
    "\n",
    "### Key Analysis:\n",
    "- Plot survival curves for different groups (e.g., Treatment A vs B).\n",
    "- Compare groups using Log-Rank Test.\n",
    "\n",
    "### Assumptions:\n",
    "- Random censoring.\n",
    "- No adjustment for covariates.\n",
    "- Cannot model continuous variables.\n",
    "\n",
    "### Output:\n",
    "- Survival Curve.\n",
    "- Median Survival Time.\n",
    "- Survival Probabilities at time `t`.\n",
    "\n",
    "---\n",
    "\n",
    "## 2. Cox Proportional Hazards (CoxPH) Model\n",
    "\n",
    "### Purpose:\n",
    "- Model the effect of covariates on the hazard (risk of event over time).\n",
    "\n",
    "### Characteristics:\n",
    "- Semi-parametric model.\n",
    "- Allows multiple covariates (both categorical and continuous).\n",
    "- Gives Hazard Ratio (HR) for each covariate.\n",
    "\n",
    "### Key Analysis:\n",
    "- Estimate Hazard Ratio (HR):\n",
    "  - HR > 1 → Increased risk.\n",
    "  - HR < 1 → Protective effect.\n",
    "- Adjust for confounding variables.\n",
    "\n",
    "### Assumptions:\n",
    "- Proportional Hazards (Effect of covariates is constant over time).\n",
    "- Linearity of continuous variables (unless transformed).\n",
    "\n",
    "### Output:\n",
    "- Hazard Ratios with 95% Confidence Interval.\n",
    "- Significance (p-values).\n",
    "- Residual Diagnostics:\n",
    "  - Martingale Residuals → Linearity check.\n",
    "  - Schoenfeld Residuals → Proportional hazards check.\n",
    "\n",
    "---\n",
    "\n",
    "# Summary Comparison Table\n",
    "\n",
    "| Feature               | Kaplan-Meier (KM)              | Cox Proportional Hazards (CoxPH) |\n",
    "|----------------------|--------------------------------|---------------------------------|\n",
    "| Model Type           | Non-parametric                 | Semi-parametric                 |\n",
    "| Adjust Covariates?   | No                            | Yes (multi-variable)           |\n",
    "| Output               | Survival Curve                | Hazard Ratios (HR)              |\n",
    "| Assumptions          | Random Censoring              | Proportional Hazards, Linearity |\n",
    "| Use Case             | Descriptive, Group Comparison | Inferential, Risk Modeling      |\n",
    "| Test for Groups      | Log-Rank Test                 | HR + p-value                   |\n",
    "| Diagnostic Tools     | None                         | Residual Analysis               |\n",
    "\n",
    "---\n",
    "\n",
    "# Final Recommendation:\n",
    "| Situation | Method |\n",
    "|-----------|--------|\n",
    "| Compare Survival between Groups (without covariates) | Kaplan-Meier + Log-Rank Test |\n",
    "| Model Impact of Covariates on Survival | CoxPH Model |\n",
    "| Check Linearity of Variables | CoxPH + Martingale Residuals |\n",
    "| Check Proportional Hazards Assumption | CoxPH + Schoenfeld Residuals |\n"
   ]
  },
  {
   "cell_type": "code",
   "execution_count": 13,
   "id": "b22e4ae5",
   "metadata": {},
   "outputs": [
    {
     "name": "stderr",
     "output_type": "stream",
     "text": [
      "/var/folders/gy/ggsrtsh527x0w4bhcr8s0z140000gn/T/ipykernel_11718/2146647169.py:4: DtypeWarning: Columns (52,53,54,55,56,102,114,119,120,121,122,123,124,125,126,127,128,129,130,131,132,133,134,135,136,137,138,139,140,141,142,143,144,145,146,147,148,149,150,151,152,153,154,155,156,157,158,159,160,161,162,163,170,171,172,177) have mixed types. Specify dtype option on import or set low_memory=False.\n",
      "  df = pd.read_csv('../data/data/hot_encoding_Cancer_pancreas.csv')\n"
     ]
    }
   ],
   "source": [
    "# Reading data from a file\n",
    "import pandas as pd\n",
    "import numpy as np\n",
    "df = pd.read_csv('../data/data/hot_encoding_Cancer_pancreas.csv')\n",
    "df = df.reindex(sorted(df.columns), axis=1)\n",
    "\n",
    "# lower case df\n",
    "df.columns = df.columns.str.lower()\n",
    "\n",
    "\n",
    "import pandas as pd\n",
    "\n",
    "# Save column names to an Excel file\n",
    "column_names = pd.DataFrame(df.columns, columns=[\"Column Names\"])\n",
    "column_names.to_excel('../data/data/hot_encoding_Cancer_pancreas_columns.xlsx', index=False)\n",
    "\n",
    "# save as md file\n",
    "with open('../data/data/hot_encoding_Cancer_pancreas_columns.md', 'w') as f:\n",
    "    f.write('# Column Names\\n\\n')\n",
    "    for col in df.columns:\n",
    "        f.write(f'- {col}\\n')"
   ]
  },
  {
   "cell_type": "code",
   "execution_count": 14,
   "id": "189edf46",
   "metadata": {},
   "outputs": [
    {
     "ename": "KeyError",
     "evalue": "'amonth'",
     "output_type": "error",
     "traceback": [
      "\u001b[31m---------------------------------------------------------------------------\u001b[39m",
      "\u001b[31mKeyError\u001b[39m                                  Traceback (most recent call last)",
      "\u001b[36mFile \u001b[39m\u001b[32m~/miniconda3/envs/indox/lib/python3.11/site-packages/pandas/core/indexes/base.py:3805\u001b[39m, in \u001b[36mIndex.get_loc\u001b[39m\u001b[34m(self, key)\u001b[39m\n\u001b[32m   3804\u001b[39m \u001b[38;5;28;01mtry\u001b[39;00m:\n\u001b[32m-> \u001b[39m\u001b[32m3805\u001b[39m     \u001b[38;5;28;01mreturn\u001b[39;00m \u001b[38;5;28;43mself\u001b[39;49m\u001b[43m.\u001b[49m\u001b[43m_engine\u001b[49m\u001b[43m.\u001b[49m\u001b[43mget_loc\u001b[49m\u001b[43m(\u001b[49m\u001b[43mcasted_key\u001b[49m\u001b[43m)\u001b[49m\n\u001b[32m   3806\u001b[39m \u001b[38;5;28;01mexcept\u001b[39;00m \u001b[38;5;167;01mKeyError\u001b[39;00m \u001b[38;5;28;01mas\u001b[39;00m err:\n",
      "\u001b[36mFile \u001b[39m\u001b[32mindex.pyx:167\u001b[39m, in \u001b[36mpandas._libs.index.IndexEngine.get_loc\u001b[39m\u001b[34m()\u001b[39m\n",
      "\u001b[36mFile \u001b[39m\u001b[32mindex.pyx:196\u001b[39m, in \u001b[36mpandas._libs.index.IndexEngine.get_loc\u001b[39m\u001b[34m()\u001b[39m\n",
      "\u001b[36mFile \u001b[39m\u001b[32mpandas/_libs/hashtable_class_helper.pxi:7081\u001b[39m, in \u001b[36mpandas._libs.hashtable.PyObjectHashTable.get_item\u001b[39m\u001b[34m()\u001b[39m\n",
      "\u001b[36mFile \u001b[39m\u001b[32mpandas/_libs/hashtable_class_helper.pxi:7089\u001b[39m, in \u001b[36mpandas._libs.hashtable.PyObjectHashTable.get_item\u001b[39m\u001b[34m()\u001b[39m\n",
      "\u001b[31mKeyError\u001b[39m: 'amonth'",
      "\nThe above exception was the direct cause of the following exception:\n",
      "\u001b[31mKeyError\u001b[39m                                  Traceback (most recent call last)",
      "\u001b[36mCell\u001b[39m\u001b[36m \u001b[39m\u001b[32mIn[14]\u001b[39m\u001b[32m, line 1\u001b[39m\n\u001b[32m----> \u001b[39m\u001b[32m1\u001b[39m \u001b[43mdf\u001b[49m\u001b[43m[\u001b[49m\u001b[33;43m\"\u001b[39;49m\u001b[33;43mamonth\u001b[39;49m\u001b[33;43m\"\u001b[39;49m\u001b[43m]\u001b[49m\n",
      "\u001b[36mFile \u001b[39m\u001b[32m~/miniconda3/envs/indox/lib/python3.11/site-packages/pandas/core/frame.py:4102\u001b[39m, in \u001b[36mDataFrame.__getitem__\u001b[39m\u001b[34m(self, key)\u001b[39m\n\u001b[32m   4100\u001b[39m \u001b[38;5;28;01mif\u001b[39;00m \u001b[38;5;28mself\u001b[39m.columns.nlevels > \u001b[32m1\u001b[39m:\n\u001b[32m   4101\u001b[39m     \u001b[38;5;28;01mreturn\u001b[39;00m \u001b[38;5;28mself\u001b[39m._getitem_multilevel(key)\n\u001b[32m-> \u001b[39m\u001b[32m4102\u001b[39m indexer = \u001b[38;5;28;43mself\u001b[39;49m\u001b[43m.\u001b[49m\u001b[43mcolumns\u001b[49m\u001b[43m.\u001b[49m\u001b[43mget_loc\u001b[49m\u001b[43m(\u001b[49m\u001b[43mkey\u001b[49m\u001b[43m)\u001b[49m\n\u001b[32m   4103\u001b[39m \u001b[38;5;28;01mif\u001b[39;00m is_integer(indexer):\n\u001b[32m   4104\u001b[39m     indexer = [indexer]\n",
      "\u001b[36mFile \u001b[39m\u001b[32m~/miniconda3/envs/indox/lib/python3.11/site-packages/pandas/core/indexes/base.py:3812\u001b[39m, in \u001b[36mIndex.get_loc\u001b[39m\u001b[34m(self, key)\u001b[39m\n\u001b[32m   3807\u001b[39m     \u001b[38;5;28;01mif\u001b[39;00m \u001b[38;5;28misinstance\u001b[39m(casted_key, \u001b[38;5;28mslice\u001b[39m) \u001b[38;5;129;01mor\u001b[39;00m (\n\u001b[32m   3808\u001b[39m         \u001b[38;5;28misinstance\u001b[39m(casted_key, abc.Iterable)\n\u001b[32m   3809\u001b[39m         \u001b[38;5;129;01mand\u001b[39;00m \u001b[38;5;28many\u001b[39m(\u001b[38;5;28misinstance\u001b[39m(x, \u001b[38;5;28mslice\u001b[39m) \u001b[38;5;28;01mfor\u001b[39;00m x \u001b[38;5;129;01min\u001b[39;00m casted_key)\n\u001b[32m   3810\u001b[39m     ):\n\u001b[32m   3811\u001b[39m         \u001b[38;5;28;01mraise\u001b[39;00m InvalidIndexError(key)\n\u001b[32m-> \u001b[39m\u001b[32m3812\u001b[39m     \u001b[38;5;28;01mraise\u001b[39;00m \u001b[38;5;167;01mKeyError\u001b[39;00m(key) \u001b[38;5;28;01mfrom\u001b[39;00m\u001b[38;5;250m \u001b[39m\u001b[34;01merr\u001b[39;00m\n\u001b[32m   3813\u001b[39m \u001b[38;5;28;01mexcept\u001b[39;00m \u001b[38;5;167;01mTypeError\u001b[39;00m:\n\u001b[32m   3814\u001b[39m     \u001b[38;5;66;03m# If we have a listlike key, _check_indexing_error will raise\u001b[39;00m\n\u001b[32m   3815\u001b[39m     \u001b[38;5;66;03m#  InvalidIndexError. Otherwise we fall through and re-raise\u001b[39;00m\n\u001b[32m   3816\u001b[39m     \u001b[38;5;66;03m#  the TypeError.\u001b[39;00m\n\u001b[32m   3817\u001b[39m     \u001b[38;5;28mself\u001b[39m._check_indexing_error(key)\n",
      "\u001b[31mKeyError\u001b[39m: 'amonth'"
     ]
    }
   ],
   "source": [
    "df[\"amonth\"]"
   ]
  },
  {
   "cell_type": "code",
   "execution_count": 16,
   "id": "ea6f5335",
   "metadata": {},
   "outputs": [
    {
     "name": "stderr",
     "output_type": "stream",
     "text": [
      "/var/folders/gy/ggsrtsh527x0w4bhcr8s0z140000gn/T/ipykernel_11718/1779562133.py:5: DtypeWarning: Columns (52,53,54,55,56,102,114,119,120,121,122,123,124,125,126,127,128,129,130,131,132,133,134,135,136,137,138,139,140,141,142,143,144,145,146,147,148,149,150,151,152,153,154,155,156,157,158,159,160,161,162,163,170,171,172,177) have mixed types. Specify dtype option on import or set low_memory=False.\n",
      "  df = pd.read_csv('../data/data/hot_encoding_Cancer_pancreas.csv')\n"
     ]
    },
    {
     "data": {
      "text/plain": [
       "0        1\n",
       "1        1\n",
       "2        1\n",
       "3        1\n",
       "4        1\n",
       "        ..\n",
       "8728    10\n",
       "8729     1\n",
       "8730    10\n",
       "8731     7\n",
       "8732    10\n",
       "Name: month, Length: 8733, dtype: int64"
      ]
     },
     "execution_count": 16,
     "metadata": {},
     "output_type": "execute_result"
    }
   ],
   "source": [
    "import pandas as pd\n",
    "import numpy as np\n",
    "\n",
    "# Read your data\n",
    "df = pd.read_csv('../data/data/hot_encoding_Cancer_pancreas.csv')\n",
    "df = df.reindex(sorted(df.columns), axis=1)\n",
    "df.columns = df.columns.str.lower()\n",
    "\n",
    "# Generate month based on dqtr\n",
    "quarter_to_month = {\n",
    "    1: 1,   # January\n",
    "    2: 4,   # April\n",
    "    3: 7,   # July\n",
    "    4: 10   # October\n",
    "}\n",
    "\n",
    "df['month'] = df['dqtr'].map(quarter_to_month)\n",
    "df[\"month\"]"
   ]
  },
  {
   "cell_type": "code",
   "execution_count": 21,
   "id": "71526e32",
   "metadata": {},
   "outputs": [
    {
     "name": "stderr",
     "output_type": "stream",
     "text": [
      "/var/folders/gy/ggsrtsh527x0w4bhcr8s0z140000gn/T/ipykernel_11718/4276559460.py:5: DtypeWarning: Columns (52,53,54,55,56,102,114,119,120,121,122,123,124,125,126,127,128,129,130,131,132,133,134,135,136,137,138,139,140,141,142,143,144,145,146,147,148,149,150,151,152,153,154,155,156,157,158,159,160,161,162,163,170,171,172,177) have mixed types. Specify dtype option on import or set low_memory=False.\n",
      "  df = pd.read_csv('../data/data/hot_encoding_Cancer_pancreas.csv')\n"
     ]
    },
    {
     "name": "stdout",
     "output_type": "stream",
     "text": [
      "   visitlink  died admission_date discharge_date death_date  duration\n",
      "0   11640858     0     2016-01-01     2016-01-04        NaT       3.0\n",
      "1   11641343     0     2016-01-01     2016-01-04        NaT      98.0\n",
      "2   11641635     0     2016-01-01     2016-01-05        NaT       4.0\n",
      "3   11641635     1     2016-01-01     2016-01-01 2016-01-01       0.0\n",
      "4    3168104     0     2016-01-01     2016-01-11        NaT      10.0\n"
     ]
    }
   ],
   "source": [
    "import pandas as pd\n",
    "import numpy as np\n",
    "\n",
    "# Step 1: Load Data\n",
    "df = pd.read_csv('../data/data/hot_encoding_Cancer_pancreas.csv')\n",
    "\n",
    "# Step 2: Clean Columns\n",
    "df = df.reindex(sorted(df.columns), axis=1)\n",
    "df.columns = df.columns.str.lower()\n",
    "\n",
    "# Step 3: Map dqtr to month\n",
    "quarter_to_month = {\n",
    "    1: 1,  # Jan\n",
    "    2: 4,  # Apr\n",
    "    3: 7,  # Jul\n",
    "    4: 10  # Oct\n",
    "}\n",
    "df['month'] = df['dqtr'].map(quarter_to_month)\n",
    "\n",
    "# Step 4: Generate admission_date\n",
    "df['year'] = df['ayear']  # for to_datetime compatibility\n",
    "df['admission_date'] = pd.to_datetime(df[['year', 'month']].assign(day=1))\n",
    "\n",
    "# Step 5: Generate discharge_date\n",
    "df['discharge_date'] = df['admission_date'] + pd.to_timedelta(df['los'], unit='D')\n",
    "\n",
    "# Step 6: Generate death_date (only for died==1)\n",
    "df['death_date'] = pd.NaT\n",
    "df.loc[df['died'] == 1, 'death_date'] = df.loc[df['died'] == 1, 'discharge_date']\n",
    "\n",
    "# Step 7: Calculate first admission and last discharge per patient\n",
    "df['first_admission'] = df.groupby('visitlink')['admission_date'].transform('min')\n",
    "df['last_discharge'] = df.groupby('visitlink')['discharge_date'].transform('max')\n",
    "\n",
    "# Step 8: Calculate duration safely using pandas logic\n",
    "# Duration to death (if died == 1)\n",
    "duration_death = (df['death_date'] - df['first_admission']).dt.days\n",
    "\n",
    "# Duration to censoring (if died == 0)\n",
    "duration_censor = (df['last_discharge'] - df['first_admission']).dt.days\n",
    "\n",
    "# Combine based on condition (no np.where)\n",
    "df['duration'] = duration_death.where(df['died'] == 1, duration_censor)\n",
    "\n",
    "# Step 9: Final check\n",
    "print(df[['visitlink', 'died', 'admission_date', 'discharge_date', 'death_date', 'duration']].head())\n",
    "\n",
    "# Optional: Save output\n",
    "df.to_csv('../data/data/cleaned_survival_pancreas.csv', index=False)\n"
   ]
  },
  {
   "cell_type": "code",
   "execution_count": 22,
   "id": "1d02843f",
   "metadata": {},
   "outputs": [
    {
     "name": "stdout",
     "output_type": "stream",
     "text": [
      "    visitlink  died admission_date discharge_date death_date  duration\n",
      "0    11640858     0     2016-01-01     2016-01-04        NaT       3.0\n",
      "1    11641343     0     2016-01-01     2016-01-04        NaT      98.0\n",
      "2    11641635     0     2016-01-01     2016-01-05        NaT       4.0\n",
      "3    11641635     1     2016-01-01     2016-01-01 2016-01-01       0.0\n",
      "4     3168104     0     2016-01-01     2016-01-11        NaT      10.0\n",
      "5     3168104     1     2016-01-01     2016-01-01 2016-01-01       0.0\n",
      "6     2295901     0     2016-01-01     2016-01-05        NaT       4.0\n",
      "7    11641343     0     2016-04-01     2016-04-08        NaT      98.0\n",
      "8     2328248     0     2016-01-01     2016-01-05        NaT       4.0\n",
      "9    11642148     0     2016-04-01     2016-04-04        NaT       3.0\n",
      "10   11642148     1     2016-04-01     2016-04-02 2016-04-02       1.0\n",
      "11   11642906     0     2016-04-01     2016-04-14        NaT      13.0\n",
      "12   11642890     0     2016-04-01     2016-04-05        NaT       4.0\n",
      "13   11643041     0     2016-04-01     2016-04-05        NaT       4.0\n",
      "14    1836349     0     2016-04-01     2016-04-11        NaT      10.0\n",
      "15   10889419     0     2016-04-01     2016-04-02        NaT       1.0\n",
      "16   11643787     0     2016-07-01     2016-07-04        NaT       3.0\n",
      "17    4012594     0     2016-04-01     2016-04-04        NaT     187.0\n",
      "18   10842287     0     2016-04-01     2016-04-05        NaT       4.0\n",
      "19    3169849     0     2016-04-01     2016-04-05        NaT      96.0\n"
     ]
    }
   ],
   "source": [
    "print(df[['visitlink', 'died', 'admission_date', 'discharge_date', 'death_date', 'duration']].head(20))\n"
   ]
  },
  {
   "cell_type": "code",
   "execution_count": null,
   "id": "7941ebce",
   "metadata": {},
   "outputs": [
    {
     "name": "stderr",
     "output_type": "stream",
     "text": [
      "/var/folders/gy/ggsrtsh527x0w4bhcr8s0z140000gn/T/ipykernel_11718/4280644835.py:5: DtypeWarning: Columns (52,53,54,55,56,102,114,119,120,121,122,123,124,125,126,127,128,129,130,131,132,133,134,135,136,137,138,139,140,141,142,143,144,145,146,147,148,149,150,151,152,153,154,155,156,157,158,159,160,161,162,163,170,171,172,177) have mixed types. Specify dtype option on import or set low_memory=False.\n",
      "  df = pd.read_csv('../data/data/hot_encoding_Cancer_pancreas.csv')\n"
     ]
    },
    {
     "ename": "KeyError",
     "evalue": "\"['amonth'] not in index\"",
     "output_type": "error",
     "traceback": [
      "\u001b[31m---------------------------------------------------------------------------\u001b[39m",
      "\u001b[31mKeyError\u001b[39m                                  Traceback (most recent call last)",
      "\u001b[36mCell\u001b[39m\u001b[36m \u001b[39m\u001b[32mIn[12]\u001b[39m\u001b[32m, line 21\u001b[39m\n\u001b[32m     18\u001b[39m df[\u001b[33m'\u001b[39m\u001b[33mmonth\u001b[39m\u001b[33m'\u001b[39m] = df[\u001b[33m'\u001b[39m\u001b[33mdqtr\u001b[39m\u001b[33m'\u001b[39m].map(quarter_to_month)\n\u001b[32m     20\u001b[39m \u001b[38;5;66;03m# Create approximate admission date (year, month, day=1)\u001b[39;00m\n\u001b[32m---> \u001b[39m\u001b[32m21\u001b[39m df[\u001b[33m'\u001b[39m\u001b[33madmission_date\u001b[39m\u001b[33m'\u001b[39m] = pd.to_datetime(\u001b[43mdf\u001b[49m\u001b[43m[\u001b[49m\u001b[43m[\u001b[49m\u001b[33;43m'\u001b[39;49m\u001b[33;43mayear\u001b[39;49m\u001b[33;43m'\u001b[39;49m\u001b[43m,\u001b[49m\u001b[43m \u001b[49m\u001b[33;43m'\u001b[39;49m\u001b[33;43mamonth\u001b[39;49m\u001b[33;43m'\u001b[39;49m\u001b[43m]\u001b[49m\u001b[43m]\u001b[49m.assign(day=\u001b[32m1\u001b[39m))\n\u001b[32m     23\u001b[39m \u001b[38;5;66;03m# Create discharge date = admission_date + los days\u001b[39;00m\n\u001b[32m     24\u001b[39m df[\u001b[33m'\u001b[39m\u001b[33mdischarge_date\u001b[39m\u001b[33m'\u001b[39m] = df[\u001b[33m'\u001b[39m\u001b[33madmission_date\u001b[39m\u001b[33m'\u001b[39m] + pd.to_timedelta(df[\u001b[33m'\u001b[39m\u001b[33mlos\u001b[39m\u001b[33m'\u001b[39m], unit=\u001b[33m'\u001b[39m\u001b[33mD\u001b[39m\u001b[33m'\u001b[39m)\n",
      "\u001b[36mFile \u001b[39m\u001b[32m~/miniconda3/envs/indox/lib/python3.11/site-packages/pandas/core/frame.py:4108\u001b[39m, in \u001b[36mDataFrame.__getitem__\u001b[39m\u001b[34m(self, key)\u001b[39m\n\u001b[32m   4106\u001b[39m     \u001b[38;5;28;01mif\u001b[39;00m is_iterator(key):\n\u001b[32m   4107\u001b[39m         key = \u001b[38;5;28mlist\u001b[39m(key)\n\u001b[32m-> \u001b[39m\u001b[32m4108\u001b[39m     indexer = \u001b[38;5;28;43mself\u001b[39;49m\u001b[43m.\u001b[49m\u001b[43mcolumns\u001b[49m\u001b[43m.\u001b[49m\u001b[43m_get_indexer_strict\u001b[49m\u001b[43m(\u001b[49m\u001b[43mkey\u001b[49m\u001b[43m,\u001b[49m\u001b[43m \u001b[49m\u001b[33;43m\"\u001b[39;49m\u001b[33;43mcolumns\u001b[39;49m\u001b[33;43m\"\u001b[39;49m\u001b[43m)\u001b[49m[\u001b[32m1\u001b[39m]\n\u001b[32m   4110\u001b[39m \u001b[38;5;66;03m# take() does not accept boolean indexers\u001b[39;00m\n\u001b[32m   4111\u001b[39m \u001b[38;5;28;01mif\u001b[39;00m \u001b[38;5;28mgetattr\u001b[39m(indexer, \u001b[33m\"\u001b[39m\u001b[33mdtype\u001b[39m\u001b[33m\"\u001b[39m, \u001b[38;5;28;01mNone\u001b[39;00m) == \u001b[38;5;28mbool\u001b[39m:\n",
      "\u001b[36mFile \u001b[39m\u001b[32m~/miniconda3/envs/indox/lib/python3.11/site-packages/pandas/core/indexes/base.py:6200\u001b[39m, in \u001b[36mIndex._get_indexer_strict\u001b[39m\u001b[34m(self, key, axis_name)\u001b[39m\n\u001b[32m   6197\u001b[39m \u001b[38;5;28;01melse\u001b[39;00m:\n\u001b[32m   6198\u001b[39m     keyarr, indexer, new_indexer = \u001b[38;5;28mself\u001b[39m._reindex_non_unique(keyarr)\n\u001b[32m-> \u001b[39m\u001b[32m6200\u001b[39m \u001b[38;5;28;43mself\u001b[39;49m\u001b[43m.\u001b[49m\u001b[43m_raise_if_missing\u001b[49m\u001b[43m(\u001b[49m\u001b[43mkeyarr\u001b[49m\u001b[43m,\u001b[49m\u001b[43m \u001b[49m\u001b[43mindexer\u001b[49m\u001b[43m,\u001b[49m\u001b[43m \u001b[49m\u001b[43maxis_name\u001b[49m\u001b[43m)\u001b[49m\n\u001b[32m   6202\u001b[39m keyarr = \u001b[38;5;28mself\u001b[39m.take(indexer)\n\u001b[32m   6203\u001b[39m \u001b[38;5;28;01mif\u001b[39;00m \u001b[38;5;28misinstance\u001b[39m(key, Index):\n\u001b[32m   6204\u001b[39m     \u001b[38;5;66;03m# GH 42790 - Preserve name from an Index\u001b[39;00m\n",
      "\u001b[36mFile \u001b[39m\u001b[32m~/miniconda3/envs/indox/lib/python3.11/site-packages/pandas/core/indexes/base.py:6252\u001b[39m, in \u001b[36mIndex._raise_if_missing\u001b[39m\u001b[34m(self, key, indexer, axis_name)\u001b[39m\n\u001b[32m   6249\u001b[39m     \u001b[38;5;28;01mraise\u001b[39;00m \u001b[38;5;167;01mKeyError\u001b[39;00m(\u001b[33mf\u001b[39m\u001b[33m\"\u001b[39m\u001b[33mNone of [\u001b[39m\u001b[38;5;132;01m{\u001b[39;00mkey\u001b[38;5;132;01m}\u001b[39;00m\u001b[33m] are in the [\u001b[39m\u001b[38;5;132;01m{\u001b[39;00maxis_name\u001b[38;5;132;01m}\u001b[39;00m\u001b[33m]\u001b[39m\u001b[33m\"\u001b[39m)\n\u001b[32m   6251\u001b[39m not_found = \u001b[38;5;28mlist\u001b[39m(ensure_index(key)[missing_mask.nonzero()[\u001b[32m0\u001b[39m]].unique())\n\u001b[32m-> \u001b[39m\u001b[32m6252\u001b[39m \u001b[38;5;28;01mraise\u001b[39;00m \u001b[38;5;167;01mKeyError\u001b[39;00m(\u001b[33mf\u001b[39m\u001b[33m\"\u001b[39m\u001b[38;5;132;01m{\u001b[39;00mnot_found\u001b[38;5;132;01m}\u001b[39;00m\u001b[33m not in index\u001b[39m\u001b[33m\"\u001b[39m)\n",
      "\u001b[31mKeyError\u001b[39m: \"['amonth'] not in index\""
     ]
    }
   ],
   "source": [
    "import pandas as pd\n",
    "import numpy as np\n",
    "\n",
    "# Load your data\n",
    "df = pd.read_csv('../data/data/hot_encoding_Cancer_pancreas.csv')\n",
    "df = df.reindex(sorted(df.columns), axis=1)\n",
    "df.columns = df.columns.str.lower()  # lowercase all columns\n",
    "\n",
    "# Map dqtr to month\n",
    "quarter_to_month = {\n",
    "    1: 1,   # Jan\n",
    "    2: 4,   # Apr\n",
    "    3: 7,   # Jul\n",
    "    4: 10   # Oct\n",
    "}\n",
    "\n",
    "# Create month column based on dqtr\n",
    "df['amonth'] = df['dqtr'].map(quarter_to_month)\n",
    "\n",
    "# Create approximate admission date (year, month, day=1)\n",
    "df['admission_date'] = pd.to_datetime(df[['ayear', 'amonth']].assign(day=1))\n",
    "\n",
    "# Create discharge date = admission_date + los days\n",
    "df['discharge_date'] = df['admission_date'] + pd.to_timedelta(df['los'], unit='D')\n",
    "\n",
    "# Check result\n",
    "print(df[['visitlink', 'los', 'ayear', 'dqtr', 'admission_date', 'discharge_date']].head())\n"
   ]
  },
  {
   "cell_type": "code",
   "execution_count": 6,
   "id": "b3507115",
   "metadata": {},
   "outputs": [
    {
     "data": {
      "text/plain": [
       "array([1, 2, 3, 4])"
      ]
     },
     "execution_count": 6,
     "metadata": {},
     "output_type": "execute_result"
    }
   ],
   "source": [
    "df[\"dqtr\"].unique()"
   ]
  },
  {
   "cell_type": "code",
   "execution_count": 2,
   "id": "6f0cf14b",
   "metadata": {},
   "outputs": [
    {
     "data": {
      "text/plain": [
       "died\n",
       "0    8076\n",
       "1     657\n",
       "Name: count, dtype: int64"
      ]
     },
     "execution_count": 2,
     "metadata": {},
     "output_type": "execute_result"
    }
   ],
   "source": [
    "# demonstration of the data\n",
    "\n",
    "df[\"died\"].value_counts()"
   ]
  },
  {
   "cell_type": "markdown",
   "id": "5be65973",
   "metadata": {},
   "source": [
    "# Handle missing data (imputation or exclusion)."
   ]
  },
  {
   "cell_type": "code",
   "execution_count": 8,
   "id": "9148764d",
   "metadata": {},
   "outputs": [
    {
     "data": {
      "text/plain": [
       "adm001         0\n",
       "adm002         0\n",
       "adm003         0\n",
       "adm005         0\n",
       "adm006         0\n",
       "              ..\n",
       "tran_out       0\n",
       "visitlink      0\n",
       "zip            0\n",
       "zip3           0\n",
       "zipinc_qrtl    0\n",
       "Length: 780, dtype: int64"
      ]
     },
     "execution_count": 8,
     "metadata": {},
     "output_type": "execute_result"
    }
   ],
   "source": [
    "# missing value check \n",
    "df.isnull().sum()"
   ]
  },
  {
   "cell_type": "markdown",
   "id": "693b13e1",
   "metadata": {},
   "source": [
    "### Core Demographics (Patient-level)\n",
    "\n",
    "| Variable               | Meaning            | Keep? | Reason                                                                 |\n",
    "|------------------------|--------------------|-------|------------------------------------------------------------------------|\n",
    "| AGE, AGEDAY, AGEMONTH | Patient age        | YES   | AGE for adults; AGEDAY/AGEMONTH for infants (mutually exclusive)      |\n",
    "| FEMALE                | Sex                | YES   | Essential demographic variable                                        |\n",
    "| RACE / RACE_EDIT      | Race               | YES   | Use RACE_EDIT if available                                            |\n",
    "| HISPANIC / HISPANIC_X | Ethnicity          | YES   | For disparities analysis                                              |\n",
    "| MARITALSTATUS_X       | Marital Status     | Optional | Only for social variables                                             |\n"
   ]
  },
  {
   "cell_type": "code",
   "execution_count": null,
   "id": "f5fa148b",
   "metadata": {},
   "outputs": [],
   "source": [
    "extracted all of clolumn as md:\n",
    "\n"
   ]
  },
  {
   "cell_type": "markdown",
   "id": "bebff570",
   "metadata": {},
   "source": [
    "# Framingham Heart Study\n",
    "\n",
    "**Analysis & Modelling done by Ali Nemati**\n",
    "\n",
    "The Healthcare Cost and Utilization Project (HCUP) is a family of healthcare databases and tools, developed through a partnership between the Agency for Healthcare Research and Quality (AHRQ), state data organizations, and industry partners. HCUP provides researchers and policymakers with a vast collection of longitudinal, all-payer, discharge-level hospital care data. This data is used to study hospital utilization, access, charges, quality, and outcomes, as well as to analyze medical practice patterns, healthcare policy issues, and the impact of treatments. \n",
    "\n",
    "\n",
    "Here is the information from your dataset transformed into a table format:\n",
    "\n",
    "| Variable Name    | Description                         |\n",
    "|------------------|----------------------------------------------------------------------------|\n",
    "| Sex | Gender of the observations, binary variable (0 = female, 1 = male)        |\n",
    "| Age | Age at the time of medical examination in years |\n",
    "| Education        | Categorical variable representing the participant's education level       |\n",
    "|     | - 1: Some high school |\n",
    "|                  | - 2: High school/GED                                                     |\n",
    "|                  | - 3: Some college/vocational school                                      |\n",
    "|                  | - 4: College                                                              |\n",
    "| CurrentSmoker    | Indicates whether the individual is a current smoker (1 = Yes, 0 = No)   |\n",
    "| CigsPerDay       | Number of cigarettes smoked each day                                     |\n",
    "| BPmeds           | Usage of Anti-hypertensive medication at the time of the examination    |\n",
    "| PrevalentStroke  | Presence of a prevalent stroke (0 = free of disease, 1 = stroke present)  |\n",
    "| PrevalentHyp     | Presence of prevalent hypertension (1 = hypertensive, 0 = not)           |\n",
    "| Diabetes         | Diabetic status according to the criteria of the first examination        |\n",
    "| TotChol          | Total cholesterol level in milligrams per deciliter (mg/dL)              |\n",
    "| SysBP            | Systolic Blood Pressure in millimeters of mercury (mmHg)                 |\n",
    "| DiaBP            | Diastolic Blood Pressure in millimeters of mercury (mmHg)                |\n",
    "| BMI              | Body Mass Index, calculated as weight (kg) divided by height (m^2)       |\n",
    "| HeartRate        | Heart rate in beats per minute                                          |\n",
    "| Glucose          | Blood glucose level in milligrams per deciliter (mg/dL)                  |\n",
    "| TenYearCHD       | The 10-year risk of coronary heart disease (CHD)                         |\n"
   ]
  },
  {
   "cell_type": "code",
   "execution_count": null,
   "id": "273363ef",
   "metadata": {},
   "outputs": [
    {
     "name": "stderr",
     "output_type": "stream",
     "text": [
      "/var/folders/gy/ggsrtsh527x0w4bhcr8s0z140000gn/T/ipykernel_43768/2352979454.py:4: DtypeWarning: Columns (52,53,54,55,56,102,114,119,120,121,122,123,124,125,126,127,128,129,130,131,132,133,134,135,136,137,138,139,140,141,142,143,144,145,146,147,148,149,150,151,152,153,154,155,156,157,158,159,160,161,162,163,170,171,172,177) have mixed types. Specify dtype option on import or set low_memory=False.\n",
      "  df = pd.read_csv('../data/data/hot_encoding_Cancer_pancreas.csv')\n"
     ]
    },
    {
     "data": {
      "text/html": [
       "<div>\n",
       "<style scoped>\n",
       "    .dataframe tbody tr th:only-of-type {\n",
       "        vertical-align: middle;\n",
       "    }\n",
       "\n",
       "    .dataframe tbody tr th {\n",
       "        vertical-align: top;\n",
       "    }\n",
       "\n",
       "    .dataframe thead th {\n",
       "        text-align: right;\n",
       "    }\n",
       "</style>\n",
       "<table border=\"1\" class=\"dataframe\">\n",
       "  <thead>\n",
       "    <tr style=\"text-align: right;\">\n",
       "      <th></th>\n",
       "      <th>adm001</th>\n",
       "      <th>adm002</th>\n",
       "      <th>adm003</th>\n",
       "      <th>adm005</th>\n",
       "      <th>adm006</th>\n",
       "      <th>adm010</th>\n",
       "      <th>adm012</th>\n",
       "      <th>adm013</th>\n",
       "      <th>adm014</th>\n",
       "      <th>adm015</th>\n",
       "      <th>...</th>\n",
       "      <th>pstate_geo</th>\n",
       "      <th>pstco_geo</th>\n",
       "      <th>race</th>\n",
       "      <th>race_edit</th>\n",
       "      <th>readmit</th>\n",
       "      <th>totchg</th>\n",
       "      <th>totchg_x</th>\n",
       "      <th>tran_in</th>\n",
       "      <th>tran_out</th>\n",
       "      <th>visitlink</th>\n",
       "    </tr>\n",
       "  </thead>\n",
       "  <tbody>\n",
       "    <tr>\n",
       "      <th>0</th>\n",
       "      <td>0</td>\n",
       "      <td>0</td>\n",
       "      <td>0</td>\n",
       "      <td>0</td>\n",
       "      <td>0</td>\n",
       "      <td>0</td>\n",
       "      <td>0</td>\n",
       "      <td>0</td>\n",
       "      <td>0</td>\n",
       "      <td>0</td>\n",
       "      <td>...</td>\n",
       "      <td>0</td>\n",
       "      <td>0.0</td>\n",
       "      <td>1</td>\n",
       "      <td>0.0</td>\n",
       "      <td>0</td>\n",
       "      <td>5004</td>\n",
       "      <td>5004.03</td>\n",
       "      <td>0</td>\n",
       "      <td>0</td>\n",
       "      <td>11640858</td>\n",
       "    </tr>\n",
       "    <tr>\n",
       "      <th>1</th>\n",
       "      <td>0</td>\n",
       "      <td>0</td>\n",
       "      <td>0</td>\n",
       "      <td>0</td>\n",
       "      <td>0</td>\n",
       "      <td>0</td>\n",
       "      <td>0</td>\n",
       "      <td>0</td>\n",
       "      <td>0</td>\n",
       "      <td>0</td>\n",
       "      <td>...</td>\n",
       "      <td>0</td>\n",
       "      <td>0.0</td>\n",
       "      <td>1</td>\n",
       "      <td>0.0</td>\n",
       "      <td>0</td>\n",
       "      <td>7117</td>\n",
       "      <td>7117.08</td>\n",
       "      <td>0</td>\n",
       "      <td>0</td>\n",
       "      <td>11641343</td>\n",
       "    </tr>\n",
       "    <tr>\n",
       "      <th>2</th>\n",
       "      <td>0</td>\n",
       "      <td>1</td>\n",
       "      <td>0</td>\n",
       "      <td>0</td>\n",
       "      <td>0</td>\n",
       "      <td>0</td>\n",
       "      <td>0</td>\n",
       "      <td>0</td>\n",
       "      <td>0</td>\n",
       "      <td>0</td>\n",
       "      <td>...</td>\n",
       "      <td>0</td>\n",
       "      <td>0.0</td>\n",
       "      <td>1</td>\n",
       "      <td>0.0</td>\n",
       "      <td>0</td>\n",
       "      <td>10080</td>\n",
       "      <td>10079.80</td>\n",
       "      <td>0</td>\n",
       "      <td>2</td>\n",
       "      <td>11641635</td>\n",
       "    </tr>\n",
       "    <tr>\n",
       "      <th>3</th>\n",
       "      <td>0</td>\n",
       "      <td>0</td>\n",
       "      <td>0</td>\n",
       "      <td>0</td>\n",
       "      <td>0</td>\n",
       "      <td>0</td>\n",
       "      <td>0</td>\n",
       "      <td>0</td>\n",
       "      <td>0</td>\n",
       "      <td>0</td>\n",
       "      <td>...</td>\n",
       "      <td>0</td>\n",
       "      <td>0.0</td>\n",
       "      <td>1</td>\n",
       "      <td>0.0</td>\n",
       "      <td>0</td>\n",
       "      <td>1215</td>\n",
       "      <td>1214.72</td>\n",
       "      <td>1</td>\n",
       "      <td>0</td>\n",
       "      <td>11641635</td>\n",
       "    </tr>\n",
       "    <tr>\n",
       "      <th>4</th>\n",
       "      <td>0</td>\n",
       "      <td>0</td>\n",
       "      <td>0</td>\n",
       "      <td>0</td>\n",
       "      <td>0</td>\n",
       "      <td>0</td>\n",
       "      <td>0</td>\n",
       "      <td>0</td>\n",
       "      <td>0</td>\n",
       "      <td>0</td>\n",
       "      <td>...</td>\n",
       "      <td>0</td>\n",
       "      <td>0.0</td>\n",
       "      <td>1</td>\n",
       "      <td>0.0</td>\n",
       "      <td>0</td>\n",
       "      <td>17031</td>\n",
       "      <td>17031.09</td>\n",
       "      <td>0</td>\n",
       "      <td>0</td>\n",
       "      <td>3168104</td>\n",
       "    </tr>\n",
       "  </tbody>\n",
       "</table>\n",
       "<p>5 rows × 767 columns</p>\n",
       "</div>"
      ],
      "text/plain": [
       "   adm001  adm002  adm003  adm005  adm006  adm010  adm012  adm013  adm014  \\\n",
       "0       0       0       0       0       0       0       0       0       0   \n",
       "1       0       0       0       0       0       0       0       0       0   \n",
       "2       0       1       0       0       0       0       0       0       0   \n",
       "3       0       0       0       0       0       0       0       0       0   \n",
       "4       0       0       0       0       0       0       0       0       0   \n",
       "\n",
       "   adm015  ...  pstate_geo  pstco_geo  race  race_edit  readmit  totchg  \\\n",
       "0       0  ...           0        0.0     1        0.0        0    5004   \n",
       "1       0  ...           0        0.0     1        0.0        0    7117   \n",
       "2       0  ...           0        0.0     1        0.0        0   10080   \n",
       "3       0  ...           0        0.0     1        0.0        0    1215   \n",
       "4       0  ...           0        0.0     1        0.0        0   17031   \n",
       "\n",
       "   totchg_x  tran_in  tran_out  visitlink  \n",
       "0   5004.03        0         0   11640858  \n",
       "1   7117.08        0         0   11641343  \n",
       "2  10079.80        0         2   11641635  \n",
       "3   1214.72        1         0   11641635  \n",
       "4  17031.09        0         0    3168104  \n",
       "\n",
       "[5 rows x 767 columns]"
      ]
     },
     "execution_count": 116,
     "metadata": {},
     "output_type": "execute_result"
    }
   ],
   "source": [
    "\n",
    "\n",
    "del df[\"asource\"] # asource\tPatient Source (1=Hospital, 2=Physician, 3=Other)\n",
    "del df[\"asource_x\"] # asource_x\tPatient Source (1=Hospital, 2=Physician, 3=Other)\n",
    "del df[\"key\"] # key\tPatient Key linked to the SEER database\n",
    "del df[\"mdnum1_r\"] # mdnum1_r\tPhysician Number (linked to the SEER database)\n",
    "del df[\"mdnum2_r\"] # mdnum2_r\tPhysician Number (linked to the SEER database)\n",
    "del df[\"zip\"] # zip\tPatient ZIP Code\n",
    "del df[\"zip3\"] # zip3\tPatient ZIP Code (first three digits)\n",
    "del df[\"zipinc_qrtl\"] # zipinc_qrtl\tPatient ZIP Code Income Quartile (based on patient ZIP Code)\n",
    "del df[\"xxx000\"] # xxx000\tPatient's Age at Diagnosis (years)\n",
    "del df['race_x'] # same as race\n",
    "del df[\"pstco\"] # pstco\tPatient State Code (linked to the SEER database)\n",
    "del df[\"pstco2\"] # pstco2\tPatient State Code (linked to the SEER database)\n",
    "\n",
    "# drop all of above\n",
    "df \n",
    "\n",
    "\n",
    "# show column 4 or 455\n",
    "df.head(5)"
   ]
  },
  {
   "cell_type": "code",
   "execution_count": 111,
   "id": "c1d65c47",
   "metadata": {},
   "outputs": [
    {
     "data": {
      "text/plain": [
       "died\n",
       "0    8076\n",
       "1     657\n",
       "Name: count, dtype: int64"
      ]
     },
     "execution_count": 111,
     "metadata": {},
     "output_type": "execute_result"
    }
   ],
   "source": [
    "df[\"died\"].value_counts()"
   ]
  },
  {
   "cell_type": "code",
   "execution_count": 74,
   "id": "e6bca361",
   "metadata": {},
   "outputs": [
    {
     "data": {
      "text/plain": [
       "totchg\n",
       "13682     5\n",
       "7269      4\n",
       "15624     4\n",
       "9004      4\n",
       "8897      4\n",
       "         ..\n",
       "527696    1\n",
       "35258     1\n",
       "40062     1\n",
       "19109     1\n",
       "23782     1\n",
       "Name: count, Length: 7868, dtype: int64"
      ]
     },
     "execution_count": 74,
     "metadata": {},
     "output_type": "execute_result"
    }
   ],
   "source": [
    "df[\"totchg\"].value_counts()"
   ]
  },
  {
   "cell_type": "markdown",
   "id": "cad0a5b4",
   "metadata": {},
   "source": [
    "# Rule:\n",
    "- Drop any column where percentage of zeros is ≥ 70%.\n",
    "- Keep columns with non-zero values ≥ 30%."
   ]
  },
  {
   "cell_type": "code",
   "execution_count": 112,
   "id": "3fe97087",
   "metadata": {},
   "outputs": [
    {
     "name": "stdout",
     "output_type": "stream",
     "text": [
      "Columns to drop (>=70% zeros): ['adm001', 'adm002', 'adm003', 'adm005', 'adm006', 'adm010', 'adm012', 'adm013', 'adm014', 'adm015', 'adm016', 'adm017', 'adm018', 'adm020', 'adm021', 'bld001', 'bld002', 'bld003', 'bld004', 'bld005', 'bld006', 'bld007', 'bld008', 'bld009', 'bld010', 'car001', 'car002', 'car003', 'car004', 'car006', 'car007', 'car008', 'car010', 'car011', 'car012', 'car014', 'car015', 'car016', 'car017', 'car019', 'car020', 'car021', 'car022', 'car023', 'car024', 'car025', 'car026', 'car028', 'car029', 'cir001', 'cir003', 'cir004', 'cir005', 'cir006', 'cir008', 'cir009', 'cir010', 'cir011', 'cir012', 'cir013', 'cir014', 'cir015', 'cir016', 'cir017', 'cir018', 'cir019', 'cir020', 'cir021', 'cir022', 'cir023', 'cir024', 'cir025', 'cir026', 'cir027', 'cir028', 'cir029', 'cir030', 'cir031', 'cir032', 'cir033', 'cir034', 'cir035', 'cir036', 'cir038', 'cir039', 'cns002', 'cns003', 'cns006', 'cns007', 'cns009', 'cns010', 'cns011', 'cns013', 'cns014', 'dig001', 'dig002', 'dig003', 'dig005', 'dig006', 'dig007', 'dig008', 'dig009', 'dig010', 'dig011', 'dig012', 'dig013', 'dig014', 'dig015', 'dig016', 'dig017', 'dig018', 'dig019', 'dig020', 'dig021', 'dig022', 'dig023', 'dig024', 'dig025', 'ear001', 'ear002', 'ear003', 'ear004', 'ear006', 'end001', 'end002', 'end003', 'end007', 'end008', 'end009', 'end012', 'end013', 'end014', 'end015', 'end016', 'end017', 'enp001', 'enp002', 'enp004', 'enp005', 'ent001', 'ent002', 'ent003', 'ent006', 'ent013', 'ent015', 'ent017', 'esa001', 'esa002', 'esa003', 'esa004', 'esa005', 'esa006', 'esa008', 'esa009', 'esa010', 'est001', 'est004', 'eye001', 'eye002', 'eye003', 'eye004', 'eye005', 'eye006', 'eye007', 'eye008', 'eye009', 'eye010', 'eye011', 'eye012', 'eyp002', 'fac006', 'fac008', 'fac009', 'fac010', 'fac014', 'fac020', 'fac022', 'frs001', 'frs002', 'frs003', 'frs004', 'frs010', 'frs015', 'gen001', 'gen002', 'gen003', 'gen004', 'gen005', 'gen006', 'gen007', 'gen008', 'gen009', 'gen010', 'gen011', 'gen012', 'gen013', 'gen014', 'gen016', 'gen017', 'gen018', 'gen019', 'gen020', 'gen021', 'gen022', 'gen023', 'gen025', 'gen026', 'gis001', 'gis002', 'gis003', 'gis004', 'gis005', 'gis006', 'gis007', 'gis008', 'gis009', 'gis010', 'gis011', 'gis012', 'gis013', 'gis014', 'gis015', 'gis016', 'gis017', 'gis018', 'gis019', 'gis020', 'gis021', 'gis022', 'gis024', 'gis025', 'gis026', 'gis027', 'gis028', 'gis029', 'gnr002', 'gnr003', 'gnr004', 'gnr005', 'gnr006', 'gnr008', 'gnr009', 'hep001', 'hep002', 'hep003', 'hep004', 'hep005', 'hep006', 'hep007', 'hep008', 'hep009', 'hep010', 'hep011', 'hep013', 'img001', 'img002', 'img003', 'img004', 'img005', 'img006', 'img007', 'img008', 'img009', 'inf001', 'inf002', 'inf003', 'inf004', 'inf006', 'inf007', 'inf008', 'inf009', 'inf010', 'inf011', 'inj001', 'inj002', 'inj003', 'inj004', 'inj005', 'inj006', 'inj007', 'inj008', 'inj009', 'inj010', 'inj011', 'inj012', 'inj013', 'inj016', 'inj017', 'inj019', 'inj020', 'inj021', 'inj022', 'inj024', 'inj025', 'inj026', 'inj027', 'inj028', 'inj030', 'inj031', 'inj033', 'inj034', 'inj035', 'inj036', 'inj037', 'inj038', 'inj039', 'inj040', 'inj041', 'inj042', 'inj043', 'inj044', 'inj045', 'inj046', 'inj047', 'inj048', 'inj049', 'inj050', 'inj054', 'inj056', 'inj064', 'inj065', 'inj072', 'inj073', 'inj074', 'inj075', 'inj076', 'lym001', 'lym002', 'lym003', 'lym005', 'lym006', 'lym007', 'mal001', 'mal002', 'mal003', 'mal004', 'mal007', 'mal008', 'mal009', 'mal010', 'mam001', 'mam002', 'mam003', 'mam004', 'mam005', 'mam006', 'mam007', 'mam008', 'mam009', 'mam010', 'mam011', 'mam012', 'mam013', 'mam015', 'mbd001', 'mbd002', 'mbd003', 'mbd004', 'mbd005', 'mbd006', 'mbd007', 'mbd009', 'mbd010', 'mbd011', 'mbd012', 'mbd013', 'mbd014', 'mbd017', 'mbd018', 'mbd019', 'mbd020', 'mbd021', 'mbd022', 'mbd024', 'mbd025', 'mbd026', 'mht002', 'mht003', 'mrs002', 'mrs004', 'mrs005', 'mrs007', 'mst001', 'mst002', 'mst003', 'mst004', 'mst005', 'mst006', 'mst007', 'mst008', 'mst009', 'mst010', 'mst012', 'mst013', 'mst016', 'mst017', 'mst018', 'mst019', 'mst020', 'mst023', 'mst024', 'mst025', 'mst028', 'mst029', 'mst030', 'mus001', 'mus002', 'mus003', 'mus004', 'mus006', 'mus007', 'mus009', 'mus010', 'mus011', 'mus013', 'mus014', 'mus015', 'mus016', 'mus017', 'mus021', 'mus022', 'mus023', 'mus024', 'mus025', 'mus026', 'mus028', 'mus029', 'mus030', 'mus031', 'mus032', 'mus033', 'mus034', 'mus037', 'mus038', 'ncm001', 'ncm002', 'neo001', 'neo008', 'neo012', 'neo013', 'neo014', 'neo015', 'neo017', 'neo018', 'neo019', 'neo020', 'neo021', 'neo022', 'neo024', 'neo025', 'neo026', 'neo027', 'neo028', 'neo029', 'neo030', 'neo033', 'neo035', 'neo039', 'neo041', 'neo043', 'neo044', 'neo045', 'neo048', 'neo049', 'neo050', 'neo056', 'neo057', 'neo058', 'neo060', 'neo061', 'neo062', 'neo064', 'neo065', 'neo066', 'neo067', 'neo068', 'neo069', 'neo071', 'neo072', 'neo073', 'neo074', 'nvs001', 'nvs002', 'nvs003', 'nvs004', 'nvs005', 'nvs006', 'nvs007', 'nvs008', 'nvs009', 'nvs010', 'nvs011', 'nvs012', 'nvs013', 'nvs014', 'nvs015', 'nvs016', 'nvs017', 'nvs018', 'nvs019', 'nvs020', 'nvs021', 'nvs022', 'otr001', 'otr002', 'otr004', 'pgn009', 'plc001', 'plc002', 'pns001', 'pns002', 'pns003', 'pns005', 'pns006', 'rad001', 'rad002', 'rad003', 'rad004', 'res001', 'res002', 'res003', 'res004', 'res005', 'res006', 'res007', 'res008', 'res010', 'res011', 'res012', 'res014', 'rhb001', 'rhb002', 'rhb003', 'rhb004', 'rsp001', 'rsp002', 'rsp003', 'rsp005', 'rsp006', 'rsp007', 'rsp008', 'rsp009', 'rsp010', 'rsp011', 'rsp012', 'rsp013', 'rsp014', 'rsp015', 'rsp016', 'rsp017', 'skb001', 'skb002', 'skb003', 'skb006', 'skb007', 'skb008', 'skb009', 'skb010', 'skn001', 'skn002', 'skn003', 'skn004', 'skn005', 'skn006', 'skn007', 'sud001', 'sud002', 'sym001', 'sym002', 'sym003', 'sym004', 'sym005', 'sym006', 'sym007', 'sym008', 'sym010', 'sym011', 'sym012', 'sym013', 'sym014', 'sym015', 'sym016', 'sym017', 'urn001', 'urn002', 'urn003', 'urn004', 'urn005', 'urn006', 'urn008', 'urn009', 'urn010', 'urn012', 'ageday', 'agemonth', 'aweekend', 'daysburnunit', 'daysccu', 'daysicu', 'daysnicu', 'dayspicu', 'daysshockunit', 'dxpoa61', 'dxpoa62', 'dxpoa63', 'dxpoa64', 'dxpoa65', 'dxpoa66', 'dxpoa67', 'dxpoa68', 'dxpoa69', 'dxpoa70', 'dxpoa71', 'dxpoa72', 'dxpoa73', 'dxpoa74', 'dxpoa75', 'dxpoa76', 'dxpoa77', 'dxpoa78', 'e_poa1', 'e_poa3', 'e_poa4', 'e_poa5', 'e_poa6', 'e_poa7', 'e_poa8', 'hcup_os', 'hispanic', 'homeless', 'i10_birth', 'i10_delivery', 'i10_necause', 'i10_orproc', 'i10_serviceline', 'os_time', 'pay3', 'payer3_x', 'poa_disch_edit1', 'poa_disch_edit2', 'poa_hosp_edit1', 'poa_hosp_edit2', 'poa_hosp_edit3', 'poa_hosp_edit3_value', 'pstate_geo', 'pstco_geo', 'race_edit', 'readmit', 'tran_in', 'tran_out']\n",
      "Remaining columns: ['dig004', 'end010', 'end011', 'fac025', 'neo051', 'neo070', 'age', 'atype', 'ayear', 'daystoevent', 'died', 'disp_x', 'dispub04', 'dispuniform', 'dqtr', 'drg', 'drg_nopoa', 'drgver', 'dshospid', 'dxpoa1', 'dxpoa10', 'dxpoa11', 'dxpoa12', 'dxpoa13', 'dxpoa14', 'dxpoa15', 'dxpoa16', 'dxpoa17', 'dxpoa18', 'dxpoa19', 'dxpoa2', 'dxpoa20', 'dxpoa21', 'dxpoa22', 'dxpoa23', 'dxpoa24', 'dxpoa25', 'dxpoa26', 'dxpoa27', 'dxpoa28', 'dxpoa29', 'dxpoa3', 'dxpoa30', 'dxpoa31', 'dxpoa32', 'dxpoa33', 'dxpoa34', 'dxpoa35', 'dxpoa36', 'dxpoa37', 'dxpoa38', 'dxpoa39', 'dxpoa4', 'dxpoa40', 'dxpoa41', 'dxpoa42', 'dxpoa43', 'dxpoa44', 'dxpoa45', 'dxpoa46', 'dxpoa47', 'dxpoa48', 'dxpoa49', 'dxpoa5', 'dxpoa50', 'dxpoa51', 'dxpoa52', 'dxpoa53', 'dxpoa54', 'dxpoa55', 'dxpoa56', 'dxpoa57', 'dxpoa58', 'dxpoa59', 'dxpoa6', 'dxpoa60', 'dxpoa7', 'dxpoa8', 'dxpoa9', 'e_poa2', 'female', 'hcup_ed', 'hispanic_x', 'hospitalunit', 'hospst', 'i10_ndx', 'i10_npr', 'i10_proctype', 'los', 'los_x', 'maritalstatus_x', 'maritalstatusub04', 'mdc', 'mdc_nopoa', 'medincstq', 'mrn_r', 'p7edsrc_x', 'pay1', 'pay1_x', 'pay2', 'pay2_x', 'pay3_x', 'payer1_x', 'payer2_x', 'pl_cbsa', 'pl_nchs', 'pl_rucc', 'pl_uic', 'pl_ur_cat4', 'pointoforigin_x', 'pointoforiginub04', 'primlang', 'pstate', 'race', 'totchg', 'totchg_x', 'visitlink']\n"
     ]
    },
    {
     "data": {
      "text/html": [
       "<div>\n",
       "<style scoped>\n",
       "    .dataframe tbody tr th:only-of-type {\n",
       "        vertical-align: middle;\n",
       "    }\n",
       "\n",
       "    .dataframe tbody tr th {\n",
       "        vertical-align: top;\n",
       "    }\n",
       "\n",
       "    .dataframe thead th {\n",
       "        text-align: right;\n",
       "    }\n",
       "</style>\n",
       "<table border=\"1\" class=\"dataframe\">\n",
       "  <thead>\n",
       "    <tr style=\"text-align: right;\">\n",
       "      <th></th>\n",
       "      <th>dig004</th>\n",
       "      <th>end010</th>\n",
       "      <th>end011</th>\n",
       "      <th>fac025</th>\n",
       "      <th>neo051</th>\n",
       "      <th>neo070</th>\n",
       "      <th>age</th>\n",
       "      <th>atype</th>\n",
       "      <th>ayear</th>\n",
       "      <th>daystoevent</th>\n",
       "      <th>...</th>\n",
       "      <th>pl_uic</th>\n",
       "      <th>pl_ur_cat4</th>\n",
       "      <th>pointoforigin_x</th>\n",
       "      <th>pointoforiginub04</th>\n",
       "      <th>primlang</th>\n",
       "      <th>pstate</th>\n",
       "      <th>race</th>\n",
       "      <th>totchg</th>\n",
       "      <th>totchg_x</th>\n",
       "      <th>visitlink</th>\n",
       "    </tr>\n",
       "  </thead>\n",
       "  <tbody>\n",
       "    <tr>\n",
       "      <th>0</th>\n",
       "      <td>0</td>\n",
       "      <td>0</td>\n",
       "      <td>0</td>\n",
       "      <td>0</td>\n",
       "      <td>1</td>\n",
       "      <td>1</td>\n",
       "      <td>47</td>\n",
       "      <td>1</td>\n",
       "      <td>2016</td>\n",
       "      <td>17082</td>\n",
       "      <td>...</td>\n",
       "      <td>5</td>\n",
       "      <td>3</td>\n",
       "      <td>0</td>\n",
       "      <td>0</td>\n",
       "      <td>eng</td>\n",
       "      <td>WV</td>\n",
       "      <td>1</td>\n",
       "      <td>5004</td>\n",
       "      <td>5004.03</td>\n",
       "      <td>11640858</td>\n",
       "    </tr>\n",
       "    <tr>\n",
       "      <th>1</th>\n",
       "      <td>0</td>\n",
       "      <td>1</td>\n",
       "      <td>1</td>\n",
       "      <td>0</td>\n",
       "      <td>1</td>\n",
       "      <td>0</td>\n",
       "      <td>56</td>\n",
       "      <td>1</td>\n",
       "      <td>2016</td>\n",
       "      <td>16659</td>\n",
       "      <td>...</td>\n",
       "      <td>2</td>\n",
       "      <td>2</td>\n",
       "      <td>0</td>\n",
       "      <td>0</td>\n",
       "      <td>eng</td>\n",
       "      <td>MD</td>\n",
       "      <td>1</td>\n",
       "      <td>7117</td>\n",
       "      <td>7117.08</td>\n",
       "      <td>11641343</td>\n",
       "    </tr>\n",
       "    <tr>\n",
       "      <th>2</th>\n",
       "      <td>0</td>\n",
       "      <td>1</td>\n",
       "      <td>1</td>\n",
       "      <td>0</td>\n",
       "      <td>1</td>\n",
       "      <td>0</td>\n",
       "      <td>90</td>\n",
       "      <td>1</td>\n",
       "      <td>2016</td>\n",
       "      <td>19672</td>\n",
       "      <td>...</td>\n",
       "      <td>2</td>\n",
       "      <td>2</td>\n",
       "      <td>0</td>\n",
       "      <td>0</td>\n",
       "      <td>eng</td>\n",
       "      <td>PA</td>\n",
       "      <td>1</td>\n",
       "      <td>10080</td>\n",
       "      <td>10079.80</td>\n",
       "      <td>11641635</td>\n",
       "    </tr>\n",
       "    <tr>\n",
       "      <th>3</th>\n",
       "      <td>0</td>\n",
       "      <td>1</td>\n",
       "      <td>1</td>\n",
       "      <td>0</td>\n",
       "      <td>1</td>\n",
       "      <td>0</td>\n",
       "      <td>90</td>\n",
       "      <td>1</td>\n",
       "      <td>2016</td>\n",
       "      <td>19676</td>\n",
       "      <td>...</td>\n",
       "      <td>2</td>\n",
       "      <td>2</td>\n",
       "      <td>0</td>\n",
       "      <td>0</td>\n",
       "      <td>eng</td>\n",
       "      <td>PA</td>\n",
       "      <td>1</td>\n",
       "      <td>1215</td>\n",
       "      <td>1214.72</td>\n",
       "      <td>11641635</td>\n",
       "    </tr>\n",
       "    <tr>\n",
       "      <th>4</th>\n",
       "      <td>0</td>\n",
       "      <td>1</td>\n",
       "      <td>0</td>\n",
       "      <td>0</td>\n",
       "      <td>1</td>\n",
       "      <td>1</td>\n",
       "      <td>74</td>\n",
       "      <td>1</td>\n",
       "      <td>2016</td>\n",
       "      <td>17436</td>\n",
       "      <td>...</td>\n",
       "      <td>2</td>\n",
       "      <td>2</td>\n",
       "      <td>0</td>\n",
       "      <td>0</td>\n",
       "      <td>eng</td>\n",
       "      <td>MD</td>\n",
       "      <td>1</td>\n",
       "      <td>17031</td>\n",
       "      <td>17031.09</td>\n",
       "      <td>3168104</td>\n",
       "    </tr>\n",
       "  </tbody>\n",
       "</table>\n",
       "<p>5 rows × 117 columns</p>\n",
       "</div>"
      ],
      "text/plain": [
       "   dig004  end010  end011  fac025  neo051  neo070  age  atype  ayear  \\\n",
       "0       0       0       0       0       1       1   47      1   2016   \n",
       "1       0       1       1       0       1       0   56      1   2016   \n",
       "2       0       1       1       0       1       0   90      1   2016   \n",
       "3       0       1       1       0       1       0   90      1   2016   \n",
       "4       0       1       0       0       1       1   74      1   2016   \n",
       "\n",
       "   daystoevent  ...  pl_uic  pl_ur_cat4  pointoforigin_x  pointoforiginub04  \\\n",
       "0        17082  ...       5           3                0                  0   \n",
       "1        16659  ...       2           2                0                  0   \n",
       "2        19672  ...       2           2                0                  0   \n",
       "3        19676  ...       2           2                0                  0   \n",
       "4        17436  ...       2           2                0                  0   \n",
       "\n",
       "   primlang  pstate  race  totchg  totchg_x visitlink  \n",
       "0       eng      WV     1    5004   5004.03  11640858  \n",
       "1       eng      MD     1    7117   7117.08  11641343  \n",
       "2       eng      PA     1   10080  10079.80  11641635  \n",
       "3       eng      PA     1    1215   1214.72  11641635  \n",
       "4       eng      MD     1   17031  17031.09   3168104  \n",
       "\n",
       "[5 rows x 117 columns]"
      ]
     },
     "execution_count": 112,
     "metadata": {},
     "output_type": "execute_result"
    }
   ],
   "source": [
    "import pandas as pd\n",
    "\n",
    "# Calculate percentage of zeros for all columns\n",
    "columns_to_drop = [\n",
    "    col for col in df.columns\n",
    "    if (df[col] == 0).mean() >= 0.70\n",
    "    #except this column\n",
    "    and col not in [\n",
    "        \"died\",  # Patient Vital Status (1=Dead, 0=Alive)\n",
    "        \"totchg\",  # Total Charge\n",
    "        \"age\"  # Patient Age at Diagnosis (years)\n",
    "    ]\n",
    "]\n",
    "\n",
    "print(f\"Columns to drop (>=70% zeros): {columns_to_drop}\")\n",
    "\n",
    "# Drop those columns\n",
    "df.drop(columns=columns_to_drop, inplace=True)\n",
    "\n",
    "# Final result\n",
    "print(f\"Remaining columns: {df.columns.tolist()}\")\n",
    "\n",
    "df.head()\n"
   ]
  },
  {
   "cell_type": "code",
   "execution_count": 115,
   "id": "a49dc749",
   "metadata": {},
   "outputs": [
    {
     "data": {
      "text/html": [
       "<div>\n",
       "<style scoped>\n",
       "    .dataframe tbody tr th:only-of-type {\n",
       "        vertical-align: middle;\n",
       "    }\n",
       "\n",
       "    .dataframe tbody tr th {\n",
       "        vertical-align: top;\n",
       "    }\n",
       "\n",
       "    .dataframe thead th {\n",
       "        text-align: right;\n",
       "    }\n",
       "</style>\n",
       "<table border=\"1\" class=\"dataframe\">\n",
       "  <thead>\n",
       "    <tr style=\"text-align: right;\">\n",
       "      <th></th>\n",
       "      <th>Selected_Variables</th>\n",
       "    </tr>\n",
       "  </thead>\n",
       "  <tbody>\n",
       "    <tr>\n",
       "      <th>0</th>\n",
       "      <td>AGE</td>\n",
       "    </tr>\n",
       "    <tr>\n",
       "      <th>1</th>\n",
       "      <td>AGEGROUP</td>\n",
       "    </tr>\n",
       "    <tr>\n",
       "      <th>2</th>\n",
       "      <td>AGEDAY</td>\n",
       "    </tr>\n",
       "    <tr>\n",
       "      <th>3</th>\n",
       "      <td>AGEMONTH</td>\n",
       "    </tr>\n",
       "    <tr>\n",
       "      <th>4</th>\n",
       "      <td>FEMALE</td>\n",
       "    </tr>\n",
       "    <tr>\n",
       "      <th>5</th>\n",
       "      <td>RACE</td>\n",
       "    </tr>\n",
       "    <tr>\n",
       "      <th>6</th>\n",
       "      <td>HISPANIC</td>\n",
       "    </tr>\n",
       "    <tr>\n",
       "      <th>7</th>\n",
       "      <td>ZIPINC_QRTL</td>\n",
       "    </tr>\n",
       "    <tr>\n",
       "      <th>8</th>\n",
       "      <td>ATYPE</td>\n",
       "    </tr>\n",
       "    <tr>\n",
       "      <th>9</th>\n",
       "      <td>ASOURCE</td>\n",
       "    </tr>\n",
       "    <tr>\n",
       "      <th>10</th>\n",
       "      <td>AWEEKEND</td>\n",
       "    </tr>\n",
       "    <tr>\n",
       "      <th>11</th>\n",
       "      <td>TRAN_IN</td>\n",
       "    </tr>\n",
       "    <tr>\n",
       "      <th>12</th>\n",
       "      <td>TRAN_OUT</td>\n",
       "    </tr>\n",
       "    <tr>\n",
       "      <th>13</th>\n",
       "      <td>ASOURCEUB92</td>\n",
       "    </tr>\n",
       "    <tr>\n",
       "      <th>14</th>\n",
       "      <td>ASOURCE_X</td>\n",
       "    </tr>\n",
       "    <tr>\n",
       "      <th>15</th>\n",
       "      <td>PointOfOriginUB04</td>\n",
       "    </tr>\n",
       "    <tr>\n",
       "      <th>16</th>\n",
       "      <td>PointOfOrigin_X</td>\n",
       "    </tr>\n",
       "    <tr>\n",
       "      <th>17</th>\n",
       "      <td>DaysToEvent</td>\n",
       "    </tr>\n",
       "    <tr>\n",
       "      <th>18</th>\n",
       "      <td>DaysBetweenVisits</td>\n",
       "    </tr>\n",
       "    <tr>\n",
       "      <th>19</th>\n",
       "      <td>HOSPID</td>\n",
       "    </tr>\n",
       "    <tr>\n",
       "      <th>20</th>\n",
       "      <td>HOSPST</td>\n",
       "    </tr>\n",
       "    <tr>\n",
       "      <th>21</th>\n",
       "      <td>PL_NCHS</td>\n",
       "    </tr>\n",
       "    <tr>\n",
       "      <th>22</th>\n",
       "      <td>PL_CBSA</td>\n",
       "    </tr>\n",
       "    <tr>\n",
       "      <th>23</th>\n",
       "      <td>PL_RUCC</td>\n",
       "    </tr>\n",
       "    <tr>\n",
       "      <th>24</th>\n",
       "      <td>PL_UIC</td>\n",
       "    </tr>\n",
       "    <tr>\n",
       "      <th>25</th>\n",
       "      <td>PL_UR_CAT4</td>\n",
       "    </tr>\n",
       "    <tr>\n",
       "      <th>26</th>\n",
       "      <td>MEDINCSTQ</td>\n",
       "    </tr>\n",
       "    <tr>\n",
       "      <th>27</th>\n",
       "      <td>DRG</td>\n",
       "    </tr>\n",
       "    <tr>\n",
       "      <th>28</th>\n",
       "      <td>DRGVER</td>\n",
       "    </tr>\n",
       "    <tr>\n",
       "      <th>29</th>\n",
       "      <td>MDC</td>\n",
       "    </tr>\n",
       "    <tr>\n",
       "      <th>30</th>\n",
       "      <td>DXPOAn</td>\n",
       "    </tr>\n",
       "    <tr>\n",
       "      <th>31</th>\n",
       "      <td>I10_DXn</td>\n",
       "    </tr>\n",
       "    <tr>\n",
       "      <th>32</th>\n",
       "      <td>I10_PROCTYPE</td>\n",
       "    </tr>\n",
       "    <tr>\n",
       "      <th>33</th>\n",
       "      <td>I10_ORPROC</td>\n",
       "    </tr>\n",
       "    <tr>\n",
       "      <th>34</th>\n",
       "      <td>I10_INJURY</td>\n",
       "    </tr>\n",
       "    <tr>\n",
       "      <th>35</th>\n",
       "      <td>I10_INJURY_CUT</td>\n",
       "    </tr>\n",
       "    <tr>\n",
       "      <th>36</th>\n",
       "      <td>I10_INJURY_DROWN</td>\n",
       "    </tr>\n",
       "    <tr>\n",
       "      <th>37</th>\n",
       "      <td>I10_INJURY_FALL</td>\n",
       "    </tr>\n",
       "    <tr>\n",
       "      <th>38</th>\n",
       "      <td>I10_INJURY_FIRE</td>\n",
       "    </tr>\n",
       "    <tr>\n",
       "      <th>39</th>\n",
       "      <td>I10_INJURY_FIREARM</td>\n",
       "    </tr>\n",
       "    <tr>\n",
       "      <th>40</th>\n",
       "      <td>I10_INJURY_MACHINERY</td>\n",
       "    </tr>\n",
       "    <tr>\n",
       "      <th>41</th>\n",
       "      <td>I10_INJURY_MVT</td>\n",
       "    </tr>\n",
       "    <tr>\n",
       "      <th>42</th>\n",
       "      <td>I10_INJURY_NATURE</td>\n",
       "    </tr>\n",
       "    <tr>\n",
       "      <th>43</th>\n",
       "      <td>I10_INJURY_OVEREXERTION</td>\n",
       "    </tr>\n",
       "    <tr>\n",
       "      <th>44</th>\n",
       "      <td>I10_INJURY_POISON</td>\n",
       "    </tr>\n",
       "    <tr>\n",
       "      <th>45</th>\n",
       "      <td>I10_INJURY_STRUCK</td>\n",
       "    </tr>\n",
       "    <tr>\n",
       "      <th>46</th>\n",
       "      <td>I10_INJURY_SUFFOCATION</td>\n",
       "    </tr>\n",
       "    <tr>\n",
       "      <th>47</th>\n",
       "      <td>DIED</td>\n",
       "    </tr>\n",
       "    <tr>\n",
       "      <th>48</th>\n",
       "      <td>LOS</td>\n",
       "    </tr>\n",
       "    <tr>\n",
       "      <th>49</th>\n",
       "      <td>TOTCHG</td>\n",
       "    </tr>\n",
       "    <tr>\n",
       "      <th>50</th>\n",
       "      <td>READMIT</td>\n",
       "    </tr>\n",
       "    <tr>\n",
       "      <th>51</th>\n",
       "      <td>DISPUNIFORM</td>\n",
       "    </tr>\n",
       "    <tr>\n",
       "      <th>52</th>\n",
       "      <td>DAYSICU</td>\n",
       "    </tr>\n",
       "    <tr>\n",
       "      <th>53</th>\n",
       "      <td>DAYSCCU</td>\n",
       "    </tr>\n",
       "    <tr>\n",
       "      <th>54</th>\n",
       "      <td>DAYSNICU</td>\n",
       "    </tr>\n",
       "    <tr>\n",
       "      <th>55</th>\n",
       "      <td>DaysBurnUnit</td>\n",
       "    </tr>\n",
       "    <tr>\n",
       "      <th>56</th>\n",
       "      <td>DaysPICU</td>\n",
       "    </tr>\n",
       "    <tr>\n",
       "      <th>57</th>\n",
       "      <td>DaysShockUnit</td>\n",
       "    </tr>\n",
       "  </tbody>\n",
       "</table>\n",
       "</div>"
      ],
      "text/plain": [
       "         Selected_Variables\n",
       "0                       AGE\n",
       "1                  AGEGROUP\n",
       "2                    AGEDAY\n",
       "3                  AGEMONTH\n",
       "4                    FEMALE\n",
       "5                      RACE\n",
       "6                  HISPANIC\n",
       "7               ZIPINC_QRTL\n",
       "8                     ATYPE\n",
       "9                   ASOURCE\n",
       "10                 AWEEKEND\n",
       "11                  TRAN_IN\n",
       "12                 TRAN_OUT\n",
       "13              ASOURCEUB92\n",
       "14                ASOURCE_X\n",
       "15        PointOfOriginUB04\n",
       "16          PointOfOrigin_X\n",
       "17              DaysToEvent\n",
       "18        DaysBetweenVisits\n",
       "19                   HOSPID\n",
       "20                   HOSPST\n",
       "21                  PL_NCHS\n",
       "22                  PL_CBSA\n",
       "23                  PL_RUCC\n",
       "24                   PL_UIC\n",
       "25               PL_UR_CAT4\n",
       "26                MEDINCSTQ\n",
       "27                      DRG\n",
       "28                   DRGVER\n",
       "29                      MDC\n",
       "30                   DXPOAn\n",
       "31                  I10_DXn\n",
       "32             I10_PROCTYPE\n",
       "33               I10_ORPROC\n",
       "34               I10_INJURY\n",
       "35           I10_INJURY_CUT\n",
       "36         I10_INJURY_DROWN\n",
       "37          I10_INJURY_FALL\n",
       "38          I10_INJURY_FIRE\n",
       "39       I10_INJURY_FIREARM\n",
       "40     I10_INJURY_MACHINERY\n",
       "41           I10_INJURY_MVT\n",
       "42        I10_INJURY_NATURE\n",
       "43  I10_INJURY_OVEREXERTION\n",
       "44        I10_INJURY_POISON\n",
       "45        I10_INJURY_STRUCK\n",
       "46   I10_INJURY_SUFFOCATION\n",
       "47                     DIED\n",
       "48                      LOS\n",
       "49                   TOTCHG\n",
       "50                  READMIT\n",
       "51              DISPUNIFORM\n",
       "52                  DAYSICU\n",
       "53                  DAYSCCU\n",
       "54                 DAYSNICU\n",
       "55             DaysBurnUnit\n",
       "56                 DaysPICU\n",
       "57            DaysShockUnit"
      ]
     },
     "execution_count": 115,
     "metadata": {},
     "output_type": "execute_result"
    }
   ],
   "source": [
    "import pandas as pd\n",
    "\n",
    "# Provided variable categories\n",
    "demographics = [\n",
    "    'AGE', 'AGEGROUP', 'AGEDAY', 'AGEMONTH', 'FEMALE', 'RACE', 'HISPANIC', 'ZIPINC_QRTL'\n",
    "]\n",
    "\n",
    "admission = [\n",
    "    'ATYPE', 'ASOURCE', 'AWEEKEND', 'TRAN_IN', 'TRAN_OUT', 'ASOURCEUB92', 'ASOURCE_X',\n",
    "    'PointOfOriginUB04', 'PointOfOrigin_X', 'DaysToEvent', 'DaysBetweenVisits'\n",
    "]\n",
    "\n",
    "hospital = [\n",
    "    'HOSPID', 'HOSPST', 'PL_NCHS', 'PL_CBSA', 'PL_RUCC', 'PL_UIC', 'PL_UR_CAT4', 'MEDINCSTQ'\n",
    "]\n",
    "\n",
    "clinical = [\n",
    "    'DRG', 'DRGVER', 'MDC', 'DXPOAn', 'I10_DXn', 'I10_PROCTYPE', 'I10_ORPROC',\n",
    "    'I10_INJURY', 'I10_INJURY_CUT', 'I10_INJURY_DROWN', 'I10_INJURY_FALL',\n",
    "    'I10_INJURY_FIRE', 'I10_INJURY_FIREARM', 'I10_INJURY_MACHINERY', 'I10_INJURY_MVT',\n",
    "    'I10_INJURY_NATURE', 'I10_INJURY_OVEREXERTION', 'I10_INJURY_POISON',\n",
    "    'I10_INJURY_STRUCK', 'I10_INJURY_SUFFOCATION'\n",
    "]\n",
    "\n",
    "outcome_resource = [\n",
    "    'DIED', 'LOS', 'TOTCHG', 'READMIT', 'DISPUNIFORM',\n",
    "    'DAYSICU', 'DAYSCCU', 'DAYSNICU', 'DaysBurnUnit', 'DaysPICU', 'DaysShockUnit'\n",
    "]\n",
    "\n",
    "# Combine all variables for final selection\n",
    "final_selected_vars = demographics + admission + hospital + clinical + outcome_resource\n",
    "\n",
    "# Display as DataFrame for clarity\n",
    "df_selected = pd.DataFrame({'Selected_Variables': final_selected_vars})\n",
    "\n",
    "# Display the DataFrame\n",
    "df_selected"
   ]
  },
  {
   "cell_type": "markdown",
   "id": "603f3329",
   "metadata": {},
   "source": [
    "# ATYPE\n",
    "\n",
    "ATYPE indicates the type of admission (emergency, urgent, elective, etc.). Newborn admission types are separated only if that information is available from the data source. No edit check comparing the admission type to diagnosis or procedure codes is performed.\n",
    "\n",
    "\n",
    "Variable\tDescription\tValue\tValue Description\n",
    "\n",
    "ATYPE\tAdmission type\t\n",
    "\n",
    "- 1\tEmergency\n",
    "- 2\tUrgent\n",
    "- 3\tElective\n",
    "- 4\tNewborn\n",
    "- 6\tOther\n",
    "- 0\tMissing\n",
    "\n",
    "\n"
   ]
  },
  {
   "cell_type": "code",
   "execution_count": 76,
   "id": "0bc7ba4b",
   "metadata": {},
   "outputs": [
    {
     "data": {
      "text/plain": [
       "atype\n",
       "1    6064\n",
       "3    1828\n",
       "2     716\n",
       "6     117\n",
       "0       8\n",
       "Name: count, dtype: int64"
      ]
     },
     "execution_count": 76,
     "metadata": {},
     "output_type": "execute_result"
    }
   ],
   "source": [
    "df[\"atype\"].value_counts()"
   ]
  },
  {
   "cell_type": "code",
   "execution_count": 77,
   "id": "3d9e2755",
   "metadata": {},
   "outputs": [
    {
     "data": {
      "text/plain": [
       "atype\n",
       "1    6064\n",
       "3    1828\n",
       "2     716\n",
       "0     125\n",
       "Name: count, dtype: int64"
      ]
     },
     "execution_count": 77,
     "metadata": {},
     "output_type": "execute_result"
    }
   ],
   "source": [
    "# convert all of missing values to 6 df[\"atype\"]\n",
    "df[\"atype\"] = df[\"atype\"].replace(6, 0)\n",
    "df[\"atype\"].value_counts()"
   ]
  },
  {
   "cell_type": "markdown",
   "id": "4fee766a",
   "metadata": {},
   "source": [
    "- AGEDAY: Age in days (when AGE is less than 1 year)\n",
    "\n",
    "https://hcup-us.ahrq.gov/db/vars/siddistnote.jsp?var=age\n",
    "\n",
    "- agemonth :  Age in months (AGEMONTH) is reported for patients less than 11 years of age. AGEMONTH is calculated from date of birth (DOB) and the admission date (ADATE) with the following exceptions:\n",
    "\n",
    "https://hcup-us.ahrq.gov/db/vars/siddistnote.jsp?var=agemonth\n",
    "\n",
    "- 0 = agegroup 0-20\n",
    "- 1 = agegroup 20-40\n",
    "- 2 = agegroup 40-60\n",
    "- 3 = agegroup 60-80\n",
    "- 4 = agegroup 80-100"
   ]
  },
  {
   "cell_type": "code",
   "execution_count": 78,
   "id": "fe4b9746",
   "metadata": {},
   "outputs": [
    {
     "data": {
      "text/plain": [
       "age_group\n",
       "3    5404\n",
       "2    1893\n",
       "4    1327\n",
       "1     101\n",
       "0       6\n",
       "Name: count, dtype: int64"
      ]
     },
     "execution_count": 78,
     "metadata": {},
     "output_type": "execute_result"
    }
   ],
   "source": [
    "# unique values in the 'age' column and try to ve in three categories  between 0-20, 20-40, 40-60, 60-80 ad 80-100\n",
    "# Create bins for the age column\n",
    "bins = [0, 20, 40, 60, 80, 100]\n",
    "labels = ['0', '1', '2', '3', '4']\n",
    "# Create a new column 'age_group' with the binned values\n",
    "df['age_group'] = pd.cut(df['age'], bins=bins, labels=labels, right=False)\n",
    "# Display the first few rows of the DataFrame\n",
    "del df[\"age\"]\n",
    "\n",
    "\n",
    "\n",
    "df['age_group'].value_counts()\n",
    "\n"
   ]
  },
  {
   "cell_type": "markdown",
   "id": "695e58cc",
   "metadata": {},
   "source": [
    "# ayear\n",
    "\n",
    "Admission year (AYEAR) is derived from the admission date (ADATE). If ADATE is missing, then AYEAR is missing (.). If ADATE is invalid, then AYEAR is invalid (.A).\n",
    "\n",
    "Variable\tDescription\tValue\tValue Description\n",
    "- AYEAR\tAdmission year\t\n",
    "- yyyy\tAdmission year\n",
    "- .\tMissing\n",
    "- .A\tInvalid"
   ]
  },
  {
   "cell_type": "code",
   "execution_count": 79,
   "id": "33a40c7a",
   "metadata": {},
   "outputs": [
    {
     "data": {
      "text/plain": [
       "ayear\n",
       "2019    2319\n",
       "2017    2168\n",
       "2018    2125\n",
       "2016    2084\n",
       "2015      37\n",
       "Name: count, dtype: int64"
      ]
     },
     "execution_count": 79,
     "metadata": {},
     "output_type": "execute_result"
    }
   ],
   "source": [
    "df[\"ayear\"].value_counts()"
   ]
  },
  {
   "cell_type": "markdown",
   "id": "adb57c39",
   "metadata": {},
   "source": [
    "- los: Length of stay (LOS) is the number of days between the admission date (ADATE) and the discharge date (DDATE). If DDATE is missing, then LOS is missing (.). If DDATE is invalid, then LOS is invalid (.A). If DDATE is before ADATE, then LOS is negative (-1).\n",
    "\n",
    "Variable\tDescription\tValue\tValue Description\n",
    "LOS\tLength of stay, cleaned\t0 - 365 (for HCUP inpatient data), 0-30 (for HCUP outpatient data)\tDays (Prior to data year 2017, LOS was limited to 0-3 days for outpatient data. In the 1988-1997 inpatient data, LOS can be greater than 365 days)\n",
    ".\tMissing\n",
    ".A\tInvalid\n",
    ".B\tUnavailable from source (coded in 1988-1997 data only)\n",
    ".C\tInconsistent: beginning with 1998 data, ELOS03, ELOS04; in 1988-1997 data, ED011, ED601, ED911n, ED921\n",
    "\n",
    "\n",
    "\n",
    "If los column is missing — always check end010 and end011 for Length Of Stay.\n",
    "\n",
    "- end010 :  \n",
    "-  : \n",
    "\n",
    "Variable\tMeaning\n",
    "- END010\tDischarge status code (numeric)\n",
    "- END011\tDischarge status code (text label)\n",
    "\n",
    "Code\tDescription\n",
    "- 01\tDischarged to home/self-care\n",
    "- 02\tDischarged/transferred to short-term hospital"
   ]
  },
  {
   "cell_type": "code",
   "execution_count": 106,
   "id": "e26a8a9f",
   "metadata": {},
   "outputs": [
    {
     "data": {
      "text/plain": [
       "end010\n",
       "0    4856\n",
       "1    3877\n",
       "Name: count, dtype: int64"
      ]
     },
     "execution_count": 106,
     "metadata": {},
     "output_type": "execute_result"
    }
   ],
   "source": [
    "df[\"end010\"].value_counts()"
   ]
  },
  {
   "cell_type": "code",
   "execution_count": 108,
   "id": "cd67efd2",
   "metadata": {},
   "outputs": [
    {
     "data": {
      "text/plain": [
       "0       0\n",
       "1       1\n",
       "2       1\n",
       "3       1\n",
       "4       0\n",
       "       ..\n",
       "8728    0\n",
       "8729    1\n",
       "8730    1\n",
       "8731    0\n",
       "8732    1\n",
       "Name: end011, Length: 8733, dtype: int64"
      ]
     },
     "execution_count": 108,
     "metadata": {},
     "output_type": "execute_result"
    }
   ],
   "source": [
    "df[\"end011\"]"
   ]
  },
  {
   "cell_type": "code",
   "execution_count": 104,
   "id": "40f26c7c",
   "metadata": {},
   "outputs": [
    {
     "data": {
      "text/plain": [
       "los\n",
       "2      1090\n",
       "3      1073\n",
       "4       925\n",
       "5       812\n",
       "6       798\n",
       "       ... \n",
       "55        1\n",
       "70        1\n",
       "61        1\n",
       "116       1\n",
       "73        1\n",
       "Name: count, Length: 68, dtype: int64"
      ]
     },
     "execution_count": 104,
     "metadata": {},
     "output_type": "execute_result"
    }
   ],
   "source": [
    "df[\"los\"].value_counts()"
   ]
  },
  {
   "cell_type": "markdown",
   "id": "ee12ea5a",
   "metadata": {},
   "source": [
    "# DXPOAn\n",
    "\n",
    "DXPOAn indicates whether each diagnosis (DXn) was present at admission. This provides an indicator of complications arising during a hospitalization. The coding of this data element is consistent with the UB-04 standards. No edits checks are performed on this data element during HCUP processing.\n",
    "\n",
    "Beginning with the 2017 HCUP databases, external cause of morbidity codes are included with other diagnoses in the diagnosis-related data elements (I10_DXn, I10_NDX, and DXPOAn) and are no longer retained in separate data elements (I10_ECAUSEn, I10_NECAUSE, and E_POAn).\n",
    "\n",
    "From 1998 to 2006, this data element was called DXatAdmitn and coded with 0/1 values. Before 1998, this data element is called TMDXn.\n",
    "\n",
    "\n",
    "dxpoa00 -> dxpoa\n",
    "\n",
    "57, 58 are missing. \n",
    "\n",
    "## Maryland\n",
    "\n",
    "| IPOAn Value | Description                                          | DXPOAn Value | Description                                      |\n",
    "|------------|------------------------------------------------------|--------------|--------------------------------------------------|\n",
    "| Y or y     | Yes                                                  | Y            | Yes                                              |\n",
    "| N          | No                                                   | N            | No                                               |\n",
    "| U          | Unknown/Insufficient Documentation to Determine      | U            | Unknown                                          |\n",
    "| W          | Clinically undetermined/Unable to Clinically Determine | W          | Clinically undetermined                         |\n",
    "| E          | Exempt from POA reporting                            | E            | Exempt from POA reporting                       |\n",
    "| Blank      | Missing                                              | Blank        | Missing                                          |\n"
   ]
  },
  {
   "cell_type": "markdown",
   "id": "415721d5",
   "metadata": {},
   "source": [
    "visitlink : Verified person number for linking hospital visits across hospitals and time\n",
    "\n",
    "The VisitLink data element is one of two data elements that are supplemental information created for HCUP States for which there are encrypted person identifiers. The visit linkage variable (VisitLink) can be used in tandem with the timing variable (DaysToEvent) to study multiple hospital visits for the same patient across hospitals and time while adhering to strict privacy regulations. VisitLink is derived from encrypted person numbers provided by the HCUP Partner. Partners sometimes change their coding scheme between data years, which in turn causes a discontinuity in VisitLink.\n",
    "\n"
   ]
  },
  {
   "cell_type": "code",
   "execution_count": 80,
   "id": "ebe9deb2",
   "metadata": {},
   "outputs": [],
   "source": [
    "# Drop columns with all zeros\n"
   ]
  },
  {
   "cell_type": "code",
   "execution_count": 81,
   "id": "b12b8c5a",
   "metadata": {},
   "outputs": [
    {
     "data": {
      "text/plain": [
       "visitlink\n",
       "3225432     17\n",
       "13031519    14\n",
       "1962302     12\n",
       "2506207     12\n",
       "1998478     11\n",
       "            ..\n",
       "1971874      1\n",
       "2438677      1\n",
       "12361678     1\n",
       "12362115     1\n",
       "12533781     1\n",
       "Name: count, Length: 5184, dtype: int64"
      ]
     },
     "execution_count": 81,
     "metadata": {},
     "output_type": "execute_result"
    }
   ],
   "source": [
    "df[\"visitlink\"].value_counts() # Treat as missing/null or drop because it his fake column"
   ]
  },
  {
   "cell_type": "code",
   "execution_count": 82,
   "id": "5e04bcab",
   "metadata": {},
   "outputs": [
    {
     "data": {
      "text/plain": [
       "5184"
      ]
     },
     "execution_count": 82,
     "metadata": {},
     "output_type": "execute_result"
    }
   ],
   "source": [
    "len(df[\"visitlink\"].unique()) # Treat as missing/null or drop because it his fake column"
   ]
  },
  {
   "cell_type": "markdown",
   "id": "643a8d9d",
   "metadata": {},
   "source": [
    "daystoevent : Days to event"
   ]
  },
  {
   "cell_type": "code",
   "execution_count": 83,
   "id": "891c8cbc",
   "metadata": {},
   "outputs": [
    {
     "data": {
      "text/plain": [
       "daystoevent\n",
       "-99999    8\n",
       " 18744    8\n",
       " 17730    8\n",
       " 18113    7\n",
       " 18349    7\n",
       "         ..\n",
       " 20096    1\n",
       " 20922    1\n",
       " 19417    1\n",
       " 19345    1\n",
       " 21111    1\n",
       "Name: count, Length: 4850, dtype: int64"
      ]
     },
     "execution_count": 83,
     "metadata": {},
     "output_type": "execute_result"
    }
   ],
   "source": [
    "df[\"daystoevent\"].value_counts()"
   ]
  },
  {
   "cell_type": "markdown",
   "id": "d8a3a140",
   "metadata": {},
   "source": [
    "# pstco:\n",
    " \n",
    "Patient State/county FIPS code (PSTCO) retains the county code provided by the HCUP Partner organization regardless of how the information is collected. For example, the information might be collected at the hospital with the patient self-reporting the information, assigned by the hospital or the HCUP Partner organization from the patient's ZIP Code, or derived from some source other than ZIP Code such as Census block. Nonnumeric values and invalid FIPS codes are set to invalid (.A). Valid FIPS codes include values for outlying areas of the United States and freely associated States (i.e., American Samoa, Federated States of Micronesia, Guam, Marshall Islands, Commonwealth of the Northern Mariana Islands, Palau, Puerto Rico, U.S. minor outlying islands, and the U.S. Virgin Islands).\n",
    "\n",
    "# pstate: \n",
    "\n",
    "PSTATE indicates the two-character state postal code (e.g., \"CA\" for California) for the patient's residence. If the data source provided the state of the patient's residence, then PSTATE is assigned to the reported state. Otherwise, PSTATE is assigned by mapping the patient's ZIP Code to a state. If the patient's ZIP Code is invalid, then PSTATE is set to invalid.\n",
    "\n"
   ]
  },
  {
   "cell_type": "markdown",
   "id": "a8b53ad3",
   "metadata": {},
   "source": [
    "# TOTCHG\n",
    "\n",
    "TOTCHG contains the edited total charges. The original value provided by the data source is retained in the data element TOTCHG_X. How total charges are edited depends on the year of the data.\n",
    "\n",
    "Beginning in the 1998 HCUP databases, the following edits are applied to total charges (TOTCHG):\n",
    "\n",
    "Values are rounded to the nearest dollar; and\n",
    "Zero charges are set to missing (.);\n",
    "If total charges are excessively low (ETCHG01) or high (ETCHG02), then TOTCHG is set to inconsistent (.C). The limits for excessively low and high total charges vary for inpatient and outpatient databases.\n",
    "For inpatient data, the allowable values for total charges vary by year: total charges are allowed to be between $25 and $1.0 million, inclusive in 1998 to 2006; between $100 and $1.5 million, inclusive, in 2007 to 2010; between $100 and $5.0 million beginning in 2011 data; and between $100 and $10.0 million beginning in 2016 data.\n",
    "For outpatient data, the allowable values for total charges vary by year: total charges are allowed to be between $25 and $50,000, inclusive, in 1998 to 2006; between $100 and $75,000, inclusive, in 2007 to 2010; and between $100 and $950,000 beginning in 2011 data.\n",
    "In the 1988-1997 HCUP databases, the following edits are applied to total charges (TOTCHG):\n",
    "\n",
    "Values are rounded to the nearest dollar; and\n",
    "Zero charges are set to missing (.);\n",
    "Negative charges are set to invalid (.A); and\n",
    "For HCUP inpatient databases, if charges per day (TOTCHG/LOS) are unjustifiably low (ED911) or high (ED921), then TOTCHG is set to inconsistent (.C).\n",
    "For HCUP outpatient databases, if total charges are excessively low (ED912) or high (ED922), then TOTCHG is set to inconsistent (.C). (SASD)\n",
    "Generally, total charges (TOTCHG and TOTCHG_X) do not include professional fees and non-covered charges. If the source provides total charges with professional fees, then the professional fees are removed from the charge during HCUP processing. In a small number of HCUP databases, professional fees cannot be removed from total charges because the data source cannot provide the information. Please check the state-specific notes for information on which states are affected.\n",
    "\n",
    "Emergency department charges incurred prior to admission to the hospital may be included in total charges (TOTCHG and TOTCHG_X). Medicare requires a bundled bill for Medicare patients admitted to the hospital through the emergency department. Other payers may or may not have similar requirements."
   ]
  },
  {
   "cell_type": "markdown",
   "id": "0b98a4ba",
   "metadata": {},
   "source": [
    "\n",
    "# TOTCHG_X\n",
    " \n",
    "TOTCHG_X retains the total charge supplied by a data source, including cents and negative values, with the following exceptions:\n",
    "\n",
    "Zero charges are set to missing (.); and\n",
    "Charges that round to zero are set to missing (.).\n",
    "TOTCHG_X has the same value as TOTCHG just before edit checks on total charges are performed. TOTCHG contains the cleaned total charges. TOTCHG_X contains the original value of total charges.\n",
    "\n",
    "Generally, total charges (TOTCHG and TOTCHG_X) do not include professional fees and non-covered charges. If the source provides total charges with professional fees, then the professional fees are removed from the charge during HCUP processing. In a small number of HCUP databases, professional fees can not be removed from total charges because the data source cannot provide the information. Please check the state-specific notes for information on which states are affected.\n",
    "\n",
    "In some cases, only copay amounts, such as $10 or $20, may be in the total charges. There is no documentation as to the prevalence of this practice.\n",
    "\n",
    "Emergency department charges incurred prior to admission to the hospital may be included in total charges (TOTCHG and TOTCHG_X). Medicare requires a bundled bill for Medicare patients admitted to the hospital through the emergency department. Other payers may or may not have similar requirements."
   ]
  },
  {
   "cell_type": "code",
   "execution_count": 84,
   "id": "0c3b025c",
   "metadata": {},
   "outputs": [
    {
     "data": {
      "text/plain": [
       "totchg\n",
       "13682     5\n",
       "7269      4\n",
       "15624     4\n",
       "9004      4\n",
       "8897      4\n",
       "         ..\n",
       "527696    1\n",
       "35258     1\n",
       "40062     1\n",
       "19109     1\n",
       "23782     1\n",
       "Name: count, Length: 7868, dtype: int64"
      ]
     },
     "execution_count": 84,
     "metadata": {},
     "output_type": "execute_result"
    }
   ],
   "source": [
    "df[\"totchg\"].value_counts() # Treat as missing/null or drop because it his fake column"
   ]
  },
  {
   "cell_type": "code",
   "execution_count": 85,
   "id": "ba329709",
   "metadata": {},
   "outputs": [
    {
     "data": {
      "text/plain": [
       "totchg_x\n",
       "17942.02    2\n",
       "13793.25    2\n",
       "6135.97     2\n",
       "35452.48    2\n",
       "42119.05    2\n",
       "           ..\n",
       "9796.79     1\n",
       "32675.58    1\n",
       "33966.78    1\n",
       "41719.21    1\n",
       "23781.87    1\n",
       "Name: count, Length: 8726, dtype: int64"
      ]
     },
     "execution_count": 85,
     "metadata": {},
     "output_type": "execute_result"
    }
   ],
   "source": [
    "df[\"totchg_x\"].value_counts() # Treat as missing/null or drop because it his fake column"
   ]
  },
  {
   "cell_type": "markdown",
   "id": "bb3c34b1",
   "metadata": {},
   "source": [
    "## RACE Variable Description\n",
    "\n",
    "| Variable | Description                  | Value | Value Description                                  |\n",
    "|----------|------------------------------|-------|---------------------------------------------------|\n",
    "| RACE     | Race/ethnicity of patient    | 1     | White                                             |\n",
    "|          |                              | 2     | Black                                             |\n",
    "|          |                              | 3     | Hispanic                                          |\n",
    "|          |                              | 4     | Asian or Pacific Islander                        |\n",
    "|          |                              | 5     | Native American                                  |\n",
    "|          |                              | 6     | Other                                             |\n",
    "|          |                              | .     | Missing                                           |\n",
    "|          |                              | .A    | Invalid                                           |\n",
    "|          |                              | .B    | Unavailable from source (coded in 1988-1997 data only) |\n"
   ]
  },
  {
   "cell_type": "markdown",
   "id": "1f4b12cd",
   "metadata": {},
   "source": [
    "## RACE Variable Description\n",
    "\n",
    "## RACE Variable Values\n",
    "\n",
    "| Value | Value Description                                      |\n",
    "|-------|--------------------------------------------------------|\n",
    "| 1     | White                                                  |\n",
    "| 2     | Black                                                  |\n",
    "| 3     | Hispanic                                               |\n",
    "| 4     | Asian or Pacific Islander                              |\n",
    "| 5     | Native American                                        |\n",
    "| 6     | Other                                                  |\n",
    "| 0     | Missing                                                |\n",
    "\n"
   ]
  },
  {
   "cell_type": "code",
   "execution_count": 86,
   "id": "cc139ba0",
   "metadata": {},
   "outputs": [
    {
     "data": {
      "text/plain": [
       "race\n",
       "1    5383\n",
       "2    2568\n",
       "4     269\n",
       "3     268\n",
       "6     151\n",
       "0      78\n",
       "5      16\n",
       "Name: count, dtype: int64"
      ]
     },
     "execution_count": 86,
     "metadata": {},
     "output_type": "execute_result"
    }
   ],
   "source": [
    "df[\"race\"].value_counts() # Treat as missing/null or drop because it his fake column"
   ]
  },
  {
   "cell_type": "markdown",
   "id": "27042cb9",
   "metadata": {},
   "source": [
    "# I10_NDX\n",
    "\n",
    "I10_NDX indicates the total number of ICD-10-CM diagnoses (valid and invalid) coded on the discharge record. In assigning I10_NDX, the first listed diagnosis is included in the count, even if it is blank, so long as there is a secondary diagnosis present (see table below).\n",
    "\n",
    "Beginning with the 2017 HCUP databases, external cause of morbidity codes are included with other diagnoses in the diagnosis-related data elements (I10_DXn, I10_NDX, and DXPOAn) and are no longer retained in separate data elements (I10_ECAUSEn, I10_NECAUSE, and E_POAn).\n",
    "\n",
    "For data prior to the fourth quarter of 2015, the count of the number of diagnoses is stored in the data element NDX to indicate the use of the ICD-9-CM coding system.\n",
    "\n",
    "Value\tDescription\n",
    "\n",
    "0\tNo ICD-10-CM diagnoses are coded on the record\n",
    "\n",
    "1\tOnly the first listed diagnosis (I10_DX1) is coded. All secondary diagnoses are blank.\n",
    "\n",
    "2\tOne secondary diagnosis (I10_DX2) is coded. The first listed diagnosis (I10_DX1) may be coded or blank.\n",
    "\n",
    "3\tThe second and third diagnoses (I10_DX2 and I10_DX3) are coded. The first listed diagnosis (I10_DX1) may be coded or blank.\n",
    "\n",
    "etc.\t \n",
    "\n",
    "\n"
   ]
  },
  {
   "cell_type": "code",
   "execution_count": 87,
   "id": "ffd79d47",
   "metadata": {},
   "outputs": [
    {
     "data": {
      "text/plain": [
       "i10_ndx\n",
       "30    515\n",
       "16    472\n",
       "17    459\n",
       "19    459\n",
       "18    434\n",
       "15    430\n",
       "14    425\n",
       "13    404\n",
       "20    390\n",
       "21    389\n",
       "22    376\n",
       "12    375\n",
       "23    335\n",
       "11    312\n",
       "24    305\n",
       "10    275\n",
       "25    270\n",
       "26    243\n",
       "9     240\n",
       "27    196\n",
       "29    194\n",
       "28    194\n",
       "8     185\n",
       "7     142\n",
       "31    135\n",
       "6     100\n",
       "5      59\n",
       "32     52\n",
       "34     41\n",
       "4      36\n",
       "33     32\n",
       "35     32\n",
       "37     31\n",
       "36     30\n",
       "38     24\n",
       "40     17\n",
       "3      16\n",
       "39     16\n",
       "41     15\n",
       "45      9\n",
       "46      9\n",
       "44      9\n",
       "2       8\n",
       "42      7\n",
       "43      6\n",
       "48      5\n",
       "49      4\n",
       "47      4\n",
       "60      3\n",
       "54      3\n",
       "55      2\n",
       "50      2\n",
       "52      2\n",
       "75      1\n",
       "1       1\n",
       "56      1\n",
       "53      1\n",
       "73      1\n",
       "Name: count, dtype: int64"
      ]
     },
     "execution_count": 87,
     "metadata": {},
     "output_type": "execute_result"
    }
   ],
   "source": [
    "df[\"i10_ndx\"].value_counts() # Treat as missing/null or drop because it his fake column"
   ]
  },
  {
   "cell_type": "markdown",
   "id": "37955a2a",
   "metadata": {},
   "source": [
    "# I10_NPR \n",
    "indicates the total number of ICD-10-CM procedures (valid and invalid) coded on the discharge record. In assigning I10_NPR, the first listed procedure is included in the count, even if it is blank, so long as there is an additional procedure present (see table below).\n",
    "\n",
    "Value\tDescription\n",
    "0\tNo procedures are coded on the record.\n",
    "\n",
    "1\tOnly the first listed procedure (I10_PR1) is coded. All secondary procedures are blank.\n",
    "\n",
    "2\tOne secondary procedure (I10_PR2) is coded. The first listed procedure (I10_PR1) may be coded or blank.\n",
    "\n",
    "3\tThe second and third procedures (I10_PR2 and I10_PR3) are coded. The first listed procedure (I10_PR1) may be coded or blank.\n",
    "\n",
    "etc."
   ]
  },
  {
   "cell_type": "code",
   "execution_count": 88,
   "id": "77cf5978",
   "metadata": {},
   "outputs": [
    {
     "data": {
      "text/plain": [
       "i10_npr\n",
       "0     2519\n",
       "1     1578\n",
       "2     1165\n",
       "3      888\n",
       "4      640\n",
       "5      520\n",
       "6      420\n",
       "7      295\n",
       "8      188\n",
       "9      144\n",
       "10      89\n",
       "11      55\n",
       "12      50\n",
       "13      35\n",
       "14      30\n",
       "16      29\n",
       "15      21\n",
       "17       9\n",
       "19       8\n",
       "18       7\n",
       "22       7\n",
       "25       5\n",
       "20       5\n",
       "26       5\n",
       "21       4\n",
       "30       4\n",
       "27       3\n",
       "28       3\n",
       "23       2\n",
       "29       1\n",
       "50       1\n",
       "24       1\n",
       "32       1\n",
       "31       1\n",
       "Name: count, dtype: int64"
      ]
     },
     "execution_count": 88,
     "metadata": {},
     "output_type": "execute_result"
    }
   ],
   "source": [
    "df[\"i10_npr\"].value_counts() # Treat as missing/null or drop because it his fake column"
   ]
  },
  {
   "cell_type": "markdown",
   "id": "e3e703c1",
   "metadata": {},
   "source": [
    "# i10_proctype\n",
    "\n",
    "The procedure type indicator (I10_PROCTYPE) identifies the type of procedure codes reported on the record -- ICD-10-PCS, CPT/HCPCS, or both. The indicator values are based on all valid procedures for the discharge data, including those reported on the Core file and CDetail (if available).\n",
    "\n",
    "For data prior to the fourth quarter of 2015, the procedure type indicator is stored in the data element PROCTYPE to indicate the use of the ICD-9-CM coding system.\n",
    " \n",
    " \n",
    " \n",
    "Uniform Values\n",
    " \n",
    "Variable\tDescription\tValue\tValue Description\n",
    "\n",
    "I10_PROCTYPE\tICD-10-PCS Procedure type indicator\t\n",
    "\n",
    "0\tNo ICD-10-PCS or CPT procedures\n",
    "\n",
    "1\tAt least one ICD-10-PCS procedure; no CPT/HCPCS procedures\n",
    "\n",
    "2\tAt least one CPT/HCPCS procedure; no ICD-10-PCS procedures\n",
    "\n",
    "3\tAt least one ICD-10-PCS procedure and at least one CPT/HCPCS procedure\n",
    " "
   ]
  },
  {
   "cell_type": "code",
   "execution_count": 89,
   "id": "8b4f1823",
   "metadata": {},
   "outputs": [
    {
     "data": {
      "text/plain": [
       "i10_proctype\n",
       "1    6214\n",
       "0    2519\n",
       "Name: count, dtype: int64"
      ]
     },
     "execution_count": 89,
     "metadata": {},
     "output_type": "execute_result"
    }
   ],
   "source": [
    "df[\"i10_proctype\"].value_counts() # Treat as missing/null or drop because it his fake column"
   ]
  },
  {
   "cell_type": "markdown",
   "id": "07a202db",
   "metadata": {},
   "source": [
    "# Female\n",
    "\n",
    "The sex of the patient (FEMALE) is provided by the data source. All non-male, non-female (e.g., \"other\") values are set to missing (.).\n",
    "\n",
    "If FEMALE is inconsistent with diagnoses (EDX03), procedures (EPR03), ICD-9-CM or ICD-10-CM/PCS procedures (EPR03), or HCPCS procedures (ECPT02), FEMALE is set to inconsistent (.C).\n",
    "\n",
    "In HCUP databases before 1998, this data element is called SEX.\n",
    "\n",
    "\n",
    "Variable\tDescription\tValue\tValue Description\n",
    "\n",
    "FEMALE\tIndicator of sex\t\n",
    "\n",
    "0\tMale\n",
    "\n",
    "1\tFemale\n",
    "\n",
    ".\tMissing\n",
    "\n",
    ".A\tInvalid\n",
    "\n",
    ".C\tInconsistent, EDX03, EPR03, ECPT02"
   ]
  },
  {
   "cell_type": "code",
   "execution_count": 90,
   "id": "5bdcbcf0",
   "metadata": {},
   "outputs": [
    {
     "data": {
      "text/plain": [
       "female\n",
       " 0    4392\n",
       " 1    4335\n",
       "-6       6\n",
       "Name: count, dtype: int64"
      ]
     },
     "execution_count": 90,
     "metadata": {},
     "output_type": "execute_result"
    }
   ],
   "source": [
    "df[\"female\"].value_counts() # Treat as missing/null or drop because it his fake column"
   ]
  },
  {
   "cell_type": "markdown",
   "id": "31251e13",
   "metadata": {},
   "source": [
    "# HCUP_ED\n",
    "CUP indicator of emergency department record\t"
   ]
  },
  {
   "cell_type": "code",
   "execution_count": 91,
   "id": "21a8f2f9",
   "metadata": {},
   "outputs": [
    {
     "data": {
      "text/plain": [
       "hcup_ed\n",
       "1    5624\n",
       "0    3096\n",
       "4      13\n",
       "Name: count, dtype: int64"
      ]
     },
     "execution_count": 91,
     "metadata": {},
     "output_type": "execute_result"
    }
   ],
   "source": [
    "df[\"hcup_ed\"].value_counts() "
   ]
  },
  {
   "cell_type": "code",
   "execution_count": 92,
   "id": "a6ee878e",
   "metadata": {},
   "outputs": [
    {
     "name": "stdout",
     "output_type": "stream",
     "text": [
      "Equal columns:\n",
      "dxpoa57 == dxpoa58\n",
      "los == los_x\n",
      "mdc == mdc_nopoa\n"
     ]
    }
   ],
   "source": [
    "# Compare all columns pairwise to find equal columns\n",
    "equal_columns = []\n",
    "columns = df.columns\n",
    "\n",
    "for i in range(len(columns)):\n",
    "    for j in range(i + 1, len(columns)):\n",
    "        if df[columns[i]].equals(df[columns[j]]):\n",
    "            equal_columns.append((columns[i], columns[j]))\n",
    "\n",
    "# Display the pairs of equal columns\n",
    "if equal_columns:\n",
    "    print(\"Equal columns:\")\n",
    "    for col1, col2 in equal_columns:\n",
    "        print(f\"{col1} == {col2}\")\n",
    "else:\n",
    "    print(\"No equal columns found.\")"
   ]
  },
  {
   "cell_type": "markdown",
   "id": "bd949778",
   "metadata": {},
   "source": [
    "We have dropped with replace them with one representative per group!"
   ]
  },
  {
   "cell_type": "code",
   "execution_count": 93,
   "id": "c9a09a8f",
   "metadata": {},
   "outputs": [
    {
     "name": "stdout",
     "output_type": "stream",
     "text": [
      "Remaining columns:\n",
      "['dig004', 'end010', 'end011', 'fac025', 'neo051', 'neo070', 'atype', 'ayear', 'daystoevent', 'disp_x', 'dispub04', 'dispuniform', 'dqtr', 'drg', 'drg_nopoa', 'drgver', 'dshospid', 'dxpoa1', 'dxpoa10', 'dxpoa11', 'dxpoa12', 'dxpoa13', 'dxpoa14', 'dxpoa15', 'dxpoa16', 'dxpoa17', 'dxpoa18', 'dxpoa19', 'dxpoa2', 'dxpoa20', 'dxpoa21', 'dxpoa22', 'dxpoa23', 'dxpoa24', 'dxpoa25', 'dxpoa26', 'dxpoa27', 'dxpoa28', 'dxpoa29', 'dxpoa3', 'dxpoa30', 'dxpoa31', 'dxpoa32', 'dxpoa33', 'dxpoa34', 'dxpoa35', 'dxpoa36', 'dxpoa37', 'dxpoa38', 'dxpoa39', 'dxpoa4', 'dxpoa40', 'dxpoa41', 'dxpoa42', 'dxpoa43', 'dxpoa44', 'dxpoa45', 'dxpoa46', 'dxpoa47', 'dxpoa48', 'dxpoa49', 'dxpoa5', 'dxpoa50', 'dxpoa51', 'dxpoa52', 'dxpoa53', 'dxpoa54', 'dxpoa55', 'dxpoa56', 'dxpoa57', 'dxpoa59', 'dxpoa6', 'dxpoa60', 'dxpoa7', 'dxpoa8', 'dxpoa9', 'e_poa2', 'female', 'hcup_ed', 'hispanic_x', 'hospitalunit', 'hospst', 'i10_ndx', 'i10_npr', 'i10_proctype', 'los', 'maritalstatus_x', 'maritalstatusub04', 'mdc', 'medincstq', 'mrn_r', 'p7edsrc_x', 'pay1', 'pay1_x', 'pay2', 'pay2_x', 'pay3_x', 'payer1_x', 'payer2_x', 'pl_cbsa', 'pl_nchs', 'pl_rucc', 'pl_uic', 'pl_ur_cat4', 'pointoforigin_x', 'pointoforiginub04', 'primlang', 'pstate', 'race', 'totchg', 'totchg_x', 'visitlink', 'age_group']\n"
     ]
    }
   ],
   "source": [
    "# Find equal columns and keep only the first occurrence\n",
    "drop_columns = set()\n",
    "columns = df.columns\n",
    "\n",
    "for i in range(len(columns)):\n",
    "    for j in range(i + 1, len(columns)):\n",
    "        if columns[j] not in drop_columns:  # Avoid double check\n",
    "            if df[columns[i]].equals(df[columns[j]]):\n",
    "                drop_columns.add(columns[j])  # Mark for dropping\n",
    "\n",
    "# Drop the duplicated columns\n",
    "df = df.drop(columns=list(drop_columns))\n",
    "\n",
    "# Show the remaining columns\n",
    "print(\"Remaining columns:\")\n",
    "print(list(df.columns))\n"
   ]
  },
  {
   "cell_type": "code",
   "execution_count": 94,
   "id": "1a01732b",
   "metadata": {},
   "outputs": [
    {
     "name": "stdout",
     "output_type": "stream",
     "text": [
      "Remaining columns: ['dig004', 'end010', 'end011', 'fac025', 'neo051', 'neo070', 'atype', 'ayear', 'daystoevent', 'disp_x', 'dispub04', 'dispuniform', 'dqtr', 'drg', 'drg_nopoa', 'drgver', 'dshospid', 'dxpoa1', 'dxpoa10', 'dxpoa11', 'dxpoa12', 'dxpoa13', 'dxpoa14', 'dxpoa15', 'dxpoa16', 'dxpoa17', 'dxpoa18', 'dxpoa19', 'dxpoa2', 'dxpoa20', 'dxpoa21', 'dxpoa22', 'dxpoa23', 'dxpoa24', 'dxpoa25', 'dxpoa26', 'dxpoa27', 'dxpoa28', 'dxpoa29', 'dxpoa3', 'dxpoa30', 'dxpoa31', 'dxpoa32', 'dxpoa33', 'dxpoa34', 'dxpoa35', 'dxpoa36', 'dxpoa37', 'dxpoa38', 'dxpoa39', 'dxpoa4', 'dxpoa40', 'dxpoa41', 'dxpoa42', 'dxpoa43', 'dxpoa44', 'dxpoa45', 'dxpoa46', 'dxpoa47', 'dxpoa48', 'dxpoa49', 'dxpoa5', 'dxpoa50', 'dxpoa51', 'dxpoa52', 'dxpoa53', 'dxpoa54', 'dxpoa55', 'dxpoa56', 'dxpoa57', 'dxpoa59', 'dxpoa6', 'dxpoa60', 'dxpoa7', 'dxpoa8', 'dxpoa9', 'e_poa2', 'female', 'hcup_ed', 'hispanic_x', 'hospitalunit', 'hospst', 'i10_ndx', 'i10_npr', 'i10_proctype', 'los', 'maritalstatus_x', 'maritalstatusub04', 'mdc', 'medincstq', 'mrn_r', 'p7edsrc_x', 'pay1', 'pay1_x', 'pay2', 'pay2_x', 'pay3_x', 'payer1_x', 'payer2_x', 'pl_cbsa', 'pl_nchs', 'pl_rucc', 'pl_uic', 'pl_ur_cat4', 'pointoforigin_x', 'pointoforiginub04', 'primlang', 'pstate', 'race', 'totchg', 'totchg_x', 'visitlink', 'age_group']\n"
     ]
    }
   ],
   "source": [
    "print(f\"Remaining columns: {df.columns.tolist()}\")"
   ]
  },
  {
   "cell_type": "code",
   "execution_count": 95,
   "id": "f00ceb70",
   "metadata": {},
   "outputs": [
    {
     "data": {
      "text/plain": [
       "los\n",
       "2      1090\n",
       "3      1073\n",
       "4       925\n",
       "5       812\n",
       "6       798\n",
       "       ... \n",
       "55        1\n",
       "70        1\n",
       "61        1\n",
       "116       1\n",
       "73        1\n",
       "Name: count, Length: 68, dtype: int64"
      ]
     },
     "execution_count": 95,
     "metadata": {},
     "output_type": "execute_result"
    }
   ],
   "source": [
    "df[\"los\"].value_counts() # Treat as missing/null or drop because it his fake column "
   ]
  },
  {
   "cell_type": "markdown",
   "id": "9d5066d1",
   "metadata": {},
   "source": [
    "# other removed columns are here"
   ]
  },
  {
   "cell_type": "code",
   "execution_count": null,
   "id": "609cc46a",
   "metadata": {},
   "outputs": [],
   "source": []
  },
  {
   "cell_type": "code",
   "execution_count": 96,
   "id": "959670de",
   "metadata": {},
   "outputs": [
    {
     "data": {
      "text/plain": [
       "(8733, 113)"
      ]
     },
     "execution_count": 96,
     "metadata": {},
     "output_type": "execute_result"
    }
   ],
   "source": [
    "# Display the updated DataFrame\n",
    "df.shape "
   ]
  },
  {
   "cell_type": "code",
   "execution_count": 97,
   "id": "7e79e720",
   "metadata": {},
   "outputs": [],
   "source": [
    "# save the DataFrame to a new CSV file\n",
    "df.to_csv('../data/data/hot_encoding_Cancer_pancreas_cleaned.csv', index=False)"
   ]
  },
  {
   "cell_type": "code",
   "execution_count": 98,
   "id": "0b34c176",
   "metadata": {},
   "outputs": [
    {
     "data": {
      "text/plain": [
       "42"
      ]
     },
     "execution_count": 98,
     "metadata": {},
     "output_type": "execute_result"
    }
   ],
   "source": [
    "778 - 736"
   ]
  },
  {
   "cell_type": "markdown",
   "id": "2e13f54c",
   "metadata": {},
   "source": [
    "# Loading the data "
   ]
  },
  {
   "cell_type": "code",
   "execution_count": 99,
   "id": "226c73e7",
   "metadata": {},
   "outputs": [
    {
     "data": {
      "text/html": [
       "<div>\n",
       "<style scoped>\n",
       "    .dataframe tbody tr th:only-of-type {\n",
       "        vertical-align: middle;\n",
       "    }\n",
       "\n",
       "    .dataframe tbody tr th {\n",
       "        vertical-align: top;\n",
       "    }\n",
       "\n",
       "    .dataframe thead th {\n",
       "        text-align: right;\n",
       "    }\n",
       "</style>\n",
       "<table border=\"1\" class=\"dataframe\">\n",
       "  <thead>\n",
       "    <tr style=\"text-align: right;\">\n",
       "      <th></th>\n",
       "      <th>age_group</th>\n",
       "      <th>atype</th>\n",
       "      <th>ayear</th>\n",
       "      <th>daystoevent</th>\n",
       "      <th>dig004</th>\n",
       "      <th>disp_x</th>\n",
       "      <th>dispub04</th>\n",
       "      <th>dispuniform</th>\n",
       "      <th>dqtr</th>\n",
       "      <th>drg</th>\n",
       "      <th>...</th>\n",
       "      <th>pl_uic</th>\n",
       "      <th>pl_ur_cat4</th>\n",
       "      <th>pointoforigin_x</th>\n",
       "      <th>pointoforiginub04</th>\n",
       "      <th>primlang</th>\n",
       "      <th>pstate</th>\n",
       "      <th>race</th>\n",
       "      <th>totchg</th>\n",
       "      <th>totchg_x</th>\n",
       "      <th>visitlink</th>\n",
       "    </tr>\n",
       "  </thead>\n",
       "  <tbody>\n",
       "    <tr>\n",
       "      <th>0</th>\n",
       "      <td>2</td>\n",
       "      <td>1</td>\n",
       "      <td>2016</td>\n",
       "      <td>17082</td>\n",
       "      <td>0</td>\n",
       "      <td>60</td>\n",
       "      <td>0.0</td>\n",
       "      <td>1</td>\n",
       "      <td>1</td>\n",
       "      <td>375</td>\n",
       "      <td>...</td>\n",
       "      <td>5</td>\n",
       "      <td>3</td>\n",
       "      <td>0</td>\n",
       "      <td>0</td>\n",
       "      <td>eng</td>\n",
       "      <td>WV</td>\n",
       "      <td>1</td>\n",
       "      <td>5004</td>\n",
       "      <td>5004.03</td>\n",
       "      <td>11640858</td>\n",
       "    </tr>\n",
       "    <tr>\n",
       "      <th>1</th>\n",
       "      <td>2</td>\n",
       "      <td>1</td>\n",
       "      <td>2016</td>\n",
       "      <td>16659</td>\n",
       "      <td>0</td>\n",
       "      <td>60</td>\n",
       "      <td>0.0</td>\n",
       "      <td>1</td>\n",
       "      <td>1</td>\n",
       "      <td>437</td>\n",
       "      <td>...</td>\n",
       "      <td>2</td>\n",
       "      <td>2</td>\n",
       "      <td>0</td>\n",
       "      <td>0</td>\n",
       "      <td>eng</td>\n",
       "      <td>MD</td>\n",
       "      <td>1</td>\n",
       "      <td>7117</td>\n",
       "      <td>7117.08</td>\n",
       "      <td>11641343</td>\n",
       "    </tr>\n",
       "    <tr>\n",
       "      <th>2</th>\n",
       "      <td>4</td>\n",
       "      <td>1</td>\n",
       "      <td>2016</td>\n",
       "      <td>19672</td>\n",
       "      <td>0</td>\n",
       "      <td>29</td>\n",
       "      <td>0.0</td>\n",
       "      <td>5</td>\n",
       "      <td>1</td>\n",
       "      <td>435</td>\n",
       "      <td>...</td>\n",
       "      <td>2</td>\n",
       "      <td>2</td>\n",
       "      <td>0</td>\n",
       "      <td>0</td>\n",
       "      <td>eng</td>\n",
       "      <td>PA</td>\n",
       "      <td>1</td>\n",
       "      <td>10080</td>\n",
       "      <td>10079.80</td>\n",
       "      <td>11641635</td>\n",
       "    </tr>\n",
       "    <tr>\n",
       "      <th>3</th>\n",
       "      <td>4</td>\n",
       "      <td>1</td>\n",
       "      <td>2016</td>\n",
       "      <td>19676</td>\n",
       "      <td>0</td>\n",
       "      <td>70</td>\n",
       "      <td>0.0</td>\n",
       "      <td>20</td>\n",
       "      <td>1</td>\n",
       "      <td>377</td>\n",
       "      <td>...</td>\n",
       "      <td>2</td>\n",
       "      <td>2</td>\n",
       "      <td>0</td>\n",
       "      <td>0</td>\n",
       "      <td>eng</td>\n",
       "      <td>PA</td>\n",
       "      <td>1</td>\n",
       "      <td>1215</td>\n",
       "      <td>1214.72</td>\n",
       "      <td>11641635</td>\n",
       "    </tr>\n",
       "    <tr>\n",
       "      <th>4</th>\n",
       "      <td>3</td>\n",
       "      <td>1</td>\n",
       "      <td>2016</td>\n",
       "      <td>17436</td>\n",
       "      <td>0</td>\n",
       "      <td>61</td>\n",
       "      <td>0.0</td>\n",
       "      <td>6</td>\n",
       "      <td>1</td>\n",
       "      <td>180</td>\n",
       "      <td>...</td>\n",
       "      <td>2</td>\n",
       "      <td>2</td>\n",
       "      <td>0</td>\n",
       "      <td>0</td>\n",
       "      <td>eng</td>\n",
       "      <td>MD</td>\n",
       "      <td>1</td>\n",
       "      <td>17031</td>\n",
       "      <td>17031.09</td>\n",
       "      <td>3168104</td>\n",
       "    </tr>\n",
       "  </tbody>\n",
       "</table>\n",
       "<p>5 rows × 113 columns</p>\n",
       "</div>"
      ],
      "text/plain": [
       "  age_group  atype  ayear  daystoevent  dig004  disp_x  dispub04  dispuniform  \\\n",
       "0         2      1   2016        17082       0      60       0.0            1   \n",
       "1         2      1   2016        16659       0      60       0.0            1   \n",
       "2         4      1   2016        19672       0      29       0.0            5   \n",
       "3         4      1   2016        19676       0      70       0.0           20   \n",
       "4         3      1   2016        17436       0      61       0.0            6   \n",
       "\n",
       "   dqtr  drg  ...  pl_uic  pl_ur_cat4  pointoforigin_x pointoforiginub04  \\\n",
       "0     1  375  ...       5           3                0                 0   \n",
       "1     1  437  ...       2           2                0                 0   \n",
       "2     1  435  ...       2           2                0                 0   \n",
       "3     1  377  ...       2           2                0                 0   \n",
       "4     1  180  ...       2           2                0                 0   \n",
       "\n",
       "  primlang pstate race totchg  totchg_x visitlink  \n",
       "0      eng     WV    1   5004   5004.03  11640858  \n",
       "1      eng     MD    1   7117   7117.08  11641343  \n",
       "2      eng     PA    1  10080  10079.80  11641635  \n",
       "3      eng     PA    1   1215   1214.72  11641635  \n",
       "4      eng     MD    1  17031  17031.09   3168104  \n",
       "\n",
       "[5 rows x 113 columns]"
      ]
     },
     "execution_count": 99,
     "metadata": {},
     "output_type": "execute_result"
    }
   ],
   "source": [
    "# reorder column alphabetically\n",
    "df = df.reindex(sorted(df.columns), axis=1)\n",
    "df.head()"
   ]
  },
  {
   "cell_type": "code",
   "execution_count": null,
   "id": "3c155f7a",
   "metadata": {},
   "outputs": [],
   "source": []
  },
  {
   "cell_type": "code",
   "execution_count": null,
   "id": "fa85fc94",
   "metadata": {},
   "outputs": [],
   "source": []
  },
  {
   "cell_type": "code",
   "execution_count": 100,
   "id": "d8e01a39",
   "metadata": {},
   "outputs": [
    {
     "data": {
      "text/plain": [
       "5184"
      ]
     },
     "execution_count": 100,
     "metadata": {},
     "output_type": "execute_result"
    }
   ],
   "source": [
    "len(df[\"visitlink\"].value_counts())"
   ]
  },
  {
   "cell_type": "code",
   "execution_count": null,
   "id": "78e25f61",
   "metadata": {},
   "outputs": [],
   "source": []
  },
  {
   "cell_type": "code",
   "execution_count": 101,
   "id": "c53af2c4",
   "metadata": {},
   "outputs": [],
   "source": [
    "import pandas as pd\n",
    "\n",
    "# Save column names to an Excel file\n",
    "column_names = pd.DataFrame(df.columns, columns=[\"Column Names\"])\n",
    "column_names.to_excel('../data/data/hot_encoding_Cancer_pancreas_columns.xlsx', index=False)\n",
    "\n",
    "# save as md file\n",
    "with open('../data/data/hot_encoding_Cancer_pancreas_columns.md', 'w') as f:\n",
    "    f.write('# Column Names\\n\\n')\n",
    "    for col in df.columns:\n",
    "        f.write(f'- {col}\\n')"
   ]
  },
  {
   "cell_type": "code",
   "execution_count": null,
   "id": "c314c115",
   "metadata": {},
   "outputs": [],
   "source": []
  },
  {
   "cell_type": "code",
   "execution_count": 102,
   "id": "40ea97bc",
   "metadata": {},
   "outputs": [
    {
     "data": {
      "text/plain": [
       "5184"
      ]
     },
     "execution_count": 102,
     "metadata": {},
     "output_type": "execute_result"
    }
   ],
   "source": [
    "len(df[\"visitlink\"].unique())"
   ]
  },
  {
   "cell_type": "markdown",
   "id": "41352299",
   "metadata": {},
   "source": []
  },
  {
   "cell_type": "code",
   "execution_count": null,
   "id": "6a0343e5",
   "metadata": {},
   "outputs": [],
   "source": []
  },
  {
   "cell_type": "code",
   "execution_count": 103,
   "id": "316e06ed",
   "metadata": {},
   "outputs": [
    {
     "data": {
      "text/plain": [
       "race\n",
       "1    5383\n",
       "2    2568\n",
       "4     269\n",
       "3     268\n",
       "6     151\n",
       "0      78\n",
       "5      16\n",
       "Name: count, dtype: int64"
      ]
     },
     "execution_count": 103,
     "metadata": {},
     "output_type": "execute_result"
    }
   ],
   "source": [
    "df[\"race\"].value_counts()"
   ]
  },
  {
   "cell_type": "markdown",
   "id": "c7a6ed84",
   "metadata": {},
   "source": [
    "# Table one "
   ]
  },
  {
   "cell_type": "markdown",
   "id": "ef4102a9",
   "metadata": {},
   "source": [
    "\n",
    "\n",
    "from tableone import TableOne\n",
    "columns = ['male', 'age' , 'education', 'currentSmoker', 'cigsPerDay', 'BPMeds', 'prevalentStroke', 'prevalentHyp', 'diabetes' , 'BMI', 'heartRate', 'glucose', 'TenYearCHD']\n",
    "\n",
    "categorical = ['male', 'education', 'currentSmoker', 'BPMeds', 'prevalentStroke', 'prevalentHyp', 'diabetes' , 'BMI']\n",
    "\n",
    "groupby = ['TenYearCHD']\n",
    "# nonnormal = ['male']\n",
    "labels={'death': 'mortality'}\n",
    "mytable = TableOne(df, columns=columns, categorical=categorical, groupby=groupby,  rename=labels, pval=True ,htest_name=True)\n",
    "\n",
    "print(mytable.tabulate(tablefmt = \"fancy_grid\"))\n",
    "\n",
    "mytable.to_excel('./data/mytable.xlsx')\n"
   ]
  },
  {
   "cell_type": "code",
   "execution_count": null,
   "id": "07ce03de",
   "metadata": {},
   "outputs": [],
   "source": [
    "#Shape of dataset\n",
    "\n",
    "print ('No. of Records :', df.shape[0], '\\nNo. of Features : ', df.shape[1])"
   ]
  },
  {
   "cell_type": "code",
   "execution_count": null,
   "id": "0f9d890a",
   "metadata": {},
   "outputs": [],
   "source": [
    "#Let us check datset's attribute info\n",
    "df.info()"
   ]
  },
  {
   "cell_type": "markdown",
   "id": "9b0e039c",
   "metadata": {},
   "source": [
    "### Data Cleansing and EDA"
   ]
  },
  {
   "cell_type": "code",
   "execution_count": null,
   "id": "77012610",
   "metadata": {},
   "outputs": [],
   "source": [
    "#Examining Null values in each feature and add percentage of null values side by side\n",
    "\n",
    "null_values = df.isnull().sum()\n",
    "null_values_percent = 100 * df.isnull().sum()/len(df)\n",
    "\n",
    "null_df = pd.concat([null_values, null_values_percent], axis=1)\n",
    "null_df.columns = ['Null Values', 'Null Values Percent']\n",
    "null_df"
   ]
  },
  {
   "cell_type": "markdown",
   "id": "ae5cf6de",
   "metadata": {},
   "source": []
  },
  {
   "cell_type": "code",
   "execution_count": null,
   "id": "519f97f8",
   "metadata": {},
   "outputs": [],
   "source": [
    "import seaborn as sns\n",
    "import matplotlib.pyplot as plt\n",
    "\n",
    "# Assuming df is your DataFrame\n",
    "sns.set_context('talk')\n",
    "plt.figure(figsize=(24, 8))\n",
    "\n",
    "# Calculate the correlation matrix\n",
    "correlation_matrix = df.corr()\n",
    "\n",
    "# Create a mask to hide the upper-right portion of the heatmap\n",
    "mask = np.triu(np.ones_like(correlation_matrix, dtype=bool))\n",
    "\n",
    "# Plot the heatmap with the mask\n",
    "sns.heatmap(correlation_matrix, annot=True, cmap='cool', mask=mask , fmt='.3f' , linewidths=2 , linecolor='white' , cbar=False)\n",
    "\n",
    "plt.show();\n",
    "\n",
    "# remove cigsPerDay and CurrecntSmoker are highly correlated. exclude CurrecntSmoker from final model\n",
    "# remove sysBP and diaBP are highly correlated. exclude diaBP from final model. exclude sysBP from final model.\n"
   ]
  },
  {
   "cell_type": "code",
   "execution_count": null,
   "id": "6bac1ff3",
   "metadata": {},
   "outputs": [],
   "source": [
    "import numpy as np \n",
    "import seaborn as sns\n",
    "import matplotlib.pyplot as plt\n",
    "from scipy import stats\n",
    "\n",
    "# Example correlation matrix\n",
    "corr_matrix = df.corr() \n",
    "\n",
    "# Create mask to not repeat upper and lower triangles\n",
    "mask = np.triu(np.ones_like(corr_matrix, dtype=bool))\n",
    "\n",
    "# Customize the heatmap \n",
    "fig, ax = plt.subplots(figsize=(40, 10)) # Make figure wider\n",
    "cmap = sns.diverging_palette(230, 24, as_cmap=True) \n",
    "\n",
    "# Draw the heatmap with mask and annot=True\n",
    "sns.heatmap(corr_matrix, mask=mask, cmap=cmap, vmax=1, center=0, square=True, \n",
    "            linewidths=.5, cbar_kws={\"shrink\": .5}, annot=True, \n",
    "            annot_kws={\"size\": 8}) # Make font smaller\n",
    "\n",
    "# Loop through the correlation matrix and add p-values\n",
    "for i in range(len(corr_matrix.columns)):\n",
    "    for j in range(i):\n",
    "        r = corr_matrix.iloc[i, j]\n",
    "        p = stats.t.sf(np.abs(r*np.sqrt((len(df)-2)/(1-r**2))), len(df)-2)*2\n",
    "        corr_matrix.iloc[i, j] = str(round(r,2)) + '\\n' + '(p=' + str(round(p,3)) + ')'\n",
    "        \n",
    "plt.show();"
   ]
  },
  {
   "cell_type": "code",
   "execution_count": null,
   "id": "79433266",
   "metadata": {},
   "outputs": [],
   "source": [
    "#Descriptive Stats\n",
    "\n",
    "df.describe()"
   ]
  },
  {
   "cell_type": "code",
   "execution_count": null,
   "id": "e7aec6c5",
   "metadata": {},
   "outputs": [],
   "source": [
    "# CHD by Gender Viz.\n",
    "sns.catplot(x='male', hue='TenYearCHD', data=df, kind='count', palette='Dark2', height=6, legend=False)\n",
    "plt.xlabel('Gender')\n",
    "plt.xticks(ticks=[0, 1], labels=['Female', 'Male'])\n",
    "plt.ylabel('No. of Patients')\n",
    "plt.legend(['0', '1'])\n",
    "plt.title('CHD by Gender')\n",
    "plt.show();"
   ]
  }
 ],
 "metadata": {
  "kernelspec": {
   "display_name": "indox",
   "language": "python",
   "name": "python3"
  },
  "language_info": {
   "codemirror_mode": {
    "name": "ipython",
    "version": 3
   },
   "file_extension": ".py",
   "mimetype": "text/x-python",
   "name": "python",
   "nbconvert_exporter": "python",
   "pygments_lexer": "ipython3",
   "version": "3.11.11"
  }
 },
 "nbformat": 4,
 "nbformat_minor": 5
}
