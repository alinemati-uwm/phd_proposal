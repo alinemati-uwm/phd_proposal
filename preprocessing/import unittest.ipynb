import unittest
import pandas as pd

# File: preprocessing/test_After_Processing_CCSR.ipynb


class TestAfterProcessingCCSR(unittest.TestCase):
    def test_dxpoa21_value_counts(self):
        # Create a mock DataFrame
        data = {
            "dxpoa21": ["A", "B", "A", "C", "B", "A", "C", "C", "B", "A"]
        }
        df = pd.DataFrame(data)
        
        # Expected value counts
        expected_counts = {"A": 4, "B": 3, "C": 3}
        
        # Calculate actual value counts
        actual_counts = df["dxpoa21"].value_counts().to_dict()
        
        # Assert the counts match
        self.assertEqual(actual_counts, expected_counts)

if __name__ == "__main__":
    unittest.main(argv=[''], exit=False)